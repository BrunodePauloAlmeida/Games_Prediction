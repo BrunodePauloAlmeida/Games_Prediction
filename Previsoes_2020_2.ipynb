{
 "cells": [
  {
   "cell_type": "code",
   "execution_count": 1,
   "metadata": {},
   "outputs": [],
   "source": [
    "%run likelihood.ipynb\n",
    "%run importing_matches.ipynb"
   ]
  },
  {
   "cell_type": "code",
   "execution_count": 2,
   "metadata": {},
   "outputs": [],
   "source": [
    "matches_2020_2 = {}\n",
    "teams_2020_2 = {}\n",
    "initials_2020 = {'CBL': 'BR', 'LCK': 'KR', 'LCL': 'CIS', 'LCS': 'NA',\n",
    "                 'LEC': 'EU', 'LJL': 'JPN', 'LLA': 'LA', 'LPL': 'CN',\n",
    "                 'OPL': 'OCENIA', 'PCS': 'TWHKMA', 'TCL': 'TRK', 'VCS': 'VN'}\n",
    "importing_all_matches('2020_2', matches_2020_2, teams_2020_2, all_matches=True)"
   ]
  },
  {
   "cell_type": "code",
   "execution_count": 3,
   "metadata": {},
   "outputs": [],
   "source": [
    "Times = update_teams(teams_2020_2, initials_2020)"
   ]
  },
  {
   "cell_type": "markdown",
   "metadata": {},
   "source": [
    "### CBLOL\n",
    "#### Play offs: 1-2"
   ]
  },
  {
   "cell_type": "code",
   "execution_count": 217,
   "metadata": {},
   "outputs": [
    {
     "name": "stdout",
     "output_type": "stream",
     "text": [
      "Na semana 7 do campeonato CBL, modelo acertou 4 de 8 jogos, resultando em 50.00% de acerto.\n",
      "Na semana 8 do campeonato CBL, modelo acertou 6 de 8 jogos, resultando em 75.00% de acerto.\n",
      "Na semana 9 do campeonato CBL, modelo acertou 4 de 8 jogos, resultando em 50.00% de acerto.\n",
      "Na semana 10 do campeonato CBL, modelo acertou 9 de 12 jogos, resultando em 75.00% de acerto.\n",
      "No total, o modelo acertou 23 de 36 partidas, resultando em 63.89% de acerto.\n"
     ]
    }
   ],
   "source": [
    "at = 0\n",
    "et = 0\n",
    "reg = 'CBL'\n",
    "for i in range(max(matches_2020_2[reg].Week)-3, max(matches_2020_2[reg].Week)+1):\n",
    "    a,b = calcular_acertos_em_determinada_semana(reg, matches_2020_2, teams_2020_2, initials_2020, semana = i)\n",
    "    at += a\n",
    "    et += b\n",
    "print(\"No total, o modelo acertou {} de {} partidas, resultando em {:.2f}% de acerto.\".format(at, at+et, 100*at/(at+et)))"
   ]
  },
  {
   "cell_type": "code",
   "execution_count": 14,
   "metadata": {},
   "outputs": [
    {
     "name": "stdout",
     "output_type": "stream",
     "text": [
      "Favor calcular manualmente o resultado.\n",
      "         PNG vs PRG\n",
      "PNG tem 57.62 % de chance de vitória.Sendo:\n",
      "15.82 % a de ser 3-0\n",
      "21.79 % a de ser 3-1\n",
      "20.01 % a de ser 3-2\n",
      "Enquanto PRG tem 42.38 %. Sendo:\n",
      "9.68 % a de ser 3-0\n",
      "15.71 % a de ser 3-1\n",
      "16.99 % a de ser 3-2\n"
     ]
    },
    {
     "data": {
      "text/plain": [
       "0.5761947822949607"
      ]
     },
     "execution_count": 14,
     "metadata": {},
     "output_type": "execute_result"
    }
   ],
   "source": [
    "calcular_acertos_em_determinada_semana('CBL', matches_2020_2, teams_2020_2, initials_2020, play_off_games_to_be_ignored=14)\n",
    "probabilidade('PNG', 'PRG', 5) #OK"
   ]
  },
  {
   "cell_type": "code",
   "execution_count": 15,
   "metadata": {},
   "outputs": [
    {
     "name": "stdout",
     "output_type": "stream",
     "text": [
      "Favor calcular manualmente o resultado.\n",
      "         ITZ vs KBM\n",
      "ITZ tem 46.79 % de chance de vitória.Sendo:\n",
      "11.26 % a de ser 3-0\n",
      "17.47 % a de ser 3-1\n",
      "18.07 % a de ser 3-2\n",
      "Enquanto KBM tem 53.21 %. Sendo:\n",
      "13.83 % a de ser 3-0\n",
      "20.03 % a de ser 3-1\n",
      "19.35 % a de ser 3-2\n"
     ]
    },
    {
     "data": {
      "text/plain": [
       "0.4679420003841124"
      ]
     },
     "execution_count": 15,
     "metadata": {},
     "output_type": "execute_result"
    }
   ],
   "source": [
    "calcular_acertos_em_determinada_semana('CBL', matches_2020_2, teams_2020_2, initials_2020, play_off_games_to_be_ignored=9)\n",
    "probabilidade('ITZ', 'KBM', 5) #errei por menos de 5%"
   ]
  },
  {
   "cell_type": "code",
   "execution_count": 19,
   "metadata": {},
   "outputs": [
    {
     "name": "stdout",
     "output_type": "stream",
     "text": [
      "Favor calcular manualmente o resultado.\n",
      "         ITZ vs PNG\n",
      "ITZ tem 39.50 % de chance de vitória.Sendo:\n",
      "8.73 % a de ser 3-0\n",
      "14.57 % a de ser 3-1\n",
      "16.21 % a de ser 3-2\n",
      "Enquanto PNG tem 60.50 %. Sendo:\n",
      "17.23 % a de ser 3-0\n",
      "22.93 % a de ser 3-1\n",
      "20.34 % a de ser 3-2\n"
     ]
    },
    {
     "data": {
      "text/plain": [
       "0.3950276442669558"
      ]
     },
     "execution_count": 19,
     "metadata": {},
     "output_type": "execute_result"
    }
   ],
   "source": [
    "calcular_acertos_em_determinada_semana('CBL', matches_2020_2, teams_2020_2, initials_2020, play_off_games_to_be_ignored=4)\n",
    "probabilidade('ITZ', 'PNG', 5) #errei"
   ]
  },
  {
   "cell_type": "markdown",
   "metadata": {},
   "source": [
    "### LEC 1-3\n",
    "#### Play offs: 4-4"
   ]
  },
  {
   "cell_type": "code",
   "execution_count": 177,
   "metadata": {},
   "outputs": [
    {
     "name": "stdout",
     "output_type": "stream",
     "text": [
      "Na semana 5 do campeonato LEC, modelo acertou 7 de 10 jogos, resultando em 70.00% de acerto.\n",
      "Na semana 6 do campeonato LEC, modelo acertou 4 de 10 jogos, resultando em 40.00% de acerto.\n",
      "Na semana 7 do campeonato LEC, modelo acertou 4 de 10 jogos, resultando em 40.00% de acerto.\n",
      "Na semana 8 do campeonato LEC, modelo acertou 11 de 15 jogos, resultando em 73.33% de acerto.\n",
      "No total, o modelo acertou 26 de 45 partidas, resultando em 57.78% de acerto.\n"
     ]
    }
   ],
   "source": [
    "at = 0\n",
    "et = 0\n",
    "reg = 'LEC'\n",
    "for i in range(max(matches_2020_2[reg].Week)-3, max(matches_2020_2[reg].Week)+1):\n",
    "    a,b = calcular_acertos_em_determinada_semana(reg, matches_2020_2, teams_2020_2, initials_2020, semana = i)\n",
    "    at += a\n",
    "    et += b\n",
    "print(\"No total, o modelo acertou {} de {} partidas, resultando em {:.2f}% de acerto.\".format(at, at+et, 100*at/(at+et)))"
   ]
  },
  {
   "cell_type": "code",
   "execution_count": 21,
   "metadata": {},
   "outputs": [
    {
     "name": "stdout",
     "output_type": "stream",
     "text": [
      "Favor calcular manualmente o resultado.\n",
      "         S04 vs SK\n",
      "S04 tem 59.84 % de chance de vitória.Sendo:\n",
      "16.90 % a de ser 3-0\n",
      "22.67 % a de ser 3-1\n",
      "20.27 % a de ser 3-2\n",
      "Enquanto SK tem 40.16 %. Sendo:\n",
      "8.94 % a de ser 3-0\n",
      "14.83 % a de ser 3-1\n",
      "16.39 % a de ser 3-2\n"
     ]
    },
    {
     "data": {
      "text/plain": [
       "0.5983775622972027"
      ]
     },
     "execution_count": 21,
     "metadata": {},
     "output_type": "execute_result"
    }
   ],
   "source": [
    "calcular_acertos_em_determinada_semana('LEC', matches_2020_2, teams_2020_2, initials_2020, play_off_games_to_be_ignored=27)\n",
    "probabilidade('S04', 'SK', 5) #ok"
   ]
  },
  {
   "cell_type": "code",
   "execution_count": 22,
   "metadata": {},
   "outputs": [
    {
     "name": "stdout",
     "output_type": "stream",
     "text": [
      "Favor calcular manualmente o resultado.\n",
      "         G2 vs MAD\n",
      "G2 tem 53.19 % de chance de vitória.Sendo:\n",
      "13.82 % a de ser 3-0\n",
      "20.02 % a de ser 3-1\n",
      "19.34 % a de ser 3-2\n",
      "Enquanto MAD tem 46.81 %. Sendo:\n",
      "11.27 % a de ser 3-0\n",
      "17.48 % a de ser 3-1\n",
      "18.07 % a de ser 3-2\n"
     ]
    },
    {
     "data": {
      "text/plain": [
       "0.5318858622652552"
      ]
     },
     "execution_count": 22,
     "metadata": {},
     "output_type": "execute_result"
    }
   ],
   "source": [
    "calcular_acertos_em_determinada_semana('LEC', matches_2020_2, teams_2020_2, initials_2020, play_off_games_to_be_ignored=24)\n",
    "probabilidade('G2', 'MAD', 5) #ok"
   ]
  },
  {
   "cell_type": "code",
   "execution_count": 23,
   "metadata": {},
   "outputs": [
    {
     "name": "stdout",
     "output_type": "stream",
     "text": [
      "Favor calcular manualmente o resultado.\n",
      "         FNC vs RGE\n",
      "FNC tem 17.59 % de chance de vitória.Sendo:\n",
      "2.97 % a de ser 3-0\n",
      "6.14 % a de ser 3-1\n",
      "8.48 % a de ser 3-2\n",
      "Enquanto RGE tem 82.41 %. Sendo:\n",
      "32.92 % a de ser 3-0\n",
      "30.57 % a de ser 3-1\n",
      "18.92 % a de ser 3-2\n"
     ]
    },
    {
     "data": {
      "text/plain": [
       "0.1759272561935714"
      ]
     },
     "execution_count": 23,
     "metadata": {},
     "output_type": "execute_result"
    }
   ],
   "source": [
    "calcular_acertos_em_determinada_semana('LEC', matches_2020_2, teams_2020_2, initials_2020, play_off_games_to_be_ignored=20)\n",
    "probabilidade('FNC', 'RGE', 5) #errei"
   ]
  },
  {
   "cell_type": "code",
   "execution_count": 24,
   "metadata": {},
   "outputs": [
    {
     "name": "stdout",
     "output_type": "stream",
     "text": [
      "Favor calcular manualmente o resultado.\n",
      "         MAD vs S04\n",
      "MAD tem 41.24 % de chance de vitória.Sendo:\n",
      "9.30 % a de ser 3-0\n",
      "15.26 % a de ser 3-1\n",
      "16.69 % a de ser 3-2\n",
      "Enquanto S04 tem 58.76 %. Sendo:\n",
      "16.36 % a de ser 3-0\n",
      "22.24 % a de ser 3-1\n",
      "20.15 % a de ser 3-2\n"
     ]
    },
    {
     "data": {
      "text/plain": [
       "0.41244312460893284"
      ]
     },
     "execution_count": 24,
     "metadata": {},
     "output_type": "execute_result"
    }
   ],
   "source": [
    "calcular_acertos_em_determinada_semana('LEC', matches_2020_2, teams_2020_2, initials_2020, play_off_games_to_be_ignored=17)\n",
    "probabilidade('MAD', 'S04', 5) #errei"
   ]
  },
  {
   "cell_type": "code",
   "execution_count": 25,
   "metadata": {},
   "outputs": [
    {
     "name": "stdout",
     "output_type": "stream",
     "text": [
      "Favor calcular manualmente o resultado.\n",
      "         RGE vs MAD\n",
      "RGE tem 41.28 % de chance de vitória.Sendo:\n",
      "9.31 % a de ser 3-0\n",
      "15.27 % a de ser 3-1\n",
      "16.70 % a de ser 3-2\n",
      "Enquanto MAD tem 58.72 %. Sendo:\n",
      "16.35 % a de ser 3-0\n",
      "22.23 % a de ser 3-1\n",
      "20.15 % a de ser 3-2\n"
     ]
    },
    {
     "data": {
      "text/plain": [
       "0.41276686771544213"
      ]
     },
     "execution_count": 25,
     "metadata": {},
     "output_type": "execute_result"
    }
   ],
   "source": [
    "calcular_acertos_em_determinada_semana('LEC', matches_2020_2, teams_2020_2, initials_2020, play_off_games_to_be_ignored=13)\n",
    "probabilidade('RGE', 'MAD', 5) #errei"
   ]
  },
  {
   "cell_type": "code",
   "execution_count": 26,
   "metadata": {},
   "outputs": [
    {
     "name": "stdout",
     "output_type": "stream",
     "text": [
      "Favor calcular manualmente o resultado.\n",
      "         FNC vs G2\n",
      "FNC tem 39.39 % de chance de vitória.Sendo:\n",
      "8.69 % a de ser 3-0\n",
      "14.52 % a de ser 3-1\n",
      "16.18 % a de ser 3-2\n",
      "Enquanto G2 tem 60.61 %. Sendo:\n",
      "17.29 % a de ser 3-0\n",
      "22.97 % a de ser 3-1\n",
      "20.35 % a de ser 3-2\n"
     ]
    },
    {
     "data": {
      "text/plain": [
       "0.3939273922364456"
      ]
     },
     "execution_count": 26,
     "metadata": {},
     "output_type": "execute_result"
    }
   ],
   "source": [
    "calcular_acertos_em_determinada_semana('LEC', matches_2020_2, teams_2020_2, initials_2020, play_off_games_to_be_ignored=10)\n",
    "probabilidade('FNC', 'G2', 5) #errei"
   ]
  },
  {
   "cell_type": "code",
   "execution_count": 27,
   "metadata": {},
   "outputs": [
    {
     "name": "stdout",
     "output_type": "stream",
     "text": [
      "Favor calcular manualmente o resultado.\n",
      "         G2 vs RGE\n",
      "G2 tem 47.99 % de chance de vitória.Sendo:\n",
      "11.71 % a de ser 3-0\n",
      "17.94 % a de ser 3-1\n",
      "18.33 % a de ser 3-2\n",
      "Enquanto RGE tem 52.01 %. Sendo:\n",
      "13.32 % a de ser 3-0\n",
      "19.56 % a de ser 3-1\n",
      "19.14 % a de ser 3-2\n"
     ]
    },
    {
     "data": {
      "text/plain": [
       "0.47987028985354374"
      ]
     },
     "execution_count": 27,
     "metadata": {},
     "output_type": "execute_result"
    }
   ],
   "source": [
    "calcular_acertos_em_determinada_semana('LEC', matches_2020_2, teams_2020_2, initials_2020, play_off_games_to_be_ignored=5)\n",
    "probabilidade('G2', 'RGE', 5) #errei por tao pouco que eh acerto"
   ]
  },
  {
   "cell_type": "code",
   "execution_count": 28,
   "metadata": {},
   "outputs": [
    {
     "name": "stdout",
     "output_type": "stream",
     "text": [
      "         G2 vs FNC\n",
      "G2 tem 53.09 % de chance de vitória.Sendo:\n",
      "13.78 % a de ser 3-0\n",
      "19.99 % a de ser 3-1\n",
      "19.33 % a de ser 3-2\n",
      "Enquanto FNC tem 46.91 %. Sendo:\n",
      "11.30 % a de ser 3-0\n",
      "17.51 % a de ser 3-1\n",
      "18.09 % a de ser 3-2\n"
     ]
    },
    {
     "data": {
      "text/plain": [
       "0.5309283842681014"
      ]
     },
     "execution_count": 28,
     "metadata": {},
     "output_type": "execute_result"
    }
   ],
   "source": [
    "estimar_proficiencias('LEC', matches_2020_2, teams_2020_2, initials_2020)\n",
    "probabilidade('G2', 'FNC', 5) #ok"
   ]
  },
  {
   "cell_type": "markdown",
   "metadata": {},
   "source": [
    "### LCS\n",
    "#### Play offs: 7-6"
   ]
  },
  {
   "cell_type": "code",
   "execution_count": 182,
   "metadata": {},
   "outputs": [
    {
     "name": "stdout",
     "output_type": "stream",
     "text": [
      "Na semana 6 do campeonato LCS, modelo acertou 6 de 10 jogos, resultando em 60.00% de acerto.\n",
      "Na semana 7 do campeonato LCS, modelo acertou 8 de 10 jogos, resultando em 80.00% de acerto.\n",
      "Na semana 8 do campeonato LCS, modelo acertou 7 de 10 jogos, resultando em 70.00% de acerto.\n",
      "Na semana 9 do campeonato LCS, modelo acertou 9 de 11 jogos, resultando em 81.82% de acerto.\n",
      "No total, o modelo acertou 30 de 41 partidas, resultando em 73.17% de acerto.\n"
     ]
    }
   ],
   "source": [
    "at = 0\n",
    "et = 0\n",
    "reg = 'LCS'\n",
    "for i in range(max(matches_2020_2[reg].Week)-3, max(matches_2020_2[reg].Week)+1):\n",
    "    a,b = calcular_acertos_em_determinada_semana(reg, matches_2020_2, teams_2020_2, initials_2020, semana = i)\n",
    "    at += a\n",
    "    et += b\n",
    "print(\"No total, o modelo acertou {} de {} partidas, resultando em {:.2f}% de acerto.\".format(at, at+et, 100*at/(at+et)))"
   ]
  },
  {
   "cell_type": "code",
   "execution_count": 102,
   "metadata": {},
   "outputs": [
    {
     "name": "stdout",
     "output_type": "stream",
     "text": [
      "Favor calcular manualmente o resultado.\n",
      "         GG vs TSM\n",
      "GG tem 18.43 % de chance de vitória.Sendo:\n",
      "3.14 % a de ser 3-0\n",
      "6.45 % a de ser 3-1\n",
      "8.83 % a de ser 3-2\n",
      "Enquanto TSM tem 81.57 %. Sendo:\n",
      "32.06 % a de ser 3-0\n",
      "30.35 % a de ser 3-1\n",
      "19.16 % a de ser 3-2\n"
     ]
    },
    {
     "data": {
      "text/plain": [
       "0.1842949827501939"
      ]
     },
     "execution_count": 102,
     "metadata": {},
     "output_type": "execute_result"
    }
   ],
   "source": [
    "calcular_acertos_em_determinada_semana('LCS', matches_2020_2, teams_2020_2, initials_2020, play_off_games_to_be_ignored=43)\n",
    "probabilidade('GG', 'TSM', 5) #nao"
   ]
  },
  {
   "cell_type": "code",
   "execution_count": 103,
   "metadata": {},
   "outputs": [
    {
     "name": "stdout",
     "output_type": "stream",
     "text": [
      "Favor calcular manualmente o resultado.\n",
      "         FLY vs EG\n",
      "FLY tem 93.09 % de chance de vitória.Sendo:\n",
      "48.59 % a de ser 3-0\n",
      "31.17 % a de ser 3-1\n",
      "13.33 % a de ser 3-2\n",
      "Enquanto EG tem 6.91 %. Sendo:\n",
      "0.98 % a de ser 3-0\n",
      "2.31 % a de ser 3-1\n",
      "3.63 % a de ser 3-2\n"
     ]
    },
    {
     "data": {
      "text/plain": [
       "0.9309125640062043"
      ]
     },
     "execution_count": 103,
     "metadata": {},
     "output_type": "execute_result"
    }
   ],
   "source": [
    "calcular_acertos_em_determinada_semana('LCS', matches_2020_2, teams_2020_2, initials_2020, play_off_games_to_be_ignored=40)\n",
    "probabilidade('FLY', 'EG', 5) #ok"
   ]
  },
  {
   "cell_type": "code",
   "execution_count": 104,
   "metadata": {},
   "outputs": [
    {
     "name": "stdout",
     "output_type": "stream",
     "text": [
      "Favor calcular manualmente o resultado.\n",
      "         TSM vs DIG\n",
      "TSM tem 88.01 % de chance de vitória.Sendo:\n",
      "39.72 % a de ser 3-0\n",
      "31.57 % a de ser 3-1\n",
      "16.72 % a de ser 3-2\n",
      "Enquanto DIG tem 11.99 %. Sendo:\n",
      "1.86 % a de ser 3-0\n",
      "4.10 % a de ser 3-1\n",
      "6.03 % a de ser 3-2\n"
     ]
    },
    {
     "data": {
      "text/plain": [
       "0.8801480147106322"
      ]
     },
     "execution_count": 104,
     "metadata": {},
     "output_type": "execute_result"
    }
   ],
   "source": [
    "calcular_acertos_em_determinada_semana('LCS', matches_2020_2, teams_2020_2, initials_2020, play_off_games_to_be_ignored=35)\n",
    "probabilidade('TSM', 'DIG', 5) #ok"
   ]
  },
  {
   "cell_type": "code",
   "execution_count": 105,
   "metadata": {},
   "outputs": [
    {
     "name": "stdout",
     "output_type": "stream",
     "text": [
      "Favor calcular manualmente o resultado.\n",
      "         EG vs 100\n",
      "EG tem 59.32 % de chance de vitória.Sendo:\n",
      "16.64 % a de ser 3-0\n",
      "22.46 % a de ser 3-1\n",
      "20.22 % a de ser 3-2\n",
      "Enquanto 100 tem 40.68 %. Sendo:\n",
      "9.11 % a de ser 3-0\n",
      "15.03 % a de ser 3-1\n",
      "16.54 % a de ser 3-2\n"
     ]
    },
    {
     "data": {
      "text/plain": [
       "0.5932133855590511"
      ]
     },
     "execution_count": 105,
     "metadata": {},
     "output_type": "execute_result"
    }
   ],
   "source": [
    "calcular_acertos_em_determinada_semana('LCS', matches_2020_2, teams_2020_2, initials_2020, play_off_games_to_be_ignored=32)\n",
    "probabilidade('EG', '100', 5) #ok"
   ]
  },
  {
   "cell_type": "code",
   "execution_count": 106,
   "metadata": {},
   "outputs": [
    {
     "name": "stdout",
     "output_type": "stream",
     "text": [
      "Favor calcular manualmente o resultado.\n",
      "         FLY vs C9\n",
      "FLY tem 51.16 % de chance de vitória.Sendo:\n",
      "12.97 % a de ser 3-0\n",
      "19.21 % a de ser 3-1\n",
      "18.98 % a de ser 3-2\n",
      "Enquanto C9 tem 48.84 %. Sendo:\n",
      "12.04 % a de ser 3-0\n",
      "18.29 % a de ser 3-1\n",
      "18.51 % a de ser 3-2\n"
     ]
    },
    {
     "data": {
      "text/plain": [
       "0.511608241924683"
      ]
     },
     "execution_count": 106,
     "metadata": {},
     "output_type": "execute_result"
    }
   ],
   "source": [
    "calcular_acertos_em_determinada_semana('LCS', matches_2020_2, teams_2020_2, initials_2020, play_off_games_to_be_ignored=29)\n",
    "probabilidade('FLY', 'C9', 5) #ok?"
   ]
  },
  {
   "cell_type": "code",
   "execution_count": 107,
   "metadata": {},
   "outputs": [
    {
     "name": "stdout",
     "output_type": "stream",
     "text": [
      "Favor calcular manualmente o resultado.\n",
      "         TL vs GG\n",
      "TL tem 90.27 % de chance de vitória.Sendo:\n",
      "43.21 % a de ser 3-0\n",
      "31.63 % a de ser 3-1\n",
      "15.43 % a de ser 3-2\n",
      "Enquanto GG tem 9.73 %. Sendo:\n",
      "1.45 % a de ser 3-0\n",
      "3.29 % a de ser 3-1\n",
      "4.98 % a de ser 3-2\n"
     ]
    },
    {
     "data": {
      "text/plain": [
       "0.9027229635603844"
      ]
     },
     "execution_count": 107,
     "metadata": {},
     "output_type": "execute_result"
    }
   ],
   "source": [
    "calcular_acertos_em_determinada_semana('LCS', matches_2020_2, teams_2020_2, initials_2020, play_off_games_to_be_ignored=25)\n",
    "probabilidade('TL', 'GG', 5) #ok"
   ]
  },
  {
   "cell_type": "code",
   "execution_count": 108,
   "metadata": {},
   "outputs": [
    {
     "name": "stdout",
     "output_type": "stream",
     "text": [
      "Favor calcular manualmente o resultado.\n",
      "         C9 vs EG\n",
      "C9 tem 74.66 % de chance de vitória.Sendo:\n",
      "26.02 % a de ser 3-0\n",
      "28.22 % a de ser 3-1\n",
      "20.41 % a de ser 3-2\n",
      "Enquanto EG tem 25.34 %. Sendo:\n",
      "4.73 % a de ser 3-0\n",
      "9.06 % a de ser 3-1\n",
      "11.56 % a de ser 3-2\n"
     ]
    },
    {
     "data": {
      "text/plain": [
       "0.7465544430760648"
      ]
     },
     "execution_count": 108,
     "metadata": {},
     "output_type": "execute_result"
    }
   ],
   "source": [
    "calcular_acertos_em_determinada_semana('LCS', matches_2020_2, teams_2020_2, initials_2020, play_off_games_to_be_ignored=22)\n",
    "probabilidade('C9', 'EG', 5) #ok"
   ]
  },
  {
   "cell_type": "code",
   "execution_count": 109,
   "metadata": {},
   "outputs": [
    {
     "name": "stdout",
     "output_type": "stream",
     "text": [
      "Favor calcular manualmente o resultado.\n",
      "         TSM vs GG\n",
      "TSM tem 50.91 % de chance de vitória.Sendo:\n",
      "12.87 % a de ser 3-0\n",
      "19.11 % a de ser 3-1\n",
      "18.93 % a de ser 3-2\n",
      "Enquanto GG tem 49.09 %. Sendo:\n",
      "12.14 % a de ser 3-0\n",
      "18.39 % a de ser 3-1\n",
      "18.56 % a de ser 3-2\n"
     ]
    },
    {
     "data": {
      "text/plain": [
       "0.5090915379746158"
      ]
     },
     "execution_count": 109,
     "metadata": {},
     "output_type": "execute_result"
    }
   ],
   "source": [
    "calcular_acertos_em_determinada_semana('LCS', matches_2020_2, teams_2020_2, initials_2020, play_off_games_to_be_ignored=19)\n",
    "probabilidade('TSM', 'GG', 5) #ok?"
   ]
  },
  {
   "cell_type": "code",
   "execution_count": 110,
   "metadata": {},
   "outputs": [
    {
     "name": "stdout",
     "output_type": "stream",
     "text": [
      "Favor calcular manualmente o resultado.\n",
      "         TSM vs C9\n",
      "TSM tem 39.00 % de chance de vitória.Sendo:\n",
      "8.56 % a de ser 3-0\n",
      "14.37 % a de ser 3-1\n",
      "16.07 % a de ser 3-2\n",
      "Enquanto C9 tem 61.00 %. Sendo:\n",
      "17.49 % a de ser 3-0\n",
      "23.13 % a de ser 3-1\n",
      "20.39 % a de ser 3-2\n"
     ]
    },
    {
     "data": {
      "text/plain": [
       "0.3899755784751119"
      ]
     },
     "execution_count": 110,
     "metadata": {},
     "output_type": "execute_result"
    }
   ],
   "source": [
    "calcular_acertos_em_determinada_semana('LCS', matches_2020_2, teams_2020_2, initials_2020, play_off_games_to_be_ignored=14)\n",
    "probabilidade('TSM', 'C9', 5) #nao"
   ]
  },
  {
   "cell_type": "code",
   "execution_count": 111,
   "metadata": {},
   "outputs": [
    {
     "name": "stdout",
     "output_type": "stream",
     "text": [
      "Favor calcular manualmente o resultado.\n",
      "         TSM vs C9\n",
      "TSM tem 39.00 % de chance de vitória.Sendo:\n",
      "8.56 % a de ser 3-0\n",
      "14.37 % a de ser 3-1\n",
      "16.07 % a de ser 3-2\n",
      "Enquanto C9 tem 61.00 %. Sendo:\n",
      "17.49 % a de ser 3-0\n",
      "23.13 % a de ser 3-1\n",
      "20.39 % a de ser 3-2\n"
     ]
    },
    {
     "data": {
      "text/plain": [
       "0.3899663489617561"
      ]
     },
     "execution_count": 111,
     "metadata": {},
     "output_type": "execute_result"
    }
   ],
   "source": [
    "calcular_acertos_em_determinada_semana('LCS', matches_2020_2, teams_2020_2, initials_2020, play_off_games_to_be_ignored=14)\n",
    "probabilidade('TSM', 'C9', 5) #nao"
   ]
  },
  {
   "cell_type": "code",
   "execution_count": 112,
   "metadata": {},
   "outputs": [
    {
     "name": "stdout",
     "output_type": "stream",
     "text": [
      "Favor calcular manualmente o resultado.\n",
      "         FLY vs TL\n",
      "FLY tem 8.07 % de chance de vitória.Sendo:\n",
      "1.17 % a de ser 3-0\n",
      "2.71 % a de ser 3-1\n",
      "4.19 % a de ser 3-2\n",
      "Enquanto TL tem 91.93 %. Sendo:\n",
      "46.19 % a de ser 3-0\n",
      "31.45 % a de ser 3-1\n",
      "14.28 % a de ser 3-2\n"
     ]
    },
    {
     "data": {
      "text/plain": [
       "0.08072904062790764"
      ]
     },
     "execution_count": 112,
     "metadata": {},
     "output_type": "execute_result"
    }
   ],
   "source": [
    "calcular_acertos_em_determinada_semana('LCS', matches_2020_2, teams_2020_2, initials_2020, play_off_games_to_be_ignored=10)\n",
    "probabilidade('FLY', 'TL', 5) #nao"
   ]
  },
  {
   "cell_type": "markdown",
   "metadata": {},
   "source": [
    "### LPL\n",
    "#### Play offs: 7-5"
   ]
  },
  {
   "cell_type": "code",
   "execution_count": 150,
   "metadata": {},
   "outputs": [
    {
     "name": "stdout",
     "output_type": "stream",
     "text": [
      "         TES vs V5\n",
      "TES tem 85.78 % de chance de vitória.Sendo:\n",
      "58.17 % a de ser 2-0\n",
      "27.61 % a de ser 2-1\n",
      "Enquanto V5 tem 14.22 %. Sendo:\n",
      "5.63 % a de ser 2-0\n",
      "8.59 % a de ser 2-1\n",
      "         SN vs BLG\n",
      "SN tem 64.15 % de chance de vitória.Sendo:\n",
      "35.46 % a de ser 2-0\n",
      "28.69 % a de ser 2-1\n",
      "Enquanto BLG tem 35.85 %. Sendo:\n",
      "16.36 % a de ser 2-0\n",
      "19.49 % a de ser 2-1\n",
      "         WE vs LNG\n",
      "WE tem 93.74 % de chance de vitória.Sendo:\n",
      "71.85 % a de ser 2-0\n",
      "21.89 % a de ser 2-1\n",
      "Enquanto LNG tem 6.26 %. Sendo:\n",
      "2.32 % a de ser 2-0\n",
      "3.93 % a de ser 2-1\n",
      "         RW vs LGD\n",
      "RW tem 9.43 % de chance de vitória.Sendo:\n",
      "3.60 % a de ser 2-0\n",
      "5.83 % a de ser 2-1\n",
      "Enquanto LGD tem 90.57 %. Sendo:\n",
      "65.66 % a de ser 2-0\n",
      "24.91 % a de ser 2-1\n",
      "         ES vs OMG\n",
      "ES tem 39.01 % de chance de vitória.Sendo:\n",
      "18.16 % a de ser 2-0\n",
      "20.84 % a de ser 2-1\n",
      "Enquanto OMG tem 60.99 %. Sendo:\n",
      "32.93 % a de ser 2-0\n",
      "28.07 % a de ser 2-1\n",
      "         JDG vs VG\n",
      "JDG tem 87.20 % de chance de vitória.Sendo:\n",
      "60.23 % a de ser 2-0\n",
      "26.97 % a de ser 2-1\n",
      "Enquanto VG tem 12.80 %. Sendo:\n",
      "5.01 % a de ser 2-0\n",
      "7.78 % a de ser 2-1\n",
      "         IG vs LNG\n",
      "IG tem 89.34 % de chance de vitória.Sendo:\n",
      "63.57 % a de ser 2-0\n",
      "25.77 % a de ser 2-1\n",
      "Enquanto LNG tem 10.66 %. Sendo:\n",
      "4.11 % a de ser 2-0\n",
      "6.55 % a de ser 2-1\n",
      "         RNG vs SN\n",
      "RNG tem 52.86 % de chance de vitória.Sendo:\n",
      "26.94 % a de ser 2-0\n",
      "25.91 % a de ser 2-1\n",
      "Enquanto SN tem 47.14 %. Sendo:\n",
      "23.13 % a de ser 2-0\n",
      "24.01 % a de ser 2-1\n",
      "         RW vs FPX\n",
      "RW tem 9.14 % de chance de vitória.Sendo:\n",
      "3.48 % a de ser 2-0\n",
      "5.66 % a de ser 2-1\n",
      "Enquanto FPX tem 90.86 %. Sendo:\n",
      "66.17 % a de ser 2-0\n",
      "24.69 % a de ser 2-1\n",
      "         LGD vs EDG\n",
      "LGD tem 72.61 % de chance de vitória.Sendo:\n",
      "43.00 % a de ser 2-0\n",
      "29.61 % a de ser 2-1\n",
      "Enquanto EDG tem 27.39 %. Sendo:\n",
      "11.85 % a de ser 2-0\n",
      "15.54 % a de ser 2-1\n",
      "         BLG vs DMO\n",
      "BLG tem 76.61 % de chance de vitória.Sendo:\n",
      "47.06 % a de ser 2-0\n",
      "29.55 % a de ser 2-1\n",
      "Enquanto DMO tem 23.39 %. Sendo:\n",
      "9.86 % a de ser 2-0\n",
      "13.53 % a de ser 2-1\n",
      "         IG vs RNG\n",
      "IG tem 47.23 % de chance de vitória.Sendo:\n",
      "23.19 % a de ser 2-0\n",
      "24.04 % a de ser 2-1\n",
      "Enquanto RNG tem 52.77 %. Sendo:\n",
      "26.88 % a de ser 2-0\n",
      "25.89 % a de ser 2-1\n",
      "         TES vs VG\n",
      "TES tem 97.45 % de chance de vitória.Sendo:\n",
      "81.84 % a de ser 2-0\n",
      "15.60 % a de ser 2-1\n",
      "Enquanto VG tem 2.55 %. Sendo:\n",
      "0.91 % a de ser 2-0\n",
      "1.64 % a de ser 2-1\n",
      "         JDG vs FPX\n",
      "JDG tem 74.35 % de chance de vitória.Sendo:\n",
      "44.72 % a de ser 2-0\n",
      "29.63 % a de ser 2-1\n",
      "Enquanto FPX tem 25.65 %. Sendo:\n",
      "10.98 % a de ser 2-0\n",
      "14.68 % a de ser 2-1\n",
      "Na semana 7 do campeonato LPL, modelo acertou 11 de 14 jogos, resultando em 78.57% de acerto.\n",
      "         LGD vs WE\n",
      "LGD tem 42.49 % de chance de vitória.Sendo:\n",
      "20.23 % a de ser 2-0\n",
      "22.26 % a de ser 2-1\n",
      "Enquanto WE tem 57.51 %. Sendo:\n",
      "30.27 % a de ser 2-0\n",
      "27.23 % a de ser 2-1\n",
      "         V5 vs IG\n",
      "V5 tem 76.52 % de chance de vitória.Sendo:\n",
      "46.96 % a de ser 2-0\n",
      "29.56 % a de ser 2-1\n",
      "Enquanto IG tem 23.48 %. Sendo:\n",
      "9.91 % a de ser 2-0\n",
      "13.58 % a de ser 2-1\n",
      "         FPX vs OMG\n",
      "FPX tem 59.39 % de chance de vitória.Sendo:\n",
      "31.69 % a de ser 2-0\n",
      "27.70 % a de ser 2-1\n",
      "Enquanto OMG tem 40.61 %. Sendo:\n",
      "19.10 % a de ser 2-0\n",
      "21.51 % a de ser 2-1\n",
      "         VG vs EDG\n",
      "VG tem 63.55 % de chance de vitória.Sendo:\n",
      "34.97 % a de ser 2-0\n",
      "28.58 % a de ser 2-1\n",
      "Enquanto EDG tem 36.45 %. Sendo:\n",
      "16.70 % a de ser 2-0\n",
      "19.75 % a de ser 2-1\n",
      "         RW vs ES\n",
      "RW tem 50.20 % de chance de vitória.Sendo:\n",
      "25.13 % a de ser 2-0\n",
      "25.07 % a de ser 2-1\n",
      "Enquanto ES tem 49.80 %. Sendo:\n",
      "24.87 % a de ser 2-0\n",
      "24.93 % a de ser 2-1\n",
      "         WE vs BLG\n",
      "WE tem 65.90 % de chance de vitória.Sendo:\n",
      "36.93 % a de ser 2-0\n",
      "28.97 % a de ser 2-1\n",
      "Enquanto BLG tem 34.10 %. Sendo:\n",
      "15.39 % a de ser 2-0\n",
      "18.71 % a de ser 2-1\n",
      "         TES vs DMO\n",
      "TES tem 98.56 % de chance de vitória.Sendo:\n",
      "86.33 % a de ser 2-0\n",
      "12.23 % a de ser 2-1\n",
      "Enquanto DMO tem 1.44 %. Sendo:\n",
      "0.50 % a de ser 2-0\n",
      "0.93 % a de ser 2-1\n",
      "         LNG vs JDG\n",
      "LNG tem 2.77 % de chance de vitória.Sendo:\n",
      "0.99 % a de ser 2-0\n",
      "1.78 % a de ser 2-1\n",
      "Enquanto JDG tem 97.23 %. Sendo:\n",
      "81.11 % a de ser 2-0\n",
      "16.13 % a de ser 2-1\n",
      "         V5 vs SN\n",
      "V5 tem 75.49 % de chance de vitória.Sendo:\n",
      "45.88 % a de ser 2-0\n",
      "29.61 % a de ser 2-1\n",
      "Enquanto SN tem 24.51 %. Sendo:\n",
      "10.41 % a de ser 2-0\n",
      "14.10 % a de ser 2-1\n",
      "         RNG vs LGD\n",
      "RNG tem 44.68 % de chance de vitória.Sendo:\n",
      "21.57 % a de ser 2-0\n",
      "23.11 % a de ser 2-1\n",
      "Enquanto LGD tem 55.32 %. Sendo:\n",
      "28.68 % a de ser 2-0\n",
      "26.64 % a de ser 2-1\n",
      "         VG vs OMG\n",
      "VG tem 57.94 % de chance de vitória.Sendo:\n",
      "30.60 % a de ser 2-0\n",
      "27.34 % a de ser 2-1\n",
      "Enquanto OMG tem 42.06 %. Sendo:\n",
      "19.97 % a de ser 2-0\n",
      "22.09 % a de ser 2-1\n",
      "         EDG vs FPX\n",
      "EDG tem 35.07 % de chance de vitória.Sendo:\n",
      "15.93 % a de ser 2-0\n",
      "19.14 % a de ser 2-1\n",
      "Enquanto FPX tem 64.93 %. Sendo:\n",
      "36.11 % a de ser 2-0\n",
      "28.82 % a de ser 2-1\n",
      "         JDG vs BLG\n",
      "JDG tem 84.74 % de chance de vitória.Sendo:\n",
      "56.74 % a de ser 2-0\n",
      "28.00 % a de ser 2-1\n",
      "Enquanto BLG tem 15.26 %. Sendo:\n",
      "6.09 % a de ser 2-0\n",
      "9.17 % a de ser 2-1\n",
      "         IG vs TES\n",
      "IG tem 12.98 % de chance de vitória.Sendo:\n",
      "5.09 % a de ser 2-0\n",
      "7.89 % a de ser 2-1\n",
      "Enquanto TES tem 87.02 %. Sendo:\n",
      "59.95 % a de ser 2-0\n",
      "27.06 % a de ser 2-1\n",
      "Na semana 8 do campeonato LPL, modelo acertou 9 de 14 jogos, resultando em 64.29% de acerto.\n",
      "         OMG vs SN\n",
      "OMG tem 14.41 % de chance de vitória.Sendo:\n",
      "5.71 % a de ser 2-0\n",
      "8.70 % a de ser 2-1\n",
      "Enquanto SN tem 85.59 %. Sendo:\n",
      "57.91 % a de ser 2-0\n",
      "27.68 % a de ser 2-1\n",
      "         VG vs DMO\n",
      "VG tem 76.56 % de chance de vitória.Sendo:\n",
      "47.00 % a de ser 2-0\n",
      "29.56 % a de ser 2-1\n",
      "Enquanto DMO tem 23.44 %. Sendo:\n",
      "9.89 % a de ser 2-0\n",
      "13.55 % a de ser 2-1\n",
      "         BLG vs RW\n",
      "BLG tem 48.75 % de chance de vitória.Sendo:\n",
      "24.18 % a de ser 2-0\n",
      "24.58 % a de ser 2-1\n",
      "Enquanto RW tem 51.25 %. Sendo:\n",
      "25.84 % a de ser 2-0\n",
      "25.41 % a de ser 2-1\n",
      "         EDG vs LNG\n",
      "EDG tem 73.29 % de chance de vitória.Sendo:\n",
      "43.66 % a de ser 2-0\n",
      "29.62 % a de ser 2-1\n",
      "Enquanto LNG tem 26.71 %. Sendo:\n",
      "11.51 % a de ser 2-0\n",
      "15.21 % a de ser 2-1\n",
      "         JDG vs ES\n",
      "JDG tem 93.15 % de chance de vitória.Sendo:\n",
      "70.59 % a de ser 2-0\n",
      "22.57 % a de ser 2-1\n",
      "Enquanto ES tem 6.85 %. Sendo:\n",
      "2.56 % a de ser 2-0\n",
      "4.29 % a de ser 2-1\n",
      "         FPX vs LGD\n",
      "FPX tem 35.52 % de chance de vitória.Sendo:\n",
      "16.18 % a de ser 2-0\n",
      "19.34 % a de ser 2-1\n",
      "Enquanto LGD tem 64.48 %. Sendo:\n",
      "35.73 % a de ser 2-0\n",
      "28.75 % a de ser 2-1\n",
      "         TES vs SN\n",
      "TES tem 69.61 % de chance de vitória.Sendo:\n",
      "40.18 % a de ser 2-0\n",
      "29.42 % a de ser 2-1\n",
      "Enquanto SN tem 30.39 %. Sendo:\n",
      "13.40 % a de ser 2-0\n",
      "16.99 % a de ser 2-1\n",
      "         WE vs V5\n",
      "WE tem 35.11 % de chance de vitória.Sendo:\n",
      "15.95 % a de ser 2-0\n",
      "19.16 % a de ser 2-1\n",
      "Enquanto V5 tem 64.89 %. Sendo:\n",
      "36.08 % a de ser 2-0\n",
      "28.82 % a de ser 2-1\n",
      "         RNG vs DMO\n",
      "RNG tem 83.60 % de chance de vitória.Sendo:\n",
      "55.23 % a de ser 2-0\n",
      "28.37 % a de ser 2-1\n",
      "Enquanto DMO tem 16.40 %. Sendo:\n",
      "6.60 % a de ser 2-0\n",
      "9.80 % a de ser 2-1\n",
      "         LGD vs VG\n",
      "LGD tem 74.38 % de chance de vitória.Sendo:\n",
      "44.75 % a de ser 2-0\n",
      "29.63 % a de ser 2-1\n",
      "Enquanto VG tem 25.62 %. Sendo:\n",
      "10.96 % a de ser 2-0\n",
      "14.66 % a de ser 2-1\n",
      "         LNG vs RW\n",
      "LNG tem 22.93 % de chance de vitória.Sendo:\n",
      "9.64 % a de ser 2-0\n",
      "13.29 % a de ser 2-1\n",
      "Enquanto RW tem 77.07 %. Sendo:\n",
      "47.55 % a de ser 2-0\n",
      "29.52 % a de ser 2-1\n",
      "         EDG vs BLG\n",
      "EDG tem 46.33 % de chance de vitória.Sendo:\n",
      "22.61 % a de ser 2-0\n",
      "23.72 % a de ser 2-1\n",
      "Enquanto BLG tem 53.67 %. Sendo:\n",
      "27.51 % a de ser 2-0\n",
      "26.16 % a de ser 2-1\n",
      "         IG vs OMG\n",
      "IG tem 88.93 % de chance de vitória.Sendo:\n",
      "62.90 % a de ser 2-0\n",
      "26.03 % a de ser 2-1\n",
      "Enquanto OMG tem 11.07 %. Sendo:\n",
      "4.28 % a de ser 2-0\n",
      "6.79 % a de ser 2-1\n",
      "         V5 vs JDG\n",
      "V5 tem 35.48 % de chance de vitória.Sendo:\n",
      "16.16 % a de ser 2-0\n",
      "19.33 % a de ser 2-1\n",
      "Enquanto JDG tem 64.52 %. Sendo:\n",
      "35.76 % a de ser 2-0\n",
      "28.75 % a de ser 2-1\n",
      "         WE vs ES\n",
      "WE tem 78.58 % de chance de vitória.Sendo:\n",
      "49.20 % a de ser 2-0\n",
      "29.38 % a de ser 2-1\n",
      "Enquanto ES tem 21.42 %. Sendo:\n",
      "8.92 % a de ser 2-0\n",
      "12.51 % a de ser 2-1\n",
      "         RNG vs TES\n",
      "RNG tem 16.41 % de chance de vitória.Sendo:\n",
      "6.60 % a de ser 2-0\n",
      "9.81 % a de ser 2-1\n",
      "Enquanto TES tem 83.59 %. Sendo:\n",
      "55.22 % a de ser 2-0\n",
      "28.37 % a de ser 2-1\n",
      "Na semana 9 do campeonato LPL, modelo acertou 10 de 16 jogos, resultando em 62.50% de acerto.\n",
      "         FPX vs DMO\n",
      "FPX tem 93.43 % de chance de vitória.Sendo:\n",
      "71.18 % a de ser 2-0\n",
      "22.25 % a de ser 2-1\n",
      "Enquanto DMO tem 6.57 %. Sendo:\n",
      "2.44 % a de ser 2-0\n",
      "4.12 % a de ser 2-1\n",
      "         BLG vs LGD\n",
      "BLG tem 26.66 % de chance de vitória.Sendo:\n",
      "11.48 % a de ser 2-0\n",
      "15.18 % a de ser 2-1\n",
      "Enquanto LGD tem 73.34 %. Sendo:\n",
      "43.72 % a de ser 2-0\n",
      "29.62 % a de ser 2-1\n",
      "         EDG vs V5\n",
      "EDG tem 26.44 % de chance de vitória.Sendo:\n",
      "11.37 % a de ser 2-0\n",
      "15.07 % a de ser 2-1\n",
      "Enquanto V5 tem 73.56 %. Sendo:\n",
      "43.93 % a de ser 2-0\n",
      "29.63 % a de ser 2-1\n",
      "         OMG vs WE\n",
      "OMG tem 15.29 % de chance de vitória.Sendo:\n",
      "6.10 % a de ser 2-0\n",
      "9.19 % a de ser 2-1\n",
      "Enquanto WE tem 84.71 %. Sendo:\n",
      "56.70 % a de ser 2-0\n",
      "28.01 % a de ser 2-1\n",
      "         LNG vs LGD\n",
      "LNG tem 10.57 % de chance de vitória.Sendo:\n",
      "4.07 % a de ser 2-0\n",
      "6.50 % a de ser 2-1\n",
      "Enquanto LGD tem 89.43 %. Sendo:\n",
      "63.72 % a de ser 2-0\n",
      "25.71 % a de ser 2-1\n",
      "         ES vs TES\n",
      "ES tem 5.16 % de chance de vitória.Sendo:\n",
      "1.89 % a de ser 2-0\n",
      "3.26 % a de ser 2-1\n",
      "Enquanto TES tem 94.84 %. Sendo:\n",
      "74.38 % a de ser 2-0\n",
      "20.46 % a de ser 2-1\n",
      "         V5 vs RW\n",
      "V5 tem 90.25 % de chance de vitória.Sendo:\n",
      "65.10 % a de ser 2-0\n",
      "25.15 % a de ser 2-1\n",
      "Enquanto RW tem 9.75 %. Sendo:\n",
      "3.73 % a de ser 2-0\n",
      "6.02 % a de ser 2-1\n",
      "         BLG vs RNG\n",
      "BLG tem 31.50 % de chance de vitória.Sendo:\n",
      "13.99 % a de ser 2-0\n",
      "17.51 % a de ser 2-1\n",
      "Enquanto RNG tem 68.50 %. Sendo:\n",
      "39.18 % a de ser 2-0\n",
      "29.31 % a de ser 2-1\n",
      "         SN vs VG\n",
      "SN tem 74.66 % de chance de vitória.Sendo:\n",
      "45.03 % a de ser 2-0\n",
      "29.63 % a de ser 2-1\n",
      "Enquanto VG tem 25.34 %. Sendo:\n",
      "10.82 % a de ser 2-0\n",
      "14.52 % a de ser 2-1\n",
      "         JDG vs OMG\n",
      "JDG tem 93.41 % de chance de vitória.Sendo:\n",
      "71.12 % a de ser 2-0\n",
      "22.28 % a de ser 2-1\n",
      "Enquanto OMG tem 6.59 %. Sendo:\n",
      "2.45 % a de ser 2-0\n",
      "4.14 % a de ser 2-1\n",
      "         LNG vs DMO\n",
      "LNG tem 68.32 % de chance de vitória.Sendo:\n",
      "39.02 % a de ser 2-0\n",
      "29.29 % a de ser 2-1\n",
      "Enquanto DMO tem 31.68 %. Sendo:\n",
      "14.09 % a de ser 2-0\n",
      "17.60 % a de ser 2-1\n",
      "         EDG vs ES\n",
      "EDG tem 79.10 % de chance de vitória.Sendo:\n",
      "49.79 % a de ser 2-0\n",
      "29.31 % a de ser 2-1\n",
      "Enquanto ES tem 20.90 %. Sendo:\n",
      "8.67 % a de ser 2-0\n",
      "12.23 % a de ser 2-1\n",
      "         TES vs WE\n",
      "TES tem 70.68 % de chance de vitória.Sendo:\n",
      "41.17 % a de ser 2-0\n",
      "29.51 % a de ser 2-1\n",
      "Enquanto WE tem 29.32 %. Sendo:\n",
      "12.84 % a de ser 2-0\n",
      "16.48 % a de ser 2-1\n",
      "         RNG vs RW\n",
      "RNG tem 83.67 % de chance de vitória.Sendo:\n",
      "55.32 % a de ser 2-0\n",
      "28.35 % a de ser 2-1\n",
      "Enquanto RW tem 16.33 %. Sendo:\n",
      "6.57 % a de ser 2-0\n",
      "9.77 % a de ser 2-1\n",
      "         IG vs VG\n",
      "IG tem 87.28 % de chance de vitória.Sendo:\n",
      "60.35 % a de ser 2-0\n",
      "26.94 % a de ser 2-1\n",
      "Enquanto VG tem 12.72 %. Sendo:\n",
      "4.98 % a de ser 2-0\n",
      "7.74 % a de ser 2-1\n",
      "         FPX vs SN\n",
      "FPX tem 46.21 % de chance de vitória.Sendo:\n",
      "22.54 % a de ser 2-0\n",
      "23.68 % a de ser 2-1\n",
      "Enquanto SN tem 53.79 %. Sendo:\n",
      "27.59 % a de ser 2-0\n",
      "26.20 % a de ser 2-1\n",
      "Na semana 10 do campeonato LPL, modelo acertou 10 de 16 jogos, resultando em 62.50% de acerto.\n",
      "No total, o modelo acertou 40 de 60 partidas, resultando em 66.67% de acerto.\n"
     ]
    }
   ],
   "source": [
    "at = 0 \n",
    "et = 0\n",
    "reg = 'LPL'\n",
    "for i in range(max(matches_2020_2[reg].Week)-3, max(matches_2020_2[reg].Week)+1):\n",
    "    a,b = calcular_acertos_em_determinada_semana(reg, matches_2020_2, teams_2020_2, initials_2020, semana = i)\n",
    "    at += a\n",
    "    et += b\n",
    "print(\"No total, o modelo acertou {} de {} partidas, resultando em {:.2f}% de acerto.\".format(at, at+et, 100*at/(at+et)))"
   ]
  },
  {
   "cell_type": "code",
   "execution_count": 129,
   "metadata": {},
   "outputs": [
    {
     "name": "stdout",
     "output_type": "stream",
     "text": [
      "Favor calcular manualmente o resultado.\n",
      "         V5 vs FPX\n",
      "V5 tem 69.62 % de chance de vitória.Sendo:\n",
      "22.47 % a de ser 3-0\n",
      "26.43 % a de ser 3-1\n",
      "20.72 % a de ser 3-2\n",
      "Enquanto FPX tem 30.38 %. Sendo:\n",
      "6.03 % a de ser 3-0\n",
      "10.99 % a de ser 3-1\n",
      "13.36 % a de ser 3-2\n"
     ]
    },
    {
     "data": {
      "text/plain": [
       "0.6962099817282221"
      ]
     },
     "execution_count": 129,
     "metadata": {},
     "output_type": "execute_result"
    }
   ],
   "source": [
    "calcular_acertos_em_determinada_semana('LPL', matches_2020_2, teams_2020_2, initials_2020, play_off_games_to_be_ignored=42)\n",
    "probabilidade('V5', 'FPX', 5) "
   ]
  },
  {
   "cell_type": "code",
   "execution_count": 130,
   "metadata": {},
   "outputs": [
    {
     "name": "stdout",
     "output_type": "stream",
     "text": [
      "Favor calcular manualmente o resultado.\n",
      "         V5 vs FPX\n",
      "V5 tem 60.93 % de chance de vitória.Sendo:\n",
      "17.45 % a de ser 3-0\n",
      "23.10 % a de ser 3-1\n",
      "20.38 % a de ser 3-2\n",
      "Enquanto FPX tem 39.07 %. Sendo:\n",
      "8.59 % a de ser 3-0\n",
      "14.40 % a de ser 3-1\n",
      "16.09 % a de ser 3-2\n"
     ]
    },
    {
     "data": {
      "text/plain": [
       "0.6092921399571158"
      ]
     },
     "execution_count": 130,
     "metadata": {},
     "output_type": "execute_result"
    }
   ],
   "source": [
    "calcular_acertos_em_determinada_semana('LPL', matches_2020_2, teams_2020_2, initials_2020, play_off_games_to_be_ignored=42)\n",
    "probabilidade('V5', 'FPX', 5) "
   ]
  },
  {
   "cell_type": "code",
   "execution_count": 131,
   "metadata": {},
   "outputs": [
    {
     "name": "stdout",
     "output_type": "stream",
     "text": [
      "Favor calcular manualmente o resultado.\n",
      "         LGD vs WE\n",
      "LGD tem 53.47 % de chance de vitória.Sendo:\n",
      "13.94 % a de ser 3-0\n",
      "20.14 % a de ser 3-1\n",
      "19.39 % a de ser 3-2\n",
      "Enquanto WE tem 46.53 %. Sendo:\n",
      "11.16 % a de ser 3-0\n",
      "17.36 % a de ser 3-1\n",
      "18.01 % a de ser 3-2\n"
     ]
    },
    {
     "data": {
      "text/plain": [
       "0.5346773123435172"
      ]
     },
     "execution_count": 131,
     "metadata": {},
     "output_type": "execute_result"
    }
   ],
   "source": [
    "calcular_acertos_em_determinada_semana('LPL', matches_2020_2, teams_2020_2, initials_2020, play_off_games_to_be_ignored=38)\n",
    "probabilidade('LGD', 'WE', 5) "
   ]
  },
  {
   "cell_type": "code",
   "execution_count": 132,
   "metadata": {},
   "outputs": [
    {
     "name": "stdout",
     "output_type": "stream",
     "text": [
      "Favor calcular manualmente o resultado.\n",
      "         SN vs V5\n",
      "SN tem 41.41 % de chance de vitória.Sendo:\n",
      "9.35 % a de ser 3-0\n",
      "15.32 % a de ser 3-1\n",
      "16.73 % a de ser 3-2\n",
      "Enquanto V5 tem 58.59 %. Sendo:\n",
      "16.28 % a de ser 3-0\n",
      "22.18 % a de ser 3-1\n",
      "20.13 % a de ser 3-2\n"
     ]
    },
    {
     "data": {
      "text/plain": [
       "0.4140749181884762"
      ]
     },
     "execution_count": 132,
     "metadata": {},
     "output_type": "execute_result"
    }
   ],
   "source": [
    "calcular_acertos_em_determinada_semana('LPL', matches_2020_2, teams_2020_2, initials_2020, play_off_games_to_be_ignored=34)\n",
    "probabilidade('SN', 'V5', 5) "
   ]
  },
  {
   "cell_type": "code",
   "execution_count": 133,
   "metadata": {},
   "outputs": [
    {
     "name": "stdout",
     "output_type": "stream",
     "text": [
      "Favor calcular manualmente o resultado.\n",
      "         LGD vs IG\n",
      "LGD tem 36.19 % de chance de vitória.Sendo:\n",
      "7.69 % a de ser 3-0\n",
      "13.26 % a de ser 3-1\n",
      "15.24 % a de ser 3-2\n",
      "Enquanto IG tem 63.81 %. Sendo:\n",
      "18.99 % a de ser 3-0\n",
      "24.22 % a de ser 3-1\n",
      "20.60 % a de ser 3-2\n"
     ]
    },
    {
     "data": {
      "text/plain": [
       "0.3618569453684419"
      ]
     },
     "execution_count": 133,
     "metadata": {},
     "output_type": "execute_result"
    }
   ],
   "source": [
    "calcular_acertos_em_determinada_semana('LPL', matches_2020_2, teams_2020_2, initials_2020, play_off_games_to_be_ignored=30)\n",
    "probabilidade('LGD', 'IG', 5) "
   ]
  },
  {
   "cell_type": "code",
   "execution_count": 134,
   "metadata": {},
   "outputs": [
    {
     "name": "stdout",
     "output_type": "stream",
     "text": [
      "Favor calcular manualmente o resultado.\n",
      "         TES vs SN\n",
      "TES tem 59.96 % de chance de vitória.Sendo:\n",
      "16.96 % a de ser 3-0\n",
      "22.72 % a de ser 3-1\n",
      "20.28 % a de ser 3-2\n",
      "Enquanto SN tem 40.04 %. Sendo:\n",
      "8.90 % a de ser 3-0\n",
      "14.78 % a de ser 3-1\n",
      "16.36 % a de ser 3-2\n"
     ]
    },
    {
     "data": {
      "text/plain": [
       "0.5996014460433623"
      ]
     },
     "execution_count": 134,
     "metadata": {},
     "output_type": "execute_result"
    }
   ],
   "source": [
    "calcular_acertos_em_determinada_semana('LPL', matches_2020_2, teams_2020_2, initials_2020, play_off_games_to_be_ignored=27)\n",
    "probabilidade('TES', 'SN', 5) "
   ]
  },
  {
   "cell_type": "code",
   "execution_count": 135,
   "metadata": {},
   "outputs": [
    {
     "name": "stdout",
     "output_type": "stream",
     "text": [
      "Favor calcular manualmente o resultado.\n",
      "         JDG vs LGD\n",
      "JDG tem 72.56 % de chance de vitória.Sendo:\n",
      "24.47 % a de ser 3-0\n",
      "27.50 % a de ser 3-1\n",
      "20.59 % a de ser 3-2\n",
      "Enquanto LGD tem 27.44 %. Sendo:\n",
      "5.25 % a de ser 3-0\n",
      "9.86 % a de ser 3-1\n",
      "12.33 % a de ser 3-2\n"
     ]
    },
    {
     "data": {
      "text/plain": [
       "0.7256382499906191"
      ]
     },
     "execution_count": 135,
     "metadata": {},
     "output_type": "execute_result"
    }
   ],
   "source": [
    "calcular_acertos_em_determinada_semana('LPL', matches_2020_2, teams_2020_2, initials_2020, play_off_games_to_be_ignored=24)\n",
    "probabilidade('JDG', 'LGD', 5) "
   ]
  },
  {
   "cell_type": "code",
   "execution_count": 136,
   "metadata": {},
   "outputs": [
    {
     "name": "stdout",
     "output_type": "stream",
     "text": [
      "Favor calcular manualmente o resultado.\n",
      "         SN vs LGD\n",
      "SN tem 44.43 % de chance de vitória.Sendo:\n",
      "10.40 % a de ser 3-0\n",
      "16.52 % a de ser 3-1\n",
      "17.51 % a de ser 3-2\n",
      "Enquanto LGD tem 55.57 %. Sendo:\n",
      "14.87 % a de ser 3-0\n",
      "20.98 % a de ser 3-1\n",
      "19.73 % a de ser 3-2\n"
     ]
    },
    {
     "data": {
      "text/plain": [
       "0.4442838488265523"
      ]
     },
     "execution_count": 136,
     "metadata": {},
     "output_type": "execute_result"
    }
   ],
   "source": [
    "calcular_acertos_em_determinada_semana('LPL', matches_2020_2, teams_2020_2, initials_2020, play_off_games_to_be_ignored=20)\n",
    "probabilidade('SN', 'LGD', 5) "
   ]
  },
  {
   "cell_type": "code",
   "execution_count": 137,
   "metadata": {},
   "outputs": [
    {
     "name": "stdout",
     "output_type": "stream",
     "text": [
      "Favor calcular manualmente o resultado.\n",
      "         TES vs JDG\n",
      "TES tem 46.81 % de chance de vitória.Sendo:\n",
      "11.27 % a de ser 3-0\n",
      "17.47 % a de ser 3-1\n",
      "18.07 % a de ser 3-2\n",
      "Enquanto JDG tem 53.19 %. Sendo:\n",
      "13.82 % a de ser 3-0\n",
      "20.03 % a de ser 3-1\n",
      "19.34 % a de ser 3-2\n"
     ]
    },
    {
     "data": {
      "text/plain": [
       "0.4680823404545624"
      ]
     },
     "execution_count": 137,
     "metadata": {},
     "output_type": "execute_result"
    }
   ],
   "source": [
    "calcular_acertos_em_determinada_semana('LPL', matches_2020_2, teams_2020_2, initials_2020, play_off_games_to_be_ignored=17)\n",
    "probabilidade('TES', 'JDG', 5) "
   ]
  },
  {
   "cell_type": "code",
   "execution_count": 138,
   "metadata": {},
   "outputs": [
    {
     "name": "stdout",
     "output_type": "stream",
     "text": [
      "Favor calcular manualmente o resultado.\n",
      "         SN vs LGD\n",
      "SN tem 65.78 % de chance de vitória.Sendo:\n",
      "20.10 % a de ser 3-0\n",
      "24.98 % a de ser 3-1\n",
      "20.69 % a de ser 3-2\n",
      "Enquanto LGD tem 34.22 %. Sendo:\n",
      "7.11 % a de ser 3-0\n",
      "12.49 % a de ser 3-1\n",
      "14.63 % a de ser 3-2\n"
     ]
    },
    {
     "data": {
      "text/plain": [
       "0.6577533365226949"
      ]
     },
     "execution_count": 138,
     "metadata": {},
     "output_type": "execute_result"
    }
   ],
   "source": [
    "calcular_acertos_em_determinada_semana('LPL', matches_2020_2, teams_2020_2, initials_2020, play_off_games_to_be_ignored=12)\n",
    "probabilidade('SN', 'LGD', 5) "
   ]
  },
  {
   "cell_type": "code",
   "execution_count": 139,
   "metadata": {},
   "outputs": [
    {
     "name": "stdout",
     "output_type": "stream",
     "text": [
      "Favor calcular manualmente o resultado.\n",
      "         IG vs FPX\n",
      "IG tem 58.63 % de chance de vitória.Sendo:\n",
      "16.30 % a de ser 3-0\n",
      "22.19 % a de ser 3-1\n",
      "20.14 % a de ser 3-2\n",
      "Enquanto FPX tem 41.37 %. Sendo:\n",
      "9.34 % a de ser 3-0\n",
      "15.31 % a de ser 3-1\n",
      "16.72 % a de ser 3-2\n"
     ]
    },
    {
     "data": {
      "text/plain": [
       "0.5862871661932598"
      ]
     },
     "execution_count": 139,
     "metadata": {},
     "output_type": "execute_result"
    }
   ],
   "source": [
    "calcular_acertos_em_determinada_semana('LPL', matches_2020_2, teams_2020_2, initials_2020, play_off_games_to_be_ignored=9)\n",
    "probabilidade('IG', 'FPX', 5) "
   ]
  },
  {
   "cell_type": "code",
   "execution_count": 140,
   "metadata": {},
   "outputs": [
    {
     "name": "stdout",
     "output_type": "stream",
     "text": [
      "Favor calcular manualmente o resultado.\n",
      "         LGD vs IG\n",
      "LGD tem 43.60 % de chance de vitória.Sendo:\n",
      "10.10 % a de ser 3-0\n",
      "16.19 % a de ser 3-1\n",
      "17.30 % a de ser 3-2\n",
      "Enquanto IG tem 56.40 %. Sendo:\n",
      "15.25 % a de ser 3-0\n",
      "21.31 % a de ser 3-1\n",
      "19.85 % a de ser 3-2\n"
     ]
    },
    {
     "data": {
      "text/plain": [
       "0.4359892762204449"
      ]
     },
     "execution_count": 140,
     "metadata": {},
     "output_type": "execute_result"
    }
   ],
   "source": [
    "calcular_acertos_em_determinada_semana('LPL', matches_2020_2, teams_2020_2, initials_2020, play_off_games_to_be_ignored=4)\n",
    "probabilidade('LGD', 'IG', 5) "
   ]
  },
  {
   "cell_type": "markdown",
   "metadata": {},
   "source": [
    "### LCK 2-2"
   ]
  },
  {
   "cell_type": "code",
   "execution_count": 151,
   "metadata": {},
   "outputs": [
    {
     "name": "stdout",
     "output_type": "stream",
     "text": [
      "         AF vs HLE\n",
      "AF tem 96.85 % de chance de vitória.Sendo:\n",
      "79.87 % a de ser 2-0\n",
      "16.98 % a de ser 2-1\n",
      "Enquanto HLE tem 3.15 %. Sendo:\n",
      "1.13 % a de ser 2-0\n",
      "2.02 % a de ser 2-1\n",
      "         DWG vs DRX\n",
      "DWG tem 68.75 % de chance de vitória.Sendo:\n",
      "39.41 % a de ser 2-0\n",
      "29.34 % a de ser 2-1\n",
      "Enquanto DRX tem 31.25 %. Sendo:\n",
      "13.86 % a de ser 2-0\n",
      "17.40 % a de ser 2-1\n",
      "         T1 vs KT\n",
      "T1 tem 64.14 % de chance de vitória.Sendo:\n",
      "35.45 % a de ser 2-0\n",
      "28.69 % a de ser 2-1\n",
      "Enquanto KT tem 35.86 %. Sendo:\n",
      "16.37 % a de ser 2-0\n",
      "19.49 % a de ser 2-1\n",
      "         DYN vs SB\n",
      "DYN tem 48.49 % de chance de vitória.Sendo:\n",
      "24.00 % a de ser 2-0\n",
      "24.48 % a de ser 2-1\n",
      "Enquanto SB tem 51.51 %. Sendo:\n",
      "26.02 % a de ser 2-0\n",
      "25.49 % a de ser 2-1\n",
      "         GEN vs SP\n",
      "GEN tem 99.84 % de chance de vitória.Sendo:\n",
      "95.37 % a de ser 2-0\n",
      "4.47 % a de ser 2-1\n",
      "Enquanto SP tem 0.16 %. Sendo:\n",
      "0.05 % a de ser 2-0\n",
      "0.11 % a de ser 2-1\n",
      "         DRX vs AF\n",
      "DRX tem 88.12 % de chance de vitória.Sendo:\n",
      "61.63 % a de ser 2-0\n",
      "26.50 % a de ser 2-1\n",
      "Enquanto AF tem 11.88 %. Sendo:\n",
      "4.62 % a de ser 2-0\n",
      "7.25 % a de ser 2-1\n",
      "         DWG vs HLE\n",
      "DWG tem 99.89 % de chance de vitória.Sendo:\n",
      "96.25 % a de ser 2-0\n",
      "3.65 % a de ser 2-1\n",
      "Enquanto HLE tem 0.11 %. Sendo:\n",
      "0.04 % a de ser 2-0\n",
      "0.07 % a de ser 2-1\n",
      "         T1 vs SB\n",
      "T1 tem 77.90 % de chance de vitória.Sendo:\n",
      "48.45 % a de ser 2-0\n",
      "29.45 % a de ser 2-1\n",
      "Enquanto SB tem 22.10 %. Sendo:\n",
      "9.24 % a de ser 2-0\n",
      "12.86 % a de ser 2-1\n",
      "Na semana 7 do campeonato LCK, modelo acertou 8 de 8 jogos, resultando em 100.00% de acerto.\n",
      "         DWG vs GEN\n",
      "DWG tem 77.63 % de chance de vitória.Sendo:\n",
      "48.15 % a de ser 2-0\n",
      "29.48 % a de ser 2-1\n",
      "Enquanto GEN tem 22.37 %. Sendo:\n",
      "9.37 % a de ser 2-0\n",
      "13.00 % a de ser 2-1\n",
      "         T1 vs SP\n",
      "T1 tem 99.39 % de chance de vitória.Sendo:\n",
      "91.08 % a de ser 2-0\n",
      "8.32 % a de ser 2-1\n",
      "Enquanto SP tem 0.61 %. Sendo:\n",
      "0.21 % a de ser 2-0\n",
      "0.40 % a de ser 2-1\n",
      "         AF vs DYN\n",
      "AF tem 78.15 % de chance de vitória.Sendo:\n",
      "48.72 % a de ser 2-0\n",
      "29.43 % a de ser 2-1\n",
      "Enquanto DYN tem 21.85 %. Sendo:\n",
      "9.12 % a de ser 2-0\n",
      "12.73 % a de ser 2-1\n",
      "         KT vs HLE\n",
      "KT tem 94.93 % de chance de vitória.Sendo:\n",
      "74.58 % a de ser 2-0\n",
      "20.35 % a de ser 2-1\n",
      "Enquanto HLE tem 5.07 %. Sendo:\n",
      "1.86 % a de ser 2-0\n",
      "3.21 % a de ser 2-1\n",
      "         DRX vs SB\n",
      "DRX tem 96.45 % de chance de vitória.Sendo:\n",
      "78.65 % a de ser 2-0\n",
      "17.80 % a de ser 2-1\n",
      "Enquanto SB tem 3.55 %. Sendo:\n",
      "1.28 % a de ser 2-0\n",
      "2.27 % a de ser 2-1\n",
      "         DWG vs SP\n",
      "DWG tem 99.98 % de chance de vitória.Sendo:\n",
      "98.30 % a de ser 2-0\n",
      "1.68 % a de ser 2-1\n",
      "Enquanto SP tem 0.02 %. Sendo:\n",
      "0.01 % a de ser 2-0\n",
      "0.01 % a de ser 2-1\n",
      "         T1 vs DYN\n",
      "T1 tem 89.35 % de chance de vitória.Sendo:\n",
      "63.59 % a de ser 2-0\n",
      "25.76 % a de ser 2-1\n",
      "Enquanto DYN tem 10.65 %. Sendo:\n",
      "4.10 % a de ser 2-0\n",
      "6.54 % a de ser 2-1\n",
      "         KT vs GEN\n",
      "KT tem 5.32 % de chance de vitória.Sendo:\n",
      "1.96 % a de ser 2-0\n",
      "3.37 % a de ser 2-1\n",
      "Enquanto GEN tem 94.68 %. Sendo:\n",
      "73.97 % a de ser 2-0\n",
      "20.70 % a de ser 2-1\n",
      "Na semana 8 do campeonato LCK, modelo acertou 7 de 8 jogos, resultando em 87.50% de acerto.\n",
      "         SB vs GEN\n",
      "SB tem 3.53 % de chance de vitória.Sendo:\n",
      "1.27 % a de ser 2-0\n",
      "2.26 % a de ser 2-1\n",
      "Enquanto GEN tem 96.47 %. Sendo:\n",
      "78.71 % a de ser 2-0\n",
      "17.76 % a de ser 2-1\n",
      "         T1 vs AF\n",
      "T1 tem 73.69 % de chance de vitória.Sendo:\n",
      "44.06 % a de ser 2-0\n",
      "29.63 % a de ser 2-1\n",
      "Enquanto AF tem 26.31 %. Sendo:\n",
      "11.31 % a de ser 2-0\n",
      "15.01 % a de ser 2-1\n",
      "         KT vs SP\n",
      "KT tem 96.68 % de chance de vitória.Sendo:\n",
      "79.33 % a de ser 2-0\n",
      "17.35 % a de ser 2-1\n",
      "Enquanto SP tem 3.32 %. Sendo:\n",
      "1.20 % a de ser 2-0\n",
      "2.13 % a de ser 2-1\n",
      "         DRX vs HLE\n",
      "DRX tem 99.65 % de chance de vitória.Sendo:\n",
      "93.17 % a de ser 2-0\n",
      "6.48 % a de ser 2-1\n",
      "Enquanto HLE tem 0.35 %. Sendo:\n",
      "0.12 % a de ser 2-0\n",
      "0.23 % a de ser 2-1\n",
      "         DWG vs DYN\n",
      "DWG tem 99.44 % de chance de vitória.Sendo:\n",
      "91.46 % a de ser 2-0\n",
      "7.99 % a de ser 2-1\n",
      "Enquanto DYN tem 0.56 %. Sendo:\n",
      "0.19 % a de ser 2-0\n",
      "0.36 % a de ser 2-1\n",
      "         AF vs SB\n",
      "AF tem 75.55 % de chance de vitória.Sendo:\n",
      "45.94 % a de ser 2-0\n",
      "29.60 % a de ser 2-1\n",
      "Enquanto SB tem 24.45 %. Sendo:\n",
      "10.38 % a de ser 2-0\n",
      "14.07 % a de ser 2-1\n",
      "         GEN vs HLE\n",
      "GEN tem 99.60 % de chance de vitória.Sendo:\n",
      "92.75 % a de ser 2-0\n",
      "6.85 % a de ser 2-1\n",
      "Enquanto HLE tem 0.40 %. Sendo:\n",
      "0.14 % a de ser 2-0\n",
      "0.26 % a de ser 2-1\n",
      "         DRX vs SP\n",
      "DRX tem 99.87 % de chance de vitória.Sendo:\n",
      "95.79 % a de ser 2-0\n",
      "4.07 % a de ser 2-1\n",
      "Enquanto SP tem 0.13 %. Sendo:\n",
      "0.05 % a de ser 2-0\n",
      "0.09 % a de ser 2-1\n",
      "Na semana 9 do campeonato LCK, modelo acertou 7 de 8 jogos, resultando em 87.50% de acerto.\n",
      "         DWG vs T1\n",
      "DWG tem 87.95 % de chance de vitória.Sendo:\n",
      "61.36 % a de ser 2-0\n",
      "26.59 % a de ser 2-1\n",
      "Enquanto T1 tem 12.05 %. Sendo:\n",
      "4.70 % a de ser 2-0\n",
      "7.36 % a de ser 2-1\n",
      "         AF vs KT\n",
      "AF tem 57.70 % de chance de vitória.Sendo:\n",
      "30.41 % a de ser 2-0\n",
      "27.28 % a de ser 2-1\n",
      "Enquanto KT tem 42.30 %. Sendo:\n",
      "20.12 % a de ser 2-0\n",
      "22.19 % a de ser 2-1\n",
      "         SB vs HLE\n",
      "SB tem 88.58 % de chance de vitória.Sendo:\n",
      "62.35 % a de ser 2-0\n",
      "26.24 % a de ser 2-1\n",
      "Enquanto HLE tem 11.42 %. Sendo:\n",
      "4.43 % a de ser 2-0\n",
      "6.99 % a de ser 2-1\n",
      "         DYN vs SP\n",
      "DYN tem 87.19 % de chance de vitória.Sendo:\n",
      "60.21 % a de ser 2-0\n",
      "26.98 % a de ser 2-1\n",
      "Enquanto SP tem 12.81 %. Sendo:\n",
      "5.02 % a de ser 2-0\n",
      "7.79 % a de ser 2-1\n",
      "         GEN vs AF\n",
      "GEN tem 88.23 % de chance de vitória.Sendo:\n",
      "61.79 % a de ser 2-0\n",
      "26.44 % a de ser 2-1\n",
      "Enquanto AF tem 11.77 %. Sendo:\n",
      "4.58 % a de ser 2-0\n",
      "7.19 % a de ser 2-1\n",
      "         DWG vs KT\n",
      "DWG tem 98.16 % de chance de vitória.Sendo:\n",
      "84.53 % a de ser 2-0\n",
      "13.63 % a de ser 2-1\n",
      "Enquanto KT tem 1.84 %. Sendo:\n",
      "0.65 % a de ser 2-0\n",
      "1.19 % a de ser 2-1\n",
      "         DRX vs T1\n",
      "DRX tem 58.83 % de chance de vitória.Sendo:\n",
      "31.27 % a de ser 2-0\n",
      "27.57 % a de ser 2-1\n",
      "Enquanto T1 tem 41.17 %. Sendo:\n",
      "19.43 % a de ser 2-0\n",
      "21.73 % a de ser 2-1\n",
      "         DYN vs HLE\n",
      "DYN tem 82.92 % de chance de vitória.Sendo:\n",
      "54.36 % a de ser 2-0\n",
      "28.56 % a de ser 2-1\n",
      "Enquanto HLE tem 17.08 %. Sendo:\n",
      "6.90 % a de ser 2-0\n",
      "10.18 % a de ser 2-1\n",
      "Na semana 10 do campeonato LCK, modelo acertou 8 de 8 jogos, resultando em 100.00% de acerto.\n",
      "No total, o modelo acertou 30 de 32 partidas, resultando em 93.75% de acerto.\n"
     ]
    }
   ],
   "source": [
    "at = 0\n",
    "et = 0\n",
    "reg = 'LCK'\n",
    "for i in range(max(matches_2020_2[reg].Week)-3, max(matches_2020_2[reg].Week)+1):\n",
    "    a,b = calcular_acertos_em_determinada_semana(reg, matches_2020_2, teams_2020_2, initials_2020, semana = i)\n",
    "    at += a\n",
    "    et += b\n",
    "print(\"No total, o modelo acertou {} de {} partidas, resultando em {:.2f}% de acerto.\".format(at, at+et, 100*at/(at+et)))"
   ]
  },
  {
   "cell_type": "code",
   "execution_count": 9,
   "metadata": {},
   "outputs": [
    {
     "data": {
      "text/plain": [
       "{'T1': 0.3958168651076814,\n",
       " 'DRX': 0.5750983681282066,\n",
       " 'SP': 0.020730355526228345,\n",
       " 'DYN': 0.07240573420205461,\n",
       " 'HLE': 0.03538411873750461,\n",
       " 'AF': 0.1865912522430374,\n",
       " 'GEN': 0.7113056489561158,\n",
       " 'SB': 0.11898952150048898,\n",
       " 'DWG': 2.747889454471992,\n",
       " 'KT': 0.1357886960278523}"
      ]
     },
     "execution_count": 9,
     "metadata": {},
     "output_type": "execute_result"
    }
   ],
   "source": [
    "estimar_proficiencias('LCK', matches_2020_2, teams_2020_2, initials_2020)\n",
    "proficiencia['KR']"
   ]
  },
  {
   "cell_type": "code",
   "execution_count": 5,
   "metadata": {},
   "outputs": [
    {
     "name": "stdout",
     "output_type": "stream",
     "text": [
      "         DRX vs DWG\n",
      "DRX tem 7.96 % de chance de vitória.Sendo:\n",
      "1.15 % a de ser 3-0\n",
      "2.67 % a de ser 3-1\n",
      "4.14 % a de ser 3-2\n",
      "Enquanto DWG tem 92.04 %. Sendo:\n",
      "46.42 % a de ser 3-0\n",
      "31.43 % a de ser 3-1\n",
      "14.19 % a de ser 3-2\n"
     ]
    },
    {
     "data": {
      "text/plain": [
       "0.07959957918170515"
      ]
     },
     "execution_count": 5,
     "metadata": {},
     "output_type": "execute_result"
    }
   ],
   "source": [
    "probabilidade('DRX', 'DWG', 5) #OK"
   ]
  },
  {
   "cell_type": "code",
   "execution_count": 10,
   "metadata": {},
   "outputs": [
    {
     "name": "stdout",
     "output_type": "stream",
     "text": [
      "         KT vs AF\n",
      "KT tem 35.47 % de chance de vitória.Sendo:\n",
      "7.47 % a de ser 3-0\n",
      "12.98 % a de ser 3-1\n",
      "15.02 % a de ser 3-2\n",
      "Enquanto AF tem 64.53 %. Sendo:\n",
      "19.39 % a de ser 3-0\n",
      "24.50 % a de ser 3-1\n",
      "20.64 % a de ser 3-2\n"
     ]
    },
    {
     "data": {
      "text/plain": [
       "0.35469079922392144"
      ]
     },
     "execution_count": 10,
     "metadata": {},
     "output_type": "execute_result"
    }
   ],
   "source": [
    "probabilidade('KT', 'AF', 5) #OK"
   ]
  }
 ],
 "metadata": {
  "kernelspec": {
   "display_name": "Python 3",
   "language": "python",
   "name": "python3"
  },
  "language_info": {
   "codemirror_mode": {
    "name": "ipython",
    "version": 3
   },
   "file_extension": ".py",
   "mimetype": "text/x-python",
   "name": "python",
   "nbconvert_exporter": "python",
   "pygments_lexer": "ipython3",
   "version": "3.8.3"
  }
 },
 "nbformat": 4,
 "nbformat_minor": 2
}
