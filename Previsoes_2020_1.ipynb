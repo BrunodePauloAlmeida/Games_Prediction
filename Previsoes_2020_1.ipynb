{
 "cells": [
  {
   "cell_type": "code",
   "execution_count": 11,
   "metadata": {},
   "outputs": [],
   "source": [
    "% run likelihood.ipynb\n",
    "% run importing_matches.ipynb"
   ]
  },
  {
   "cell_type": "code",
   "execution_count": 12,
   "metadata": {},
   "outputs": [],
   "source": [
    "matches_2020_1 = {}\n",
    "teams_2020_1 = {}\n",
    "initials_2020 = {'CBL': 'BR', 'LCK': 'KR', 'LCL': 'CIS', 'LCS': 'NA',\n",
    "                 'LEC': 'EU', 'LJL': 'JPN', 'LLA': 'LA', 'LPL': 'CN',\n",
    "                 'OPL': 'OCENIA', 'PCS': 'TWHKMA', 'TCL': 'TRK', 'VCS': 'VN'}\n",
    "importing_all_matches('2020', matches_2020_1, teams_2020_1, all_matches=False)"
   ]
  },
  {
   "cell_type": "code",
   "execution_count": 13,
   "metadata": {},
   "outputs": [
    {
     "name": "stdout",
     "output_type": "stream",
     "text": [
      "{'PNG': 0.48949700654780565, 'PRG': 0.5600848109084067, 'VK': 1.0155352218500677, 'RDP': 0.24220096581981077, 'KBM': 0.8611985920865739, 'FUR': 0.6400020294601072, 'ITZ': 0.4045248581819541, 'FLA': 0.7869565300464356}\n"
     ]
    }
   ],
   "source": [
    "estimar_proficiencias('CBL', matches_2020_1, teams_2020_1, initials_2020)\n",
    "proficiencia['BR']"
   ]
  },
  {
   "cell_type": "code",
   "execution_count": null,
   "metadata": {},
   "outputs": [],
   "source": [
    "#CBLOL: 1-1"
   ]
  }
 ],
 "metadata": {
  "kernelspec": {
   "display_name": "Python 3",
   "language": "python",
   "name": "python3"
  },
  "language_info": {
   "codemirror_mode": {
    "name": "ipython",
    "version": 3
   },
   "file_extension": ".py",
   "mimetype": "text/x-python",
   "name": "python",
   "nbconvert_exporter": "python",
   "pygments_lexer": "ipython3",
   "version": "3.8.3"
  }
 },
 "nbformat": 4,
 "nbformat_minor": 2
}
