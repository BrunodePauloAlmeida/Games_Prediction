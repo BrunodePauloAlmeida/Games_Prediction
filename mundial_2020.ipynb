{
 "cells": [
  {
   "cell_type": "code",
   "execution_count": 1,
   "metadata": {},
   "outputs": [],
   "source": [
    "%run likelihood.ipynb\n",
    "%run importing_matches.ipynb"
   ]
  },
  {
   "cell_type": "code",
   "execution_count": 2,
   "metadata": {},
   "outputs": [],
   "source": [
    "matches_2020_2 = {}\n",
    "teams_2020_2 = {}\n",
    "initials_2020 = {'CBL': 'BR', 'LCK': 'KR', 'LCL': 'CIS', 'LCS': 'NA',\n",
    "                 'LEC': 'EU', 'LJL': 'JPN', 'LLA': 'LA', 'LPL': 'CN',\n",
    "                 'OPL': 'OCEANIA', 'PCS': 'TWHKMA', 'TCL': 'TRK', 'VCS': 'VN'}\n",
    "importing_all_matches('2020_2', matches_2020_2, teams_2020_2, all_matches=True)"
   ]
  },
  {
   "cell_type": "code",
   "execution_count": 3,
   "metadata": {},
   "outputs": [],
   "source": [
    "Times = update_teams(teams_2020_2, initials_2020)"
   ]
  },
  {
   "cell_type": "markdown",
   "metadata": {},
   "source": [
    "### Times e proficiencias"
   ]
  },
  {
   "cell_type": "code",
   "execution_count": 5,
   "metadata": {},
   "outputs": [],
   "source": [
    "#Calculando todas as proficiencias\n",
    "for cship in initials_2020.keys():\n",
    "    estimar_proficiencias(cship, matches_2020_2, teams_2020_2, initials_2020)"
   ]
  },
  {
   "cell_type": "code",
   "execution_count": 6,
   "metadata": {},
   "outputs": [
    {
     "data": {
      "text/plain": [
       "{'ITZ': 0.9629800803796262,\n",
       " 'PNG': 0.8375053694886019,\n",
       " 'KBM': 0.7323704644998522,\n",
       " 'PRG': 0.7315696576817127,\n",
       " 'FLA': 0.5702893062867992,\n",
       " 'SAN': 0.5335753149391895,\n",
       " 'FUR': 0.36738804081467985,\n",
       " 'VK': 0.2643217808106991}"
      ]
     },
     "execution_count": 6,
     "metadata": {},
     "output_type": "execute_result"
    }
   ],
   "source": [
    "#Brasil\n",
    "x = proficiencia['BR']\n",
    "{k: v for k, v in sorted(x.items(), key=lambda item: item[1], reverse = True)}"
   ]
  },
  {
   "cell_type": "code",
   "execution_count": 7,
   "metadata": {},
   "outputs": [
    {
     "data": {
      "text/plain": [
       "{'DWG': 2.7431596117968464,\n",
       " 'GEN': 0.8149419820847532,\n",
       " 'DRX': 0.5702511873918567,\n",
       " 'T1': 0.3470827346670385,\n",
       " 'AF': 0.19273828365278373,\n",
       " 'SB': 0.11133426667731856,\n",
       " 'KT': 0.10291196443311199,\n",
       " 'DYN': 0.06656124749801165,\n",
       " 'HLE': 0.0321498443000587,\n",
       " 'SP': 0.018868892399381585}"
      ]
     },
     "execution_count": 7,
     "metadata": {},
     "output_type": "execute_result"
    }
   ],
   "source": [
    "#Coreia do Sul\n",
    "x = proficiencia['KR']\n",
    "{k: v for k, v in sorted(x.items(), key=lambda item: item[1], reverse = True)}"
   ]
  },
  {
   "cell_type": "code",
   "execution_count": 8,
   "metadata": {},
   "outputs": [
    {
     "data": {
      "text/plain": [
       "{'UOL': 3.6261038354265365,\n",
       " 'GMB': 1.170793687200967,\n",
       " 'CC': 0.12357096592884705,\n",
       " 'OBG': 0.05909888025214937,\n",
       " 'DA': 0.014478708602978296,\n",
       " 'ROX': 0.003953949436026403,\n",
       " 'EPG': 0.001,\n",
       " 'VEG': 0.001}"
      ]
     },
     "execution_count": 8,
     "metadata": {},
     "output_type": "execute_result"
    }
   ],
   "source": [
    "#Russia\n",
    "x = proficiencia['CIS']\n",
    "{k: v for k, v in sorted(x.items(), key=lambda item: item[1], reverse = True)}"
   ]
  },
  {
   "cell_type": "code",
   "execution_count": 9,
   "metadata": {},
   "outputs": [
    {
     "data": {
      "text/plain": [
       "{'TL': 1.2196265428078708,\n",
       " 'TSM': 0.9346149346504772,\n",
       " 'FLY': 0.9157736646548171,\n",
       " 'C9': 0.6289856098212555,\n",
       " 'GG': 0.5462797674891675,\n",
       " 'EG': 0.301043606268655,\n",
       " '100': 0.15038967821513027,\n",
       " 'DIG': 0.13693504860550287,\n",
       " 'IMT': 0.09404350109411383,\n",
       " 'CLG': 0.07230764639301059}"
      ]
     },
     "execution_count": 9,
     "metadata": {},
     "output_type": "execute_result"
    }
   ],
   "source": [
    "#America do Norte\n",
    "x = proficiencia['NA']\n",
    "{k: v for k, v in sorted(x.items(), key=lambda item: item[1], reverse = True)}"
   ]
  },
  {
   "cell_type": "code",
   "execution_count": 10,
   "metadata": {},
   "outputs": [
    {
     "data": {
      "text/plain": [
       "{'G2': 1.0240222938666719,\n",
       " 'RGE': 0.7977473696005112,\n",
       " 'FNC': 0.6786182999259275,\n",
       " 'MAD': 0.5644290583879055,\n",
       " 'S04': 0.5404509113309893,\n",
       " 'XL': 0.38104611796973464,\n",
       " 'SK': 0.3000659559952428,\n",
       " 'VIT': 0.2685855748754503,\n",
       " 'MSF': 0.2639613106607791,\n",
       " 'OG': 0.18107312228794842}"
      ]
     },
     "execution_count": 10,
     "metadata": {},
     "output_type": "execute_result"
    }
   ],
   "source": [
    "#Europa\n",
    "x = proficiencia['EU']\n",
    "{k: v for k, v in sorted(x.items(), key=lambda item: item[1], reverse = True)}"
   ]
  },
  {
   "cell_type": "code",
   "execution_count": 11,
   "metadata": {},
   "outputs": [
    {
     "data": {
      "text/plain": [
       "{'V3': 1.7896287602974814,\n",
       " 'DFM': 0.9491830276155975,\n",
       " 'SG': 0.6425549881999655,\n",
       " 'CGA': 0.6385124929246523,\n",
       " 'BC': 0.4045806625640189,\n",
       " 'SHG': 0.3711345043634981,\n",
       " 'AXZ': 0.13484577113086207,\n",
       " 'RJ': 0.06955980780508628}"
      ]
     },
     "execution_count": 11,
     "metadata": {},
     "output_type": "execute_result"
    }
   ],
   "source": [
    "#Japao\n",
    "x = proficiencia['JPN']\n",
    "{k: v for k, v in sorted(x.items(), key=lambda item: item[1], reverse = True)}"
   ]
  },
  {
   "cell_type": "code",
   "execution_count": 12,
   "metadata": {},
   "outputs": [
    {
     "data": {
      "text/plain": [
       "{'AK': 1.2828362200014487,\n",
       " 'R7': 1.0279620656883937,\n",
       " 'ISG': 0.7821404873091183,\n",
       " 'INF': 0.5611262410864708,\n",
       " 'UCH': 0.502673879416484,\n",
       " 'FG': 0.35280340790896175,\n",
       " 'PIX': 0.2489767436183952,\n",
       " 'XTN': 0.24148096987188847}"
      ]
     },
     "execution_count": 12,
     "metadata": {},
     "output_type": "execute_result"
    }
   ],
   "source": [
    "#America Latina\n",
    "x = proficiencia['LA']\n",
    "{k: v for k, v in sorted(x.items(), key=lambda item: item[1], reverse = True)}"
   ]
  },
  {
   "cell_type": "code",
   "execution_count": 13,
   "metadata": {},
   "outputs": [
    {
     "data": {
      "text/plain": [
       "{'TES': 0.7358780240436512,\n",
       " 'JDG': 0.6519702143742366,\n",
       " 'SN': 0.5025517429555589,\n",
       " 'V5': 0.4154793933924898,\n",
       " 'EDG': 0.32378934457605824,\n",
       " 'LGD': 0.3170331584111914,\n",
       " 'IG': 0.303994930731131,\n",
       " 'RNG': 0.2889115134344369,\n",
       " 'FPX': 0.2593010766060803,\n",
       " 'WE': 0.24189440760546374,\n",
       " 'VG': 0.21517557105504223,\n",
       " 'BLG': 0.21237711952705748,\n",
       " 'LNG': 0.15103986877190367,\n",
       " 'OMG': 0.13144007055335113,\n",
       " 'ES': 0.10329859344836795,\n",
       " 'RW': 0.10247540229858211,\n",
       " 'DMO': 0.04338958311655684}"
      ]
     },
     "execution_count": 13,
     "metadata": {},
     "output_type": "execute_result"
    }
   ],
   "source": [
    "#China\n",
    "x = proficiencia['CN']\n",
    "{k: v for k, v in sorted(x.items(), key=lambda item: item[1], reverse = True)}"
   ]
  },
  {
   "cell_type": "code",
   "execution_count": 14,
   "metadata": {},
   "outputs": [
    {
     "data": {
      "text/plain": [
       "{'LGC': 2.113924947729298,\n",
       " 'ORD': 1.076077366736675,\n",
       " 'CHF': 0.6749295387892079,\n",
       " 'DW': 0.42858112883890115,\n",
       " 'PGG': 0.39641777650631904,\n",
       " 'AV': 0.17351021336598368,\n",
       " 'MMM': 0.12713520175779042,\n",
       " 'GRV': 0.009423841176985845}"
      ]
     },
     "execution_count": 14,
     "metadata": {},
     "output_type": "execute_result"
    }
   ],
   "source": [
    "#Oceania\n",
    "x = proficiencia['OCEANIA']\n",
    "{k: v for k, v in sorted(x.items(), key=lambda item: item[1], reverse = True)}"
   ]
  },
  {
   "cell_type": "code",
   "execution_count": 15,
   "metadata": {},
   "outputs": [
    {
     "data": {
      "text/plain": [
       "{'MCX': 1.525156078428026,\n",
       " 'PSG': 1.0816262923931195,\n",
       " 'JT': 1.0140845771387519,\n",
       " 'AHQ': 0.7420913570679424,\n",
       " 'BJD': 0.17324243933094371,\n",
       " 'ALF': 0.1458361819558932,\n",
       " 'NOV': 0.13619572118095938,\n",
       " 'HKA': 0.08238999303877495,\n",
       " 'LYB': 0.056718674084325155,\n",
       " 'RSG': 0.04265870028242523}"
      ]
     },
     "execution_count": 15,
     "metadata": {},
     "output_type": "execute_result"
    }
   ],
   "source": [
    "#Tigres Asiaticos - Honk Kong, Taiwan, Macau\n",
    "x = proficiencia['TWHKMA']\n",
    "{k: v for k, v in sorted(x.items(), key=lambda item: item[1], reverse = True)}"
   ]
  },
  {
   "cell_type": "code",
   "execution_count": 16,
   "metadata": {},
   "outputs": [
    {
     "data": {
      "text/plain": [
       "{'IW': 1.402654830705409,\n",
       " 'SUP': 0.9767474638136145,\n",
       " 'GAL': 0.7876786451674725,\n",
       " '5R': 0.7795371463646501,\n",
       " 'DP': 0.31094005823742255,\n",
       " 'GS': 0.25348963240580946,\n",
       " 'BJK': 0.21710755667991452,\n",
       " 'FB': 0.20012464690484502,\n",
       " 'AUR': 0.047068242934320985,\n",
       " 'RYL': 0.024651791687702772}"
      ]
     },
     "execution_count": 16,
     "metadata": {},
     "output_type": "execute_result"
    }
   ],
   "source": [
    "#Turquia\n",
    "x = proficiencia['TRK']\n",
    "{k: v for k, v in sorted(x.items(), key=lambda item: item[1], reverse = True)}"
   ]
  },
  {
   "cell_type": "code",
   "execution_count": 17,
   "metadata": {},
   "outputs": [
    {
     "data": {
      "text/plain": [
       "{'FL': 1.3880230399528712,\n",
       " 'GAM': 1.2050363871161542,\n",
       " 'EVS': 0.8940016898218998,\n",
       " 'CES': 0.5288004916764827,\n",
       " 'TS': 0.42231916571325456,\n",
       " 'SGB': 0.22538155518701955,\n",
       " 'PER': 0.1844882480335781,\n",
       " 'OPG': 0.15194943739990077}"
      ]
     },
     "execution_count": 17,
     "metadata": {},
     "output_type": "execute_result"
    }
   ],
   "source": [
    "#Vietnan\n",
    "x = proficiencia['VN']\n",
    "{k: v for k, v in sorted(x.items(), key=lambda item: item[1], reverse = True)}"
   ]
  },
  {
   "cell_type": "markdown",
   "metadata": {},
   "source": [
    "### Mundiais Passados"
   ]
  },
  {
   "cell_type": "code",
   "execution_count": 18,
   "metadata": {},
   "outputs": [],
   "source": [
    "matches_worlds = {}\n",
    "teams_worlds = {}\n",
    "initials_2020 = {'CBL': 'BR', 'LCK': 'KR', 'LCL': 'CIS', 'LCS': 'NA',\n",
    "                 'LEC': 'EU', 'LJL': 'JPN', 'LLA': 'LA', 'LPL': 'CN',\n",
    "                 'OPL': 'OCEANIA', 'PCS': 'TWHKMA', 'TCL': 'TRK', 'VCS': 'VN'}\n",
    "importing_all_matches('Worlds', matches_worlds, teams_worlds)"
   ]
  },
  {
   "cell_type": "code",
   "execution_count": 19,
   "metadata": {},
   "outputs": [],
   "source": [
    "#Criando um dicionario com a relacao time-regiao de cada ano\n",
    "team_region = {}\n",
    "team_region[2011] = {'AAA': 'EU', 'FNC': 'EU', 'GAMED!DE' : 'EU', 'TSM' : 'NA', 'CLG': 'NA', 'EPIK': 'NA', 'PCFC': 'TWHKMA', 'XAN': 'TWHKMA'}\n",
    "team_region[2012] = {'AZF': 'KR', 'CLG.EU': 'EU', 'CLG.P': 'NA', 'DIG': 'NA', 'IG': 'CN', 'M5': 'EU', 'NJ SWD': 'KR', 'SAJ': 'TWHKMA', 'SK': 'EU', 'TSM': 'NA', 'TPA': 'TWHKMA', 'WE': 'CN'}\n",
    "team_region[2013] = {'C9': 'NA', 'FNC': 'EU', 'GAB': 'TWHKMA', 'GMB': 'EU', 'GG.EU' : 'CIS', 'LD': 'EU', 'MINESKI': 'TWHKMA', 'NJBS': 'KR', 'OMG': 'CN', 'RYL': 'CN', 'SKT': 'KR', 'SSO': 'KR', 'TSM': 'NA', 'V': 'NA'}\n",
    "team_region[2014] = {'TSM': 'NA', 'C9': 'NA', 'LMQ': 'NA', 'ALL': 'EU', 'FNC': 'EU', 'SK': 'EU', 'EDG': 'CN', 'SHR': 'CN', 'OMG': 'CN', 'SSB': 'KR', 'SSW': 'KR', 'NJWS': 'KR', 'TPA': 'TWHKMA', 'AHQ': 'TWHKMA', 'DP': 'TRK', 'KBM': 'BR'}\n",
    "team_region[2015] = {'AHQ': 'TWHKMA', 'BKT': 'TWHKMA', 'C9': 'NA', 'CLG': 'NA', 'EDG': 'CN', 'FW': 'TWHKMA', 'FNC': 'EU', 'H2K': 'EU', 'IG': 'CN', 'KOO': 'KR', 'KT': 'KR', 'LGD': 'CN', 'OG': 'EU', 'PNG': 'BR', 'SKT': 'KR', 'TSM': 'NA'}\n",
    "team_region[2016] = {'EDG': 'CN', 'FW': 'TWHKMA', 'ROX': 'KR', 'TSM': 'NA', 'AHQ': 'TWHKMA', 'CLG': 'NA', 'G2': 'EU', 'H2K': 'EU', 'IM': 'CN', 'RNG': 'CN', 'SSG': 'KR', 'SKT': 'KR', 'ANX': 'CIS', 'C9': 'NA', 'ITZ': 'BR', 'SPY': 'EU'}\n",
    "team_region[2017] = {'WE': 'CN', 'FNC': 'EU', 'C9': 'NA', 'HKA': 'TWHKMA', 'ONE': 'BR', 'GMB': 'CIS', 'YGE': 'VN', 'FB': 'TRK', 'RPG': 'JPN', 'LYN': 'LA', 'KLG': 'LA', 'DW': 'OCEANIA', 'GAM': 'VN', 'AHQ': 'TWHKMA', 'FW': 'TWHKMA', 'IMT': 'NA', 'TSM': 'NA', 'MSF': 'EU', 'G2': 'EU', 'RNG': 'CN', 'EDG': 'CN', 'SSG': 'KR', 'SKT': 'KR', 'LZ': 'KR'}\n",
    "team_region[2018] = {'EDG': 'CN', 'G2': 'EU', 'C9': 'NA', 'GRX': 'TWHKMA', 'KBM': 'BR', 'GMB': 'CIS', 'INF': 'LA', 'SUP': 'TRK', 'DFM': 'JPN', 'KLG': 'LA', 'DW': 'OCEANIA', 'ASC': 'TWHKMA', 'KT': 'KR', 'AF': 'KR', 'GEN': 'KR', 'RNG': 'CN', 'IG': 'CN', 'FNC': 'EU', 'VIT': 'EU', 'TL': 'NA', '100': 'NA', 'FW': 'TWHKMA', 'MAD': 'TWHKMA', 'PVB': 'VN'}\n",
    "team_region[2019] = {'MEGA': 'TWHKMA', 'MMM': 'OCEANIA', 'DFM': 'JPN', 'FLA': 'BR', 'RYL': 'TRK', 'ISG': 'LA', 'UOL': 'CIS', 'LK': 'VN', 'HKA': 'TWHKMA', 'CG': 'NA', 'SPY': 'EU', 'DWG': 'KR', 'GAM': 'VN', 'JT': 'TWHKMA', 'AHQ': 'TWHKMA', 'TL': 'NA', 'C9': 'NA', 'G2': 'EU', 'FNC': 'EU', 'SKT': 'KR', 'GRF': 'KR', 'FPX': 'CN', 'RNG': 'CN', 'IG': 'CN'}\n",
    "team_region[2020] = {'SUP': 'TRK', 'LGC': 'OCEANIA', 'R7': 'LA', 'V3': 'JPN', 'UOL': 'CIS', 'ITZ': 'BR', 'PSG': 'TWHKMA', 'TL': 'NA', 'MAD': 'EU', 'LGD': 'CN', 'MCX': 'TWHKMA', 'TSM': 'NA', 'FLY': 'NA', 'DWG': 'KR', 'DRX': 'KR', 'GEN': 'KR', 'G2': 'EU', 'FNC': 'EU', 'RGE': 'EU', 'TES': 'CN', 'JDG': 'CN', 'SN': 'CN'}"
   ]
  },
  {
   "cell_type": "code",
   "execution_count": 20,
   "metadata": {},
   "outputs": [],
   "source": [
    "#Trocando os times por suas respectivas regioes no df\n",
    "for year in range(2011,2021):\n",
    "    for team,reg in team_region[year].items():\n",
    "        matches_worlds[year].replace(team, reg, inplace = True)"
   ]
  },
  {
   "cell_type": "code",
   "execution_count": 21,
   "metadata": {},
   "outputs": [],
   "source": [
    "#Para estimar o desempenho internacional das regioes ate determinado ano\n",
    "ANO = 2019\n",
    "regioes_que_ja_jogaram_em_um_mundial = []\n",
    "for i in range(2011,ANO+1):\n",
    "    a = list(team_region[i].values())\n",
    "    regioes_que_ja_jogaram_em_um_mundial.extend(a)\n",
    "    regioes_que_ja_jogaram_em_um_mundial = list(set(regioes_que_ja_jogaram_em_um_mundial))\n",
    "estimar_proficiencias_worlds(matches_worlds, regioes_que_ja_jogaram_em_um_mundial, ANO)"
   ]
  },
  {
   "cell_type": "code",
   "execution_count": 22,
   "metadata": {},
   "outputs": [
    {
     "data": {
      "text/plain": [
       "{'KR': 27.473262299102796,\n",
       " 'CN': 22.510330235025886,\n",
       " 'EU': 15.337440456680417,\n",
       " 'NA': 10.160515271778646,\n",
       " 'CIS': 5.264896213050347,\n",
       " 'VN': 4.563016583034871,\n",
       " 'TWHKMA': 4.393490779828585,\n",
       " 'TRK': 3.1194873272471386,\n",
       " 'LA': 2.5357677986215874,\n",
       " 'OCEANIA': 2.1535289007210583,\n",
       " 'BR': 1.4023475456252288,\n",
       " 'JPN': 1.0859165892834355}"
      ]
     },
     "execution_count": 22,
     "metadata": {},
     "output_type": "execute_result"
    }
   ],
   "source": [
    "x = proficiencia[ANO]\n",
    "{k: v for k, v in sorted(x.items(), key=lambda item: item[1], reverse = True)}"
   ]
  },
  {
   "cell_type": "code",
   "execution_count": 23,
   "metadata": {},
   "outputs": [],
   "source": [
    "#Finalmente mudando de escala as proficiencias \n",
    "real_prof = {}\n",
    "for reg in proficiencia[ANO].keys():\n",
    "    top = list(proficiencia[reg].values())\n",
    "    top.sort(reverse = True)\n",
    "    top = top[:3] if reg in ['EU','NA','CN','KR'] else top[:2]\n",
    "    media_harmonica = 1/(1/top[0] + 1/top[1] + 1/top[2]) if reg in ['EU','NA','CN','KR'] else 1/(1/top[0] + 1/top[1])\n",
    "    k = proficiencia[ANO][reg]/media_harmonica\n",
    "    for t,r in team_region[2020].items():\n",
    "        if r == reg:\n",
    "            real_prof[t] = proficiencia[reg][t]*k"
   ]
  },
  {
   "cell_type": "code",
   "execution_count": 24,
   "metadata": {},
   "outputs": [],
   "source": [
    "ts = []\n",
    "ps = []\n",
    "for t,p in real_prof.items():\n",
    "    ts.append(t)\n",
    "    ps.append(p)\n",
    "real_proficiencia = pd.DataFrame({'Times': ts, 'Proficiencias': ps})"
   ]
  },
  {
   "cell_type": "code",
   "execution_count": 25,
   "metadata": {},
   "outputs": [
    {
     "data": {
      "text/plain": [
       "{'TL': 36.951253296146085,\n",
       " 'TSM': 28.316203339690006,\n",
       " 'FLY': 27.745365861499447,\n",
       " 'UOL': 21.57098033356331,\n",
       " 'LGC': 6.384078310654244,\n",
       " 'MAD': 32.06214574964036,\n",
       " 'G2': 58.16913843983943,\n",
       " 'FNC': 38.548615662599396,\n",
       " 'RGE': 45.31569035190531,\n",
       " 'R7': 4.567728748690657,\n",
       " 'PSG': 7.509312963579994,\n",
       " 'MCX': 10.588568706001675,\n",
       " 'SUP': 5.2917618374022934,\n",
       " 'LGD': 34.84462173090505,\n",
       " 'TES': 80.87920997408744,\n",
       " 'JDG': 71.65703301678809,\n",
       " 'SN': 55.23468103857279,\n",
       " 'DWG': 252.10895460230134,\n",
       " 'DRX': 52.408700571350145,\n",
       " 'GEN': 74.89690730403262,\n",
       " 'ITZ': 3.0147942252578104,\n",
       " 'V3': 3.1333484363821826}"
      ]
     },
     "execution_count": 25,
     "metadata": {},
     "output_type": "execute_result"
    }
   ],
   "source": [
    "real_prof"
   ]
  },
  {
   "cell_type": "code",
   "execution_count": 24,
   "metadata": {},
   "outputs": [
    {
     "data": {
      "text/html": [
       "<div>\n",
       "<style scoped>\n",
       "    .dataframe tbody tr th:only-of-type {\n",
       "        vertical-align: middle;\n",
       "    }\n",
       "\n",
       "    .dataframe tbody tr th {\n",
       "        vertical-align: top;\n",
       "    }\n",
       "\n",
       "    .dataframe thead th {\n",
       "        text-align: right;\n",
       "    }\n",
       "</style>\n",
       "<table border=\"1\" class=\"dataframe\">\n",
       "  <thead>\n",
       "    <tr style=\"text-align: right;\">\n",
       "      <th></th>\n",
       "      <th>Times</th>\n",
       "      <th>Proficiencias</th>\n",
       "    </tr>\n",
       "  </thead>\n",
       "  <tbody>\n",
       "    <tr>\n",
       "      <th>0</th>\n",
       "      <td>DWG</td>\n",
       "      <td>247.011</td>\n",
       "    </tr>\n",
       "    <tr>\n",
       "      <th>2</th>\n",
       "      <td>GEN</td>\n",
       "      <td>73.400</td>\n",
       "    </tr>\n",
       "    <tr>\n",
       "      <th>15</th>\n",
       "      <td>JDG</td>\n",
       "      <td>68.319</td>\n",
       "    </tr>\n",
       "    <tr>\n",
       "      <th>14</th>\n",
       "      <td>TES</td>\n",
       "      <td>67.539</td>\n",
       "    </tr>\n",
       "    <tr>\n",
       "      <th>16</th>\n",
       "      <td>SN</td>\n",
       "      <td>56.152</td>\n",
       "    </tr>\n",
       "    <tr>\n",
       "      <th>1</th>\n",
       "      <td>DRX</td>\n",
       "      <td>51.361</td>\n",
       "    </tr>\n",
       "    <tr>\n",
       "      <th>4</th>\n",
       "      <td>G2</td>\n",
       "      <td>50.488</td>\n",
       "    </tr>\n",
       "    <tr>\n",
       "      <th>6</th>\n",
       "      <td>RGE</td>\n",
       "      <td>39.333</td>\n",
       "    </tr>\n",
       "    <tr>\n",
       "      <th>13</th>\n",
       "      <td>LGD</td>\n",
       "      <td>33.658</td>\n",
       "    </tr>\n",
       "    <tr>\n",
       "      <th>5</th>\n",
       "      <td>FNC</td>\n",
       "      <td>33.463</td>\n",
       "    </tr>\n",
       "    <tr>\n",
       "      <th>19</th>\n",
       "      <td>TL</td>\n",
       "      <td>31.236</td>\n",
       "    </tr>\n",
       "    <tr>\n",
       "      <th>20</th>\n",
       "      <td>TSM</td>\n",
       "      <td>31.023</td>\n",
       "    </tr>\n",
       "    <tr>\n",
       "      <th>3</th>\n",
       "      <td>MAD</td>\n",
       "      <td>27.824</td>\n",
       "    </tr>\n",
       "    <tr>\n",
       "      <th>21</th>\n",
       "      <td>FLY</td>\n",
       "      <td>25.124</td>\n",
       "    </tr>\n",
       "    <tr>\n",
       "      <th>11</th>\n",
       "      <td>UOL</td>\n",
       "      <td>24.953</td>\n",
       "    </tr>\n",
       "    <tr>\n",
       "      <th>9</th>\n",
       "      <td>MCX</td>\n",
       "      <td>11.632</td>\n",
       "    </tr>\n",
       "    <tr>\n",
       "      <th>12</th>\n",
       "      <td>LGC</td>\n",
       "      <td>10.086</td>\n",
       "    </tr>\n",
       "    <tr>\n",
       "      <th>8</th>\n",
       "      <td>PSG</td>\n",
       "      <td>8.248</td>\n",
       "    </tr>\n",
       "    <tr>\n",
       "      <th>7</th>\n",
       "      <td>SUP</td>\n",
       "      <td>6.971</td>\n",
       "    </tr>\n",
       "    <tr>\n",
       "      <th>17</th>\n",
       "      <td>R7</td>\n",
       "      <td>5.147</td>\n",
       "    </tr>\n",
       "    <tr>\n",
       "      <th>18</th>\n",
       "      <td>V3</td>\n",
       "      <td>3.900</td>\n",
       "    </tr>\n",
       "    <tr>\n",
       "      <th>10</th>\n",
       "      <td>ITZ</td>\n",
       "      <td>3.480</td>\n",
       "    </tr>\n",
       "  </tbody>\n",
       "</table>\n",
       "</div>"
      ],
      "text/plain": [
       "   Times  Proficiencias\n",
       "0    DWG        247.011\n",
       "2    GEN         73.400\n",
       "15   JDG         68.319\n",
       "14   TES         67.539\n",
       "16    SN         56.152\n",
       "1    DRX         51.361\n",
       "4     G2         50.488\n",
       "6    RGE         39.333\n",
       "13   LGD         33.658\n",
       "5    FNC         33.463\n",
       "19    TL         31.236\n",
       "20   TSM         31.023\n",
       "3    MAD         27.824\n",
       "21   FLY         25.124\n",
       "11   UOL         24.953\n",
       "9    MCX         11.632\n",
       "12   LGC         10.086\n",
       "8    PSG          8.248\n",
       "7    SUP          6.971\n",
       "17    R7          5.147\n",
       "18    V3          3.900\n",
       "10   ITZ          3.480"
      ]
     },
     "execution_count": 24,
     "metadata": {},
     "output_type": "execute_result"
    }
   ],
   "source": [
    "real_proficiencia.sort_values(by =['Proficiencias'], ascending = False).round(3)"
   ]
  },
  {
   "cell_type": "code",
   "execution_count": 26,
   "metadata": {},
   "outputs": [],
   "source": [
    "def simple_prob(A,B):\n",
    "    print(f'         {A} vs {B}    \\n') \n",
    "    print('{} tem {:.2f}% de chance de ganhar.'.format(A,100*real_prof[A]/(real_prof[A]+real_prof[B])))\n",
    "    print('{}, por sua vez, tem {:.2f}% .'.format(B,100*real_prof[B]/(real_prof[A]+real_prof[B])))"
   ]
  },
  {
   "cell_type": "markdown",
   "metadata": {},
   "source": [
    "#### Dia 1 - 5/6, o erro foi por 2% apenas."
   ]
  },
  {
   "cell_type": "markdown",
   "metadata": {},
   "source": [
    "##### Dia 2 - 5/6"
   ]
  },
  {
   "cell_type": "markdown",
   "metadata": {},
   "source": [
    "#### Dia 3 - 6/6"
   ]
  },
  {
   "cell_type": "markdown",
   "metadata": {},
   "source": [
    "#### Dia 4 - 4/6"
   ]
  },
  {
   "cell_type": "markdown",
   "metadata": {},
   "source": [
    "#### Dia 5 - "
   ]
  },
  {
   "cell_type": "code",
   "execution_count": 27,
   "metadata": {},
   "outputs": [
    {
     "name": "stdout",
     "output_type": "stream",
     "text": [
      "         G2 vs TL    \n",
      "\n",
      "G2 tem 61.78% de chance de ganhar.\n",
      "TL, por sua vez, tem 38.22% .\n"
     ]
    }
   ],
   "source": [
    "simple_prob('G2','TL')"
   ]
  },
  {
   "cell_type": "code",
   "execution_count": 28,
   "metadata": {},
   "outputs": [
    {
     "name": "stdout",
     "output_type": "stream",
     "text": [
      "         SN vs MCX    \n",
      "\n",
      "SN tem 82.84% de chance de ganhar.\n",
      "MCX, por sua vez, tem 17.16% .\n"
     ]
    }
   ],
   "source": [
    "simple_prob('SN','MCX')#"
   ]
  },
  {
   "cell_type": "code",
   "execution_count": 29,
   "metadata": {},
   "outputs": [
    {
     "name": "stdout",
     "output_type": "stream",
     "text": [
      "         G2 vs MCX    \n",
      "\n",
      "G2 tem 81.27% de chance de ganhar.\n",
      "MCX, por sua vez, tem 18.73% .\n"
     ]
    }
   ],
   "source": [
    "simple_prob('G2','MCX')#"
   ]
  },
  {
   "cell_type": "code",
   "execution_count": 30,
   "metadata": {},
   "outputs": [
    {
     "name": "stdout",
     "output_type": "stream",
     "text": [
      "         SN vs TL    \n",
      "\n",
      "SN tem 64.26% de chance de ganhar.\n",
      "TL, por sua vez, tem 35.74% .\n"
     ]
    }
   ],
   "source": [
    "simple_prob('SN','TL')"
   ]
  },
  {
   "cell_type": "code",
   "execution_count": 31,
   "metadata": {},
   "outputs": [
    {
     "name": "stdout",
     "output_type": "stream",
     "text": [
      "         TL vs MCX    \n",
      "\n",
      "TL tem 72.86% de chance de ganhar.\n",
      "MCX, por sua vez, tem 27.14% .\n"
     ]
    }
   ],
   "source": [
    "simple_prob('TL','MCX') "
   ]
  },
  {
   "cell_type": "code",
   "execution_count": 32,
   "metadata": {},
   "outputs": [
    {
     "name": "stdout",
     "output_type": "stream",
     "text": [
      "         SN vs G2    \n",
      "\n",
      "SN tem 52.66% de chance de ganhar.\n",
      "G2, por sua vez, tem 47.34% .\n"
     ]
    }
   ],
   "source": [
    "simple_prob('SN','G2') "
   ]
  }
 ],
 "metadata": {
  "kernelspec": {
   "display_name": "Python 3",
   "language": "python",
   "name": "python3"
  },
  "language_info": {
   "codemirror_mode": {
    "name": "ipython",
    "version": 3
   },
   "file_extension": ".py",
   "mimetype": "text/x-python",
   "name": "python",
   "nbconvert_exporter": "python",
   "pygments_lexer": "ipython3",
   "version": "3.8.3"
  }
 },
 "nbformat": 4,
 "nbformat_minor": 4
}
