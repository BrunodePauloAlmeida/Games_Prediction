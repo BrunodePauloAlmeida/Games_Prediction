{
 "cells": [
  {
   "cell_type": "code",
   "execution_count": 1,
   "metadata": {},
   "outputs": [],
   "source": [
    "%run likelihood.ipynb\n",
    "%run importing_matches.ipynb"
   ]
  },
  {
   "cell_type": "code",
   "execution_count": null,
   "metadata": {},
   "outputs": [],
   "source": [
    "import pymc3"
   ]
  },
  {
   "cell_type": "code",
   "execution_count": 2,
   "metadata": {},
   "outputs": [],
   "source": [
    "matches_2020_2 = {}\n",
    "teams_2020_2 = {}\n",
    "initials_2020 = {'CBL': 'BR', 'LCK': 'KR', 'LCL': 'CIS', 'LCS': 'NA',\n",
    "                 'LEC': 'EU', 'LJL': 'JPN', 'LLA': 'LA', 'LPL': 'CN',\n",
    "                 'OPL': 'OCEANIA', 'PCS': 'TWHKMA', 'TCL': 'TRK', 'VCS': 'VN'}\n",
    "importing_all_matches('2020_2', matches_2020_2, teams_2020_2, all_matches=True)"
   ]
  },
  {
   "cell_type": "code",
   "execution_count": 3,
   "metadata": {},
   "outputs": [],
   "source": [
    "Times = update_teams(teams_2020_2, initials_2020)"
   ]
  },
  {
   "cell_type": "markdown",
   "metadata": {},
   "source": [
    "### Times e proficiencias"
   ]
  },
  {
   "cell_type": "code",
   "execution_count": 4,
   "metadata": {},
   "outputs": [],
   "source": [
    "#Calculando todas as proficiencias\n",
    "for cship in initials_2020.keys():\n",
    "    estimar_proficiencias(cship, matches_2020_2, teams_2020_2, initials_2020)"
   ]
  },
  {
   "cell_type": "code",
   "execution_count": 5,
   "metadata": {},
   "outputs": [
    {
     "data": {
      "text/plain": [
       "{'ITZ': 0.9627892134940964,\n",
       " 'PNG': 0.8216827830105841,\n",
       " 'KBM': 0.7405462143770754,\n",
       " 'PRG': 0.7371764135462399,\n",
       " 'FLA': 0.5653828576845762,\n",
       " 'SAN': 0.5395813780033458,\n",
       " 'FUR': 0.36823441752321684,\n",
       " 'VK': 0.264606737262027}"
      ]
     },
     "execution_count": 5,
     "metadata": {},
     "output_type": "execute_result"
    }
   ],
   "source": [
    "#Brasil\n",
    "x = proficiencia['BR']\n",
    "{k: v for k, v in sorted(x.items(), key=lambda item: item[1], reverse = True)}"
   ]
  },
  {
   "cell_type": "code",
   "execution_count": 6,
   "metadata": {},
   "outputs": [
    {
     "data": {
      "text/plain": [
       "{'DWG': 2.2258421281677596,\n",
       " 'GEN': 0.943378927848668,\n",
       " 'DRX': 0.6422628658329663,\n",
       " 'T1': 0.5579342849247507,\n",
       " 'SB': 0.1984091180109782,\n",
       " 'AF': 0.17952537800092963,\n",
       " 'KT': 0.11842107575636798,\n",
       " 'DYN': 0.07213461597613674,\n",
       " 'HLE': 0.039167603902624734,\n",
       " 'SP': 0.022924016479979676}"
      ]
     },
     "execution_count": 6,
     "metadata": {},
     "output_type": "execute_result"
    }
   ],
   "source": [
    "#Coreia do Sul\n",
    "x = proficiencia['KR']\n",
    "{k: v for k, v in sorted(x.items(), key=lambda item: item[1], reverse = True)}"
   ]
  },
  {
   "cell_type": "code",
   "execution_count": 7,
   "metadata": {},
   "outputs": [
    {
     "data": {
      "text/plain": [
       "{'UOL': 3.6279868943584725,\n",
       " 'GMB': 1.168201910043548,\n",
       " 'CC': 0.12391488996909479,\n",
       " 'OBG': 0.0593896474275627,\n",
       " 'DA': 0.01454269203148545,\n",
       " 'ROX': 0.003964099303615646,\n",
       " 'VEG': 0.001,\n",
       " 'EPG': 0.001}"
      ]
     },
     "execution_count": 7,
     "metadata": {},
     "output_type": "execute_result"
    }
   ],
   "source": [
    "#Russia\n",
    "x = proficiencia['CIS']\n",
    "{k: v for k, v in sorted(x.items(), key=lambda item: item[1], reverse = True)}"
   ]
  },
  {
   "cell_type": "code",
   "execution_count": 8,
   "metadata": {},
   "outputs": [
    {
     "data": {
      "text/plain": [
       "{'TL': 1.2371413018636268,\n",
       " 'TSM': 0.9153160373025452,\n",
       " 'FLY': 0.9151763820244674,\n",
       " 'C9': 0.6304639636418005,\n",
       " 'GG': 0.5483924200159942,\n",
       " 'EG': 0.3019103347186567,\n",
       " '100': 0.1500605189362996,\n",
       " 'DIG': 0.13541562893918743,\n",
       " 'IMT': 0.09395551624085537,\n",
       " 'CLG': 0.07216791121772839}"
      ]
     },
     "execution_count": 8,
     "metadata": {},
     "output_type": "execute_result"
    }
   ],
   "source": [
    "#America do Norte\n",
    "x = proficiencia['NA']\n",
    "{k: v for k, v in sorted(x.items(), key=lambda item: item[1], reverse = True)}"
   ]
  },
  {
   "cell_type": "code",
   "execution_count": 9,
   "metadata": {},
   "outputs": [
    {
     "data": {
      "text/plain": [
       "{'G2': 1.023919447578488,\n",
       " 'RGE': 0.7978588896492488,\n",
       " 'FNC': 0.6784863224281177,\n",
       " 'MAD': 0.5643930413590513,\n",
       " 'S04': 0.540343558649019,\n",
       " 'XL': 0.38119199583760494,\n",
       " 'SK': 0.30002226639039525,\n",
       " 'VIT': 0.2687280539634394,\n",
       " 'MSF': 0.2639433780803655,\n",
       " 'OG': 0.181113060965432}"
      ]
     },
     "execution_count": 9,
     "metadata": {},
     "output_type": "execute_result"
    }
   ],
   "source": [
    "#Europa\n",
    "x = proficiencia['EU']\n",
    "{k: v for k, v in sorted(x.items(), key=lambda item: item[1], reverse = True)}"
   ]
  },
  {
   "cell_type": "code",
   "execution_count": 10,
   "metadata": {},
   "outputs": [
    {
     "data": {
      "text/plain": [
       "{'V3': 1.7896993756987702,\n",
       " 'DFM': 0.9491339642423205,\n",
       " 'SG': 0.6426241595143551,\n",
       " 'CGA': 0.6385582492282841,\n",
       " 'BC': 0.4045477163168058,\n",
       " 'SHG': 0.3710944314850605,\n",
       " 'AXZ': 0.13478646242935172,\n",
       " 'RJ': 0.06955565598621435}"
      ]
     },
     "execution_count": 10,
     "metadata": {},
     "output_type": "execute_result"
    }
   ],
   "source": [
    "#Japao\n",
    "x = proficiencia['JPN']\n",
    "{k: v for k, v in sorted(x.items(), key=lambda item: item[1], reverse = True)}"
   ]
  },
  {
   "cell_type": "code",
   "execution_count": 11,
   "metadata": {},
   "outputs": [
    {
     "data": {
      "text/plain": [
       "{'AK': 1.1435254069621958,\n",
       " 'R7': 1.0714106940165358,\n",
       " 'ISG': 0.8815609191469944,\n",
       " 'INF': 0.5370522258158058,\n",
       " 'UCH': 0.5102090955051363,\n",
       " 'FG': 0.3631384835030103,\n",
       " 'PIX': 0.2508488417121108,\n",
       " 'XTN': 0.24225434823937206}"
      ]
     },
     "execution_count": 11,
     "metadata": {},
     "output_type": "execute_result"
    }
   ],
   "source": [
    "#America Latina\n",
    "x = proficiencia['LA']\n",
    "{k: v for k, v in sorted(x.items(), key=lambda item: item[1], reverse = True)}"
   ]
  },
  {
   "cell_type": "code",
   "execution_count": 12,
   "metadata": {},
   "outputs": [
    {
     "data": {
      "text/plain": [
       "{'TES': 0.7307930430023214,\n",
       " 'JDG': 0.5608023522477276,\n",
       " 'SN': 0.5278629121789749,\n",
       " 'V5': 0.42710383577571287,\n",
       " 'LGD': 0.34587703003257286,\n",
       " 'RNG': 0.3231175464851697,\n",
       " 'EDG': 0.3160034850974583,\n",
       " 'IG': 0.3021488019530498,\n",
       " 'FPX': 0.2515709080743556,\n",
       " 'WE': 0.238848480061031,\n",
       " 'BLG': 0.21862001286487542,\n",
       " 'VG': 0.2171706039141436,\n",
       " 'LNG': 0.14050187646708184,\n",
       " 'OMG': 0.13163328578319883,\n",
       " 'RW': 0.11228288838065326,\n",
       " 'ES': 0.11175077896027255,\n",
       " 'DMO': 0.04391217362256185}"
      ]
     },
     "execution_count": 12,
     "metadata": {},
     "output_type": "execute_result"
    }
   ],
   "source": [
    "#China\n",
    "x = proficiencia['CN']\n",
    "{k: v for k, v in sorted(x.items(), key=lambda item: item[1], reverse = True)}"
   ]
  },
  {
   "cell_type": "code",
   "execution_count": 13,
   "metadata": {},
   "outputs": [
    {
     "data": {
      "text/plain": [
       "{'LGC': 2.0481177226842164,\n",
       " 'ORD': 1.0854454921661747,\n",
       " 'CHF': 0.6860494038016457,\n",
       " 'DW': 0.4419501406401565,\n",
       " 'PGG': 0.4011681176508371,\n",
       " 'AV': 0.17958560248849265,\n",
       " 'MMM': 0.14788791696321948,\n",
       " 'GRV': 0.009795618506419164}"
      ]
     },
     "execution_count": 13,
     "metadata": {},
     "output_type": "execute_result"
    }
   ],
   "source": [
    "#Oceania\n",
    "x = proficiencia['OCEANIA']\n",
    "{k: v for k, v in sorted(x.items(), key=lambda item: item[1], reverse = True)}"
   ]
  },
  {
   "cell_type": "code",
   "execution_count": 14,
   "metadata": {},
   "outputs": [
    {
     "data": {
      "text/plain": [
       "{'MCX': 1.5258190494938673,\n",
       " 'PSG': 1.08103390941798,\n",
       " 'JT': 1.0140237486685757,\n",
       " 'AHQ': 0.7421097726886499,\n",
       " 'BJD': 0.17322871178639443,\n",
       " 'ALF': 0.14582037929150876,\n",
       " 'NOV': 0.13619609853062595,\n",
       " 'HKA': 0.08238734752180987,\n",
       " 'LYB': 0.056714363403167586,\n",
       " 'RSG': 0.04266663409858116}"
      ]
     },
     "execution_count": 14,
     "metadata": {},
     "output_type": "execute_result"
    }
   ],
   "source": [
    "#Tigres Asiaticos - Honk Kong, Taiwan, Macau\n",
    "x = proficiencia['TWHKMA']\n",
    "{k: v for k, v in sorted(x.items(), key=lambda item: item[1], reverse = True)}"
   ]
  },
  {
   "cell_type": "code",
   "execution_count": 15,
   "metadata": {},
   "outputs": [
    {
     "data": {
      "text/plain": [
       "{'IW': 1.4027512160239783,\n",
       " 'SUP': 0.9771339025078888,\n",
       " 'GAL': 0.7875202578091607,\n",
       " '5R': 0.7792689843590973,\n",
       " 'DP': 0.31088807740858593,\n",
       " 'GS': 0.25348811220751344,\n",
       " 'BJK': 0.2171317547155718,\n",
       " 'FB': 0.20009458921500195,\n",
       " 'AUR': 0.04707293587472112,\n",
       " 'RYL': 0.0246501847796412}"
      ]
     },
     "execution_count": 15,
     "metadata": {},
     "output_type": "execute_result"
    }
   ],
   "source": [
    "#Turquia\n",
    "x = proficiencia['TRK']\n",
    "{k: v for k, v in sorted(x.items(), key=lambda item: item[1], reverse = True)}"
   ]
  },
  {
   "cell_type": "code",
   "execution_count": 16,
   "metadata": {},
   "outputs": [
    {
     "data": {
      "text/plain": [
       "{'FL': 1.3961796116850769,\n",
       " 'GAM': 1.2356796917930954,\n",
       " 'EVS': 0.8578046630696231,\n",
       " 'CES': 0.5297805295608563,\n",
       " 'TS': 0.4179722793397229,\n",
       " 'SGB': 0.22837105873328448,\n",
       " 'PER': 0.18335295923378492,\n",
       " 'OPG': 0.15085922148571732}"
      ]
     },
     "execution_count": 16,
     "metadata": {},
     "output_type": "execute_result"
    }
   ],
   "source": [
    "#Vietnan\n",
    "x = proficiencia['VN']\n",
    "{k: v for k, v in sorted(x.items(), key=lambda item: item[1], reverse = True)}"
   ]
  },
  {
   "cell_type": "markdown",
   "metadata": {},
   "source": [
    "### Mundiais Passados"
   ]
  },
  {
   "cell_type": "code",
   "execution_count": 17,
   "metadata": {},
   "outputs": [],
   "source": [
    "matches_worlds = {}\n",
    "teams_worlds = {}\n",
    "initials_2020 = {'CBL': 'BR', 'LCK': 'KR', 'LCL': 'CIS', 'LCS': 'NA',\n",
    "                 'LEC': 'EU', 'LJL': 'JPN', 'LLA': 'LA', 'LPL': 'CN',\n",
    "                 'OPL': 'OCEANIA', 'PCS': 'TWHKMA', 'TCL': 'TRK', 'VCS': 'VN'}\n",
    "importing_all_matches('Worlds', matches_worlds, teams_worlds)"
   ]
  },
  {
   "cell_type": "code",
   "execution_count": 18,
   "metadata": {},
   "outputs": [],
   "source": [
    "#Criando um dicionario com a relacao time-regiao de cada ano\n",
    "team_region = {}\n",
    "team_region[2011] = {'AAA': 'EU', 'FNC': 'EU', 'GAMED!DE' : 'EU', 'TSM' : 'NA', 'CLG': 'NA', 'EPIK': 'NA', 'PCFC': 'TWHKMA', 'XAN': 'TWHKMA'}\n",
    "team_region[2012] = {'AZF': 'KR', 'CLG.EU': 'EU', 'CLG.P': 'NA', 'DIG': 'NA', 'IG': 'CN', 'M5': 'EU', 'NJ SWD': 'KR', 'SAJ': 'TWHKMA', 'SK': 'EU', 'TSM': 'NA', 'TPA': 'TWHKMA', 'WE': 'CN'}\n",
    "team_region[2013] = {'C9': 'NA', 'FNC': 'EU', 'GAB': 'TWHKMA', 'GMB': 'EU', 'GG.EU' : 'CIS', 'LD': 'EU', 'MINESKI': 'TWHKMA', 'NJBS': 'KR', 'OMG': 'CN', 'RYL': 'CN', 'SKT': 'KR', 'SSO': 'KR', 'TSM': 'NA', 'V': 'NA'}\n",
    "team_region[2014] = {'TSM': 'NA', 'C9': 'NA', 'LMQ': 'NA', 'ALL': 'EU', 'FNC': 'EU', 'SK': 'EU', 'EDG': 'CN', 'SHR': 'CN', 'OMG': 'CN', 'SSB': 'KR', 'SSW': 'KR', 'NJWS': 'KR', 'TPA': 'TWHKMA', 'AHQ': 'TWHKMA', 'DP': 'TRK', 'KBM': 'BR'}\n",
    "team_region[2015] = {'AHQ': 'TWHKMA', 'BKT': 'TWHKMA', 'C9': 'NA', 'CLG': 'NA', 'EDG': 'CN', 'FW': 'TWHKMA', 'FNC': 'EU', 'H2K': 'EU', 'IG': 'CN', 'KOO': 'KR', 'KT': 'KR', 'LGD': 'CN', 'OG': 'EU', 'PNG': 'BR', 'SKT': 'KR', 'TSM': 'NA'}\n",
    "team_region[2016] = {'EDG': 'CN', 'FW': 'TWHKMA', 'ROX': 'KR', 'TSM': 'NA', 'AHQ': 'TWHKMA', 'CLG': 'NA', 'G2': 'EU', 'H2K': 'EU', 'IM': 'CN', 'RNG': 'CN', 'SSG': 'KR', 'SKT': 'KR', 'ANX': 'CIS', 'C9': 'NA', 'ITZ': 'BR', 'SPY': 'EU'}\n",
    "team_region[2017] = {'WE': 'CN', 'FNC': 'EU', 'C9': 'NA', 'HKA': 'TWHKMA', 'ONE': 'BR', 'GMB': 'CIS', 'YGE': 'VN', 'FB': 'TRK', 'RPG': 'JPN', 'LYN': 'LA', 'KLG': 'LA', 'DW': 'OCEANIA', 'GAM': 'VN', 'AHQ': 'TWHKMA', 'FW': 'TWHKMA', 'IMT': 'NA', 'TSM': 'NA', 'MSF': 'EU', 'G2': 'EU', 'RNG': 'CN', 'EDG': 'CN', 'SSG': 'KR', 'SKT': 'KR', 'LZ': 'KR'}\n",
    "team_region[2018] = {'EDG': 'CN', 'G2': 'EU', 'C9': 'NA', 'GRX': 'TWHKMA', 'KBM': 'BR', 'GMB': 'CIS', 'INF': 'LA', 'SUP': 'TRK', 'DFM': 'JPN', 'KLG': 'LA', 'DW': 'OCEANIA', 'ASC': 'TWHKMA', 'KT': 'KR', 'AF': 'KR', 'GEN': 'KR', 'RNG': 'CN', 'IG': 'CN', 'FNC': 'EU', 'VIT': 'EU', 'TL': 'NA', '100': 'NA', 'FW': 'TWHKMA', 'MAD': 'TWHKMA', 'PVB': 'VN'}\n",
    "team_region[2019] = {'MEGA': 'TWHKMA', 'MMM': 'OCEANIA', 'DFM': 'JPN', 'FLA': 'BR', 'RYL': 'TRK', 'ISG': 'LA', 'UOL': 'CIS', 'LK': 'VN', 'HKA': 'TWHKMA', 'CG': 'NA', 'SPY': 'EU', 'DWG': 'KR', 'GAM': 'VN', 'JT': 'TWHKMA', 'AHQ': 'TWHKMA', 'TL': 'NA', 'C9': 'NA', 'G2': 'EU', 'FNC': 'EU', 'SKT': 'KR', 'GRF': 'KR', 'FPX': 'CN', 'RNG': 'CN', 'IG': 'CN'}\n",
    "team_region[2020] = {'SUP': 'TRK', 'LGC': 'OCEANIA', 'R7': 'LA', 'V3': 'JPN', 'UOL': 'CIS', 'ITZ': 'BR', 'PSG': 'TWHKMA', 'TL': 'NA', 'MAD': 'EU', 'LGD': 'CN', 'MCX': 'TWHKMA', 'TSM': 'NA', 'FLY': 'NA', 'DWG': 'KR', 'DRX': 'KR', 'GEN': 'KR', 'G2': 'EU', 'FNC': 'EU', 'RGE': 'EU', 'TES': 'CN', 'JDG': 'CN', 'SN': 'CN'}"
   ]
  },
  {
   "cell_type": "code",
   "execution_count": 19,
   "metadata": {},
   "outputs": [],
   "source": [
    "#Trocando os times por suas respectivas regioes no df\n",
    "for year in range(2011,2021):\n",
    "    for team,reg in team_region[year].items():\n",
    "        matches_worlds[year].replace(team, reg, inplace = True)"
   ]
  },
  {
   "cell_type": "code",
   "execution_count": 20,
   "metadata": {},
   "outputs": [],
   "source": [
    "#Para estimar o desempenho internacional das regioes ate determinado ano\n",
    "ANO = 2020\n",
    "regioes_que_ja_jogaram_em_um_mundial = []\n",
    "for i in range(2011,ANO+1):\n",
    "    a = list(team_region[i].values())\n",
    "    regioes_que_ja_jogaram_em_um_mundial.extend(a)\n",
    "    regioes_que_ja_jogaram_em_um_mundial = list(set(regioes_que_ja_jogaram_em_um_mundial))\n",
    "estimar_proficiencias_worlds(matches_worlds, regioes_que_ja_jogaram_em_um_mundial, ANO)"
   ]
  },
  {
   "cell_type": "code",
   "execution_count": 21,
   "metadata": {},
   "outputs": [
    {
     "data": {
      "text/plain": [
       "{'KR': 27.430846675769462,\n",
       " 'CN': 19.628656862396983,\n",
       " 'EU': 13.243567419994548,\n",
       " 'NA': 9.6096265323121,\n",
       " 'CIS': 6.7250790198395505,\n",
       " 'TWHKMA': 5.036203194367338,\n",
       " 'VN': 4.601391185646842,\n",
       " 'TRK': 4.193384806063978,\n",
       " 'OCEANIA': 3.5278414439717483,\n",
       " 'LA': 2.9070734145352866,\n",
       " 'BR': 1.7263761978060557,\n",
       " 'JPN': 1.3699532472961033}"
      ]
     },
     "execution_count": 21,
     "metadata": {},
     "output_type": "execute_result"
    }
   ],
   "source": [
    "x = proficiencia[ANO]\n",
    "{k: v for k, v in sorted(x.items(), key=lambda item: item[1], reverse = True)}"
   ]
  },
  {
   "cell_type": "code",
   "execution_count": 22,
   "metadata": {},
   "outputs": [],
   "source": [
    "#Finalmente mudando de escala as proficiencias \n",
    "real_prof = {}\n",
    "for reg in proficiencia[ANO].keys():\n",
    "    top = list(proficiencia[reg].values())\n",
    "    top.sort(reverse = True)\n",
    "    top = top[:3] if reg in ['EU','NA','CN','KR'] else top[:2]\n",
    "    media_harmonica = 1/(1/top[0] + 1/top[1] + 1/top[2]) if reg in ['EU','NA','CN','KR'] else 1/(1/top[0] + 1/top[1])\n",
    "    k = proficiencia[ANO][reg]/media_harmonica\n",
    "    for t,r in team_region[2020].items():\n",
    "        if r == reg:\n",
    "            real_prof[t] = proficiencia[reg][t]*k"
   ]
  },
  {
   "cell_type": "code",
   "execution_count": 23,
   "metadata": {},
   "outputs": [],
   "source": [
    "ts = []\n",
    "ps = []\n",
    "for t,p in real_prof.items():\n",
    "    ts.append(t)\n",
    "    ps.append(p)\n",
    "real_proficiencia = pd.DataFrame({'Times': ts, 'Proficiencias': ps})"
   ]
  },
  {
   "cell_type": "code",
   "execution_count": 24,
   "metadata": {},
   "outputs": [
    {
     "data": {
      "text/html": [
       "<div>\n",
       "<style scoped>\n",
       "    .dataframe tbody tr th:only-of-type {\n",
       "        vertical-align: middle;\n",
       "    }\n",
       "\n",
       "    .dataframe tbody tr th {\n",
       "        vertical-align: top;\n",
       "    }\n",
       "\n",
       "    .dataframe thead th {\n",
       "        text-align: right;\n",
       "    }\n",
       "</style>\n",
       "<table border=\"1\" class=\"dataframe\">\n",
       "  <thead>\n",
       "    <tr style=\"text-align: right;\">\n",
       "      <th></th>\n",
       "      <th>Times</th>\n",
       "      <th>Proficiencias</th>\n",
       "    </tr>\n",
       "  </thead>\n",
       "  <tbody>\n",
       "    <tr>\n",
       "      <th>14</th>\n",
       "      <td>DWG</td>\n",
       "      <td>187.217</td>\n",
       "    </tr>\n",
       "    <tr>\n",
       "      <th>16</th>\n",
       "      <td>GEN</td>\n",
       "      <td>79.348</td>\n",
       "    </tr>\n",
       "    <tr>\n",
       "      <th>8</th>\n",
       "      <td>TES</td>\n",
       "      <td>72.382</td>\n",
       "    </tr>\n",
       "    <tr>\n",
       "      <th>9</th>\n",
       "      <td>JDG</td>\n",
       "      <td>55.545</td>\n",
       "    </tr>\n",
       "    <tr>\n",
       "      <th>15</th>\n",
       "      <td>DRX</td>\n",
       "      <td>54.021</td>\n",
       "    </tr>\n",
       "    <tr>\n",
       "      <th>10</th>\n",
       "      <td>SN</td>\n",
       "      <td>52.282</td>\n",
       "    </tr>\n",
       "    <tr>\n",
       "      <th>1</th>\n",
       "      <td>G2</td>\n",
       "      <td>50.226</td>\n",
       "    </tr>\n",
       "    <tr>\n",
       "      <th>3</th>\n",
       "      <td>RGE</td>\n",
       "      <td>39.137</td>\n",
       "    </tr>\n",
       "    <tr>\n",
       "      <th>19</th>\n",
       "      <td>TL</td>\n",
       "      <td>35.588</td>\n",
       "    </tr>\n",
       "    <tr>\n",
       "      <th>7</th>\n",
       "      <td>LGD</td>\n",
       "      <td>34.258</td>\n",
       "    </tr>\n",
       "    <tr>\n",
       "      <th>2</th>\n",
       "      <td>FNC</td>\n",
       "      <td>33.281</td>\n",
       "    </tr>\n",
       "    <tr>\n",
       "      <th>0</th>\n",
       "      <td>MAD</td>\n",
       "      <td>27.685</td>\n",
       "    </tr>\n",
       "    <tr>\n",
       "      <th>6</th>\n",
       "      <td>UOL</td>\n",
       "      <td>27.611</td>\n",
       "    </tr>\n",
       "    <tr>\n",
       "      <th>20</th>\n",
       "      <td>TSM</td>\n",
       "      <td>26.331</td>\n",
       "    </tr>\n",
       "    <tr>\n",
       "      <th>21</th>\n",
       "      <td>FLY</td>\n",
       "      <td>26.327</td>\n",
       "    </tr>\n",
       "    <tr>\n",
       "      <th>18</th>\n",
       "      <td>MCX</td>\n",
       "      <td>12.145</td>\n",
       "    </tr>\n",
       "    <tr>\n",
       "      <th>11</th>\n",
       "      <td>LGC</td>\n",
       "      <td>10.184</td>\n",
       "    </tr>\n",
       "    <tr>\n",
       "      <th>17</th>\n",
       "      <td>PSG</td>\n",
       "      <td>8.604</td>\n",
       "    </tr>\n",
       "    <tr>\n",
       "      <th>13</th>\n",
       "      <td>SUP</td>\n",
       "      <td>7.114</td>\n",
       "    </tr>\n",
       "    <tr>\n",
       "      <th>4</th>\n",
       "      <td>R7</td>\n",
       "      <td>5.631</td>\n",
       "    </tr>\n",
       "    <tr>\n",
       "      <th>12</th>\n",
       "      <td>V3</td>\n",
       "      <td>3.953</td>\n",
       "    </tr>\n",
       "    <tr>\n",
       "      <th>5</th>\n",
       "      <td>ITZ</td>\n",
       "      <td>3.749</td>\n",
       "    </tr>\n",
       "  </tbody>\n",
       "</table>\n",
       "</div>"
      ],
      "text/plain": [
       "   Times  Proficiencias\n",
       "14   DWG        187.217\n",
       "16   GEN         79.348\n",
       "8    TES         72.382\n",
       "9    JDG         55.545\n",
       "15   DRX         54.021\n",
       "10    SN         52.282\n",
       "1     G2         50.226\n",
       "3    RGE         39.137\n",
       "19    TL         35.588\n",
       "7    LGD         34.258\n",
       "2    FNC         33.281\n",
       "0    MAD         27.685\n",
       "6    UOL         27.611\n",
       "20   TSM         26.331\n",
       "21   FLY         26.327\n",
       "18   MCX         12.145\n",
       "11   LGC         10.184\n",
       "17   PSG          8.604\n",
       "13   SUP          7.114\n",
       "4     R7          5.631\n",
       "12    V3          3.953\n",
       "5    ITZ          3.749"
      ]
     },
     "execution_count": 24,
     "metadata": {},
     "output_type": "execute_result"
    }
   ],
   "source": [
    "real_proficiencia.sort_values(by =['Proficiencias'], ascending = False).round(3)"
   ]
  },
  {
   "cell_type": "code",
   "execution_count": 25,
   "metadata": {},
   "outputs": [],
   "source": [
    "def simple_prob(A,B):\n",
    "    print(f'         {A} vs {B}    \\n') \n",
    "    print('{} tem {:.2f}% de chance de ganhar.'.format(A,100*real_prof[A]/(real_prof[A]+real_prof[B])))\n",
    "    print('{}, por sua vez, tem {:.2f}% .'.format(B,100*real_prof[B]/(real_prof[A]+real_prof[B])))"
   ]
  },
  {
   "cell_type": "markdown",
   "metadata": {},
   "source": [
    "#### Dia 1 - 5/6, o erro foi por 2% apenas."
   ]
  },
  {
   "cell_type": "markdown",
   "metadata": {},
   "source": [
    "##### Dia 2 - 5/6"
   ]
  },
  {
   "cell_type": "markdown",
   "metadata": {},
   "source": [
    "#### Dia 3 - "
   ]
  },
  {
   "cell_type": "code",
   "execution_count": 26,
   "metadata": {},
   "outputs": [
    {
     "name": "stdout",
     "output_type": "stream",
     "text": [
      "         MCX vs G2    \n",
      "\n",
      "MCX tem 19.47% de chance de ganhar.\n",
      "G2, por sua vez, tem 80.53% .\n"
     ]
    }
   ],
   "source": [
    "simple_prob('MCX','G2')"
   ]
  },
  {
   "cell_type": "code",
   "execution_count": 27,
   "metadata": {},
   "outputs": [
    {
     "name": "stdout",
     "output_type": "stream",
     "text": [
      "         TL vs SN    \n",
      "\n",
      "TL tem 40.50% de chance de ganhar.\n",
      "SN, por sua vez, tem 59.50% .\n"
     ]
    }
   ],
   "source": [
    "simple_prob('TL','SN')"
   ]
  },
  {
   "cell_type": "code",
   "execution_count": 28,
   "metadata": {},
   "outputs": [
    {
     "name": "stdout",
     "output_type": "stream",
     "text": [
      "         DWG vs PSG    \n",
      "\n",
      "DWG tem 95.61% de chance de ganhar.\n",
      "PSG, por sua vez, tem 4.39% .\n"
     ]
    }
   ],
   "source": [
    "simple_prob('DWG','PSG')"
   ]
  },
  {
   "cell_type": "code",
   "execution_count": 29,
   "metadata": {},
   "outputs": [
    {
     "name": "stdout",
     "output_type": "stream",
     "text": [
      "         JDG vs RGE    \n",
      "\n",
      "JDG tem 58.66% de chance de ganhar.\n",
      "RGE, por sua vez, tem 41.34% .\n"
     ]
    }
   ],
   "source": [
    "simple_prob('JDG','RGE')"
   ]
  },
  {
   "cell_type": "code",
   "execution_count": 30,
   "metadata": {},
   "outputs": [
    {
     "name": "stdout",
     "output_type": "stream",
     "text": [
      "         FLY vs UOL    \n",
      "\n",
      "FLY tem 48.81% de chance de ganhar.\n",
      "UOL, por sua vez, tem 51.19% .\n"
     ]
    }
   ],
   "source": [
    "simple_prob('FLY','UOL')"
   ]
  },
  {
   "cell_type": "code",
   "execution_count": 31,
   "metadata": {},
   "outputs": [
    {
     "name": "stdout",
     "output_type": "stream",
     "text": [
      "         TES vs DRX    \n",
      "\n",
      "TES tem 57.26% de chance de ganhar.\n",
      "DRX, por sua vez, tem 42.74% .\n"
     ]
    }
   ],
   "source": [
    "simple_prob('TES','DRX')"
   ]
  }
 ],
 "metadata": {
  "kernelspec": {
   "display_name": "Python 3",
   "language": "python",
   "name": "python3"
  },
  "language_info": {
   "codemirror_mode": {
    "name": "ipython",
    "version": 3
   },
   "file_extension": ".py",
   "mimetype": "text/x-python",
   "name": "python",
   "nbconvert_exporter": "python",
   "pygments_lexer": "ipython3",
   "version": "3.8.3"
  }
 },
 "nbformat": 4,
 "nbformat_minor": 4
}
