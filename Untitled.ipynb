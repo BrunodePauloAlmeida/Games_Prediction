{
 "cells": [
  {
   "cell_type": "code",
   "execution_count": 91,
   "metadata": {},
   "outputs": [],
   "source": [
    "import random as r\n",
    "from sympy.solvers import solve\n",
    "from sympy import Symbol"
   ]
  },
  {
   "cell_type": "code",
   "execution_count": 77,
   "metadata": {},
   "outputs": [],
   "source": [
    "F = Symbol('F')\n",
    "x1,x2,x3,y = r.random()*r.randint(1,5),r.random()*r.randint(1,5),r.random()*r.randint(1,5),3\n",
    "a = x1*x2 + x1*x3 + x2*x3 + y*(x1+x2+x3) + y**2\n",
    "b = -3*x1*x2*x3\n",
    "c = -3*y*x1*x2*x3\n",
    "d = -y**2*x1*x2*x3\n",
    "sol = solve(F**3*a + F**2*b + F*c + d,F)[0]"
   ]
  },
  {
   "cell_type": "code",
   "execution_count": 113,
   "metadata": {},
   "outputs": [
    {
     "name": "stdout",
     "output_type": "stream",
     "text": [
      "1.0703950948824232\n",
      "0.7755523677527953\n",
      "0.817275318029843\n"
     ]
    }
   ],
   "source": [
    "F = Symbol('F')\n",
    "x1,x2,x3,y = r.random()*r.randint(1,5),r.random()*r.randint(1,5),r.random()*r.randint(1,5),r.random()*r.randint(1,5)\n",
    "a = x1*x2 + x1*x3 + x2*x3 + y*(x1+x2+x3) + y**2\n",
    "b = -3*x1*x2*x3\n",
    "c = -3*y*x1*x2*x3\n",
    "d = -y**2*x1*x2*x3\n",
    "sol = solve(F**3*a + F**2*b + F*c + d,F)[0]\n",
    "arit = (x1+x2+x3)/3\n",
    "geom = (x1*x2*x3)**(1/3)\n",
    "harm = (3)/(1/x1 + 1/x2 + 1/x3)\n",
    "quad = ((x1**2+x2**2+x3**2)/3)**(1/2)\n",
    "cub = ((x1**3+x2**3+x3**3)/3)**(1/3)\n",
    "hero = 1/6 * ((x1*x2)**(1/2) + (x1*x3)**(1/2) + (x2*x1)**(1/2) + (x2*x3)**(1/2) + (x3*x1)**(1/2) + (x3*x2)**(1/2) )\n",
    "print(geom)\n",
    "print(harm)\n",
    "print(sol)"
   ]
  },
  {
   "cell_type": "code",
   "execution_count": 126,
   "metadata": {},
   "outputs": [
    {
     "name": "stdout",
     "output_type": "stream",
     "text": [
      "Q\n",
      "HA\n",
      "HA\n",
      "HA\n",
      "HA\n",
      "HA\n",
      "HA\n",
      "HA\n",
      "HA\n",
      "HA\n",
      "HA\n",
      "HA\n",
      "HA\n",
      "HA\n",
      "HA\n"
     ]
    }
   ],
   "source": [
    "contador = {'A':0,'G':0,'HA':0,'Q':0,'C':0,'HE':0}\n",
    "acumulador = {'A':0,'G':0,'HA':0,'Q':0,'C':0,'HE':0}\n",
    "for i in range (0,15000):\n",
    "    if i%1000 == 0:\n",
    "        print(max(contador,key = contador.get))\n",
    "    x1,x2,x3,y = r.random()*r.randint(1,5),r.random()*r.randint(1,5),r.random()*r.randint(1,5),r.random()*r.randint(1,5)\n",
    "    a = x1*x2 + x1*x3 + x2*x3 + y*(x1+x2+x3) + y**2\n",
    "    b = -3*x1*x2*x3\n",
    "    c = -3*y*x1*x2*x3\n",
    "    d = -y**2*x1*x2*x3\n",
    "    sol = solve(F**3*a + F**2*b + F*c + d,F)[0]\n",
    "    arit = (x1+x2+x3)/3\n",
    "    geom = (x1*x2*x3)**(1/3)\n",
    "    harm = (3)/(1/x1 + 1/x2 + 1/x3)\n",
    "    quad = ((x1**2+x2**2+x3**2)/3)**(1/2)\n",
    "    cub = ((x1**3+x2**3+x3**3)/3)**(1/3)\n",
    "    hero = 1/6 * ((x1*x2)**(1/2) + (x1*x3)**(1/2) + (x2*x1)**(1/2) + (x2*x3)**(1/2) + (x3*x1)**(1/2) + (x3*x2)**(1/2) )\n",
    "    medias = {'A':(sol - arit)**2,'G':(sol - geom)**2,'HA':(sol - harm)**2,'Q':(sol - quad)**2,'C':(sol - cub)**2,'HE':(sol - hero)**2}\n",
    "    contador[min(medias,key = medias.get)]+=1\n",
    "    for key in acumulador.keys():\n",
    "        acumulador[key]+=medias[key]\n",
    "    \n",
    "    \n",
    "    "
   ]
  },
  {
   "cell_type": "code",
   "execution_count": 127,
   "metadata": {},
   "outputs": [
    {
     "data": {
      "text/plain": [
       "{'A': 5534.51349975798,\n",
       " 'C': 18526.4299556775,\n",
       " 'G': 435.501631405196,\n",
       " 'HA': 304.182019474992,\n",
       " 'HE': 1270.99302488811,\n",
       " 'Q': 12599.3658539800}"
      ]
     },
     "execution_count": 127,
     "metadata": {},
     "output_type": "execute_result"
    }
   ],
   "source": [
    "acumulador"
   ]
  },
  {
   "cell_type": "code",
   "execution_count": 128,
   "metadata": {},
   "outputs": [
    {
     "data": {
      "text/plain": [
       "{'A': 0, 'C': 0, 'G': 7293, 'HA': 7707, 'HE': 0, 'Q': 0}"
      ]
     },
     "execution_count": 128,
     "metadata": {},
     "output_type": "execute_result"
    }
   ],
   "source": [
    "contador"
   ]
  },
  {
   "cell_type": "code",
   "execution_count": 124,
   "metadata": {},
   "outputs": [
    {
     "data": {
      "text/plain": [
       "{'A': 3782.90292338221,\n",
       " 'C': 12613.3814220374,\n",
       " 'G': 294.839097378975,\n",
       " 'HA': 201.125430629003,\n",
       " 'HE': 868.113234719006,\n",
       " 'Q': 8592.54336156563}"
      ]
     },
     "execution_count": 124,
     "metadata": {},
     "output_type": "execute_result"
    }
   ],
   "source": [
    "acumulador"
   ]
  },
  {
   "cell_type": "code",
   "execution_count": 125,
   "metadata": {},
   "outputs": [
    {
     "data": {
      "text/plain": [
       "{'A': 0, 'C': 0, 'G': 4915, 'HA': 5085, 'HE': 0, 'Q': 0}"
      ]
     },
     "execution_count": 125,
     "metadata": {},
     "output_type": "execute_result"
    }
   ],
   "source": [
    "contador"
   ]
  },
  {
   "cell_type": "code",
   "execution_count": 121,
   "metadata": {},
   "outputs": [
    {
     "data": {
      "text/plain": [
       "{'A': 4608.21759476746,\n",
       " 'C': 8780.32464827129,\n",
       " 'G': 1222.14715554144,\n",
       " 'HA': 1046.69771029073,\n",
       " 'HE': 2127.28021022694,\n",
       " 'Q': 7127.40084505929}"
      ]
     },
     "execution_count": 121,
     "metadata": {},
     "output_type": "execute_result"
    }
   ],
   "source": [
    "acumulador"
   ]
  },
  {
   "cell_type": "code",
   "execution_count": 122,
   "metadata": {},
   "outputs": [
    {
     "data": {
      "text/plain": [
       "{'A': 0, 'C': 0, 'G': 5042, 'HA': 4958, 'HE': 0, 'Q': 0}"
      ]
     },
     "execution_count": 122,
     "metadata": {},
     "output_type": "execute_result"
    }
   ],
   "source": [
    "contador"
   ]
  }
 ],
 "metadata": {
  "kernelspec": {
   "display_name": "Python 3",
   "language": "python",
   "name": "python3"
  },
  "language_info": {
   "codemirror_mode": {
    "name": "ipython",
    "version": 3
   },
   "file_extension": ".py",
   "mimetype": "text/x-python",
   "name": "python",
   "nbconvert_exporter": "python",
   "pygments_lexer": "ipython3",
   "version": "3.5.2"
  }
 },
 "nbformat": 4,
 "nbformat_minor": 2
}
