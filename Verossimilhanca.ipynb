{
 "cells": [
  {
   "cell_type": "markdown",
   "metadata": {},
   "source": [
    "# Calculo das Proficiencias Individuais"
   ]
  },
  {
   "cell_type": "code",
   "execution_count": 109,
   "metadata": {},
   "outputs": [],
   "source": [
    "proficiencia = {}\n",
    "porc_vit = {}"
   ]
  },
  {
   "cell_type": "code",
   "execution_count": 110,
   "metadata": {},
   "outputs": [],
   "source": [
    "import pandas as pd\n",
    "import numpy as np\n",
    "import random as rd\n",
    "from math import ceil,floor,factorial\n",
    "from scipy.optimize import minimize\n",
    "Times = pd.read_excel('TIMES.xlsx')\n",
    "Times.set_index('Número', inplace = True)\n",
    "Times.fillna('NA', inplace = True)\n",
    "Times['Porcentagem de Vitorias'] = pd.Series(np.random.randn(len(list(Times.Sigla))), index=Times.index)\n",
    "Times_msi = ['RNG','KZ','FW','FNC','TL','EVS','SUP','GMB','KBM','R7','KLG','DW','ASC','PGM']\n",
    "Times_mundial_inicio = ['EDG','INF','DW','G2','SUP','ASC','C9','DFM','KBM','GRX','GMB','KLG','AFS','FW','PVB','RNG','VIT','GEN','KT','TL','MAD','FNC','IG','100']\n",
    "Times_mundial_grupos = ['AFS','FW','PVB','RNG','VIT','GEN','KT','TL','MAD','FNC','IG','100','EDG','G2','C9','GRX']\n",
    "Times_mundial_quartas = ['RNG','KT','FNC','IG','EDG','G2','C9','AFS']\n",
    "ACERTOS=0\n",
    "JOGOS_TOTAIS = 0"
   ]
  },
  {
   "cell_type": "code",
   "execution_count": 111,
   "metadata": {},
   "outputs": [],
   "source": [
    "def arrumadados(sheet,guia,vero = False):\n",
    "    arquivo = pd.ExcelFile(sheet)\n",
    "    liga = pd.read_excel(arquivo,guia-1)\n",
    "    if not vero:\n",
    "        liga = liga[3:]\n",
    "    liga.fillna(0,inplace = True)\n",
    "    liga.replace(0.7,0.8, inplace = True)\n",
    "    return liga"
   ]
  },
  {
   "cell_type": "code",
   "execution_count": 112,
   "metadata": {},
   "outputs": [],
   "source": [
    "liga_time_reg = []\n",
    "#Declarando as tabelas de jogos de cada regiao\n",
    "cblol_2019_1 = arrumadados('CBLOL_BRASIL_2019.xlsx',1,True)\n",
    "a = list(cblol_2019_1.Winner)\n",
    "a.extend(list(cblol_2019_1.Loser))\n",
    "times_cblol_2019 = set(a)\n",
    "liga_time_reg.append((cblol_2019_1,times_cblol_2019,'BR'))\n",
    "\n",
    "lec_2019_1 = arrumadados('LEC_EUROPA_2019.xlsx',1,True)\n",
    "a = list(lec_2019_1.Winner)\n",
    "a.extend(list(lec_2019_1.Loser))\n",
    "times_lec_2019 = set(a)\n",
    "liga_time_reg.append((lec_2019_1,times_lec_2019,'EU'))\n",
    "\n",
    "lcs_2019_1 = arrumadados('LCS_USA_2019.xlsx',1,True)\n",
    "lcs_2019_1.replace('100',100, inplace = True)\n",
    "a = list(lcs_2019_1.Winner)\n",
    "a.extend(list(lcs_2019_1.Loser))\n",
    "times_lcs_2019 = set(a)\n",
    "liga_time_reg.append((lcs_2019_1,times_lcs_2019,'NA'))\n",
    "\n",
    "lck_2019_1 = arrumadados('LCK_COREIA_2019.xlsx',1,True)\n",
    "a = list(lck_2019_1.Winner)\n",
    "a.extend(list(lck_2019_1.Loser))\n",
    "times_lck_2019 = set(a)\n",
    "liga_time_reg.append((lck_2019_1,times_lck_2019,'KR'))\n",
    "\n",
    "lpl_2019_1 = arrumadados('LPL_CHINA_2019.xlsx',1,True)\n",
    "a = list(lpl_2019_1.Winner)\n",
    "a.extend(list(lpl_2019_1.Loser))\n",
    "times_lpl_2019 = set(a)\n",
    "liga_time_reg.append((lpl_2019_1,times_lpl_2019,'CN'))\n",
    "\n",
    "lms_2019_1 = arrumadados('LMS_TWHKMA_2019.xlsx',1,True)\n",
    "a = list(lms_2019_1.Winner)\n",
    "a.extend(list(lms_2019_1.Loser))\n",
    "times_lms_2019 = set(a)\n",
    "liga_time_reg.append((lms_2019_1,times_lms_2019,'TWHKMA'))\n",
    "\n",
    "vcs_2019_1 = arrumadados('VCS_VIETNAM_2019.xlsx',1,True)\n",
    "a = list(vcs_2019_1.Winner)\n",
    "a.extend(list(vcs_2019_1.Loser))\n",
    "times_vcs_2019 = set(a)\n",
    "liga_time_reg.append((vcs_2019_1,times_vcs_2019,'VN'))\n",
    "\n",
    "lcl_2019_1 = arrumadados('LCL_CIS_2019.xlsx',1,True)\n",
    "a = list(lcl_2019_1.Winner)\n",
    "a.extend(list(lcl_2019_1.Loser))\n",
    "times_lcl_2019 = set(a)\n",
    "liga_time_reg.append((lcl_2019_1,times_lcl_2019,'CIS'))\n",
    "\n",
    "lla_2019_1 = arrumadados('LLA_LA_2019.xlsx',1,True)\n",
    "a = list(lla_2019_1.Winner)\n",
    "a.extend(list(lla_2019_1.Loser))\n",
    "times_lla_2019 = set(a)\n",
    "liga_time_reg.append((lla_2019_1,times_lla_2019,'LA'))\n",
    "\n",
    "tcl_2019_1 = arrumadados('TCL_TURQUIA_2019.xlsx',1,True)\n",
    "a = list(tcl_2019_1.Winner)\n",
    "a.extend(list(tcl_2019_1.Loser))\n",
    "times_tcl_2019 = set(a)\n",
    "liga_time_reg.append((tcl_2019_1,times_tcl_2019,'TRK'))\n",
    "\n",
    "ljl_2019_1 = arrumadados('LJL_JAPAN_2019.xlsx',1,True)\n",
    "a = list(ljl_2019_1.Winner)\n",
    "a.extend(list(ljl_2019_1.Loser))\n",
    "times_ljl_2019 = set(a)\n",
    "liga_time_reg.append((ljl_2019_1,times_ljl_2019,'JPN'))\n",
    "\n",
    "opl_2019_1 = arrumadados('OPL_OCEANIA_2019.xlsx',1,True)\n",
    "a = list(opl_2019_1.Winner)\n",
    "a.extend(list(opl_2019_1.Loser))\n",
    "times_opl_2019 = set(a)\n",
    "liga_time_reg.append((opl_2019_1,times_opl_2019,'OCEANIA'))\n",
    "\n",
    "lst_2019_1 = arrumadados('LST_SEA_2019.xlsx',1,True)\n",
    "a = list(lst_2019_1.Winner)\n",
    "a.extend(list(lst_2019_1.Loser))\n",
    "times_lst_2019 = set(a)\n",
    "liga_time_reg.append((lst_2019_1,times_lst_2019,'SEA'))"
   ]
  },
  {
   "cell_type": "code",
   "execution_count": 113,
   "metadata": {},
   "outputs": [],
   "source": [
    "def liga_usada(liga,times,sigla):\n",
    "    global x0,b,bnds\n",
    "    x0 = list(np.random.uniform(0.5,2.5,len(times)))\n",
    "    b = (0.001,10.0)\n",
    "    bnds = tuple([b]*len(times))\n",
    "    return (liga,times,sigla)\n",
    "\n",
    "def vero(x):\n",
    "    y = 0\n",
    "    proficiencia[sigla] = {}\n",
    "    for time in times:\n",
    "        proficiencia[sigla][time] = x[y]\n",
    "        y+=1\n",
    "    multiplicatorio = 1\n",
    "    #Defino a constante de esquecimento k, obtida experimentalmente\n",
    "    k = 0.075\n",
    "    for game in range (0,liga.shape[0]):\n",
    "        w = liga.iloc[game].Week\n",
    "        pv = proficiencia[sigla][liga.iloc[game].Winner]\n",
    "        pl = proficiencia[sigla][liga.iloc[game].Loser]\n",
    "        \n",
    "        #Diferenciando play-offs de fase regular\n",
    "        if w>0:\n",
    "            cte = 1 - (max(list(liga.Week)) - w)*k\n",
    "        else:\n",
    "            cte = 1+k\n",
    "        multiplicatorio *= (pv/(pv+pl))**cte\n",
    "    \n",
    "    return -np.log(multiplicatorio)\n",
    "\n",
    "def probabilidade(A,B,n):\n",
    "    siglaA = list(Times[Times.Sigla==A]['Região'])[0]\n",
    "    siglaB = list(Times[Times.Sigla==B]['Região'])[0]\n",
    "    A_list = []\n",
    "    B_list = []\n",
    "    i,k = 0,floor(n/2)\n",
    "    x = proficiencia[siglaA][A]/(proficiencia[siglaA][A]+proficiencia[siglaB][B])\n",
    "    print(\"         {} vs {}\".format(A,B))\n",
    "    while (ceil(n/2)+i) <= n:\n",
    "        if i == 0:\n",
    "            A_list.append(x**(ceil(n/2))*(1-x)**(i))\n",
    "            B_list.append(x**(i)*(1-x)**(ceil(n/2)))\n",
    "        else:\n",
    "            p = factorial(k)/(factorial(i)*factorial(k-i)) \n",
    "            A_list.append(p*x**(ceil(n/2))*(1-x)**(i))\n",
    "            B_list.append(p*x**(i)*(1-x)**(ceil(n/2)))\n",
    "        i+=1\n",
    "        k+=1\n",
    "    if n==1:\n",
    "        print('{} tem {:.2f} % de chance de vitória'.format(A,100*sum(A_list)))\n",
    "        print('Enquanto {} tem {:.2f} %.'.format(B,100*sum(B_list)))\n",
    "    else:    \n",
    "        print('{} tem {:.2f} % de chance de vitória.Sendo:'.format(A,100*sum(A_list)))\n",
    "        for b in range(0,ceil(n/2)):\n",
    "            print('{:.2f} % a de ser {}-{}'.format(100*A_list[b],ceil(n/2),b))\n",
    "        print('Enquanto {} tem {:.2f} %. Sendo:'.format(B,100*sum(B_list)))\n",
    "        for b in range(0,ceil(n/2)):\n",
    "            print('{:.2f} % a de ser {}-{}'.format(100*B_list[b],ceil(n/2),b))\n",
    "    \n",
    "def restricao1(x):\n",
    "    return x[0]-1        \n",
    "\n",
    "def restricao2(x):\n",
    "    return sum(x)-5\n",
    "\n",
    "con1 = {'type':'eq','fun':restricao1}\n",
    "con2 = {'type':'eq','fun':restricao2}\n",
    "cons = [con2]"
   ]
  },
  {
   "cell_type": "code",
   "execution_count": 18,
   "metadata": {},
   "outputs": [
    {
     "data": {
      "text/plain": [
       "{'CAP': 0.0010000000001488796,\n",
       " 'EMP': 0.05696085581639094,\n",
       " 'LYB': 0.001,\n",
       " 'MEGA': 4.941039159085451}"
      ]
     },
     "execution_count": 18,
     "metadata": {},
     "output_type": "execute_result"
    }
   ],
   "source": [
    "#Para calcular a proficiencia de uma liga apenas\n",
    "liga,times,sigla = liga_usada(lst_2019_1,times_lst_2019,'SEA')\n",
    "sol = minimize(vero,x0,method = 'SLSQP',constraints = cons,bounds = bnds)\n",
    "proficiencia[sigla]"
   ]
  },
  {
   "cell_type": "code",
   "execution_count": 114,
   "metadata": {},
   "outputs": [],
   "source": [
    "#Calculando todas as proficiencias de todos os times de todas as ligas\n",
    "for trio in liga_time_reg:    \n",
    "    liga,times,sigla = liga_usada(trio[0],trio[1],trio[2])\n",
    "    sol = minimize(vero,x0,method = 'SLSQP',constraints = cons,bounds = bnds)"
   ]
  },
  {
   "cell_type": "code",
   "execution_count": 115,
   "metadata": {},
   "outputs": [],
   "source": [
    "#Pegando os dados de porcentagem de vitoria de todos os times\n",
    "for trio in liga_time_reg:    \n",
    "    liga,times,sigla = liga_usada(trio[0],trio[1],trio[2])\n",
    "    for team in times:\n",
    "        a = list(liga.Winner)\n",
    "        a.extend(list(liga.Loser))\n",
    "        porc_vit[team] = list(liga.Winner).count(team)/a.count(team)"
   ]
  },
  {
   "cell_type": "markdown",
   "metadata": {},
   "source": [
    "#### Modelo com constante de esquecimento melhor em 66,1 % dos casos"
   ]
  },
  {
   "cell_type": "markdown",
   "metadata": {},
   "source": [
    "### Previsoes da Liga Coreana\n",
    "####  Taxa de Acerto na Fase de Grupos: 25/32   78,13%\n",
    "#### Taxa de Acerto em Play-Offs : 3/4    75%"
   ]
  },
  {
   "cell_type": "markdown",
   "metadata": {},
   "source": [
    "### -----------------------------------------------------------------------------------------------------------------------------------------------"
   ]
  },
  {
   "cell_type": "markdown",
   "metadata": {},
   "source": [
    "### Previsoes da Liga Chinesa\n",
    "####  Taxa de Acerto na Fase de Grupos: 38/48   79,17%\n",
    "#### Taxa de Acerto em Play-Offs : 4/8 50%"
   ]
  },
  {
   "cell_type": "markdown",
   "metadata": {},
   "source": [
    "### -----------------------------------------------------------------------------------------------------------------------------------------------"
   ]
  },
  {
   "cell_type": "markdown",
   "metadata": {},
   "source": [
    "### Previsoes da Liga Norte Americana\n",
    "####  Taxa de Acerto na Fase de Grupos: 23/31    74,19%\n",
    "#### Taxa de Acerto em Play-Offs : 5/5 100%"
   ]
  },
  {
   "cell_type": "markdown",
   "metadata": {},
   "source": [
    "### -----------------------------------------------------------------------------------------------------------------------------------------------"
   ]
  },
  {
   "cell_type": "markdown",
   "metadata": {},
   "source": [
    "### Previsoes da Liga Europeia\n",
    "#### Taxa de Acerto na Fase de Grupos: 16/26 61,54%\n",
    "#### Taxa de Acerto em Play-Offs : 4/6 66,66%"
   ]
  },
  {
   "cell_type": "markdown",
   "metadata": {},
   "source": [
    "### -----------------------------------------------------------------------------------------------------------------------------------------------"
   ]
  },
  {
   "cell_type": "markdown",
   "metadata": {},
   "source": [
    "### Previsoes da Liga Brasileira\n",
    "#### Taxa de Acerto na Fase de Grupos: 29/36    80,55%\n",
    "#### Taxa de Acerto em Play-Offs : 2/3    66,66%"
   ]
  },
  {
   "cell_type": "markdown",
   "metadata": {},
   "source": [
    "### -----------------------------------------------------------------------------------------------------------------------------------------------"
   ]
  },
  {
   "cell_type": "markdown",
   "metadata": {},
   "source": [
    "### Taxa de Acerto Geral na Fase de Grupos: 131/173 75,72%\n",
    "### Taxa de Acerto Geral em Play-Offs: 24/34 70,59%\n",
    "### Taxa de Acerto Geral Final: 74,88%"
   ]
  },
  {
   "cell_type": "markdown",
   "metadata": {},
   "source": [
    "# Calculo da proficiencia relativa entre as regioes"
   ]
  },
  {
   "cell_type": "code",
   "execution_count": 116,
   "metadata": {},
   "outputs": [],
   "source": [
    "#Trocando os nomes de duas regioes que se juntaram e se tornaram uma so\n",
    "Times.replace('LAS','LA',inplace = True)\n",
    "Times.replace('LAN','LA',inplace = True)\n",
    "#Criando um dicionario com todas as regioes\n",
    "regions = {}\n",
    "for reg in set(Times.Região): \n",
    "    regions[reg] = list(Times.Sigla[Times.Região == reg])\n",
    "    \n",
    "#Criando um com todos os mundiais e importando os respectivos jogos\n",
    "    mundial = {}\n",
    "for ano in range (2011,2019):\n",
    "    mundial[ano] = arrumadados(\"MUNDIAIS.xlsx\",ano-2010,True)\n",
    "\n",
    "#Criando um dataframe com as regiões e suas proficiências em cada ano\n",
    "Proficiencias_Relativas = pd.DataFrame(data = None, index = list(set(Times.Região)),columns = [2011,2012,2013,2014,2015,2016,2017,2018,2019])\n"
   ]
  },
  {
   "cell_type": "code",
   "execution_count": 117,
   "metadata": {},
   "outputs": [],
   "source": [
    "#Criando uma função que adiciona a proficiência relativa de cada região no dataframe\n",
    "def adicione(ano):\n",
    "    m = min(proficiencia.values())\n",
    "    M = max(proficiencia.values())\n",
    "    for reg in set(Times.Região):\n",
    "        if reg in list(proficiencia.keys()):\n",
    "            Proficiencias_Relativas.loc[[reg],[ano]] = (proficiencia[reg]-m)/(M-m)\n",
    "            \n",
    "#Modificando a funcao original pra que se adeque ao objetivo proposto\n",
    "def vero_reg(x):\n",
    "    y = 0\n",
    "    for time in times:\n",
    "        proficiencia_reg[time] = x[y]\n",
    "        y+=1\n",
    "    multiplicatorio = 1\n",
    "    for ano in range(2011,2019):\n",
    "        cship = mundial[ano]\n",
    "        coef = 1 - (2018-ano)/8\n",
    "        for game in range (0,int(cship.shape[0])):\n",
    "            pv = proficiencia_reg[cship.iloc[game].Winner]\n",
    "            pl = proficiencia_reg[cship.iloc[game].Loser]\n",
    "            multiplicatorio *= (pv/(pv+pl))**(coef)\n",
    "    \n",
    "    return -np.log(multiplicatorio)\n",
    "\n",
    "def probabilidadeR(A,B):\n",
    "    x = proficiencia_reg[A]/(proficiencia_reg[A]+proficiencia_reg[B])\n",
    "    print(\"         {} vs {}\".format(A,B))\n",
    "    print(\"{} tem {:.2f} % de chance de vitória\".format(A,100*x))\n",
    "    print(\"Enquanto {} tem {:.2f} %\".format(B,100*(1-x)))"
   ]
  },
  {
   "cell_type": "code",
   "execution_count": 118,
   "metadata": {},
   "outputs": [],
   "source": [
    "for camp in mundial.values():\n",
    "    for reg in set(Times.Região):\n",
    "        for linha in range(0,camp.shape[0]):\n",
    "            if camp.iloc[linha].Winner in regions[reg]:\n",
    "                camp.iloc[linha].Winner = reg\n",
    "            if camp.iloc[linha].Loser in regions[reg]:\n",
    "                camp.iloc[linha].Loser = reg"
   ]
  },
  {
   "cell_type": "code",
   "execution_count": 119,
   "metadata": {
    "scrolled": true
   },
   "outputs": [
    {
     "data": {
      "text/plain": [
       "{'BR': 0.4966737276332403,\n",
       " 'CIS': 3.0753858063045345,\n",
       " 'CN': 5.813425195257271,\n",
       " 'EU': 4.482059043516012,\n",
       " 'JPN': 0.2992857402061734,\n",
       " 'KR': 10.0,\n",
       " 'LA': 1.0,\n",
       " 'NA': 3.576430271854339,\n",
       " 'OCEANIA': 0.350498688454531,\n",
       " 'SEA': 0.07019218585635462,\n",
       " 'TRK': 1.1874555150210941,\n",
       " 'TWHKMA': 2.0987945021911747,\n",
       " 'VN': 1.7233568542067375}"
      ]
     },
     "execution_count": 119,
     "metadata": {},
     "output_type": "execute_result"
    }
   ],
   "source": [
    "proficiencia_reg = {}\n",
    "cons = con1\n",
    "liga,times,sigla = liga_usada(lck_2019_1,list(set(Times.Região)),'MUND')\n",
    "sol = minimize(vero_reg,x0,method = 'SLSQP',constraints = cons,bounds = bnds)\n",
    "proficiencia_reg"
   ]
  },
  {
   "cell_type": "code",
   "execution_count": 120,
   "metadata": {},
   "outputs": [
    {
     "data": {
      "text/plain": [
       "[('SEA', 0.07019218585635462),\n",
       " ('JPN', 0.2992857402061734),\n",
       " ('OCEANIA', 0.350498688454531),\n",
       " ('BR', 0.4966737276332403),\n",
       " ('LA', 1.0),\n",
       " ('TRK', 1.1874555150210941),\n",
       " ('VN', 1.7233568542067375),\n",
       " ('TWHKMA', 2.0987945021911747),\n",
       " ('CIS', 3.0753858063045345),\n",
       " ('NA', 3.576430271854339),\n",
       " ('EU', 4.482059043516012),\n",
       " ('CN', 5.813425195257271),\n",
       " ('KR', 10.0)]"
      ]
     },
     "execution_count": 120,
     "metadata": {},
     "output_type": "execute_result"
    }
   ],
   "source": [
    "sorted(proficiencia_reg.items(), key=lambda x: x[1])"
   ]
  },
  {
   "cell_type": "code",
   "execution_count": 121,
   "metadata": {},
   "outputs": [],
   "source": [
    "#Fazendo a conversao de medida entre as escalas individuais de cada regiao para a escala global\n",
    "#Assim, podemos fazer previsoes entre times de outras regioes\n",
    "for trio in liga_time_reg:    \n",
    "    sigla = trio[2]    \n",
    "    top3 = list(proficiencia[sigla].values())\n",
    "    top3.sort(reverse = True)\n",
    "    top3 = top3[0:3]\n",
    "    harm = 3/(1/top3[0] + 1/top3[1] + 1/top3[2])\n",
    "    p_relativa = proficiencia_reg[sigla]\n",
    "    proficiencia[sigla].update((x,y*p_relativa/harm) for x,y in proficiencia[sigla].items())"
   ]
  },
  {
   "cell_type": "markdown",
   "metadata": {},
   "source": [
    "### -----------------------------------------------------------------------------------------------------------------------------------------------"
   ]
  },
  {
   "cell_type": "code",
   "execution_count": 122,
   "metadata": {},
   "outputs": [
    {
     "name": "stderr",
     "output_type": "stream",
     "text": [
      "/usr/local/lib/python3.5/dist-packages/pandas/core/indexing.py:543: SettingWithCopyWarning: \n",
      "A value is trying to be set on a copy of a slice from a DataFrame.\n",
      "Try using .loc[row_indexer,col_indexer] = value instead\n",
      "\n",
      "See the caveats in the documentation: http://pandas.pydata.org/pandas-docs/stable/indexing.html#indexing-view-versus-copy\n",
      "  self.obj[item] = s\n",
      "/usr/local/lib/python3.5/dist-packages/ipykernel_launcher.py:15: SettingWithCopyWarning: \n",
      "A value is trying to be set on a copy of a slice from a DataFrame.\n",
      "Try using .loc[row_indexer,col_indexer] = value instead\n",
      "\n",
      "See the caveats in the documentation: http://pandas.pydata.org/pandas-docs/stable/indexing.html#indexing-view-versus-copy\n",
      "  from ipykernel import kernelapp as app\n",
      "/usr/local/lib/python3.5/dist-packages/ipykernel_launcher.py:16: SettingWithCopyWarning: \n",
      "A value is trying to be set on a copy of a slice from a DataFrame.\n",
      "Try using .loc[row_indexer,col_indexer] = value instead\n",
      "\n",
      "See the caveats in the documentation: http://pandas.pydata.org/pandas-docs/stable/indexing.html#indexing-view-versus-copy\n",
      "  app.launch_new_instance()\n",
      "/usr/local/lib/python3.5/dist-packages/ipykernel_launcher.py:17: SettingWithCopyWarning: \n",
      "A value is trying to be set on a copy of a slice from a DataFrame.\n",
      "Try using .loc[row_indexer,col_indexer] = value instead\n",
      "\n",
      "See the caveats in the documentation: http://pandas.pydata.org/pandas-docs/stable/indexing.html#indexing-view-versus-copy\n"
     ]
    }
   ],
   "source": [
    "## Criando um dataframe com os times ativos em 2019\n",
    "listadesiglas = []\n",
    "for i in range (0,len(proficiencia.keys())):\n",
    "    for sigla in list(list(proficiencia.values())[i].keys()):\n",
    "        listadesiglas.append(sigla)\n",
    "Times_2019 = Times[Times.Sigla.isin(listadesiglas)]\n",
    "del Times_2019['Força Inicial']\n",
    "del Times_2019['Força atualizada']\n",
    "lista2 = []\n",
    "\n",
    "for time in Times_2019.Sigla:\n",
    "    lista2.append(proficiencia[list(Times_2019[Times_2019.Sigla==time]['Região'])[0]][time])\n",
    "    Times_2019.at[Times_2019[Times_2019.Sigla==time].index, 'Porcentagem de Vitorias'] = porc_vit[time]\n",
    "            \n",
    "Times_2019['Proficiencia'] = pd.Series(lista2, index=Times_2019.index)\n",
    "Times_2019['Porcentagem de Vitorias'] = Times_2019['Porcentagem de Vitorias'].apply(lambda x:int(10000*x))\n",
    "Times_2019['Porcentagem de Vitorias'] = Times_2019['Porcentagem de Vitorias'].apply(lambda x:x/100)"
   ]
  },
  {
   "cell_type": "code",
   "execution_count": 125,
   "metadata": {},
   "outputs": [
    {
     "data": {
      "text/html": [
       "<div>\n",
       "<style scoped>\n",
       "    .dataframe tbody tr th:only-of-type {\n",
       "        vertical-align: middle;\n",
       "    }\n",
       "\n",
       "    .dataframe tbody tr th {\n",
       "        vertical-align: top;\n",
       "    }\n",
       "\n",
       "    .dataframe thead th {\n",
       "        text-align: right;\n",
       "    }\n",
       "</style>\n",
       "<table border=\"1\" class=\"dataframe\">\n",
       "  <thead>\n",
       "    <tr style=\"text-align: right;\">\n",
       "      <th></th>\n",
       "      <th>Sigla</th>\n",
       "      <th>Região</th>\n",
       "      <th>Porcentagem de Vitorias</th>\n",
       "      <th>Proficiencia</th>\n",
       "    </tr>\n",
       "    <tr>\n",
       "      <th>Número</th>\n",
       "      <th></th>\n",
       "      <th></th>\n",
       "      <th></th>\n",
       "      <th></th>\n",
       "    </tr>\n",
       "  </thead>\n",
       "  <tbody>\n",
       "    <tr>\n",
       "      <th>7</th>\n",
       "      <td>SKT</td>\n",
       "      <td>KR</td>\n",
       "      <td>74.00</td>\n",
       "      <td>14.539</td>\n",
       "    </tr>\n",
       "    <tr>\n",
       "      <th>5</th>\n",
       "      <td>KZ</td>\n",
       "      <td>KR</td>\n",
       "      <td>66.66</td>\n",
       "      <td>9.383</td>\n",
       "    </tr>\n",
       "    <tr>\n",
       "      <th>4</th>\n",
       "      <td>GRF</td>\n",
       "      <td>KR</td>\n",
       "      <td>73.80</td>\n",
       "      <td>8.023</td>\n",
       "    </tr>\n",
       "    <tr>\n",
       "      <th>19</th>\n",
       "      <td>DWG</td>\n",
       "      <td>KR</td>\n",
       "      <td>56.25</td>\n",
       "      <td>4.654</td>\n",
       "    </tr>\n",
       "    <tr>\n",
       "      <th>18</th>\n",
       "      <td>SB</td>\n",
       "      <td>KR</td>\n",
       "      <td>61.70</td>\n",
       "      <td>4.478</td>\n",
       "    </tr>\n",
       "    <tr>\n",
       "      <th>6</th>\n",
       "      <td>HLE</td>\n",
       "      <td>KR</td>\n",
       "      <td>48.78</td>\n",
       "      <td>2.883</td>\n",
       "    </tr>\n",
       "    <tr>\n",
       "      <th>2</th>\n",
       "      <td>GEN</td>\n",
       "      <td>KR</td>\n",
       "      <td>36.36</td>\n",
       "      <td>1.815</td>\n",
       "    </tr>\n",
       "    <tr>\n",
       "      <th>3</th>\n",
       "      <td>AFS</td>\n",
       "      <td>KR</td>\n",
       "      <td>32.55</td>\n",
       "      <td>1.490</td>\n",
       "    </tr>\n",
       "    <tr>\n",
       "      <th>1</th>\n",
       "      <td>KT</td>\n",
       "      <td>KR</td>\n",
       "      <td>30.95</td>\n",
       "      <td>1.259</td>\n",
       "    </tr>\n",
       "    <tr>\n",
       "      <th>8</th>\n",
       "      <td>JAG</td>\n",
       "      <td>KR</td>\n",
       "      <td>7.89</td>\n",
       "      <td>0.263</td>\n",
       "    </tr>\n",
       "  </tbody>\n",
       "</table>\n",
       "</div>"
      ],
      "text/plain": [
       "       Sigla Região  Porcentagem de Vitorias  Proficiencia\n",
       "Número                                                    \n",
       "7        SKT     KR                    74.00        14.539\n",
       "5         KZ     KR                    66.66         9.383\n",
       "4        GRF     KR                    73.80         8.023\n",
       "19       DWG     KR                    56.25         4.654\n",
       "18        SB     KR                    61.70         4.478\n",
       "6        HLE     KR                    48.78         2.883\n",
       "2        GEN     KR                    36.36         1.815\n",
       "3        AFS     KR                    32.55         1.490\n",
       "1         KT     KR                    30.95         1.259\n",
       "8        JAG     KR                     7.89         0.263"
      ]
     },
     "execution_count": 125,
     "metadata": {},
     "output_type": "execute_result"
    }
   ],
   "source": [
    "Times_2019[Times_2019['Região']=='KR'].sort_values(by =['Proficiencia'], ascending = False).round(3)"
   ]
  },
  {
   "cell_type": "code",
   "execution_count": 131,
   "metadata": {},
   "outputs": [
    {
     "name": "stdout",
     "output_type": "stream",
     "text": [
      "         G2 vs TL\n",
      "G2 tem 69.90 % de chance de vitória.Sendo:\n",
      "40.46 % a de ser 2-0\n",
      "29.45 % a de ser 2-1\n",
      "Enquanto TL tem 30.10 %. Sendo:\n",
      "13.25 % a de ser 2-0\n",
      "16.85 % a de ser 2-1\n"
     ]
    }
   ],
   "source": [
    "probabilidade('G2','TL',3)"
   ]
  }
 ],
 "metadata": {
  "kernelspec": {
   "display_name": "Python 3",
   "language": "python",
   "name": "python3"
  },
  "language_info": {
   "codemirror_mode": {
    "name": "ipython",
    "version": 3
   },
   "file_extension": ".py",
   "mimetype": "text/x-python",
   "name": "python",
   "nbconvert_exporter": "python",
   "pygments_lexer": "ipython3",
   "version": "3.5.2"
  }
 },
 "nbformat": 4,
 "nbformat_minor": 2
}
