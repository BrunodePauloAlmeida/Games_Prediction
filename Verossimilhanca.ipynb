{
 "cells": [
  {
   "cell_type": "code",
   "execution_count": 1,
   "metadata": {},
   "outputs": [],
   "source": [
    "proficiencia = {}\n",
    "porc_vit = {}"
   ]
  },
  {
   "cell_type": "code",
   "execution_count": 2,
   "metadata": {},
   "outputs": [],
   "source": [
    "import pandas as pd\n",
    "import numpy as np\n",
    "import random as rd\n",
    "from math import ceil,floor,factorial\n",
    "from scipy.optimize import minimize\n",
    "Times = pd.read_excel('TIMES.xlsx')\n",
    "Times.set_index('Número', inplace = True)\n",
    "Times.fillna('NA', inplace = True)\n",
    "Times['Porcentagem de Vitorias'] = pd.Series(np.random.randn(len(list(Times.Sigla))), index=Times.index)\n",
    "Times_msi = ['RNG','KZ','FW','FNC','TL','EVS','SUP','GMB','KBM','R7','KLG','DW','ASC','PGM']\n",
    "Times_mundial_inicio = ['EDG','INF','DW','G2','SUP','ASC','C9','DFM','KBM','GRX','GMB','KLG','AFS','FW','PVB','RNG','VIT','GEN','KT','TL','MAD','FNC','IG','100']\n",
    "Times_mundial_grupos = ['AFS','FW','PVB','RNG','VIT','GEN','KT','TL','MAD','FNC','IG','100','EDG','G2','C9','GRX']\n",
    "Times_mundial_quartas = ['RNG','KT','FNC','IG','EDG','G2','C9','AFS']\n",
    "ACERTOS=0\n",
    "JOGOS_TOTAIS = 0"
   ]
  },
  {
   "cell_type": "code",
   "execution_count": 3,
   "metadata": {},
   "outputs": [],
   "source": [
    "def arrumadados(sheet,guia,vero = False):\n",
    "    arquivo = pd.ExcelFile(sheet)\n",
    "    liga = pd.read_excel(arquivo,guia-1)\n",
    "    if not vero:\n",
    "        liga = liga[3:]\n",
    "    liga.fillna(0,inplace = True)\n",
    "    liga.replace(0.7,0.8, inplace = True)\n",
    "    return liga"
   ]
  },
  {
   "cell_type": "code",
   "execution_count": 4,
   "metadata": {},
   "outputs": [],
   "source": [
    "liga_time_reg = []\n",
    "#Declarando as tabelas de jogos de cada regiao\n",
    "cblol_2019_1 = arrumadados('CBLOL_BRASIL_2019.xlsx',1,True)\n",
    "a = list(cblol_2019_1.Winner)\n",
    "a.extend(list(cblol_2019_1.Loser))\n",
    "times_cblol_2019 = set(a)\n",
    "liga_time_reg.append((cblol_2019_1,times_cblol_2019,'BR'))\n",
    "\n",
    "lec_2019_1 = arrumadados('LEC_EUROPA_2019.xlsx',1,True)\n",
    "a = list(lec_2019_1.Winner)\n",
    "a.extend(list(lec_2019_1.Loser))\n",
    "times_lec_2019 = set(a)\n",
    "liga_time_reg.append((lec_2019_1,times_lec_2019,'EU'))\n",
    "\n",
    "lcs_2019_1 = arrumadados('LCS_USA_2019.xlsx',1,True)\n",
    "lcs_2019_1.replace('100',100, inplace = True)\n",
    "a = list(lcs_2019_1.Winner)\n",
    "a.extend(list(lcs_2019_1.Loser))\n",
    "times_lcs_2019 = set(a)\n",
    "liga_time_reg.append((lcs_2019_1,times_lcs_2019,'NA'))\n",
    "\n",
    "lck_2019_1 = arrumadados('LCK_COREIA_2019.xlsx',1,True)\n",
    "a = list(lck_2019_1.Winner)\n",
    "a.extend(list(lck_2019_1.Loser))\n",
    "times_lck_2019 = set(a)\n",
    "liga_time_reg.append((lck_2019_1,times_lck_2019,'KR'))\n",
    "\n",
    "lpl_2019_1 = arrumadados('LPL_CHINA_2019.xlsx',1,True)\n",
    "a = list(lpl_2019_1.Winner)\n",
    "a.extend(list(lpl_2019_1.Loser))\n",
    "times_lpl_2019 = set(a)\n",
    "liga_time_reg.append((lpl_2019_1,times_lpl_2019,'CN'))\n",
    "\n",
    "lms_2019_1 = arrumadados('LMS_TWHKMA_2019.xlsx',1,True)\n",
    "a = list(lms_2019_1.Winner)\n",
    "a.extend(list(lms_2019_1.Loser))\n",
    "times_lms_2019 = set(a)\n",
    "liga_time_reg.append((lms_2019_1,times_lms_2019,'TWHKMA'))\n",
    "\n",
    "vcs_2019_1 = arrumadados('VCS_VIETNAM_2019.xlsx',1,True)\n",
    "a = list(vcs_2019_1.Winner)\n",
    "a.extend(list(vcs_2019_1.Loser))\n",
    "times_vcs_2019 = set(a)\n",
    "liga_time_reg.append((vcs_2019_1,times_vcs_2019,'VN'))\n",
    "\n",
    "lcl_2019_1 = arrumadados('LCL_CIS_2019.xlsx',1,True)\n",
    "a = list(lcl_2019_1.Winner)\n",
    "a.extend(list(lcl_2019_1.Loser))\n",
    "times_lcl_2019 = set(a)\n",
    "liga_time_reg.append((lcl_2019_1,times_lcl_2019,'CIS'))\n",
    "\n",
    "lla_2019_1 = arrumadados('LLA_LA_2019.xlsx',1,True)\n",
    "a = list(lla_2019_1.Winner)\n",
    "a.extend(list(lla_2019_1.Loser))\n",
    "times_lla_2019 = set(a)\n",
    "liga_time_reg.append((lla_2019_1,times_lla_2019,'LA'))\n",
    "\n",
    "tcl_2019_1 = arrumadados('TCL_TURQUIA_2019.xlsx',1,True)\n",
    "a = list(tcl_2019_1.Winner)\n",
    "a.extend(list(tcl_2019_1.Loser))\n",
    "times_tcl_2019 = set(a)\n",
    "liga_time_reg.append((tcl_2019_1,times_tcl_2019,'TRK'))\n",
    "\n",
    "ljl_2019_1 = arrumadados('LJL_JAPAN_2019.xlsx',1,True)\n",
    "a = list(ljl_2019_1.Winner)\n",
    "a.extend(list(ljl_2019_1.Loser))\n",
    "times_ljl_2019 = set(a)\n",
    "liga_time_reg.append((ljl_2019_1,times_ljl_2019,'JPN'))\n",
    "\n",
    "opl_2019_1 = arrumadados('OPL_OCEANIA_2019.xlsx',1,True)\n",
    "a = list(opl_2019_1.Winner)\n",
    "a.extend(list(opl_2019_1.Loser))\n",
    "times_opl_2019 = set(a)\n",
    "liga_time_reg.append((opl_2019_1,times_opl_2019,'OCEANIA'))"
   ]
  },
  {
   "cell_type": "code",
   "execution_count": 5,
   "metadata": {},
   "outputs": [],
   "source": [
    "def liga_usada(liga,times,sigla):\n",
    "    global x0,b,bnds\n",
    "    x0 = list(np.random.uniform(0.5,2.5,len(times)))\n",
    "    b = (0.001,10.0)\n",
    "    bnds = tuple([b]*len(times))\n",
    "    return (liga,times,sigla)\n",
    "\n",
    "def vero(x):\n",
    "    y = 0\n",
    "    proficiencia[sigla] = {}\n",
    "    for time in times:\n",
    "        proficiencia[sigla][time] = x[y]\n",
    "        y+=1\n",
    "    multiplicatorio = 1\n",
    "    #Defino a constante de esquecimento k, obtida experimentalmente\n",
    "    k = 0.075\n",
    "    for game in range (0,liga.shape[0]):\n",
    "        w = liga.iloc[game].Week\n",
    "        pv = proficiencia[sigla][liga.iloc[game].Winner]\n",
    "        pl = proficiencia[sigla][liga.iloc[game].Loser]\n",
    "        \n",
    "        #Diferenciando play-offs de fase regular\n",
    "        if w>0:\n",
    "            cte = 1 - (max(list(liga.Week)) - w)*k\n",
    "        else:\n",
    "            cte = 1+k\n",
    "        multiplicatorio *= (pv/(pv+pl))**cte\n",
    "    \n",
    "    return -np.log(multiplicatorio)\n",
    "\n",
    "def probabilidade(A,B,n):\n",
    "    siglaA = list(Times[Times.Sigla==A]['Região'])[0]\n",
    "    siglaB = list(Times[Times.Sigla==B]['Região'])[0]\n",
    "    A_list = []\n",
    "    B_list = []\n",
    "    i,k = 0,floor(n/2)\n",
    "    x = proficiencia[siglaA][A]/(proficiencia[siglaA][A]+proficiencia[siglaB][B])\n",
    "    print(\"         {} vs {}\".format(A,B))\n",
    "    while (ceil(n/2)+i) <= n:\n",
    "        if i == 0:\n",
    "            A_list.append(x**(ceil(n/2))*(1-x)**(i))\n",
    "            B_list.append(x**(i)*(1-x)**(ceil(n/2)))\n",
    "        else:\n",
    "            p = factorial(k)/(factorial(i)*factorial(k-i)) \n",
    "            A_list.append(p*x**(ceil(n/2))*(1-x)**(i))\n",
    "            B_list.append(p*x**(i)*(1-x)**(ceil(n/2)))\n",
    "        i+=1\n",
    "        k+=1\n",
    "    if n==1:\n",
    "        print('{} tem {:.2f} % de chance de vitória'.format(A,100*sum(A_list)))\n",
    "        print('Enquanto {} tem {:.2f} %.'.format(B,100*sum(B_list)))\n",
    "    else:    \n",
    "        print('{} tem {:.2f} % de chance de vitória.Sendo:'.format(A,100*sum(A_list)))\n",
    "        for b in range(0,ceil(n/2)):\n",
    "            print('{:.2f} % a de ser {}-{}'.format(100*A_list[b],ceil(n/2),b))\n",
    "        print('Enquanto {} tem {:.2f} %. Sendo:'.format(B,100*sum(B_list)))\n",
    "        for b in range(0,ceil(n/2)):\n",
    "            print('{:.2f} % a de ser {}-{}'.format(100*B_list[b],ceil(n/2),b))\n",
    "    \n",
    "def restricao1(x):\n",
    "    return x[0]-1        \n",
    "\n",
    "def restricao2(x):\n",
    "    return sum(x)-5\n",
    "\n",
    "con1 = {'type':'eq','fun':restricao1}\n",
    "con2 = {'type':'eq','fun':restricao2}\n",
    "cons = [con2]"
   ]
  },
  {
   "cell_type": "code",
   "execution_count": null,
   "metadata": {},
   "outputs": [],
   "source": [
    "#Para calcular a proficiencia de uma liga apenas\n",
    "liga,times,sigla = liga_usada(lpl_2019_1,times_lpl_2019,'CN')\n",
    "sol = minimize(vero,x0,method = 'SLSQP',constraints = cons,bounds = bnds)\n",
    "proficiencia[sigla]"
   ]
  },
  {
   "cell_type": "code",
   "execution_count": 6,
   "metadata": {},
   "outputs": [],
   "source": [
    "#Calculando todas as proficiencias de todos os times de todas as ligas\n",
    "for trio in liga_time_reg:    \n",
    "    liga,times,sigla = liga_usada(trio[0],trio[1],trio[2])\n",
    "    sol = minimize(vero,x0,method = 'SLSQP',constraints = cons,bounds = bnds)"
   ]
  },
  {
   "cell_type": "code",
   "execution_count": 64,
   "metadata": {},
   "outputs": [],
   "source": [
    "#Pegando os dados de porcentagem de vitoria de todos os times\n",
    "for trio in liga_time_reg:    \n",
    "    liga,times,sigla = liga_usada(trio[0],trio[1],trio[2])\n",
    "    for team in times:\n",
    "        a = list(liga.Winner)\n",
    "        a.extend(list(liga.Loser))\n",
    "        porc_vit[team] = list(liga.Winner).count(team)/a.count(team)"
   ]
  },
  {
   "cell_type": "code",
   "execution_count": 65,
   "metadata": {},
   "outputs": [
    {
     "name": "stderr",
     "output_type": "stream",
     "text": [
      "/usr/local/lib/python3.5/dist-packages/pandas/core/indexing.py:543: SettingWithCopyWarning: \n",
      "A value is trying to be set on a copy of a slice from a DataFrame.\n",
      "Try using .loc[row_indexer,col_indexer] = value instead\n",
      "\n",
      "See the caveats in the documentation: http://pandas.pydata.org/pandas-docs/stable/indexing.html#indexing-view-versus-copy\n",
      "  self.obj[item] = s\n",
      "/usr/local/lib/python3.5/dist-packages/ipykernel_launcher.py:15: SettingWithCopyWarning: \n",
      "A value is trying to be set on a copy of a slice from a DataFrame.\n",
      "Try using .loc[row_indexer,col_indexer] = value instead\n",
      "\n",
      "See the caveats in the documentation: http://pandas.pydata.org/pandas-docs/stable/indexing.html#indexing-view-versus-copy\n",
      "  from ipykernel import kernelapp as app\n",
      "/usr/local/lib/python3.5/dist-packages/ipykernel_launcher.py:16: SettingWithCopyWarning: \n",
      "A value is trying to be set on a copy of a slice from a DataFrame.\n",
      "Try using .loc[row_indexer,col_indexer] = value instead\n",
      "\n",
      "See the caveats in the documentation: http://pandas.pydata.org/pandas-docs/stable/indexing.html#indexing-view-versus-copy\n",
      "  app.launch_new_instance()\n",
      "/usr/local/lib/python3.5/dist-packages/ipykernel_launcher.py:17: SettingWithCopyWarning: \n",
      "A value is trying to be set on a copy of a slice from a DataFrame.\n",
      "Try using .loc[row_indexer,col_indexer] = value instead\n",
      "\n",
      "See the caveats in the documentation: http://pandas.pydata.org/pandas-docs/stable/indexing.html#indexing-view-versus-copy\n"
     ]
    }
   ],
   "source": [
    "## Criando um dataframe com os times ativos em 2019\n",
    "listadesiglas = []\n",
    "for i in range (0,len(proficiencia.keys())):\n",
    "    for sigla in list(list(proficiencia.values())[i].keys()):\n",
    "        listadesiglas.append(sigla)\n",
    "Times_2019 = Times[Times.Sigla.isin(listadesiglas)]\n",
    "del Times_2019['Força Inicial']\n",
    "del Times_2019['Força atualizada']\n",
    "lista2 = []\n",
    "\n",
    "for time in Times_2019.Sigla:\n",
    "    lista2.append(proficiencia[list(Times_2019[Times_2019.Sigla==time]['Região'])[0]][time])\n",
    "    Times_2019.at[Times_2019[Times_2019.Sigla==time].index, 'Porcentagem de Vitorias'] = porc_vit[time]\n",
    "            \n",
    "Times_2019['Proficiencia'] = pd.Series(lista2, index=Times_2019.index)\n",
    "Times_2019['Porcentagem de Vitorias'] = Times_2019['Porcentagem de Vitorias'].apply(lambda x:int(10000*x))\n",
    "Times_2019['Porcentagem de Vitorias'] = Times_2019['Porcentagem de Vitorias'].apply(lambda x:x/100)"
   ]
  },
  {
   "cell_type": "code",
   "execution_count": 67,
   "metadata": {},
   "outputs": [
    {
     "data": {
      "text/html": [
       "<div>\n",
       "<style scoped>\n",
       "    .dataframe tbody tr th:only-of-type {\n",
       "        vertical-align: middle;\n",
       "    }\n",
       "\n",
       "    .dataframe tbody tr th {\n",
       "        vertical-align: top;\n",
       "    }\n",
       "\n",
       "    .dataframe thead th {\n",
       "        text-align: right;\n",
       "    }\n",
       "</style>\n",
       "<table border=\"1\" class=\"dataframe\">\n",
       "  <thead>\n",
       "    <tr style=\"text-align: right;\">\n",
       "      <th></th>\n",
       "      <th>Sigla</th>\n",
       "      <th>Região</th>\n",
       "      <th>Porcentagem de Vitorias</th>\n",
       "      <th>Proficiencia</th>\n",
       "    </tr>\n",
       "    <tr>\n",
       "      <th>Número</th>\n",
       "      <th></th>\n",
       "      <th></th>\n",
       "      <th></th>\n",
       "      <th></th>\n",
       "    </tr>\n",
       "  </thead>\n",
       "  <tbody>\n",
       "    <tr>\n",
       "      <th>4</th>\n",
       "      <td>GRF</td>\n",
       "      <td>KR</td>\n",
       "      <td>79.48</td>\n",
       "      <td>1.067</td>\n",
       "    </tr>\n",
       "    <tr>\n",
       "      <th>5</th>\n",
       "      <td>KZ</td>\n",
       "      <td>KR</td>\n",
       "      <td>69.23</td>\n",
       "      <td>1.028</td>\n",
       "    </tr>\n",
       "    <tr>\n",
       "      <th>7</th>\n",
       "      <td>SKT</td>\n",
       "      <td>KR</td>\n",
       "      <td>70.45</td>\n",
       "      <td>0.977</td>\n",
       "    </tr>\n",
       "    <tr>\n",
       "      <th>19</th>\n",
       "      <td>DWG</td>\n",
       "      <td>KR</td>\n",
       "      <td>59.52</td>\n",
       "      <td>0.555</td>\n",
       "    </tr>\n",
       "    <tr>\n",
       "      <th>18</th>\n",
       "      <td>SB</td>\n",
       "      <td>KR</td>\n",
       "      <td>63.63</td>\n",
       "      <td>0.528</td>\n",
       "    </tr>\n",
       "    <tr>\n",
       "      <th>6</th>\n",
       "      <td>HLE</td>\n",
       "      <td>KR</td>\n",
       "      <td>48.78</td>\n",
       "      <td>0.316</td>\n",
       "    </tr>\n",
       "    <tr>\n",
       "      <th>2</th>\n",
       "      <td>GEN</td>\n",
       "      <td>KR</td>\n",
       "      <td>36.36</td>\n",
       "      <td>0.196</td>\n",
       "    </tr>\n",
       "    <tr>\n",
       "      <th>3</th>\n",
       "      <td>AFS</td>\n",
       "      <td>KR</td>\n",
       "      <td>32.55</td>\n",
       "      <td>0.167</td>\n",
       "    </tr>\n",
       "    <tr>\n",
       "      <th>1</th>\n",
       "      <td>KT</td>\n",
       "      <td>KR</td>\n",
       "      <td>30.95</td>\n",
       "      <td>0.137</td>\n",
       "    </tr>\n",
       "    <tr>\n",
       "      <th>8</th>\n",
       "      <td>JAG</td>\n",
       "      <td>KR</td>\n",
       "      <td>7.89</td>\n",
       "      <td>0.029</td>\n",
       "    </tr>\n",
       "  </tbody>\n",
       "</table>\n",
       "</div>"
      ],
      "text/plain": [
       "       Sigla Região  Porcentagem de Vitorias  Proficiencia\n",
       "Número                                                    \n",
       "4        GRF     KR                    79.48         1.067\n",
       "5         KZ     KR                    69.23         1.028\n",
       "7        SKT     KR                    70.45         0.977\n",
       "19       DWG     KR                    59.52         0.555\n",
       "18        SB     KR                    63.63         0.528\n",
       "6        HLE     KR                    48.78         0.316\n",
       "2        GEN     KR                    36.36         0.196\n",
       "3        AFS     KR                    32.55         0.167\n",
       "1         KT     KR                    30.95         0.137\n",
       "8        JAG     KR                     7.89         0.029"
      ]
     },
     "execution_count": 67,
     "metadata": {},
     "output_type": "execute_result"
    }
   ],
   "source": [
    "Times_2019[Times_2019['Região']=='KR'].sort_values(by =['Proficiencia'], ascending = False).round(3)"
   ]
  },
  {
   "cell_type": "markdown",
   "metadata": {},
   "source": [
    "#### Modelo com constante de esquecimento melhor em 66,1 % dos casos"
   ]
  },
  {
   "cell_type": "markdown",
   "metadata": {},
   "source": [
    "### Previsoes da Liga Coreana\n",
    "####  Taxa de Acerto na Fase de Grupos: 25/32   78,13%\n",
    "#### Taxa de Acerto em Play-Offs : 66,66%"
   ]
  },
  {
   "cell_type": "code",
   "execution_count": 72,
   "metadata": {},
   "outputs": [
    {
     "name": "stdout",
     "output_type": "stream",
     "text": [
      "         SB vs DWG\n",
      "SB tem 47.53 % de chance de vitória.Sendo:\n",
      "23.38 % a de ser 2-0\n",
      "24.15 % a de ser 2-1\n",
      "Enquanto DWG tem 52.47 %. Sendo:\n",
      "26.68 % a de ser 2-0\n",
      "25.80 % a de ser 2-1\n"
     ]
    }
   ],
   "source": [
    "probabilidade('SB','DWG',3) #OK +++"
   ]
  },
  {
   "cell_type": "code",
   "execution_count": 10,
   "metadata": {},
   "outputs": [
    {
     "name": "stdout",
     "output_type": "stream",
     "text": [
      "         DWG vs KZ\n",
      "DWG tem 25.48 % de chance de vitória.Sendo:\n",
      "4.76 % a de ser 3-0\n",
      "9.11 % a de ser 3-1\n",
      "11.61 % a de ser 3-2\n",
      "Enquanto KZ tem 74.52 %. Sendo:\n",
      "25.92 % a de ser 3-0\n",
      "28.18 % a de ser 3-1\n",
      "20.43 % a de ser 3-2\n"
     ]
    }
   ],
   "source": [
    "probabilidade('DWG','KZ',5) #OK +++"
   ]
  },
  {
   "cell_type": "code",
   "execution_count": 15,
   "metadata": {},
   "outputs": [
    {
     "name": "stdout",
     "output_type": "stream",
     "text": [
      "         SKT vs KZ\n",
      "SKT tem 31.22 % de chance de vitória.Sendo:\n",
      "6.26 % a de ser 3-0\n",
      "11.32 % a de ser 3-1\n",
      "13.65 % a de ser 3-2\n",
      "Enquanto KZ tem 68.78 %. Sendo:\n",
      "21.93 % a de ser 3-0\n",
      "26.12 % a de ser 3-1\n",
      "20.73 % a de ser 3-2\n"
     ]
    }
   ],
   "source": [
    "probabilidade('SKT','KZ',5) #N"
   ]
  },
  {
   "cell_type": "code",
   "execution_count": 8,
   "metadata": {},
   "outputs": [
    {
     "name": "stdout",
     "output_type": "stream",
     "text": [
      "         SKT vs GRF\n",
      "SKT tem 57.77 % de chance de vitória.Sendo:\n",
      "15.89 % a de ser 3-0\n",
      "21.85 % a de ser 3-1\n",
      "20.03 % a de ser 3-2\n",
      "Enquanto GRF tem 42.23 %. Sendo:\n",
      "9.63 % a de ser 3-0\n",
      "15.65 % a de ser 3-1\n",
      "16.95 % a de ser 3-2\n"
     ]
    }
   ],
   "source": [
    "probabilidade('SKT','GRF',5)"
   ]
  },
  {
   "cell_type": "markdown",
   "metadata": {},
   "source": [
    "### -----------------------------------------------------------------------------------------------------------------------------------------------"
   ]
  },
  {
   "cell_type": "markdown",
   "metadata": {},
   "source": [
    "### Previsoes da Liga Chinesa\n",
    "####  Taxa de Acerto na Fase de Grupos: 38/48   79,17%\n",
    "#### Taxa de Acerto em Play-Offs : 50%"
   ]
  },
  {
   "cell_type": "code",
   "execution_count": 24,
   "metadata": {},
   "outputs": [
    {
     "name": "stdout",
     "output_type": "stream",
     "text": [
      "         WE vs JDG\n",
      "WE tem 77.73 % de chance de vitória.Sendo:\n",
      "28.50 % a de ser 3-0\n",
      "29.24 % a de ser 3-1\n",
      "19.99 % a de ser 3-2\n",
      "Enquanto JDG tem 22.27 %. Sendo:\n",
      "4.00 % a de ser 3-0\n",
      "7.89 % a de ser 3-1\n",
      "10.38 % a de ser 3-2\n"
     ]
    }
   ],
   "source": [
    "probabilidade('WE','JDG',5) #N"
   ]
  },
  {
   "cell_type": "code",
   "execution_count": 35,
   "metadata": {},
   "outputs": [
    {
     "name": "stdout",
     "output_type": "stream",
     "text": [
      "         SDG vs EDG\n",
      "SDG tem 54.13 % de chance de vitória.Sendo:\n",
      "14.23 % a de ser 3-0\n",
      "20.40 % a de ser 3-1\n",
      "19.50 % a de ser 3-2\n",
      "Enquanto EDG tem 45.87 %. Sendo:\n",
      "10.92 % a de ser 3-0\n",
      "17.10 % a de ser 3-1\n",
      "17.85 % a de ser 3-2\n"
     ]
    }
   ],
   "source": [
    "probabilidade('SDG','EDG',5) #OK +++"
   ]
  },
  {
   "cell_type": "code",
   "execution_count": 20,
   "metadata": {
    "scrolled": true
   },
   "outputs": [
    {
     "name": "stdout",
     "output_type": "stream",
     "text": [
      "         RNG vs JDG\n",
      "RNG tem 68.36 % de chance de vitória.Sendo:\n",
      "21.67 % a de ser 3-0\n",
      "25.96 % a de ser 3-1\n",
      "20.74 % a de ser 3-2\n",
      "Enquanto JDG tem 31.64 %. Sendo:\n",
      "6.37 % a de ser 3-0\n",
      "11.48 % a de ser 3-1\n",
      "13.79 % a de ser 3-2\n"
     ]
    }
   ],
   "source": [
    "probabilidade('RNG','JDG',5) #N"
   ]
  },
  {
   "cell_type": "code",
   "execution_count": 8,
   "metadata": {},
   "outputs": [
    {
     "name": "stdout",
     "output_type": "stream",
     "text": [
      "         TOP vs SDG\n",
      "TOP tem 46.05 % de chance de vitória.Sendo:\n",
      "10.98 % a de ser 3-0\n",
      "17.17 % a de ser 3-1\n",
      "17.89 % a de ser 3-2\n",
      "Enquanto SDG tem 53.95 %. Sendo:\n",
      "14.15 % a de ser 3-0\n",
      "20.33 % a de ser 3-1\n",
      "19.47 % a de ser 3-2\n"
     ]
    }
   ],
   "source": [
    "probabilidade('TOP','SDG',5) #OK"
   ]
  },
  {
   "cell_type": "code",
   "execution_count": 9,
   "metadata": {},
   "outputs": [
    {
     "name": "stdout",
     "output_type": "stream",
     "text": [
      "         JDG vs FPX\n",
      "JDG tem 14.62 % de chance de vitória.Sendo:\n",
      "2.36 % a de ser 3-0\n",
      "5.05 % a de ser 3-1\n",
      "7.20 % a de ser 3-2\n",
      "Enquanto FPX tem 85.38 %. Sendo:\n",
      "36.26 % a de ser 3-0\n",
      "31.21 % a de ser 3-1\n",
      "17.91 % a de ser 3-2\n"
     ]
    }
   ],
   "source": [
    "probabilidade('JDG','FPX',5)"
   ]
  },
  {
   "cell_type": "markdown",
   "metadata": {},
   "source": [
    "### -----------------------------------------------------------------------------------------------------------------------------------------------"
   ]
  },
  {
   "cell_type": "markdown",
   "metadata": {},
   "source": [
    "### Previsoes da Liga Norte Americana\n",
    "####  Taxa de Acerto na Fase de Grupos: 23/31    74,19%\n",
    "#### Taxa de Acerto em Play-Offs : 100%"
   ]
  },
  {
   "cell_type": "code",
   "execution_count": 57,
   "metadata": {},
   "outputs": [
    {
     "name": "stdout",
     "output_type": "stream",
     "text": [
      "         FLY vs GGS\n",
      "FLY tem 52.24 % de chance de vitória.Sendo:\n",
      "13.42 % a de ser 3-0\n",
      "19.64 % a de ser 3-1\n",
      "19.18 % a de ser 3-2\n",
      "Enquanto GGS tem 47.76 %. Sendo:\n",
      "11.63 % a de ser 3-0\n",
      "17.86 % a de ser 3-1\n",
      "18.28 % a de ser 3-2\n"
     ]
    }
   ],
   "source": [
    "probabilidade('FLY','GGS',5) #OK +++++"
   ]
  },
  {
   "cell_type": "code",
   "execution_count": 67,
   "metadata": {},
   "outputs": [
    {
     "name": "stdout",
     "output_type": "stream",
     "text": [
      "         TSM vs FOX\n",
      "TSM tem 95.18 % de chance de vitória.Sendo:\n",
      "53.80 % a de ser 3-0\n",
      "30.13 % a de ser 3-1\n",
      "11.25 % a de ser 3-2\n",
      "Enquanto FOX tem 4.82 %. Sendo:\n",
      "0.65 % a de ser 3-0\n",
      "1.59 % a de ser 3-1\n",
      "2.58 % a de ser 3-2\n"
     ]
    }
   ],
   "source": [
    "probabilidade('TSM','FOX',5) #OK +++"
   ]
  },
  {
   "cell_type": "code",
   "execution_count": 11,
   "metadata": {},
   "outputs": [
    {
     "name": "stdout",
     "output_type": "stream",
     "text": [
      "         TSM vs C9\n",
      "TSM tem 57.52 % de chance de vitória.Sendo:\n",
      "15.77 % a de ser 3-0\n",
      "21.75 % a de ser 3-1\n",
      "20.00 % a de ser 3-2\n",
      "Enquanto C9 tem 42.48 %. Sendo:\n",
      "9.71 % a de ser 3-0\n",
      "15.75 % a de ser 3-1\n",
      "17.02 % a de ser 3-2\n"
     ]
    }
   ],
   "source": [
    "probabilidade('TSM','C9',5) #OK"
   ]
  },
  {
   "cell_type": "code",
   "execution_count": 13,
   "metadata": {},
   "outputs": [
    {
     "name": "stdout",
     "output_type": "stream",
     "text": [
      "         TL vs FLY\n",
      "TL tem 83.94 % de chance de vitória.Sendo:\n",
      "34.57 % a de ser 3-0\n",
      "30.92 % a de ser 3-1\n",
      "18.44 % a de ser 3-2\n",
      "Enquanto FLY tem 16.06 %. Sendo:\n",
      "2.65 % a de ser 3-0\n",
      "5.58 % a de ser 3-1\n",
      "7.83 % a de ser 3-2\n"
     ]
    }
   ],
   "source": [
    "probabilidade('TL','FLY',5) #OK +++++"
   ]
  },
  {
   "cell_type": "code",
   "execution_count": 12,
   "metadata": {},
   "outputs": [
    {
     "name": "stdout",
     "output_type": "stream",
     "text": [
      "         TSM vs TL\n",
      "TSM tem 53.26 % de chance de vitória.Sendo:\n",
      "13.85 % a de ser 3-0\n",
      "20.05 % a de ser 3-1\n",
      "19.36 % a de ser 3-2\n",
      "Enquanto TL tem 46.74 %. Sendo:\n",
      "11.24 % a de ser 3-0\n",
      "17.45 % a de ser 3-1\n",
      "18.05 % a de ser 3-2\n"
     ]
    }
   ],
   "source": [
    "probabilidade('TSM','TL',5)"
   ]
  },
  {
   "cell_type": "markdown",
   "metadata": {},
   "source": [
    "### -----------------------------------------------------------------------------------------------------------------------------------------------"
   ]
  },
  {
   "cell_type": "markdown",
   "metadata": {},
   "source": [
    "### Previsoes da Liga Europeia\n",
    "#### Taxa de Acerto na Fase de Grupos: 16/26 61,54%\n",
    "#### Taxa de Acerto em Play-Offs : 75%"
   ]
  },
  {
   "cell_type": "code",
   "execution_count": 14,
   "metadata": {},
   "outputs": [
    {
     "name": "stdout",
     "output_type": "stream",
     "text": [
      "         FNC vs VIT\n",
      "FNC tem 85.59 % de chance de vitória.Sendo:\n",
      "36.51 % a de ser 3-0\n",
      "31.25 % a de ser 3-1\n",
      "17.83 % a de ser 3-2\n",
      "Enquanto VIT tem 14.41 %. Sendo:\n",
      "2.32 % a de ser 3-0\n",
      "4.98 % a de ser 3-1\n",
      "7.11 % a de ser 3-2\n"
     ]
    }
   ],
   "source": [
    "probabilidade('FNC','VIT',5) #OK +++++"
   ]
  },
  {
   "cell_type": "code",
   "execution_count": 29,
   "metadata": {},
   "outputs": [
    {
     "name": "stdout",
     "output_type": "stream",
     "text": [
      "         SPY vs SK\n",
      "SPY tem 68.00 % de chance de vitória.Sendo:\n",
      "21.44 % a de ser 3-0\n",
      "25.82 % a de ser 3-1\n",
      "20.74 % a de ser 3-2\n",
      "Enquanto SK tem 32.00 %. Sendo:\n",
      "6.47 % a de ser 3-0\n",
      "11.62 % a de ser 3-1\n",
      "13.91 % a de ser 3-2\n"
     ]
    }
   ],
   "source": [
    "probabilidade('SPY','SK',5) #OK +++++"
   ]
  },
  {
   "cell_type": "code",
   "execution_count": 14,
   "metadata": {},
   "outputs": [
    {
     "name": "stdout",
     "output_type": "stream",
     "text": [
      "         FNC vs SPY\n",
      "FNC tem 71.32 % de chance de vitória.Sendo:\n",
      "23.60 % a de ser 3-0\n",
      "27.05 % a de ser 3-1\n",
      "20.67 % a de ser 3-2\n",
      "Enquanto SPY tem 28.68 %. Sendo:\n",
      "5.57 % a de ser 3-0\n",
      "10.33 % a de ser 3-1\n",
      "12.77 % a de ser 3-2\n"
     ]
    }
   ],
   "source": [
    "probabilidade('FNC','SPY',5) #OK +++++"
   ]
  },
  {
   "cell_type": "code",
   "execution_count": 10,
   "metadata": {},
   "outputs": [
    {
     "name": "stdout",
     "output_type": "stream",
     "text": [
      "         OG vs G2\n",
      "OG tem 24.30 % de chance de vitória.Sendo:\n",
      "4.47 % a de ser 3-0\n",
      "8.66 % a de ser 3-1\n",
      "11.17 % a de ser 3-2\n",
      "Enquanto G2 tem 75.70 %. Sendo:\n",
      "26.83 % a de ser 3-0\n",
      "28.58 % a de ser 3-1\n",
      "20.29 % a de ser 3-2\n"
     ]
    }
   ],
   "source": [
    "probabilidade('OG','G2',5) #N"
   ]
  },
  {
   "cell_type": "code",
   "execution_count": 10,
   "metadata": {},
   "outputs": [
    {
     "name": "stdout",
     "output_type": "stream",
     "text": [
      "         OG vs FNC\n",
      "OG tem 16.45 % de chance de vitória.Sendo:\n",
      "2.73 % a de ser 3-0\n",
      "5.72 % a de ser 3-1\n",
      "8.00 % a de ser 3-2\n",
      "Enquanto FNC tem 83.55 %. Sendo:\n",
      "34.14 % a de ser 3-0\n",
      "30.84 % a de ser 3-1\n",
      "18.57 % a de ser 3-2\n"
     ]
    }
   ],
   "source": [
    "probabilidade('OG','FNC',5)"
   ]
  },
  {
   "cell_type": "markdown",
   "metadata": {},
   "source": [
    "### -----------------------------------------------------------------------------------------------------------------------------------------------"
   ]
  },
  {
   "cell_type": "markdown",
   "metadata": {},
   "source": [
    "### Previsoes da Liga Brasileira\n",
    "#### Taxa de Acerto na Fase de Grupos: 29/36    80,55%\n",
    "#### Taxa de Acerto em Play-Offs : 100%"
   ]
  },
  {
   "cell_type": "code",
   "execution_count": 12,
   "metadata": {},
   "outputs": [
    {
     "name": "stdout",
     "output_type": "stream",
     "text": [
      "         FLA vs CNB\n",
      "FLA tem 99.96 % de chance de vitória.Sendo:\n",
      "90.18 % a de ser 3-0\n",
      "9.16 % a de ser 3-1\n",
      "0.62 % a de ser 3-2\n",
      "Enquanto CNB tem 0.04 %. Sendo:\n",
      "0.00 % a de ser 3-0\n",
      "0.01 % a de ser 3-1\n",
      "0.02 % a de ser 3-2\n"
     ]
    }
   ],
   "source": [
    "probabilidade('FLA','CNB',5) #OK +++++"
   ]
  },
  {
   "cell_type": "code",
   "execution_count": 13,
   "metadata": {},
   "outputs": [
    {
     "name": "stdout",
     "output_type": "stream",
     "text": [
      "         RDP vs ITZ\n",
      "RDP tem 31.26 % de chance de vitória.Sendo:\n",
      "6.27 % a de ser 3-0\n",
      "11.33 % a de ser 3-1\n",
      "13.66 % a de ser 3-2\n",
      "Enquanto ITZ tem 68.74 %. Sendo:\n",
      "21.91 % a de ser 3-0\n",
      "26.10 % a de ser 3-1\n",
      "20.73 % a de ser 3-2\n"
     ]
    }
   ],
   "source": [
    "probabilidade('RDP','ITZ',5) #OK +++"
   ]
  },
  {
   "cell_type": "code",
   "execution_count": 11,
   "metadata": {},
   "outputs": [
    {
     "name": "stdout",
     "output_type": "stream",
     "text": [
      "         FLA vs ITZ\n",
      "FLA tem 99.77 % de chance de vitória.Sendo:\n",
      "82.07 % a de ser 3-0\n",
      "15.69 % a de ser 3-1\n",
      "2.00 % a de ser 3-2\n",
      "Enquanto ITZ tem 0.23 %. Sendo:\n",
      "0.03 % a de ser 3-0\n",
      "0.07 % a de ser 3-1\n",
      "0.14 % a de ser 3-2\n"
     ]
    }
   ],
   "source": [
    "probabilidade('FLA','ITZ',5)"
   ]
  },
  {
   "cell_type": "markdown",
   "metadata": {},
   "source": [
    "#### PS: em outros campeonatos : 3-2 em play-offs"
   ]
  },
  {
   "cell_type": "markdown",
   "metadata": {},
   "source": [
    "# Calculo da proficiencia relativa entre as regioes"
   ]
  },
  {
   "cell_type": "code",
   "execution_count": 551,
   "metadata": {},
   "outputs": [],
   "source": [
    "#Criando um dicionario com todas as regioes\n",
    "regions = {}\n",
    "for reg in set(Times.Região): \n",
    "    regions[reg] = list(Times.Sigla[Times.Região == reg])\n",
    "    \n",
    "#Criando um com todos os mundiais e importando os respectivos jogos\n",
    "    mundial = {}\n",
    "for ano in range (2011,2019):\n",
    "    mundial[ano] = arrumadados(\"MUNDIAIS.xlsx\",ano-2010,True)\n",
    "\n",
    "#Criando um dataframe com as regiões e suas proficiências em cada ano\n",
    "Proficiencias_Relativas = pd.DataFrame(data = None, index = list(set(Times.Região)),columns = [2011,2012,2013,2014,2015,2016,2017,2018,2019])\n"
   ]
  },
  {
   "cell_type": "code",
   "execution_count": 553,
   "metadata": {},
   "outputs": [],
   "source": [
    "#Criando uma função que adiciona a proficiência relativa de cada região no dataframe\n",
    "def adicione(ano):\n",
    "    m = min(proficiencia.values())\n",
    "    M = max(proficiencia.values())\n",
    "    for reg in set(Times.Região):\n",
    "        if reg in list(proficiencia.keys()):\n",
    "            Proficiencias_Relativas.loc[[reg],[ano]] = (proficiencia[reg]-m)/(M-m)\n",
    "            \n",
    "#Modificando a funcao original pra que se adeque ao objetivo proposto\n",
    "def vero_reg(x):\n",
    "    y = 0\n",
    "    for time in times:\n",
    "        proficiencia_reg[time] = x[y]\n",
    "        y+=1\n",
    "    multiplicatorio = 1\n",
    "    for ano in range(2011,2019):\n",
    "        cship = mundial[ano]\n",
    "        coef = 1 - (2018-ano)/8\n",
    "        for game in range (0,int(cship.shape[0])):\n",
    "            pv = proficiencia_reg[cship.iloc[game].Winner]\n",
    "            pl = proficiencia_reg[cship.iloc[game].Loser]\n",
    "            multiplicatorio *= (pv/(pv+pl))**(coef)\n",
    "    \n",
    "    return -np.log(multiplicatorio)\n",
    "\n",
    "def probabilidadeR(A,B):\n",
    "    x = proficiencia_reg[A]/(proficiencia_reg[A]+proficiencia_reg[B])\n",
    "    print(\"         {} vs {}\".format(A,B))\n",
    "    print(\"{} tem {:.2f} % de chance de vitória\".format(A,100*x))\n",
    "    print(\"Enquanto {} tem {:.2f} %\".format(B,100*(1-x)))"
   ]
  },
  {
   "cell_type": "code",
   "execution_count": 554,
   "metadata": {},
   "outputs": [],
   "source": [
    "for camp in mundial.values():\n",
    "    for reg in set(Times.Região):\n",
    "        for linha in range(0,camp.shape[0]):\n",
    "            if camp.iloc[linha].Winner in regions[reg]:\n",
    "                camp.iloc[linha].Winner = reg\n",
    "            if camp.iloc[linha].Loser in regions[reg]:\n",
    "                camp.iloc[linha].Loser = reg"
   ]
  },
  {
   "cell_type": "code",
   "execution_count": 532,
   "metadata": {
    "scrolled": true
   },
   "outputs": [
    {
     "data": {
      "text/plain": [
       "{'BR': 0.11340527773331911,\n",
       " 'CIS': 0.674702043456038,\n",
       " 'CN': 1.3065021478148244,\n",
       " 'EU': 1.0,\n",
       " 'JPN': 0.06729952276967999,\n",
       " 'KR': 2.252599874444157,\n",
       " 'LAN': 0.3412384251901959,\n",
       " 'LAS': 0.07090566327481033,\n",
       " 'NA': 0.8036978293355066,\n",
       " 'OCEANIA': 0.08932550771918506,\n",
       " 'SEA': 0.015643127392125797,\n",
       " 'TRK': 0.2634733283402824,\n",
       " 'TWHKMA': 0.455997806299471,\n",
       " 'VN': 0.3427505228918947}"
      ]
     },
     "execution_count": 532,
     "metadata": {},
     "output_type": "execute_result"
    }
   ],
   "source": [
    "proficiencia_reg = {}\n",
    "cons = con1\n",
    "liga,times,sigla = liga_usada(lck_2019_1,list(set(Times.Região)),'MUND')\n",
    "sol = minimize(vero_reg,x0,method = 'SLSQP',constraints = cons,bounds = bnds)\n",
    "proficiencia_reg"
   ]
  },
  {
   "cell_type": "code",
   "execution_count": 538,
   "metadata": {},
   "outputs": [
    {
     "data": {
      "text/plain": [
       "[('SEA', 0.015643127392125797),\n",
       " ('JPN', 0.06729952276967999),\n",
       " ('LAS', 0.07090566327481033),\n",
       " ('OCEANIA', 0.08932550771918506),\n",
       " ('BR', 0.11340527773331911),\n",
       " ('TRK', 0.2634733283402824),\n",
       " ('LAN', 0.3412384251901959),\n",
       " ('VN', 0.3427505228918947),\n",
       " ('TWHKMA', 0.455997806299471),\n",
       " ('CIS', 0.674702043456038),\n",
       " ('NA', 0.8036978293355066),\n",
       " ('EU', 1.0),\n",
       " ('CN', 1.3065021478148244),\n",
       " ('KR', 2.252599874444157)]"
      ]
     },
     "execution_count": 538,
     "metadata": {},
     "output_type": "execute_result"
    }
   ],
   "source": [
    "sorted(proficiencia_reg.items(), key=lambda x: x[1])"
   ]
  },
  {
   "cell_type": "code",
   "execution_count": 542,
   "metadata": {},
   "outputs": [
    {
     "name": "stdout",
     "output_type": "stream",
     "text": [
      "         LAS vs BR\n",
      "LAS tem 38.47 % de chance de vitória\n",
      "Enquanto BR tem 61.53 %\n"
     ]
    }
   ],
   "source": [
    "probabilidadeR('LAS','BR')"
   ]
  }
 ],
 "metadata": {
  "kernelspec": {
   "display_name": "Python 3",
   "language": "python",
   "name": "python3"
  },
  "language_info": {
   "codemirror_mode": {
    "name": "ipython",
    "version": 3
   },
   "file_extension": ".py",
   "mimetype": "text/x-python",
   "name": "python",
   "nbconvert_exporter": "python",
   "pygments_lexer": "ipython3",
   "version": "3.5.2"
  }
 },
 "nbformat": 4,
 "nbformat_minor": 2
}
