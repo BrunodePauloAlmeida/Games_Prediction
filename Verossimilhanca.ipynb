{
 "cells": [
  {
   "cell_type": "markdown",
   "metadata": {},
   "source": [
    "# Calculo das Proficiencias Individuais"
   ]
  },
  {
   "cell_type": "code",
   "execution_count": 1,
   "metadata": {},
   "outputs": [],
   "source": [
    "proficiencia = {}\n",
    "porc_vit = {}"
   ]
  },
  {
   "cell_type": "code",
   "execution_count": 2,
   "metadata": {},
   "outputs": [],
   "source": [
    "import pandas as pd\n",
    "import numpy as np\n",
    "import random as rd\n",
    "from math import ceil,floor,factorial\n",
    "from scipy.optimize import minimize\n",
    "Times = pd.read_excel('TIMES.xlsx')\n",
    "Times.set_index('Número', inplace = True)\n",
    "Times.fillna('NA', inplace = True)\n",
    "Times['Porcentagem de Vitorias'] = pd.Series(np.random.randn(len(list(Times.Sigla))), index=Times.index)\n",
    "Times_msi = ['IG','G2','SKT','TL','FW','VEG','MEGA','FB','PVB','ITZ','DFM','ISG','BMR']\n",
    "ACERTOS=0\n",
    "JOGOS_TOTAIS = 0"
   ]
  },
  {
   "cell_type": "code",
   "execution_count": 3,
   "metadata": {},
   "outputs": [],
   "source": [
    "def arrumadados(sheet,guia,vero = False):\n",
    "    arquivo = pd.ExcelFile(sheet)\n",
    "    liga = pd.read_excel(arquivo,guia-1)\n",
    "    if not vero:\n",
    "        liga = liga[3:]\n",
    "    liga.fillna(0,inplace = True)\n",
    "    liga.replace(0.7,0.8, inplace = True)\n",
    "    return liga"
   ]
  },
  {
   "cell_type": "code",
   "execution_count": 8,
   "metadata": {},
   "outputs": [],
   "source": [
    "liga_time_reg = []\n",
    "#Declarando as tabelas de jogos de cada regiao\n",
    "cblol_2019_1 = arrumadados('2019/CBLOL_BRASIL_2019.xlsx',1,True)\n",
    "a = list(cblol_2019_1.Winner)\n",
    "a.extend(list(cblol_2019_1.Loser))\n",
    "times_cblol_2019 = set(a)\n",
    "liga_time_reg.append((cblol_2019_1,times_cblol_2019,'BR'))\n",
    "\n",
    "lec_2019_1 = arrumadados('2019/LEC_EUROPA_2019.xlsx',1,True)\n",
    "a = list(lec_2019_1.Winner)\n",
    "a.extend(list(lec_2019_1.Loser))\n",
    "times_lec_2019 = set(a)\n",
    "liga_time_reg.append((lec_2019_1,times_lec_2019,'EU'))\n",
    "\n",
    "lcs_2019_1 = arrumadados('2019/LCS_USA_2019.xlsx',1,True)\n",
    "lcs_2019_1.replace('100',100, inplace = True)\n",
    "a = list(lcs_2019_1.Winner)\n",
    "a.extend(list(lcs_2019_1.Loser))\n",
    "times_lcs_2019 = set(a)\n",
    "liga_time_reg.append((lcs_2019_1,times_lcs_2019,'NA'))\n",
    "\n",
    "lck_2019_1 = arrumadados('2019/LCK_COREIA_2019.xlsx',1,True)\n",
    "a = list(lck_2019_1.Winner)\n",
    "a.extend(list(lck_2019_1.Loser))\n",
    "times_lck_2019 = set(a)\n",
    "liga_time_reg.append((lck_2019_1,times_lck_2019,'KR'))\n",
    "\n",
    "lpl_2019_1 = arrumadados('2019/LPL_CHINA_2019.xlsx',1,True)\n",
    "a = list(lpl_2019_1.Winner)\n",
    "a.extend(list(lpl_2019_1.Loser))\n",
    "times_lpl_2019 = set(a)\n",
    "liga_time_reg.append((lpl_2019_1,times_lpl_2019,'CN'))\n",
    "\n",
    "lms_2019_1 = arrumadados('2019/LMS_TWHKMA_2019.xlsx',1,True)\n",
    "a = list(lms_2019_1.Winner)\n",
    "a.extend(list(lms_2019_1.Loser))\n",
    "times_lms_2019 = set(a)\n",
    "liga_time_reg.append((lms_2019_1,times_lms_2019,'TWHKMA'))\n",
    "\n",
    "vcs_2019_1 = arrumadados('2019/VCS_VIETNAM_2019.xlsx',1,True)\n",
    "a = list(vcs_2019_1.Winner)\n",
    "a.extend(list(vcs_2019_1.Loser))\n",
    "times_vcs_2019 = set(a)\n",
    "liga_time_reg.append((vcs_2019_1,times_vcs_2019,'VN'))\n",
    "\n",
    "lcl_2019_1 = arrumadados('2019/LCL_CIS_2019.xlsx',1,True)\n",
    "a = list(lcl_2019_1.Winner)\n",
    "a.extend(list(lcl_2019_1.Loser))\n",
    "times_lcl_2019 = set(a)\n",
    "liga_time_reg.append((lcl_2019_1,times_lcl_2019,'CIS'))\n",
    "\n",
    "lla_2019_1 = arrumadados('2019/LLA_LA_2019.xlsx',1,True)\n",
    "a = list(lla_2019_1.Winner)\n",
    "a.extend(list(lla_2019_1.Loser))\n",
    "times_lla_2019 = set(a)\n",
    "liga_time_reg.append((lla_2019_1,times_lla_2019,'LA'))\n",
    "\n",
    "tcl_2019_1 = arrumadados('2019/TCL_TURQUIA_2019.xlsx',1,True)\n",
    "a = list(tcl_2019_1.Winner)\n",
    "a.extend(list(tcl_2019_1.Loser))\n",
    "times_tcl_2019 = set(a)\n",
    "liga_time_reg.append((tcl_2019_1,times_tcl_2019,'TRK'))\n",
    "\n",
    "ljl_2019_1 = arrumadados('2019/LJL_JAPAN_2019.xlsx',1,True)\n",
    "a = list(ljl_2019_1.Winner)\n",
    "a.extend(list(ljl_2019_1.Loser))\n",
    "times_ljl_2019 = set(a)\n",
    "liga_time_reg.append((ljl_2019_1,times_ljl_2019,'JPN'))\n",
    "\n",
    "opl_2019_1 = arrumadados('2019/OPL_OCEANIA_2019.xlsx',1,True)\n",
    "a = list(opl_2019_1.Winner)\n",
    "a.extend(list(opl_2019_1.Loser))\n",
    "times_opl_2019 = set(a)\n",
    "liga_time_reg.append((opl_2019_1,times_opl_2019,'OCEANIA'))\n",
    "\n",
    "lst_2019_1 = arrumadados('2019/LST_SEA_2019.xlsx',1,True)\n",
    "a = list(lst_2019_1.Winner)\n",
    "a.extend(list(lst_2019_1.Loser))\n",
    "times_lst_2019 = set(a)\n",
    "liga_time_reg.append((lst_2019_1,times_lst_2019,'SEA'))"
   ]
  },
  {
   "cell_type": "code",
   "execution_count": 5,
   "metadata": {},
   "outputs": [],
   "source": [
    "def liga_usada(liga,times,sigla):\n",
    "    global x0,b,bnds\n",
    "    x0 = list(np.random.uniform(0.5,2.5,len(times)))\n",
    "    b = (0.001,5.0)\n",
    "    bnds = tuple([b]*len(times))\n",
    "    return (liga,times,sigla)\n",
    "\n",
    "def vero(x):\n",
    "    y = 0\n",
    "    proficiencia[sigla] = {}\n",
    "    for time in times:\n",
    "        proficiencia[sigla][time] = x[y]\n",
    "        y+=1\n",
    "    multiplicatorio = 1\n",
    "    #Defino a constante de esquecimento k, obtida experimentalmente\n",
    "    k = 0.075\n",
    "    for game in range (0,liga.shape[0]):\n",
    "        w = liga.iloc[game].Week\n",
    "        pv = proficiencia[sigla][liga.iloc[game].Winner]\n",
    "        pl = proficiencia[sigla][liga.iloc[game].Loser]\n",
    "        \n",
    "        #Diferenciando play-offs de fase regular\n",
    "        if w>0:\n",
    "            cte = 1 - (max(list(liga.Week)) - w)*k\n",
    "        else:\n",
    "            cte = 1+k\n",
    "        multiplicatorio *= (pv/(pv+pl))**cte\n",
    "    \n",
    "    return -np.log(multiplicatorio)\n",
    "\n",
    "def probabilidade(A,B,n,provisorio = False):\n",
    "    A_list = []\n",
    "    B_list = []\n",
    "    i,k = 0,floor(n/2)\n",
    "    if provisorio:\n",
    "        x = salvar[A]/(salvar[A]+salvar[B])\n",
    "    else:\n",
    "        siglaA = list(Times[Times.Sigla==A]['Região'])[0]\n",
    "        siglaB = list(Times[Times.Sigla==B]['Região'])[0]\n",
    "        x = proficiencia[siglaA][A]/(proficiencia[siglaA][A]+proficiencia[siglaB][B])\n",
    "    print(\"         {} vs {}\".format(A,B))\n",
    "    while (ceil(n/2)+i) <= n:\n",
    "        if i == 0:\n",
    "            A_list.append(x**(ceil(n/2))*(1-x)**(i))\n",
    "            B_list.append(x**(i)*(1-x)**(ceil(n/2)))\n",
    "        else:\n",
    "            p = factorial(k)/(factorial(i)*factorial(k-i)) \n",
    "            A_list.append(p*x**(ceil(n/2))*(1-x)**(i))\n",
    "            B_list.append(p*x**(i)*(1-x)**(ceil(n/2)))\n",
    "        i+=1\n",
    "        k+=1\n",
    "    if n==1:\n",
    "        print('{} tem {:.2f} % de chance de vitória'.format(A,100*sum(A_list)))\n",
    "        print('Enquanto {} tem {:.2f} %.'.format(B,100*sum(B_list)))\n",
    "    else:    \n",
    "        print('{} tem {:.2f} % de chance de vitória.Sendo:'.format(A,100*sum(A_list)))\n",
    "        for b in range(0,ceil(n/2)):\n",
    "            print('{:.2f} % a de ser {}-{}'.format(100*A_list[b],ceil(n/2),b))\n",
    "        print('Enquanto {} tem {:.2f} %. Sendo:'.format(B,100*sum(B_list)))\n",
    "        for b in range(0,ceil(n/2)):\n",
    "            print('{:.2f} % a de ser {}-{}'.format(100*B_list[b],ceil(n/2),b))\n",
    "    \n",
    "def restricao1(x):\n",
    "    return x[0]-1        \n",
    "\n",
    "def restricao2(x):\n",
    "    return sum(x)-5\n",
    "\n",
    "def restricao3(x):\n",
    "    return sum(x)-50\n",
    "\n",
    "con1 = {'type':'eq','fun':restricao1}\n",
    "con2 = {'type':'eq','fun':restricao2}\n",
    "con3 = {'type':'eq','fun':restricao3}\n",
    "cons = [con2]"
   ]
  },
  {
   "cell_type": "code",
   "execution_count": 10,
   "metadata": {},
   "outputs": [
    {
     "data": {
      "text/plain": [
       "{'DA': 0.11660740479998463,\n",
       " 'EPG': 1.4358170278199949,\n",
       " 'GMB': 1.099824548812155,\n",
       " 'M19': 0.18620827128630146,\n",
       " 'ROX': 0.0773522447205315,\n",
       " 'TJ': 0.050483892288703106,\n",
       " 'VEG': 2.032706610334335,\n",
       " 'VS': 0.001}"
      ]
     },
     "execution_count": 10,
     "metadata": {},
     "output_type": "execute_result"
    }
   ],
   "source": [
    "#Para calcular a proficiencia de uma liga apenas\n",
    "liga,times,sigla = liga_usada(lcl_2019_1,times_lcl_2019,'CIS')\n",
    "sol = minimize(vero,x0,method = 'SLSQP',constraints = cons,bounds = bnds)\n",
    "proficiencia[sigla]"
   ]
  },
  {
   "cell_type": "code",
   "execution_count": 9,
   "metadata": {},
   "outputs": [],
   "source": [
    "#Calculando todas as proficiencias de todos os times de todas as ligas\n",
    "for trio in liga_time_reg:    \n",
    "    liga,times,sigla = liga_usada(trio[0],trio[1],trio[2])\n",
    "    sol = minimize(vero,x0,method = 'SLSQP',constraints = cons,bounds = bnds)"
   ]
  },
  {
   "cell_type": "code",
   "execution_count": 10,
   "metadata": {},
   "outputs": [],
   "source": [
    "#Pegando os dados de porcentagem de vitoria de todos os times\n",
    "for trio in liga_time_reg:    \n",
    "    liga,times,sigla = liga_usada(trio[0],trio[1],trio[2])\n",
    "    for team in times:\n",
    "        a = list(liga.Winner)\n",
    "        a.extend(list(liga.Loser))\n",
    "        porc_vit[team] = list(liga.Winner).count(team)/a.count(team)"
   ]
  },
  {
   "cell_type": "markdown",
   "metadata": {},
   "source": [
    "#### Modelo com constante de esquecimento melhor em 66,1 % dos casos\n",
    "### Previsoes da Liga Coreana\n",
    "####  Taxa de Acerto na Fase de Grupos: 25/32   78,13%\n",
    "#### Taxa de Acerto em Play-Offs : 3/4    75%\n",
    "### Previsoes da Liga Chinesa\n",
    "####  Taxa de Acerto na Fase de Grupos: 38/48   79,17%\n",
    "#### Taxa de Acerto em Play-Offs : 4/8 50%\n",
    "### Previsoes da Liga Norte Americana\n",
    "####  Taxa de Acerto na Fase de Grupos: 23/31    74,19%\n",
    "#### Taxa de Acerto em Play-Offs : 5/5 100%\n",
    "### Previsoes da Liga Europeia\n",
    "#### Taxa de Acerto na Fase de Grupos: 16/26 61,54%\n",
    "#### Taxa de Acerto em Play-Offs : 4/6 66,66%\n",
    "### Previsoes da Liga Brasileira\n",
    "#### Taxa de Acerto na Fase de Grupos: 29/36    80,55%\n",
    "#### Taxa de Acerto em Play-Offs : 2/3    66,66%"
   ]
  },
  {
   "cell_type": "markdown",
   "metadata": {},
   "source": [
    "### -----------------------------------------------------------------------------------------------------------------------------------------------"
   ]
  },
  {
   "cell_type": "markdown",
   "metadata": {},
   "source": [
    "### Taxa de Acerto Geral na Fase de Grupos: 131/173 75,72%\n",
    "### Taxa de Acerto Geral em Play-Offs: 24/34 70,59%\n",
    "### Taxa de Acerto Geral Final: 74,88%"
   ]
  },
  {
   "cell_type": "markdown",
   "metadata": {},
   "source": [
    "# Calculo da proficiencia relativa entre as regioes"
   ]
  },
  {
   "cell_type": "code",
   "execution_count": 11,
   "metadata": {},
   "outputs": [],
   "source": [
    "#Trocando os nomes de duas regioes que se juntaram e se tornaram uma so\n",
    "Times.replace('LAS','LA',inplace = True)\n",
    "Times.replace('LAN','LA',inplace = True)\n",
    "#Criando um dicionario com todas as regioes\n",
    "regions = {}\n",
    "for reg in set(Times.Região): \n",
    "    regions[reg] = list(Times.Sigla[Times.Região == reg])\n",
    "    \n",
    "#Criando um com todos os mundiais e importando os respectivos jogos\n",
    "    mundial = {}\n",
    "for ano in range (2011,2019):\n",
    "    mundial[ano] = arrumadados(\"MUNDIAIS.xlsx\",ano-2010,True)\n",
    "\n",
    "#Criando um dataframe com as regiões e suas proficiências em cada ano\n",
    "Proficiencias_Relativas = pd.DataFrame(data = None, index = list(set(Times.Região)),columns = [2011,2012,2013,2014,2015,2016,2017,2018,2019])\n"
   ]
  },
  {
   "cell_type": "code",
   "execution_count": 12,
   "metadata": {},
   "outputs": [],
   "source": [
    "#Definindo bounds diferentes\n",
    "bnds_reg = ((0.001,50.0),(0.001,50.0),(0.001,50.0),(0.001,50.0),(0.001,50.0),(0.001,50.0),(0.001,50.0),(0.001,50.0),(0.001,50.0),(0.001,50.0),(0.001,50.0),(0.001,50.0),(0.001,50.0))\n",
    "#Criando uma função que adiciona a proficiência relativa de cada região no dataframe\n",
    "def adicione(ano):\n",
    "    m = min(proficiencia.values())\n",
    "    M = max(proficiencia.values())\n",
    "    for reg in set(Times.Região):\n",
    "        if reg in list(proficiencia.keys()):\n",
    "            Proficiencias_Relativas.loc[[reg],[ano]] = (proficiencia[reg]-m)/(M-m)\n",
    "            \n",
    "#Modificando a funcao original pra que se adeque ao objetivo proposto\n",
    "def vero_reg(x):\n",
    "    y = 0\n",
    "    for time in times:\n",
    "        proficiencia_reg[time] = x[y]\n",
    "        y+=1\n",
    "    multiplicatorio = 1\n",
    "    for ano in range(2011,2019):\n",
    "        cship = mundial[ano]\n",
    "        coef = 1 - (2018-ano)/8\n",
    "        for game in range (0,int(cship.shape[0])):\n",
    "            pv = proficiencia_reg[cship.iloc[game].Winner]\n",
    "            pl = proficiencia_reg[cship.iloc[game].Loser]\n",
    "            multiplicatorio *= (pv/(pv+pl))**(coef)\n",
    "    \n",
    "    return -np.log(multiplicatorio)\n",
    "\n",
    "def probabilidadeR(A,B):\n",
    "    x = proficiencia_reg[A]/(proficiencia_reg[A]+proficiencia_reg[B])\n",
    "    print(\"         {} vs {}\".format(A,B))\n",
    "    print(\"{} tem {:.2f} % de chance de vitória\".format(A,100*x))\n",
    "    print(\"Enquanto {} tem {:.2f} %\".format(B,100*(1-x)))"
   ]
  },
  {
   "cell_type": "code",
   "execution_count": 13,
   "metadata": {},
   "outputs": [],
   "source": [
    "for camp in mundial.values():\n",
    "    for reg in set(Times.Região):\n",
    "        for linha in range(0,camp.shape[0]):\n",
    "            if camp.iloc[linha].Winner in regions[reg]:\n",
    "                camp.iloc[linha].Winner = reg\n",
    "            if camp.iloc[linha].Loser in regions[reg]:\n",
    "                camp.iloc[linha].Loser = reg"
   ]
  },
  {
   "cell_type": "code",
   "execution_count": 14,
   "metadata": {
    "scrolled": true
   },
   "outputs": [
    {
     "name": "stderr",
     "output_type": "stream",
     "text": [
      "/usr/local/lib/python3.5/dist-packages/ipykernel_launcher.py:26: RuntimeWarning: divide by zero encountered in log\n"
     ]
    },
    {
     "data": {
      "text/plain": [
       "{'BR': 0.723127935655326,\n",
       " 'CIS': 4.478707343325484,\n",
       " 'CN': 8.514593681807442,\n",
       " 'EU': 6.554794847028899,\n",
       " 'JPN': 0.4367357280079335,\n",
       " 'KR': 14.78690278303663,\n",
       " 'LA': 1.3650042335260835,\n",
       " 'NA': 5.2305378554336395,\n",
       " 'OCEANIA': 0.5006368867294304,\n",
       " 'SEA': 0.10266678264949869,\n",
       " 'TRK': 1.735680802885146,\n",
       " 'TWHKMA': 3.0664623163148454,\n",
       " 'VN': 2.5041488185008025}"
      ]
     },
     "execution_count": 14,
     "metadata": {},
     "output_type": "execute_result"
    }
   ],
   "source": [
    "proficiencia_reg = {}\n",
    "cons = con3\n",
    "liga,times,sigla = liga_usada(lck_2019_1,list(set(Times.Região)),'MUND')\n",
    "sol = minimize(vero_reg,x0,method = 'SLSQP',constraints = cons,bounds = bnds_reg)\n",
    "proficiencia_reg"
   ]
  },
  {
   "cell_type": "code",
   "execution_count": 15,
   "metadata": {},
   "outputs": [
    {
     "data": {
      "text/plain": [
       "[('SEA', 0.10266678264949869),\n",
       " ('JPN', 0.4367357280079335),\n",
       " ('OCEANIA', 0.5006368867294304),\n",
       " ('BR', 0.723127935655326),\n",
       " ('LA', 1.3650042335260835),\n",
       " ('TRK', 1.735680802885146),\n",
       " ('VN', 2.5041488185008025),\n",
       " ('TWHKMA', 3.0664623163148454),\n",
       " ('CIS', 4.478707343325484),\n",
       " ('NA', 5.2305378554336395),\n",
       " ('EU', 6.554794847028899),\n",
       " ('CN', 8.514593681807442),\n",
       " ('KR', 14.78690278303663)]"
      ]
     },
     "execution_count": 15,
     "metadata": {},
     "output_type": "execute_result"
    }
   ],
   "source": [
    "sorted(proficiencia_reg.items(), key=lambda x: x[1])"
   ]
  },
  {
   "cell_type": "code",
   "execution_count": 16,
   "metadata": {},
   "outputs": [],
   "source": [
    "#Fazendo a conversao de medida entre as escalas individuais de cada regiao para a escala global\n",
    "#Assim, podemos fazer previsoes entre times de outras regioes\n",
    "for trio in liga_time_reg:    \n",
    "    sigla = trio[2]    \n",
    "    top3 = list(proficiencia[sigla].values())\n",
    "    top3.sort(reverse = True)\n",
    "    top3 = top3[0:3]\n",
    "    p_relativa = proficiencia_reg[sigla]\n",
    "    if sigla=='SEA':\n",
    "        proficiencia[sigla].update((x,y*p_relativa/top3[0]) for x,y in proficiencia[sigla].items())\n",
    "    else:\n",
    "        if sigla in ['EU','NA','CN','KR']:\n",
    "            harm = 3/(1/top3[0] + 1/top3[1] + 1/top3[2])\n",
    "        else:\n",
    "            harm = 2/(1/top3[0] + 1/top3[1])\n",
    "        proficiencia[sigla].update((x,y*p_relativa/harm) for x,y in proficiencia[sigla].items())"
   ]
  },
  {
   "cell_type": "markdown",
   "metadata": {},
   "source": [
    "### -----------------------------------------------------------------------------------------------------------------------------------------------"
   ]
  },
  {
   "cell_type": "code",
   "execution_count": 17,
   "metadata": {},
   "outputs": [
    {
     "name": "stderr",
     "output_type": "stream",
     "text": [
      "/usr/local/lib/python3.5/dist-packages/pandas/core/indexing.py:543: SettingWithCopyWarning: \n",
      "A value is trying to be set on a copy of a slice from a DataFrame.\n",
      "Try using .loc[row_indexer,col_indexer] = value instead\n",
      "\n",
      "See the caveats in the documentation: http://pandas.pydata.org/pandas-docs/stable/indexing.html#indexing-view-versus-copy\n",
      "  self.obj[item] = s\n",
      "/usr/local/lib/python3.5/dist-packages/ipykernel_launcher.py:15: SettingWithCopyWarning: \n",
      "A value is trying to be set on a copy of a slice from a DataFrame.\n",
      "Try using .loc[row_indexer,col_indexer] = value instead\n",
      "\n",
      "See the caveats in the documentation: http://pandas.pydata.org/pandas-docs/stable/indexing.html#indexing-view-versus-copy\n",
      "  from ipykernel import kernelapp as app\n",
      "/usr/local/lib/python3.5/dist-packages/ipykernel_launcher.py:16: SettingWithCopyWarning: \n",
      "A value is trying to be set on a copy of a slice from a DataFrame.\n",
      "Try using .loc[row_indexer,col_indexer] = value instead\n",
      "\n",
      "See the caveats in the documentation: http://pandas.pydata.org/pandas-docs/stable/indexing.html#indexing-view-versus-copy\n",
      "  app.launch_new_instance()\n",
      "/usr/local/lib/python3.5/dist-packages/ipykernel_launcher.py:17: SettingWithCopyWarning: \n",
      "A value is trying to be set on a copy of a slice from a DataFrame.\n",
      "Try using .loc[row_indexer,col_indexer] = value instead\n",
      "\n",
      "See the caveats in the documentation: http://pandas.pydata.org/pandas-docs/stable/indexing.html#indexing-view-versus-copy\n"
     ]
    }
   ],
   "source": [
    "## Criando um dataframe com os times ativos em 2019\n",
    "listadesiglas = []\n",
    "for i in range (0,len(proficiencia.keys())):\n",
    "    for sigla in list(list(proficiencia.values())[i].keys()):\n",
    "        listadesiglas.append(sigla)\n",
    "Times_2019 = Times[Times.Sigla.isin(listadesiglas)]\n",
    "del Times_2019['Força Inicial']\n",
    "del Times_2019['Força atualizada']\n",
    "lista2 = []\n",
    "\n",
    "for time in Times_2019.Sigla:\n",
    "    lista2.append(proficiencia[list(Times_2019[Times_2019.Sigla==time]['Região'])[0]][time])\n",
    "    Times_2019.at[Times_2019[Times_2019.Sigla==time].index, 'Porcentagem de Vitorias'] = porc_vit[time]\n",
    "            \n",
    "Times_2019['Proficiencia'] = pd.Series(lista2, index=Times_2019.index)\n",
    "Times_2019['Porcentagem de Vitorias'] = Times_2019['Porcentagem de Vitorias'].apply(lambda x:int(10000*x))\n",
    "Times_2019['Porcentagem de Vitorias'] = Times_2019['Porcentagem de Vitorias'].apply(lambda x:x/100)"
   ]
  },
  {
   "cell_type": "code",
   "execution_count": 18,
   "metadata": {},
   "outputs": [
    {
     "data": {
      "text/html": [
       "<div>\n",
       "<style scoped>\n",
       "    .dataframe tbody tr th:only-of-type {\n",
       "        vertical-align: middle;\n",
       "    }\n",
       "\n",
       "    .dataframe tbody tr th {\n",
       "        vertical-align: top;\n",
       "    }\n",
       "\n",
       "    .dataframe thead th {\n",
       "        text-align: right;\n",
       "    }\n",
       "</style>\n",
       "<table border=\"1\" class=\"dataframe\">\n",
       "  <thead>\n",
       "    <tr style=\"text-align: right;\">\n",
       "      <th></th>\n",
       "      <th>Sigla</th>\n",
       "      <th>Região</th>\n",
       "      <th>Porcentagem de Vitorias</th>\n",
       "      <th>Proficiencia</th>\n",
       "    </tr>\n",
       "    <tr>\n",
       "      <th>Número</th>\n",
       "      <th></th>\n",
       "      <th></th>\n",
       "      <th></th>\n",
       "      <th></th>\n",
       "    </tr>\n",
       "  </thead>\n",
       "  <tbody>\n",
       "    <tr>\n",
       "      <th>7</th>\n",
       "      <td>SKT</td>\n",
       "      <td>KR</td>\n",
       "      <td>74.00</td>\n",
       "      <td>21.507</td>\n",
       "    </tr>\n",
       "    <tr>\n",
       "      <th>21</th>\n",
       "      <td>IG</td>\n",
       "      <td>CN</td>\n",
       "      <td>73.80</td>\n",
       "      <td>11.350</td>\n",
       "    </tr>\n",
       "    <tr>\n",
       "      <th>54</th>\n",
       "      <td>G2</td>\n",
       "      <td>EU</td>\n",
       "      <td>79.16</td>\n",
       "      <td>10.528</td>\n",
       "    </tr>\n",
       "    <tr>\n",
       "      <th>160</th>\n",
       "      <td>FB</td>\n",
       "      <td>TRK</td>\n",
       "      <td>91.66</td>\n",
       "      <td>6.058</td>\n",
       "    </tr>\n",
       "    <tr>\n",
       "      <th>71</th>\n",
       "      <td>TL</td>\n",
       "      <td>NA</td>\n",
       "      <td>76.92</td>\n",
       "      <td>6.019</td>\n",
       "    </tr>\n",
       "    <tr>\n",
       "      <th>92</th>\n",
       "      <td>VEG</td>\n",
       "      <td>CIS</td>\n",
       "      <td>76.19</td>\n",
       "      <td>5.028</td>\n",
       "    </tr>\n",
       "    <tr>\n",
       "      <th>179</th>\n",
       "      <td>PVB</td>\n",
       "      <td>VN</td>\n",
       "      <td>83.33</td>\n",
       "      <td>4.915</td>\n",
       "    </tr>\n",
       "    <tr>\n",
       "      <th>39</th>\n",
       "      <td>FW</td>\n",
       "      <td>TWHKMA</td>\n",
       "      <td>65.00</td>\n",
       "      <td>3.518</td>\n",
       "    </tr>\n",
       "    <tr>\n",
       "      <th>98</th>\n",
       "      <td>DFM</td>\n",
       "      <td>JPN</td>\n",
       "      <td>95.83</td>\n",
       "      <td>3.012</td>\n",
       "    </tr>\n",
       "    <tr>\n",
       "      <th>137</th>\n",
       "      <td>BMR</td>\n",
       "      <td>OCEANIA</td>\n",
       "      <td>91.66</td>\n",
       "      <td>1.290</td>\n",
       "    </tr>\n",
       "    <tr>\n",
       "      <th>117</th>\n",
       "      <td>ISG</td>\n",
       "      <td>LA</td>\n",
       "      <td>64.70</td>\n",
       "      <td>1.184</td>\n",
       "    </tr>\n",
       "    <tr>\n",
       "      <th>129</th>\n",
       "      <td>ITZ</td>\n",
       "      <td>BR</td>\n",
       "      <td>61.29</td>\n",
       "      <td>0.515</td>\n",
       "    </tr>\n",
       "    <tr>\n",
       "      <th>149</th>\n",
       "      <td>MEGA</td>\n",
       "      <td>SEA</td>\n",
       "      <td>100.00</td>\n",
       "      <td>0.103</td>\n",
       "    </tr>\n",
       "  </tbody>\n",
       "</table>\n",
       "</div>"
      ],
      "text/plain": [
       "       Sigla   Região  Porcentagem de Vitorias  Proficiencia\n",
       "Número                                                      \n",
       "7        SKT       KR                    74.00        21.507\n",
       "21        IG       CN                    73.80        11.350\n",
       "54        G2       EU                    79.16        10.528\n",
       "160       FB      TRK                    91.66         6.058\n",
       "71        TL       NA                    76.92         6.019\n",
       "92       VEG      CIS                    76.19         5.028\n",
       "179      PVB       VN                    83.33         4.915\n",
       "39        FW   TWHKMA                    65.00         3.518\n",
       "98       DFM      JPN                    95.83         3.012\n",
       "137      BMR  OCEANIA                    91.66         1.290\n",
       "117      ISG       LA                    64.70         1.184\n",
       "129      ITZ       BR                    61.29         0.515\n",
       "149     MEGA      SEA                   100.00         0.103"
      ]
     },
     "execution_count": 18,
     "metadata": {},
     "output_type": "execute_result"
    }
   ],
   "source": [
    "Times_2019[Times_2019.Sigla.isin(Times_msi)].sort_values(by =['Proficiencia'], ascending = False).round(3)"
   ]
  },
  {
   "cell_type": "code",
   "execution_count": 5,
   "metadata": {},
   "outputs": [],
   "source": [
    "salvar = {'SKT':21.507,'IG':11.350,'G2':10.528,'FB':6.058,'TL':6.019,'VEG':5.028,'PVB':4.915,'FW':3.518,'DFM':3.012,'BMR':1.29,'ISG':1.184,'ITZ':0.515,'MEGA':0.103}\n"
   ]
  },
  {
   "cell_type": "markdown",
   "metadata": {},
   "source": [
    "# Previsoes no MSI"
   ]
  },
  {
   "cell_type": "markdown",
   "metadata": {},
   "source": [
    "### Play - In"
   ]
  },
  {
   "cell_type": "markdown",
   "metadata": {},
   "source": [
    "#### Dia 1"
   ]
  },
  {
   "cell_type": "code",
   "execution_count": 26,
   "metadata": {},
   "outputs": [
    {
     "name": "stdout",
     "output_type": "stream",
     "text": [
      "         PVB vs BMR\n",
      "PVB tem 78.74 % de chance de vitória\n",
      "Enquanto BMR tem 21.26 %.\n"
     ]
    }
   ],
   "source": [
    "probabilidade('PVB','BMR',1) #OK"
   ]
  },
  {
   "cell_type": "code",
   "execution_count": 27,
   "metadata": {},
   "outputs": [
    {
     "name": "stdout",
     "output_type": "stream",
     "text": [
      "         FB vs ISG\n",
      "FB tem 87.00 % de chance de vitória\n",
      "Enquanto ISG tem 13.00 %.\n"
     ]
    }
   ],
   "source": [
    "probabilidade('FB','ISG',1) #OK"
   ]
  },
  {
   "cell_type": "code",
   "execution_count": 28,
   "metadata": {},
   "outputs": [
    {
     "name": "stdout",
     "output_type": "stream",
     "text": [
      "         PVB vs ISG\n",
      "PVB tem 80.14 % de chance de vitória\n",
      "Enquanto ISG tem 19.86 %.\n"
     ]
    }
   ],
   "source": [
    "probabilidade('PVB','ISG',1) #OK"
   ]
  },
  {
   "cell_type": "code",
   "execution_count": 29,
   "metadata": {},
   "outputs": [
    {
     "name": "stdout",
     "output_type": "stream",
     "text": [
      "         FB vs BMR\n",
      "FB tem 86.00 % de chance de vitória\n",
      "Enquanto BMR tem 14.00 %.\n"
     ]
    }
   ],
   "source": [
    "probabilidade('FB','BMR',1) #OK"
   ]
  },
  {
   "cell_type": "code",
   "execution_count": 30,
   "metadata": {},
   "outputs": [
    {
     "name": "stdout",
     "output_type": "stream",
     "text": [
      "         BMR vs ISG\n",
      "BMR tem 52.14 % de chance de vitória\n",
      "Enquanto ISG tem 47.86 %.\n"
     ]
    }
   ],
   "source": [
    "probabilidade('BMR','ISG',1) #OK"
   ]
  },
  {
   "cell_type": "code",
   "execution_count": 31,
   "metadata": {},
   "outputs": [
    {
     "name": "stdout",
     "output_type": "stream",
     "text": [
      "         FB vs PVB\n",
      "FB tem 62.38 % de chance de vitória\n",
      "Enquanto PVB tem 37.62 %.\n"
     ]
    }
   ],
   "source": [
    "probabilidade('FB','PVB',1) #N"
   ]
  },
  {
   "cell_type": "code",
   "execution_count": 39,
   "metadata": {},
   "outputs": [
    {
     "name": "stdout",
     "output_type": "stream",
     "text": [
      "         BMR vs PVB\n",
      "BMR tem 21.26 % de chance de vitória\n",
      "Enquanto PVB tem 78.74 %.\n"
     ]
    }
   ],
   "source": [
    "probabilidade('BMR','PVB',1) #N"
   ]
  },
  {
   "cell_type": "code",
   "execution_count": 40,
   "metadata": {},
   "outputs": [
    {
     "name": "stdout",
     "output_type": "stream",
     "text": [
      "         ISG vs FB\n",
      "ISG tem 13.00 % de chance de vitória\n",
      "Enquanto FB tem 87.00 %.\n"
     ]
    }
   ],
   "source": [
    "probabilidade('ISG','FB',1) #N"
   ]
  },
  {
   "cell_type": "markdown",
   "metadata": {},
   "source": [
    "#### Dia 2"
   ]
  },
  {
   "cell_type": "code",
   "execution_count": 42,
   "metadata": {},
   "outputs": [
    {
     "name": "stdout",
     "output_type": "stream",
     "text": [
      "         PVB vs ISG\n",
      "PVB tem 80.14 % de chance de vitória\n",
      "Enquanto ISG tem 19.86 %.\n"
     ]
    }
   ],
   "source": [
    "probabilidade('PVB','ISG',1) #OK"
   ]
  },
  {
   "cell_type": "code",
   "execution_count": 44,
   "metadata": {},
   "outputs": [
    {
     "name": "stdout",
     "output_type": "stream",
     "text": [
      "         FB vs BMR\n",
      "FB tem 86.00 % de chance de vitória\n",
      "Enquanto BMR tem 14.00 %.\n"
     ]
    }
   ],
   "source": [
    "probabilidade('FB','BMR',1) #OK"
   ]
  },
  {
   "cell_type": "code",
   "execution_count": 45,
   "metadata": {},
   "outputs": [
    {
     "name": "stdout",
     "output_type": "stream",
     "text": [
      "         PVB vs FB\n",
      "PVB tem 37.62 % de chance de vitória\n",
      "Enquanto FB tem 62.38 %.\n"
     ]
    }
   ],
   "source": [
    "probabilidade('PVB','FB',1) #OK"
   ]
  },
  {
   "cell_type": "code",
   "execution_count": 43,
   "metadata": {},
   "outputs": [
    {
     "name": "stdout",
     "output_type": "stream",
     "text": [
      "         ISG vs BMR\n",
      "ISG tem 47.86 % de chance de vitória\n",
      "Enquanto BMR tem 52.14 %.\n"
     ]
    }
   ],
   "source": [
    "probabilidade('ISG','BMR',1) #OK (isurus ganhou)"
   ]
  },
  {
   "cell_type": "code",
   "execution_count": 33,
   "metadata": {},
   "outputs": [
    {
     "name": "stdout",
     "output_type": "stream",
     "text": [
      "         MEGA vs DFM\n",
      "MEGA tem 3.31 % de chance de vitória\n",
      "Enquanto DFM tem 96.69 %.\n"
     ]
    }
   ],
   "source": [
    "probabilidade('MEGA','DFM',1) #OK"
   ]
  },
  {
   "cell_type": "code",
   "execution_count": 34,
   "metadata": {},
   "outputs": [
    {
     "name": "stdout",
     "output_type": "stream",
     "text": [
      "         VEG vs ITZ\n",
      "VEG tem 90.77 % de chance de vitória\n",
      "Enquanto ITZ tem 9.23 %.\n"
     ]
    }
   ],
   "source": [
    "probabilidade('VEG','ITZ',1) #OK"
   ]
  },
  {
   "cell_type": "code",
   "execution_count": 36,
   "metadata": {},
   "outputs": [
    {
     "name": "stdout",
     "output_type": "stream",
     "text": [
      "         VEG vs DFM\n",
      "VEG tem 62.63 % de chance de vitória\n",
      "Enquanto DFM tem 37.37 %.\n"
     ]
    }
   ],
   "source": [
    "probabilidade('VEG','DFM',1) #OK"
   ]
  },
  {
   "cell_type": "code",
   "execution_count": 41,
   "metadata": {},
   "outputs": [
    {
     "name": "stdout",
     "output_type": "stream",
     "text": [
      "         MEGA vs ITZ\n",
      "MEGA tem 16.74 % de chance de vitória\n",
      "Enquanto ITZ tem 83.26 %.\n"
     ]
    }
   ],
   "source": [
    "probabilidade('MEGA','ITZ',1) #N"
   ]
  },
  {
   "cell_type": "code",
   "execution_count": 53,
   "metadata": {},
   "outputs": [
    {
     "name": "stdout",
     "output_type": "stream",
     "text": [
      "         PVB vs FB\n",
      "PVB tem 37.62 % de chance de vitória\n",
      "Enquanto FB tem 62.38 %.\n"
     ]
    }
   ],
   "source": [
    "probabilidade('PVB','FB',1) #N"
   ]
  },
  {
   "cell_type": "markdown",
   "metadata": {},
   "source": [
    "#### Dia 3"
   ]
  },
  {
   "cell_type": "code",
   "execution_count": 37,
   "metadata": {},
   "outputs": [
    {
     "name": "stdout",
     "output_type": "stream",
     "text": [
      "         DFM vs ITZ\n",
      "DFM tem 85.45 % de chance de vitória\n",
      "Enquanto ITZ tem 14.55 %.\n"
     ]
    }
   ],
   "source": [
    "probabilidade('DFM','ITZ',1) #OK"
   ]
  },
  {
   "cell_type": "code",
   "execution_count": 38,
   "metadata": {},
   "outputs": [
    {
     "name": "stdout",
     "output_type": "stream",
     "text": [
      "         VEG vs MEGA\n",
      "VEG tem 98.00 % de chance de vitória\n",
      "Enquanto MEGA tem 2.00 %.\n"
     ]
    }
   ],
   "source": [
    "probabilidade('VEG','MEGA',1) #OK"
   ]
  },
  {
   "cell_type": "code",
   "execution_count": 46,
   "metadata": {},
   "outputs": [
    {
     "name": "stdout",
     "output_type": "stream",
     "text": [
      "         DFM vs MEGA\n",
      "DFM tem 96.69 % de chance de vitória\n",
      "Enquanto MEGA tem 3.31 %.\n"
     ]
    }
   ],
   "source": [
    "probabilidade('DFM','MEGA',1) #OK"
   ]
  },
  {
   "cell_type": "code",
   "execution_count": 47,
   "metadata": {},
   "outputs": [
    {
     "name": "stdout",
     "output_type": "stream",
     "text": [
      "         ITZ vs VEG\n",
      "ITZ tem 9.23 % de chance de vitória\n",
      "Enquanto VEG tem 90.77 %.\n"
     ]
    }
   ],
   "source": [
    "probabilidade('ITZ','VEG',1) #OK"
   ]
  },
  {
   "cell_type": "code",
   "execution_count": 48,
   "metadata": {},
   "outputs": [
    {
     "name": "stdout",
     "output_type": "stream",
     "text": [
      "         ITZ vs MEGA\n",
      "ITZ tem 83.26 % de chance de vitória\n",
      "Enquanto MEGA tem 16.74 %.\n"
     ]
    }
   ],
   "source": [
    "probabilidade('ITZ','MEGA',1) #OK"
   ]
  },
  {
   "cell_type": "code",
   "execution_count": 50,
   "metadata": {},
   "outputs": [
    {
     "name": "stdout",
     "output_type": "stream",
     "text": [
      "         DFM vs VEG\n",
      "DFM tem 37.37 % de chance de vitória\n",
      "Enquanto VEG tem 62.63 %.\n"
     ]
    }
   ],
   "source": [
    "probabilidade('DFM','VEG',1) #OK"
   ]
  },
  {
   "cell_type": "code",
   "execution_count": 51,
   "metadata": {},
   "outputs": [
    {
     "name": "stdout",
     "output_type": "stream",
     "text": [
      "         ITZ vs DFM\n",
      "ITZ tem 14.55 % de chance de vitória\n",
      "Enquanto DFM tem 85.45 %.\n"
     ]
    }
   ],
   "source": [
    "probabilidade('ITZ','DFM',1) #OK"
   ]
  },
  {
   "cell_type": "code",
   "execution_count": 54,
   "metadata": {},
   "outputs": [
    {
     "name": "stdout",
     "output_type": "stream",
     "text": [
      "         MEGA vs VEG\n",
      "MEGA tem 2.00 % de chance de vitória\n",
      "Enquanto VEG tem 98.00 %.\n"
     ]
    }
   ],
   "source": [
    "probabilidade('MEGA','VEG',1) #N"
   ]
  },
  {
   "cell_type": "markdown",
   "metadata": {},
   "source": [
    "#### Dia 4 "
   ]
  },
  {
   "cell_type": "code",
   "execution_count": 56,
   "metadata": {},
   "outputs": [
    {
     "name": "stdout",
     "output_type": "stream",
     "text": [
      "         TL vs PVB\n",
      "TL tem 60.80 % de chance de vitória.Sendo:\n",
      "17.39 % a de ser 3-0\n",
      "23.05 % a de ser 3-1\n",
      "20.37 % a de ser 3-2\n",
      "Enquanto PVB tem 39.20 %. Sendo:\n",
      "8.63 % a de ser 3-0\n",
      "14.45 % a de ser 3-1\n",
      "16.13 % a de ser 3-2\n"
     ]
    }
   ],
   "source": [
    "probabilidade('TL','PVB',5) #OK"
   ]
  },
  {
   "cell_type": "code",
   "execution_count": 58,
   "metadata": {},
   "outputs": [
    {
     "name": "stdout",
     "output_type": "stream",
     "text": [
      "         FW vs VEG\n",
      "FW tem 33.79 % de chance de vitória.Sendo:\n",
      "6.98 % a de ser 3-0\n",
      "12.32 % a de ser 3-1\n",
      "14.49 % a de ser 3-2\n",
      "Enquanto VEG tem 66.21 %. Sendo:\n",
      "20.36 % a de ser 3-0\n",
      "25.15 % a de ser 3-1\n",
      "20.71 % a de ser 3-2\n"
     ]
    }
   ],
   "source": [
    "probabilidade('FW','VEG',5) #N"
   ]
  },
  {
   "cell_type": "code",
   "execution_count": 19,
   "metadata": {},
   "outputs": [
    {
     "name": "stdout",
     "output_type": "stream",
     "text": [
      "         VEG vs PVB\n",
      "VEG tem 51.07 % de chance de vitória.Sendo:\n",
      "12.93 % a de ser 3-0\n",
      "19.18 % a de ser 3-1\n",
      "18.96 % a de ser 3-2\n",
      "Enquanto PVB tem 48.93 %. Sendo:\n",
      "12.08 % a de ser 3-0\n",
      "18.32 % a de ser 3-1\n",
      "18.53 % a de ser 3-2\n"
     ]
    }
   ],
   "source": [
    "probabilidade('VEG','PVB',5) #OK (PVB ganhou)"
   ]
  },
  {
   "cell_type": "markdown",
   "metadata": {},
   "source": [
    "### Group Stage"
   ]
  },
  {
   "cell_type": "markdown",
   "metadata": {},
   "source": [
    "#### Dia 1"
   ]
  },
  {
   "cell_type": "code",
   "execution_count": 20,
   "metadata": {},
   "outputs": [
    {
     "name": "stdout",
     "output_type": "stream",
     "text": [
      "         SKT vs G2\n",
      "SKT tem 67.14 % de chance de vitória\n",
      "Enquanto G2 tem 32.86 %.\n"
     ]
    }
   ],
   "source": [
    "probabilidade('SKT','G2',1) #N"
   ]
  },
  {
   "cell_type": "code",
   "execution_count": 21,
   "metadata": {},
   "outputs": [
    {
     "name": "stdout",
     "output_type": "stream",
     "text": [
      "         FW vs TL\n",
      "FW tem 36.89 % de chance de vitória\n",
      "Enquanto TL tem 63.11 %.\n"
     ]
    }
   ],
   "source": [
    "probabilidade('FW','TL',1) #OK"
   ]
  },
  {
   "cell_type": "code",
   "execution_count": 22,
   "metadata": {},
   "outputs": [
    {
     "name": "stdout",
     "output_type": "stream",
     "text": [
      "         PVB vs IG\n",
      "PVB tem 30.22 % de chance de vitória\n",
      "Enquanto IG tem 69.78 %.\n"
     ]
    }
   ],
   "source": [
    "probabilidade('PVB','IG',1) #OK"
   ]
  },
  {
   "cell_type": "code",
   "execution_count": 23,
   "metadata": {},
   "outputs": [
    {
     "name": "stdout",
     "output_type": "stream",
     "text": [
      "         SKT vs FW\n",
      "SKT tem 85.94 % de chance de vitória\n",
      "Enquanto FW tem 14.06 %.\n"
     ]
    }
   ],
   "source": [
    "probabilidade('SKT','FW',1) #OK"
   ]
  },
  {
   "cell_type": "code",
   "execution_count": 24,
   "metadata": {},
   "outputs": [
    {
     "name": "stdout",
     "output_type": "stream",
     "text": [
      "         IG vs G2\n",
      "IG tem 51.88 % de chance de vitória\n",
      "Enquanto G2 tem 48.12 %.\n"
     ]
    }
   ],
   "source": [
    "probabilidade('IG','G2',1) #OK"
   ]
  },
  {
   "cell_type": "code",
   "execution_count": 9,
   "metadata": {},
   "outputs": [
    {
     "name": "stdout",
     "output_type": "stream",
     "text": [
      "         TL vs PVB\n",
      "TL tem 55.05 % de chance de vitória\n",
      "Enquanto PVB tem 44.95 %.\n"
     ]
    }
   ],
   "source": [
    "probabilidade('TL','PVB',1) #OK"
   ]
  },
  {
   "cell_type": "markdown",
   "metadata": {},
   "source": [
    "#### Dia 2"
   ]
  },
  {
   "cell_type": "code",
   "execution_count": 10,
   "metadata": {},
   "outputs": [
    {
     "name": "stdout",
     "output_type": "stream",
     "text": [
      "         G2 vs TL\n",
      "G2 tem 63.62 % de chance de vitória\n",
      "Enquanto TL tem 36.38 %.\n"
     ]
    }
   ],
   "source": [
    "probabilidade('G2','TL',1,True) #OK"
   ]
  },
  {
   "cell_type": "code",
   "execution_count": 11,
   "metadata": {},
   "outputs": [
    {
     "name": "stdout",
     "output_type": "stream",
     "text": [
      "         PVB vs FW\n",
      "PVB tem 58.28 % de chance de vitória\n",
      "Enquanto FW tem 41.72 %.\n"
     ]
    }
   ],
   "source": [
    "probabilidade('PVB','FW',1,True) #N"
   ]
  },
  {
   "cell_type": "code",
   "execution_count": 12,
   "metadata": {},
   "outputs": [
    {
     "name": "stdout",
     "output_type": "stream",
     "text": [
      "         IG vs TL\n",
      "IG tem 65.35 % de chance de vitória\n",
      "Enquanto TL tem 34.65 %.\n"
     ]
    }
   ],
   "source": [
    "probabilidade('IG','TL',1,True) #OK"
   ]
  },
  {
   "cell_type": "code",
   "execution_count": 13,
   "metadata": {},
   "outputs": [
    {
     "name": "stdout",
     "output_type": "stream",
     "text": [
      "         SKT vs PVB\n",
      "SKT tem 81.40 % de chance de vitória\n",
      "Enquanto PVB tem 18.60 %.\n"
     ]
    }
   ],
   "source": [
    "probabilidade('SKT','PVB',1,True) #OK"
   ]
  },
  {
   "cell_type": "code",
   "execution_count": 14,
   "metadata": {},
   "outputs": [
    {
     "name": "stdout",
     "output_type": "stream",
     "text": [
      "         G2 vs FW\n",
      "G2 tem 74.95 % de chance de vitória\n",
      "Enquanto FW tem 25.05 %.\n"
     ]
    }
   ],
   "source": [
    "probabilidade('G2','FW',1,True) #OK"
   ]
  },
  {
   "cell_type": "code",
   "execution_count": 16,
   "metadata": {},
   "outputs": [
    {
     "name": "stdout",
     "output_type": "stream",
     "text": [
      "         IG vs SKT\n",
      "IG tem 34.54 % de chance de vitória\n",
      "Enquanto SKT tem 65.46 %.\n"
     ]
    }
   ],
   "source": [
    "probabilidade('IG','SKT',1,True) #N"
   ]
  },
  {
   "cell_type": "markdown",
   "metadata": {},
   "source": [
    "#### Dia 4"
   ]
  },
  {
   "cell_type": "code",
   "execution_count": 17,
   "metadata": {},
   "outputs": [
    {
     "name": "stdout",
     "output_type": "stream",
     "text": [
      "         TL vs SKT\n",
      "TL tem 21.87 % de chance de vitória\n",
      "Enquanto SKT tem 78.13 %.\n"
     ]
    }
   ],
   "source": [
    "probabilidade('TL','SKT',1,True) #OK"
   ]
  },
  {
   "cell_type": "code",
   "execution_count": 18,
   "metadata": {},
   "outputs": [
    {
     "name": "stdout",
     "output_type": "stream",
     "text": [
      "         IG vs FW\n",
      "IG tem 76.34 % de chance de vitória\n",
      "Enquanto FW tem 23.66 %.\n"
     ]
    }
   ],
   "source": [
    "probabilidade('IG','FW',1,True) #OK"
   ]
  },
  {
   "cell_type": "code",
   "execution_count": 19,
   "metadata": {},
   "outputs": [
    {
     "name": "stdout",
     "output_type": "stream",
     "text": [
      "         PVB vs G2\n",
      "PVB tem 31.83 % de chance de vitória\n",
      "Enquanto G2 tem 68.17 %.\n"
     ]
    }
   ],
   "source": [
    "probabilidade('PVB','G2',1,True) #N"
   ]
  },
  {
   "cell_type": "code",
   "execution_count": 20,
   "metadata": {},
   "outputs": [
    {
     "name": "stdout",
     "output_type": "stream",
     "text": [
      "         TL vs FW\n",
      "TL tem 63.11 % de chance de vitória\n",
      "Enquanto FW tem 36.89 %.\n"
     ]
    }
   ],
   "source": [
    "probabilidade('TL','FW',1,True) #N"
   ]
  },
  {
   "cell_type": "code",
   "execution_count": 21,
   "metadata": {},
   "outputs": [
    {
     "name": "stdout",
     "output_type": "stream",
     "text": [
      "         SKT vs G2\n",
      "SKT tem 67.14 % de chance de vitória\n",
      "Enquanto G2 tem 32.86 %.\n"
     ]
    }
   ],
   "source": [
    "probabilidade('SKT','G2',1,True) #N"
   ]
  },
  {
   "cell_type": "code",
   "execution_count": 22,
   "metadata": {},
   "outputs": [
    {
     "name": "stdout",
     "output_type": "stream",
     "text": [
      "         IG vs PVB\n",
      "IG tem 69.78 % de chance de vitória\n",
      "Enquanto PVB tem 30.22 %.\n"
     ]
    }
   ],
   "source": [
    "probabilidade('IG','PVB',1,True) #OK"
   ]
  }
 ],
 "metadata": {
  "kernelspec": {
   "display_name": "Python 3",
   "language": "python",
   "name": "python3"
  },
  "language_info": {
   "codemirror_mode": {
    "name": "ipython",
    "version": 3
   },
   "file_extension": ".py",
   "mimetype": "text/x-python",
   "name": "python",
   "nbconvert_exporter": "python",
   "pygments_lexer": "ipython3",
   "version": "3.5.2"
  }
 },
 "nbformat": 4,
 "nbformat_minor": 2
}
