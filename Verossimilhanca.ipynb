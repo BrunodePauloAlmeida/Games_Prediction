{
 "cells": [
  {
   "cell_type": "code",
   "execution_count": 11,
   "metadata": {},
   "outputs": [],
   "source": [
    "proficiencia = {}"
   ]
  },
  {
   "cell_type": "code",
   "execution_count": 24,
   "metadata": {},
   "outputs": [],
   "source": [
    "import pandas as pd\n",
    "import numpy as np\n",
    "import random as rd\n",
    "from math import ceil,floor,factorial\n",
    "from scipy.optimize import minimize\n",
    "Times = pd.read_excel('TIMES.xlsx')\n",
    "Times.set_index('Número', inplace = True)\n",
    "Times.fillna('NA', inplace = True)\n",
    "Times['Porcentagem de Vitorias'] = pd.Series(np.random.randn(len(list(Times.Sigla))), index=Times.index)\n",
    "Times_msi = ['RNG','KZ','FW','FNC','TL','EVS','SUP','GMB','KBM','R7','KLG','DW','ASC','PGM']\n",
    "Times_mundial_inicio = ['EDG','INF','DW','G2','SUP','ASC','C9','DFM','KBM','GRX','GMB','KLG','AFS','FW','PVB','RNG','VIT','GEN','KT','TL','MAD','FNC','IG','100']\n",
    "Times_mundial_grupos = ['AFS','FW','PVB','RNG','VIT','GEN','KT','TL','MAD','FNC','IG','100','EDG','G2','C9','GRX']\n",
    "Times_mundial_quartas = ['RNG','KT','FNC','IG','EDG','G2','C9','AFS']\n",
    "ACERTOS=0\n",
    "JOGOS_TOTAIS = 0"
   ]
  },
  {
   "cell_type": "code",
   "execution_count": 25,
   "metadata": {},
   "outputs": [],
   "source": [
    "def arrumadados(sheet,guia,vero = False):\n",
    "    arquivo = pd.ExcelFile(sheet)\n",
    "    liga = pd.read_excel(arquivo,guia-1)\n",
    "    if not vero:\n",
    "        liga = liga[3:]\n",
    "    liga.fillna(0,inplace = True)\n",
    "    liga.replace(0.7,0.8, inplace = True)\n",
    "    return liga\n",
    "\n",
    "vitorias= {}\n",
    "jogos = {}\n",
    "for sigla in list(Times.Sigla):\n",
    "    vitorias[sigla]=0\n",
    "    jogos[sigla]=0"
   ]
  },
  {
   "cell_type": "code",
   "execution_count": 26,
   "metadata": {},
   "outputs": [],
   "source": [
    "#Declarando as tabelas de jogos de cada regiao\n",
    "cblol_2019_1 = arrumadados('CBLOL_BRASIL_2019.xlsx',1,True)\n",
    "a = list(cblol_2019_1.Winner)\n",
    "a.extend(list(cblol_2019_1.Loser))\n",
    "times_cblol_2019 = set(a)\n",
    "\n",
    "lec_2019_1 = arrumadados('LEC_EUROPA_2019.xlsx',1,True)\n",
    "a = list(lec_2019_1.Winner)\n",
    "a.extend(list(lec_2019_1.Loser))\n",
    "times_lec_2019 = set(a)\n",
    "\n",
    "lcs_2019_1 = arrumadados('LCS_USA_2019.xlsx',1,True)\n",
    "lcs_2019_1.replace('100',100, inplace = True)\n",
    "a = list(lcs_2019_1.Winner)\n",
    "a.extend(list(lcs_2019_1.Loser))\n",
    "times_lcs_2019 = set(a)\n",
    "\n",
    "lck_2019_1 = arrumadados('LCK_COREIA_2019.xlsx',1,True)\n",
    "a = list(lck_2019_1.Winner)\n",
    "a.extend(list(lck_2019_1.Loser))\n",
    "times_lck_2019 = set(a)\n",
    "\n",
    "lpl_2019_1 = arrumadados('LPL_CHINA_2019.xlsx',1,True)\n",
    "a = list(lpl_2019_1.Winner)\n",
    "a.extend(list(lpl_2019_1.Loser))\n",
    "times_lpl_2019 = set(a)"
   ]
  },
  {
   "cell_type": "code",
   "execution_count": 31,
   "metadata": {},
   "outputs": [],
   "source": [
    "def liga_usada(liga,times,sigla):\n",
    "    global x0,b,bnds\n",
    "    x0 = list(np.random.uniform(0.5,2.5,len(times)))\n",
    "    b = (0.001,10.0)\n",
    "    bnds = tuple([b]*len(times))\n",
    "    return (liga,times,sigla)\n",
    "\n",
    "def vero(x):\n",
    "    y = 0\n",
    "    proficiencia[sigla] = {}\n",
    "    for time in times:\n",
    "        proficiencia[sigla][time] = x[y]\n",
    "        y+=1\n",
    "    multiplicatorio = 1\n",
    "    #Defino a constante de esquecimento k, obtida experimentalmente\n",
    "    k = 0.075\n",
    "    for game in range (0,liga.shape[0]):\n",
    "        w = liga.iloc[game].Week\n",
    "        pv = proficiencia[sigla][liga.iloc[game].Winner]\n",
    "        pl = proficiencia[sigla][liga.iloc[game].Loser]\n",
    "        cte = 1 - (max(list(liga.Week)) - w)*k\n",
    "        multiplicatorio *= (pv/(pv+pl))**cte\n",
    "    \n",
    "    return -np.log(multiplicatorio)\n",
    "\n",
    "def probabilidade(A,B,n):\n",
    "    siglaA = list(Times[Times.Sigla==A]['Região'])[0]\n",
    "    siglaB = list(Times[Times.Sigla==B]['Região'])[0]\n",
    "    A_list = []\n",
    "    B_list = []\n",
    "    i,k = 0,floor(n/2)\n",
    "    x = proficiencia[siglaA][A]/(proficiencia[siglaA][A]+proficiencia[siglaB][B])\n",
    "    print(\"         {} vs {}\".format(A,B))\n",
    "    while (ceil(n/2)+i) <= n:\n",
    "        if i == 0:\n",
    "            A_list.append(x**(ceil(n/2))*(1-x)**(i))\n",
    "            B_list.append(x**(i)*(1-x)**(ceil(n/2)))\n",
    "        else:\n",
    "            p = factorial(k)/(factorial(i)*factorial(k-i)) \n",
    "            A_list.append(p*x**(ceil(n/2))*(1-x)**(i))\n",
    "            B_list.append(p*x**(i)*(1-x)**(ceil(n/2)))\n",
    "        i+=1\n",
    "        k+=1\n",
    "    if n==1:\n",
    "        print('{} tem {:.2f} % de chance de vitória'.format(A,100*sum(A_list)))\n",
    "        print('Enquanto {} tem {:.2f} %.'.format(B,100*sum(B_list)))\n",
    "    else:    \n",
    "        print('{} tem {:.2f} % de chance de vitória.Sendo:'.format(A,100*sum(A_list)))\n",
    "        for b in range(0,ceil(n/2)):\n",
    "            print('{:.2f} % a de ser {}-{}'.format(100*A_list[b],ceil(n/2),b))\n",
    "        print('Enquanto {} tem {:.2f} %. Sendo:'.format(B,100*sum(B_list)))\n",
    "        for b in range(0,ceil(n/2)):\n",
    "            print('{:.2f} % a de ser {}-{}'.format(100*B_list[b],ceil(n/2),b))\n",
    "    \n",
    "def restricao1(x):\n",
    "    return x[0]-1        \n",
    "\n",
    "def restricao2(x):\n",
    "    return sum(x)-5\n",
    "\n",
    "con1 = {'type':'eq','fun':restricao1}\n",
    "con2 = {'type':'eq','fun':restricao2}\n",
    "cons = [con2]"
   ]
  },
  {
   "cell_type": "code",
   "execution_count": 28,
   "metadata": {},
   "outputs": [
    {
     "data": {
      "text/plain": [
       "{'BLG': 0.3305739020544722,\n",
       " 'EDG': 0.3647818762191129,\n",
       " 'FPX': 0.7273629315027068,\n",
       " 'IG': 0.6887912712157451,\n",
       " 'JDG': 0.2978659060016903,\n",
       " 'LGD': 0.15721984407045697,\n",
       " 'OMG': 0.11104046913883135,\n",
       " 'RNG': 0.40687721906131724,\n",
       " 'RW': 0.08407117158228328,\n",
       " 'SDG': 0.3677142996142714,\n",
       " 'SN': 0.15866659121335502,\n",
       " 'SS': 0.16164273588113529,\n",
       " 'TOP': 0.5339008773114218,\n",
       " 'V5': 0.1447826668690415,\n",
       " 'VG': 0.10479266172750276,\n",
       " 'WE': 0.3599155914378178}"
      ]
     },
     "execution_count": 28,
     "metadata": {},
     "output_type": "execute_result"
    }
   ],
   "source": [
    "#Todas as tabelas atualizadas ate 21/03\n",
    "liga,times,sigla = liga_usada(lpl_2019_1,times_lpl_2019,'CN')\n",
    "sol = minimize(vero,x0,method = 'SLSQP',constraints = cons,bounds = bnds)\n",
    "proficiencia[sigla]"
   ]
  },
  {
   "cell_type": "markdown",
   "metadata": {},
   "source": [
    "### Previsoes da Liga Coreana\n",
    "#### Taxa de Acerto Atual: 18/24   75,00%"
   ]
  },
  {
   "cell_type": "code",
   "execution_count": 751,
   "metadata": {},
   "outputs": [],
   "source": [
    "# SEM A CONSTANTE DE ESQUECIMENTO 7++"
   ]
  },
  {
   "cell_type": "code",
   "execution_count": null,
   "metadata": {},
   "outputs": [],
   "source": [
    "# COM A CONSTANTE DE ESQUECIMENTO 5++"
   ]
  },
  {
   "cell_type": "code",
   "execution_count": 964,
   "metadata": {},
   "outputs": [
    {
     "name": "stdout",
     "output_type": "stream",
     "text": [
      "         SKT vs JAG\n",
      "SKT tem 99.64 % de chance de vitória.Sendo:\n",
      "93.12 % a de ser 2-0\n",
      "6.52 % a de ser 2-1\n",
      "Enquanto JAG tem 0.36 %. Sendo:\n",
      "0.12 % a de ser 2-0\n",
      "0.24 % a de ser 2-1\n"
     ]
    }
   ],
   "source": [
    "probabilidade('SKT','JAG',3) #OK"
   ]
  },
  {
   "cell_type": "code",
   "execution_count": 965,
   "metadata": {},
   "outputs": [
    {
     "name": "stdout",
     "output_type": "stream",
     "text": [
      "         GEN vs DWG\n",
      "GEN tem 25.44 % de chance de vitória.Sendo:\n",
      "10.87 % a de ser 2-0\n",
      "14.57 % a de ser 2-1\n",
      "Enquanto DWG tem 74.56 %. Sendo:\n",
      "44.94 % a de ser 2-0\n",
      "29.63 % a de ser 2-1\n"
     ]
    }
   ],
   "source": [
    "probabilidade('GEN','DWG',3) #OK"
   ]
  },
  {
   "cell_type": "code",
   "execution_count": 17,
   "metadata": {},
   "outputs": [
    {
     "name": "stdout",
     "output_type": "stream",
     "text": [
      "         HLE vs KT\n",
      "HLE tem 66.61 % de chance de vitória.Sendo:\n",
      "37.53 % a de ser 2-0\n",
      "29.08 % a de ser 2-1\n",
      "Enquanto KT tem 33.39 %. Sendo:\n",
      "15.00 % a de ser 2-0\n",
      "18.38 % a de ser 2-1\n"
     ]
    }
   ],
   "source": [
    "probabilidade('HLE','KT',3) #OK"
   ]
  },
  {
   "cell_type": "code",
   "execution_count": 18,
   "metadata": {},
   "outputs": [
    {
     "name": "stdout",
     "output_type": "stream",
     "text": [
      "         KZ vs GRF\n",
      "KZ tem 30.91 % de chance de vitória.Sendo:\n",
      "13.68 % a de ser 2-0\n",
      "17.24 % a de ser 2-1\n",
      "Enquanto GRF tem 69.09 %. Sendo:\n",
      "39.71 % a de ser 2-0\n",
      "29.37 % a de ser 2-1\n"
     ]
    }
   ],
   "source": [
    "probabilidade('KZ','GRF',3) #N"
   ]
  },
  {
   "cell_type": "markdown",
   "metadata": {},
   "source": [
    "### -----------------------------------------------------------------------------------------------------------------------------------------------"
   ]
  },
  {
   "cell_type": "markdown",
   "metadata": {},
   "source": [
    "### Previsoes da Liga Chinesa\n",
    "#### Taxa de Acerto Atual: 30/40   75,00%"
   ]
  },
  {
   "cell_type": "code",
   "execution_count": null,
   "metadata": {},
   "outputs": [],
   "source": [
    "# SEM A CONSTANTE DE ESQUECIMENTO 5++"
   ]
  },
  {
   "cell_type": "code",
   "execution_count": 29,
   "metadata": {},
   "outputs": [
    {
     "name": "stdout",
     "output_type": "stream",
     "text": [
      "         WE vs RW\n",
      "WE tem 90.60 % de chance de vitória.Sendo:\n",
      "65.71 % a de ser 2-0\n",
      "24.89 % a de ser 2-1\n",
      "Enquanto RW tem 9.40 %. Sendo:\n",
      "3.59 % a de ser 2-0\n",
      "5.81 % a de ser 2-1\n"
     ]
    }
   ],
   "source": [
    "probabilidade('WE','RW',3)"
   ]
  },
  {
   "cell_type": "code",
   "execution_count": 30,
   "metadata": {},
   "outputs": [
    {
     "name": "stdout",
     "output_type": "stream",
     "text": [
      "         LGD vs SS\n",
      "LGD tem 48.96 % de chance de vitória.Sendo:\n",
      "24.31 % a de ser 2-0\n",
      "24.65 % a de ser 2-1\n",
      "Enquanto SS tem 51.04 %. Sendo:\n",
      "25.70 % a de ser 2-0\n",
      "25.34 % a de ser 2-1\n"
     ]
    }
   ],
   "source": [
    "probabilidade('LGD','SS',3)"
   ]
  },
  {
   "cell_type": "code",
   "execution_count": null,
   "metadata": {},
   "outputs": [],
   "source": [
    "# COM A CONSTANTE DE ESQUECIMENTO 9++"
   ]
  },
  {
   "cell_type": "code",
   "execution_count": null,
   "metadata": {},
   "outputs": [],
   "source": [
    "probabilidade('WE','RW',3)"
   ]
  },
  {
   "cell_type": "code",
   "execution_count": null,
   "metadata": {},
   "outputs": [],
   "source": [
    "probabilidade('LGD','SS',3)"
   ]
  },
  {
   "cell_type": "markdown",
   "metadata": {},
   "source": [
    "### -----------------------------------------------------------------------------------------------------------------------------------------------"
   ]
  },
  {
   "cell_type": "markdown",
   "metadata": {},
   "source": [
    "### Previsoes da Liga Norte Americana\n",
    "#### Taxa de Acerto Atual: 23/31    74,19%"
   ]
  },
  {
   "cell_type": "code",
   "execution_count": null,
   "metadata": {},
   "outputs": [],
   "source": [
    "# SEM A CONSTANTE DE ESQUECIMENTO 2++"
   ]
  },
  {
   "cell_type": "code",
   "execution_count": null,
   "metadata": {},
   "outputs": [],
   "source": [
    "# COM A CONSTANTE DE ESQUECIMENTO 9++"
   ]
  },
  {
   "cell_type": "markdown",
   "metadata": {},
   "source": [
    "### -----------------------------------------------------------------------------------------------------------------------------------------------"
   ]
  },
  {
   "cell_type": "markdown",
   "metadata": {},
   "source": [
    "### Previsoes da Liga Europeia\n",
    "#### Taxa de Acerto Atual: 16/26 61,53%"
   ]
  },
  {
   "cell_type": "code",
   "execution_count": 943,
   "metadata": {},
   "outputs": [
    {
     "name": "stdout",
     "output_type": "stream",
     "text": [
      "         FNC vs VIT\n",
      "FNC tem 85.59 % de chance de vitória.Sendo:\n",
      "36.52 % a de ser 3-0\n",
      "31.25 % a de ser 3-1\n",
      "17.83 % a de ser 3-2\n",
      "Enquanto VIT tem 14.41 %. Sendo:\n",
      "2.32 % a de ser 3-0\n",
      "4.98 % a de ser 3-1\n",
      "7.11 % a de ser 3-2\n"
     ]
    }
   ],
   "source": [
    "probabilidade('FNC','VIT',5)"
   ]
  },
  {
   "cell_type": "code",
   "execution_count": 945,
   "metadata": {},
   "outputs": [
    {
     "name": "stdout",
     "output_type": "stream",
     "text": [
      "         SPY vs SK\n",
      "SPY tem 66.54 % de chance de vitória.Sendo:\n",
      "20.55 % a de ser 3-0\n",
      "25.27 % a de ser 3-1\n",
      "20.72 % a de ser 3-2\n",
      "Enquanto SK tem 33.46 %. Sendo:\n",
      "6.88 % a de ser 3-0\n",
      "12.19 % a de ser 3-1\n",
      "14.39 % a de ser 3-2\n"
     ]
    }
   ],
   "source": [
    "probabilidade('SPY','SK',5)"
   ]
  },
  {
   "cell_type": "markdown",
   "metadata": {},
   "source": [
    "### -----------------------------------------------------------------------------------------------------------------------------------------------"
   ]
  },
  {
   "cell_type": "markdown",
   "metadata": {},
   "source": [
    "### Previsoes da Liga Brasileira\n",
    "#### Taxa de Acerto Atual: 29/36    80,55%"
   ]
  },
  {
   "cell_type": "code",
   "execution_count": 739,
   "metadata": {},
   "outputs": [],
   "source": [
    "# SEM A CONSTANTE DE ESQUECIMENTO 3++"
   ]
  },
  {
   "cell_type": "code",
   "execution_count": null,
   "metadata": {},
   "outputs": [],
   "source": [
    "# COM A CONSTANTE DE ESQUECIMENTO 5++"
   ]
  },
  {
   "cell_type": "code",
   "execution_count": 878,
   "metadata": {},
   "outputs": [
    {
     "name": "stdout",
     "output_type": "stream",
     "text": [
      "         FLA vs CNB\n",
      "FLA tem 99.92 % de chance de vitória.Sendo:\n",
      "87.39 % a de ser 3-0\n",
      "11.52 % a de ser 3-1\n",
      "1.01 % a de ser 3-2\n",
      "Enquanto CNB tem 0.08 %. Sendo:\n",
      "0.01 % a de ser 3-0\n",
      "0.02 % a de ser 3-1\n",
      "0.05 % a de ser 3-2\n"
     ]
    }
   ],
   "source": [
    "probabilidade('FLA','CNB',5)"
   ]
  },
  {
   "cell_type": "code",
   "execution_count": 884,
   "metadata": {},
   "outputs": [
    {
     "name": "stdout",
     "output_type": "stream",
     "text": [
      "         RDP vs ITZ\n",
      "RDP tem 31.80 % de chance de vitória.Sendo:\n",
      "6.42 % a de ser 3-0\n",
      "11.54 % a de ser 3-1\n",
      "13.84 % a de ser 3-2\n",
      "Enquanto ITZ tem 68.20 %. Sendo:\n",
      "21.56 % a de ser 3-0\n",
      "25.90 % a de ser 3-1\n",
      "20.74 % a de ser 3-2\n"
     ]
    }
   ],
   "source": [
    "probabilidade('RDP','ITZ',5)"
   ]
  },
  {
   "cell_type": "markdown",
   "metadata": {},
   "source": [
    "# Calculo da proficiencia relativa entre as regioes"
   ]
  },
  {
   "cell_type": "code",
   "execution_count": 551,
   "metadata": {},
   "outputs": [],
   "source": [
    "#Criando um dicionario com todas as regioes\n",
    "regions = {}\n",
    "for reg in set(Times.Região): \n",
    "    regions[reg] = list(Times.Sigla[Times.Região == reg])\n",
    "    \n",
    "#Criando um com todos os mundiais e importando os respectivos jogos\n",
    "    mundial = {}\n",
    "for ano in range (2011,2019):\n",
    "    mundial[ano] = arrumadados(\"MUNDIAIS.xlsx\",ano-2010,True)\n",
    "\n",
    "#Criando um dataframe com as regiões e suas proficiências em cada ano\n",
    "Proficiencias_Relativas = pd.DataFrame(data = None, index = list(set(Times.Região)),columns = [2011,2012,2013,2014,2015,2016,2017,2018,2019])\n"
   ]
  },
  {
   "cell_type": "code",
   "execution_count": 553,
   "metadata": {},
   "outputs": [],
   "source": [
    "#Criando uma função que adiciona a proficiência relativa de cada região no dataframe\n",
    "def adicione(ano):\n",
    "    m = min(proficiencia.values())\n",
    "    M = max(proficiencia.values())\n",
    "    for reg in set(Times.Região):\n",
    "        if reg in list(proficiencia.keys()):\n",
    "            Proficiencias_Relativas.loc[[reg],[ano]] = (proficiencia[reg]-m)/(M-m)\n",
    "            \n",
    "#Modificando a funcao original pra que se adeque ao objetivo proposto\n",
    "def vero_reg(x):\n",
    "    y = 0\n",
    "    for time in times:\n",
    "        proficiencia_reg[time] = x[y]\n",
    "        y+=1\n",
    "    multiplicatorio = 1\n",
    "    for ano in range(2011,2019):\n",
    "        cship = mundial[ano]\n",
    "        coef = 1 - (2018-ano)/8\n",
    "        for game in range (0,int(cship.shape[0])):\n",
    "            pv = proficiencia_reg[cship.iloc[game].Winner]\n",
    "            pl = proficiencia_reg[cship.iloc[game].Loser]\n",
    "            multiplicatorio *= (pv/(pv+pl))**(coef)\n",
    "    \n",
    "    return -np.log(multiplicatorio)\n",
    "\n",
    "def probabilidadeR(A,B):\n",
    "    x = proficiencia_reg[A]/(proficiencia_reg[A]+proficiencia_reg[B])\n",
    "    print(\"         {} vs {}\".format(A,B))\n",
    "    print(\"{} tem {:.2f} % de chance de vitória\".format(A,100*x))\n",
    "    print(\"Enquanto {} tem {:.2f} %\".format(B,100*(1-x)))"
   ]
  },
  {
   "cell_type": "code",
   "execution_count": 554,
   "metadata": {},
   "outputs": [],
   "source": [
    "for camp in mundial.values():\n",
    "    for reg in set(Times.Região):\n",
    "        for linha in range(0,camp.shape[0]):\n",
    "            if camp.iloc[linha].Winner in regions[reg]:\n",
    "                camp.iloc[linha].Winner = reg\n",
    "            if camp.iloc[linha].Loser in regions[reg]:\n",
    "                camp.iloc[linha].Loser = reg"
   ]
  },
  {
   "cell_type": "code",
   "execution_count": 532,
   "metadata": {
    "scrolled": true
   },
   "outputs": [
    {
     "data": {
      "text/plain": [
       "{'BR': 0.11340527773331911,\n",
       " 'CIS': 0.674702043456038,\n",
       " 'CN': 1.3065021478148244,\n",
       " 'EU': 1.0,\n",
       " 'JPN': 0.06729952276967999,\n",
       " 'KR': 2.252599874444157,\n",
       " 'LAN': 0.3412384251901959,\n",
       " 'LAS': 0.07090566327481033,\n",
       " 'NA': 0.8036978293355066,\n",
       " 'OCEANIA': 0.08932550771918506,\n",
       " 'SEA': 0.015643127392125797,\n",
       " 'TRK': 0.2634733283402824,\n",
       " 'TWHKMA': 0.455997806299471,\n",
       " 'VN': 0.3427505228918947}"
      ]
     },
     "execution_count": 532,
     "metadata": {},
     "output_type": "execute_result"
    }
   ],
   "source": [
    "proficiencia_reg = {}\n",
    "cons = con1\n",
    "liga,times,sigla = liga_usada(lck_2019_1,list(set(Times.Região)),'MUND')\n",
    "sol = minimize(vero_reg,x0,method = 'SLSQP',constraints = cons,bounds = bnds)\n",
    "proficiencia_reg"
   ]
  },
  {
   "cell_type": "code",
   "execution_count": 538,
   "metadata": {},
   "outputs": [
    {
     "data": {
      "text/plain": [
       "[('SEA', 0.015643127392125797),\n",
       " ('JPN', 0.06729952276967999),\n",
       " ('LAS', 0.07090566327481033),\n",
       " ('OCEANIA', 0.08932550771918506),\n",
       " ('BR', 0.11340527773331911),\n",
       " ('TRK', 0.2634733283402824),\n",
       " ('LAN', 0.3412384251901959),\n",
       " ('VN', 0.3427505228918947),\n",
       " ('TWHKMA', 0.455997806299471),\n",
       " ('CIS', 0.674702043456038),\n",
       " ('NA', 0.8036978293355066),\n",
       " ('EU', 1.0),\n",
       " ('CN', 1.3065021478148244),\n",
       " ('KR', 2.252599874444157)]"
      ]
     },
     "execution_count": 538,
     "metadata": {},
     "output_type": "execute_result"
    }
   ],
   "source": [
    "sorted(proficiencia_reg.items(), key=lambda x: x[1])"
   ]
  },
  {
   "cell_type": "code",
   "execution_count": 542,
   "metadata": {},
   "outputs": [
    {
     "name": "stdout",
     "output_type": "stream",
     "text": [
      "         LAS vs BR\n",
      "LAS tem 38.47 % de chance de vitória\n",
      "Enquanto BR tem 61.53 %\n"
     ]
    }
   ],
   "source": [
    "probabilidadeR('LAS','BR')"
   ]
  },
  {
   "cell_type": "markdown",
   "metadata": {},
   "source": [
    "# Colocando todos os jogos juntos (?)"
   ]
  },
  {
   "cell_type": "code",
   "execution_count": 768,
   "metadata": {},
   "outputs": [],
   "source": [
    "def teste(a,n):\n",
    "    x = a\n",
    "    i = 0\n",
    "    A_list = []\n",
    "    B_list = []\n",
    "    while (ceil(n/2)+i) <= n:\n",
    "        k = ceil(n/2)+i\n",
    "        if i == 0:\n",
    "            A_list.append(x**(ceil(n/2))*(1-x)**(i))\n",
    "            B_list.append(x**(i)*(1-x)**(ceil(n/2)))\n",
    "        else:\n",
    "            p = factorial(k)/(factorial(i)*factorial(k-i)) - 1\n",
    "            A_list.append(p*x**(ceil(n/2))*(1-x)**(i))\n",
    "            B_list.append(p*x**(i)*(1-x)**(ceil(n/2)))\n",
    "        i+=1\n",
    "    for b in range(0,ceil(n/2)):\n",
    "        print('A probabilidade de A ganhar de {}-{} é {} '.format(ceil(n/2),b,A_list[b]))\n",
    "    for b in range(0,ceil(n/2)):\n",
    "        print('A probabilidade de B ganhar de {}-{} é {} '.format(ceil(n/2),b,B_list[b]))\n",
    "        \n",
    "        "
   ]
  }
 ],
 "metadata": {
  "kernelspec": {
   "display_name": "Python 3",
   "language": "python",
   "name": "python3"
  },
  "language_info": {
   "codemirror_mode": {
    "name": "ipython",
    "version": 3
   },
   "file_extension": ".py",
   "mimetype": "text/x-python",
   "name": "python",
   "nbconvert_exporter": "python",
   "pygments_lexer": "ipython3",
   "version": "3.5.2"
  }
 },
 "nbformat": 4,
 "nbformat_minor": 2
}
