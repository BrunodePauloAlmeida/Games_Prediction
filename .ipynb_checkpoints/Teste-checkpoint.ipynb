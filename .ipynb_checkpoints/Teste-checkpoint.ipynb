{
 "cells": [
  {
   "cell_type": "code",
   "execution_count": 17,
   "metadata": {},
   "outputs": [],
   "source": [
    "import pandas as pd\n",
    "import re"
   ]
  },
  {
   "cell_type": "code",
   "execution_count": 49,
   "metadata": {},
   "outputs": [
    {
     "name": "stdout",
     "output_type": "stream",
     "text": [
      "KT;\"DWG\";\"1 - 2\"\n",
      "DRX;\"DWG\";\"3 - 2\"\n",
      "T1;\"DRX\";\"3 - 1\"\n",
      "GEN;\"T1\";\"0 - 3\"\n"
     ]
    }
   ],
   "source": [
    "a = pd.read_csv(\"2020/LCK_po.csv\")\n",
    "for i in a[\"Team 1;\\\"Team 2\\\";\\\"Score\\\"\"]:\n",
    "    print(i)"
   ]
  },
  {
   "cell_type": "code",
   "execution_count": 63,
   "metadata": {},
   "outputs": [
    {
     "name": "stdout",
     "output_type": "stream",
     "text": [
      "['KT', 'DWG', '1', '2']\n",
      "['DRX', 'DWG', '3', '2']\n",
      "['T1', 'DRX', '3', '1']\n",
      "['GEN', 'T1', '0', '3']\n"
     ]
    }
   ],
   "source": [
    "t1 = []\n",
    "t2 = []\n",
    "score = []\n",
    "for i in a[\"Team 1;\\\"Team 2\\\";\\\"Score\\\"\"]:\n",
    "    k= re.split(r'[;\"][;\"\\s*]', i)\n",
    "    k = [k[0], k[1], k[2][1], k[2][-2]]\n",
    "    print(k)"
   ]
  },
  {
   "cell_type": "code",
   "execution_count": null,
   "metadata": {},
   "outputs": [],
   "source": []
  }
 ],
 "metadata": {
  "kernelspec": {
   "display_name": "Python 3",
   "language": "python",
   "name": "python3"
  },
  "language_info": {
   "codemirror_mode": {
    "name": "ipython",
    "version": 3
   },
   "file_extension": ".py",
   "mimetype": "text/x-python",
   "name": "python",
   "nbconvert_exporter": "python",
   "pygments_lexer": "ipython3",
   "version": "3.5.2"
  }
 },
 "nbformat": 4,
 "nbformat_minor": 2
}
