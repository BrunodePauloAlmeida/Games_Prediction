{
 "cells": [
  {
   "cell_type": "code",
   "execution_count": 9,
   "metadata": {},
   "outputs": [],
   "source": [
    "import pandas as pd\n",
    "import re\n",
    "import numpy as np\n",
    "import os"
   ]
  },
  {
   "cell_type": "code",
   "execution_count": 12,
   "metadata": {},
   "outputs": [],
   "source": [
    "matches_2020_1 = {'CBLOL': '', 'LCK': '', 'LCS': '', 'LEC': '', 'LJL': '', 'LLA': '', 'LPL' : '', 'OPL': '', 'PCS': '', 'TCL' : '', 'VCS': ''}"
   ]
  },
  {
   "cell_type": "code",
   "execution_count": 26,
   "metadata": {},
   "outputs": [],
   "source": [
    "def importing_all_matches(directory):\n",
    "    for filename in os.listdir(directory):\n",
    "        if filename.endswith(\".csv\"):\n",
    "            a = pd.read_csv('2020/'+filename)\n",
    "            print(filename)\n",
    "            Winner = []\n",
    "            Loser = []\n",
    "            Week = []\n",
    "            #Side = []\n",
    "            for i in a['Team 1;\"Team 2\";\"Score\";\"Etapa\"']:\n",
    "                k= re.split(r'[;\"][;\"\\s*]', i)\n",
    "                print(\"***\" , k)\n",
    "                t1, t2, placar1, placar2, week = (k[0], k[1], int(k[2][1]), int(k[2][-1]), (k[3][1:-1]))\n",
    "                for i in range(0,placar1):\n",
    "                    Winner.append(t1)\n",
    "                    Loser.append(t2)\n",
    "                    Week.append(week)\n",
    "                    #Side.append(\"Blue\")\n",
    "                for i in range(0,placar2):\n",
    "                    Winner.append(t2)\n",
    "                    Loser.append(t1)\n",
    "                    Week.append(week)\n",
    "                    #Side.append(\"Red\")\n",
    "            data = {\"Winner\":Winner, \"Loser\":Loser, \"Week\":Week}\n",
    "            matches_2020_1[filename[0:3]] = pd.DataFrame(data)\n",
    "            cols = [\"Winner\", \"Loser\", \"Week\"]\n",
    "            matches_2020_1[filename[0:3]] = matches_2020_1[filename[0:3]][cols]"
   ]
  },
  {
   "cell_type": "code",
   "execution_count": 27,
   "metadata": {},
   "outputs": [
    {
     "name": "stdout",
     "output_type": "stream",
     "text": [
      "LJL_fg.csv\n",
      "*** ['DFM', 'V3', '\"1 - 0', '\"Week 1\"']\n",
      "*** ['V3', 'AXZ', '\"1 - 0', '\"Week 1\"']\n",
      "*** ['AXZ', 'BC', '\"0 - 1', '\"Week 1\"']\n",
      "*** ['BC', 'DFM', '\"0 - 1', '\"Week 1\"']\n",
      "*** ['CGA', 'SHG', '\"1 - 0', '\"Week 1\"']\n",
      "*** ['SHG', 'SG', '\"1 - 0', '\"Week 1\"']\n",
      "*** ['SG', 'RJ', '\"1 - 0', '\"Week 1\"']\n",
      "*** ['RJ', 'CGA', '\"1 - 0', '\"Week 1\"']\n",
      "*** ['V3', 'SG', '\"0 - 1', '\"Week 2\"']\n",
      "*** ['BC', 'V3', '\"0 - 1', '\"Week 2\"']\n",
      "*** ['CGA', 'BC', '\"1 - 0', '\"Week 2\"']\n",
      "*** ['SG', 'CGA', '\"0 - 1', '\"Week 2\"']\n",
      "*** ['DFM', 'AXZ', '\"1 - 0', '\"Week 2\"']\n",
      "*** ['RJ', 'DFM', '\"0 - 1', '\"Week 2\"']\n",
      "*** ['SHG', 'RJ', '\"1 - 0', '\"Week 2\"']\n",
      "*** ['AXZ', 'SHG', '\"0 - 1', '\"Week 2\"']\n",
      "*** ['RJ', 'AXZ', '\"0 - 1', '\"Week 3\"']\n",
      "*** ['AXZ', 'CGA', '\"0 - 1', '\"Week 3\"']\n",
      "*** ['CGA', 'V3', '\"0 - 1', '\"Week 3\"']\n",
      "*** ['V3', 'RJ', '\"0 - 1', '\"Week 3\"']\n",
      "*** ['SHG', 'DFM', '\"0 - 1', '\"Week 3\"']\n",
      "*** ['BC', 'SHG', '\"1 - 0', '\"Week 3\"']\n",
      "*** ['BC', 'SG', '\"1 - 0', '\"Week 3\"']\n",
      "*** ['DFM', 'SG', '\"1 - 0', '\"Week 3\"']\n",
      "*** ['SHG', 'AXZ', '\"0 - 1', '\"Week 4\"']\n",
      "*** ['SG', 'AXZ', '\"1 - 0', '\"Week 4\"']\n",
      "*** ['SG', 'V3', '\"1 - 0', '\"Week 4\"']\n",
      "*** ['V3', 'SHG', '\"0 - 1', '\"Week 4\"']\n",
      "*** ['BC', 'CGA', '\"1 - 0', '\"Week 4\"']\n",
      "*** ['CGA', 'DFM', '\"0 - 1', '\"Week 4\"']\n",
      "*** ['DFM', 'RJ', '\"1 - 0', '\"Week 4\"']\n",
      "*** ['RJ', 'BC', '\"1 - 0', '\"Week 4\"']\n",
      "*** ['AXZ', 'RJ', '\"1 - 0', '\"Week 5\"']\n",
      "*** ['BC', 'RJ', '\"0 - 1', '\"Week 5\"']\n",
      "*** ['DFM', 'BC', '\"1 - 0', '\"Week 5\"']\n",
      "*** ['AXZ', 'V3', '\"1 - 0', '\"Week 5\"']\n",
      "*** ['SG', 'DFM', '\"1 - 0', '\"Week 5\"']\n",
      "*** ['SHG', 'V3', '\"0 - 1', '\"Week 5\"']\n",
      "*** ['CGA', 'SG', '\"0 - 1', '\"Week 5\"']\n",
      "*** ['SHG', 'CGA', '\"0 - 1', '\"Week 5\"']\n",
      "*** ['DFM', 'CGA', '\"1 - 0', '\"Week 6\"']\n",
      "*** ['DFM', 'SHG', '\"1 - 0', '\"Week 6\"']\n",
      "*** ['SG', 'SHG', '\"1 - 0', '\"Week 6\"']\n",
      "*** ['CGA', 'RJ', '\"0 - 1', '\"Week 6\"']\n",
      "*** ['AXZ', 'SG', '\"0 - 1', '\"Week 6\"']\n",
      "*** ['BC', 'AXZ', '\"0 - 1', '\"Week 6\"']\n",
      "*** ['RJ', 'V3', '\"0 - 1', '\"Week 6\"']\n",
      "*** ['V3', 'BC', '\"1 - 0', '\"Week 6\"']\n",
      "*** ['RJ', 'SG', '\"1 - 0', '\"Week 7\"']\n",
      "*** ['SG', 'BC', '\"1 - 0', '\"Week 7\"']\n",
      "*** ['SHG', 'BC', '\"0 - 1', '\"Week 7\"']\n",
      "*** ['RJ', 'SHG', '\"1 - 0', '\"Week 7\"']\n",
      "*** ['V3', 'DFM', '\"1 - 0', '\"Week 7\"']\n",
      "*** ['AXZ', 'DFM', '\"0 - 1', '\"Week 7\"']\n",
      "*** ['CGA', 'AXZ', '\"0 - 1', '\"Week 7\"']\n",
      "*** ['V3', 'CGA', '\"1 - 0', '\"Week 7\"']\n",
      "*** ['BC', 'CGA', '\"0 - 1', '\"Tiebreakers\"']\n",
      "LLA_fg.csv\n",
      "*** ['INF', 'ISG', '\"1 - 3', '\"Round 1\"']\n",
      "*** ['R7', 'ISG', '\"1 - 3', '\"Round 2\"']\n",
      "*** ['AK', 'ISG', '\"TBD', '\"Finals\"']\n"
     ]
    },
    {
     "ename": "ValueError",
     "evalue": "invalid literal for int() with base 10: 'T'",
     "output_type": "error",
     "traceback": [
      "\u001b[0;31m---------------------------------------------------------------------------\u001b[0m",
      "\u001b[0;31mValueError\u001b[0m                                Traceback (most recent call last)",
      "\u001b[0;32m<ipython-input-27-627fc3da7e3b>\u001b[0m in \u001b[0;36m<module>\u001b[0;34m()\u001b[0m\n\u001b[0;32m----> 1\u001b[0;31m \u001b[0mimporting_all_matches\u001b[0m\u001b[0;34m(\u001b[0m\u001b[0;34m'2020'\u001b[0m\u001b[0;34m)\u001b[0m\u001b[0;34m\u001b[0m\u001b[0m\n\u001b[0m",
      "\u001b[0;32m<ipython-input-26-1fab461fdf1d>\u001b[0m in \u001b[0;36mimporting_all_matches\u001b[0;34m(directory)\u001b[0m\n\u001b[1;32m     11\u001b[0m                 \u001b[0mk\u001b[0m\u001b[0;34m=\u001b[0m \u001b[0mre\u001b[0m\u001b[0;34m.\u001b[0m\u001b[0msplit\u001b[0m\u001b[0;34m(\u001b[0m\u001b[0;34mr'[;\"][;\"\\s*]'\u001b[0m\u001b[0;34m,\u001b[0m \u001b[0mi\u001b[0m\u001b[0;34m)\u001b[0m\u001b[0;34m\u001b[0m\u001b[0m\n\u001b[1;32m     12\u001b[0m                 \u001b[0mprint\u001b[0m\u001b[0;34m(\u001b[0m\u001b[0;34m\"***\"\u001b[0m \u001b[0;34m,\u001b[0m \u001b[0mk\u001b[0m\u001b[0;34m)\u001b[0m\u001b[0;34m\u001b[0m\u001b[0m\n\u001b[0;32m---> 13\u001b[0;31m                 \u001b[0mt1\u001b[0m\u001b[0;34m,\u001b[0m \u001b[0mt2\u001b[0m\u001b[0;34m,\u001b[0m \u001b[0mplacar1\u001b[0m\u001b[0;34m,\u001b[0m \u001b[0mplacar2\u001b[0m\u001b[0;34m,\u001b[0m \u001b[0mweek\u001b[0m \u001b[0;34m=\u001b[0m \u001b[0;34m(\u001b[0m\u001b[0mk\u001b[0m\u001b[0;34m[\u001b[0m\u001b[0;36m0\u001b[0m\u001b[0;34m]\u001b[0m\u001b[0;34m,\u001b[0m \u001b[0mk\u001b[0m\u001b[0;34m[\u001b[0m\u001b[0;36m1\u001b[0m\u001b[0;34m]\u001b[0m\u001b[0;34m,\u001b[0m \u001b[0mint\u001b[0m\u001b[0;34m(\u001b[0m\u001b[0mk\u001b[0m\u001b[0;34m[\u001b[0m\u001b[0;36m2\u001b[0m\u001b[0;34m]\u001b[0m\u001b[0;34m[\u001b[0m\u001b[0;36m1\u001b[0m\u001b[0;34m]\u001b[0m\u001b[0;34m)\u001b[0m\u001b[0;34m,\u001b[0m \u001b[0mint\u001b[0m\u001b[0;34m(\u001b[0m\u001b[0mk\u001b[0m\u001b[0;34m[\u001b[0m\u001b[0;36m2\u001b[0m\u001b[0;34m]\u001b[0m\u001b[0;34m[\u001b[0m\u001b[0;34m-\u001b[0m\u001b[0;36m1\u001b[0m\u001b[0;34m]\u001b[0m\u001b[0;34m)\u001b[0m\u001b[0;34m,\u001b[0m \u001b[0;34m(\u001b[0m\u001b[0mk\u001b[0m\u001b[0;34m[\u001b[0m\u001b[0;36m3\u001b[0m\u001b[0;34m]\u001b[0m\u001b[0;34m[\u001b[0m\u001b[0;36m1\u001b[0m\u001b[0;34m:\u001b[0m\u001b[0;34m-\u001b[0m\u001b[0;36m1\u001b[0m\u001b[0;34m]\u001b[0m\u001b[0;34m)\u001b[0m\u001b[0;34m)\u001b[0m\u001b[0;34m\u001b[0m\u001b[0m\n\u001b[0m\u001b[1;32m     14\u001b[0m                 \u001b[0;32mfor\u001b[0m \u001b[0mi\u001b[0m \u001b[0;32min\u001b[0m \u001b[0mrange\u001b[0m\u001b[0;34m(\u001b[0m\u001b[0;36m0\u001b[0m\u001b[0;34m,\u001b[0m\u001b[0mplacar1\u001b[0m\u001b[0;34m)\u001b[0m\u001b[0;34m:\u001b[0m\u001b[0;34m\u001b[0m\u001b[0m\n\u001b[1;32m     15\u001b[0m                     \u001b[0mWinner\u001b[0m\u001b[0;34m.\u001b[0m\u001b[0mappend\u001b[0m\u001b[0;34m(\u001b[0m\u001b[0mt1\u001b[0m\u001b[0;34m)\u001b[0m\u001b[0;34m\u001b[0m\u001b[0m\n",
      "\u001b[0;31mValueError\u001b[0m: invalid literal for int() with base 10: 'T'"
     ]
    }
   ],
   "source": [
    "importing_all_matches('2020')"
   ]
  },
  {
   "cell_type": "code",
   "execution_count": null,
   "metadata": {},
   "outputs": [],
   "source": []
  }
 ],
 "metadata": {
  "kernelspec": {
   "display_name": "Python 3",
   "language": "python",
   "name": "python3"
  },
  "language_info": {
   "codemirror_mode": {
    "name": "ipython",
    "version": 3
   },
   "file_extension": ".py",
   "mimetype": "text/x-python",
   "name": "python",
   "nbconvert_exporter": "python",
   "pygments_lexer": "ipython3",
   "version": "3.5.2"
  }
 },
 "nbformat": 4,
 "nbformat_minor": 2
}
