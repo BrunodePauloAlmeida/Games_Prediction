{
 "cells": [
  {
   "cell_type": "code",
   "execution_count": 1,
   "metadata": {},
   "outputs": [],
   "source": [
    "%run likelihood.ipynb\n",
    "%run importing_matches.ipynb"
   ]
  },
  {
   "cell_type": "code",
   "execution_count": 2,
   "metadata": {},
   "outputs": [],
   "source": [
    "matches_2020_2 = {}\n",
    "teams_2020_2 = {}\n",
    "initials_2020 = {'CBL': 'BR', 'LCK': 'KR', 'LCL': 'CIS', 'LCS': 'NA',\n",
    "                 'LEC': 'EU', 'LJL': 'JPN', 'LLA': 'LA', 'LPL': 'CN',\n",
    "                 'OPL': 'OCENIA', 'PCS': 'TWHKMA', 'TCL': 'TRK', 'VCS': 'VN'}\n",
    "importing_all_matches('2020_2', matches_2020_2, teams_2020_2, all_matches=True)"
   ]
  },
  {
   "cell_type": "code",
   "execution_count": 3,
   "metadata": {},
   "outputs": [],
   "source": [
    "Times = update_teams(teams_2020_2, initials_2020)"
   ]
  },
  {
   "cell_type": "markdown",
   "metadata": {},
   "source": [
    "### CBLOL"
   ]
  },
  {
   "cell_type": "code",
   "execution_count": 217,
   "metadata": {},
   "outputs": [
    {
     "name": "stdout",
     "output_type": "stream",
     "text": [
      "Na semana 7 do campeonato CBL, modelo acertou 4 de 8 jogos, resultando em 50.00% de acerto.\n",
      "Na semana 8 do campeonato CBL, modelo acertou 6 de 8 jogos, resultando em 75.00% de acerto.\n",
      "Na semana 9 do campeonato CBL, modelo acertou 4 de 8 jogos, resultando em 50.00% de acerto.\n",
      "Na semana 10 do campeonato CBL, modelo acertou 9 de 12 jogos, resultando em 75.00% de acerto.\n",
      "No total, o modelo acertou 23 de 36 partidas, resultando em 63.89% de acerto.\n"
     ]
    }
   ],
   "source": [
    "at = 0\n",
    "et = 0\n",
    "reg = 'CBL'\n",
    "for i in range(max(matches_2020_2[reg].Week)-3, max(matches_2020_2[reg].Week)+1):\n",
    "    a,b = calcular_acertos_em_determinada_semana(reg, matches_2020_2, teams_2020_2, initials_2020, semana = i)\n",
    "    at += a\n",
    "    et += b\n",
    "print(\"No total, o modelo acertou {} de {} partidas, resultando em {:.2f}% de acerto.\".format(at, at+et, 100*at/(at+et)))"
   ]
  },
  {
   "cell_type": "code",
   "execution_count": 126,
   "metadata": {},
   "outputs": [
    {
     "data": {
      "text/plain": [
       "{'VK': 0.2636195214732674,\n",
       " 'ITZ': 0.793453390453299,\n",
       " 'PNG': 0.9949093502250562,\n",
       " 'PRG': 0.7748539025301527,\n",
       " 'FUR': 0.3693093767284678,\n",
       " 'KBM': 0.7024222420236449,\n",
       " 'SAN': 0.537908547720986,\n",
       " 'FLA': 0.5635236688451261}"
      ]
     },
     "execution_count": 126,
     "metadata": {},
     "output_type": "execute_result"
    }
   ],
   "source": [
    "estimar_proficiencias('CBL', matches_2020_2, teams_2020_2, initials_2020)\n",
    "proficiencia['BR']"
   ]
  },
  {
   "cell_type": "code",
   "execution_count": 127,
   "metadata": {},
   "outputs": [
    {
     "name": "stdout",
     "output_type": "stream",
     "text": [
      "         PNG vs ITZ\n",
      "PNG tem 60.47 % de chance de vitória.Sendo:\n",
      "17.22 % a de ser 3-0\n",
      "22.92 % a de ser 3-1\n",
      "20.34 % a de ser 3-2\n",
      "Enquanto ITZ tem 39.53 %. Sendo:\n",
      "8.73 % a de ser 3-0\n",
      "14.58 % a de ser 3-1\n",
      "16.22 % a de ser 3-2\n"
     ]
    }
   ],
   "source": [
    "#CBLOL\n",
    "probabilidade('PNG', 'ITZ', 5)"
   ]
  },
  {
   "cell_type": "markdown",
   "metadata": {},
   "source": [
    "### LEC"
   ]
  },
  {
   "cell_type": "code",
   "execution_count": 177,
   "metadata": {},
   "outputs": [
    {
     "name": "stdout",
     "output_type": "stream",
     "text": [
      "Na semana 5 do campeonato LEC, modelo acertou 7 de 10 jogos, resultando em 70.00% de acerto.\n",
      "Na semana 6 do campeonato LEC, modelo acertou 4 de 10 jogos, resultando em 40.00% de acerto.\n",
      "Na semana 7 do campeonato LEC, modelo acertou 4 de 10 jogos, resultando em 40.00% de acerto.\n",
      "Na semana 8 do campeonato LEC, modelo acertou 11 de 15 jogos, resultando em 73.33% de acerto.\n",
      "No total, o modelo acertou 26 de 45 partidas, resultando em 57.78% de acerto.\n"
     ]
    }
   ],
   "source": [
    "at = 0\n",
    "et = 0\n",
    "reg = 'LEC'\n",
    "for i in range(max(matches_2020_2[reg].Week)-3, max(matches_2020_2[reg].Week)+1):\n",
    "    a,b = calcular_acertos_em_determinada_semana(reg, matches_2020_2, teams_2020_2, initials_2020, semana = i)\n",
    "    at += a\n",
    "    et += b\n",
    "print(\"No total, o modelo acertou {} de {} partidas, resultando em {:.2f}% de acerto.\".format(at, at+et, 100*at/(at+et)))"
   ]
  },
  {
   "cell_type": "code",
   "execution_count": 4,
   "metadata": {},
   "outputs": [
    {
     "data": {
      "text/plain": [
       "{'SK': 0.31786668461525297,\n",
       " 'MSF': 0.2694199878952728,\n",
       " 'XL': 0.3894018728208984,\n",
       " 'MAD': 0.6032812568509754,\n",
       " 'S04': 0.7137544416948253,\n",
       " 'G2': 0.9495501270089365,\n",
       " 'RGE': 0.6120485230915754,\n",
       " 'VIT': 0.27371803295763764,\n",
       " 'OG': 0.18471232290455963,\n",
       " 'FNC': 0.686246765061227}"
      ]
     },
     "execution_count": 4,
     "metadata": {},
     "output_type": "execute_result"
    }
   ],
   "source": [
    "estimar_proficiencias('LEC', matches_2020_2, teams_2020_2, initials_2020)\n",
    "proficiencia['EU']"
   ]
  },
  {
   "cell_type": "code",
   "execution_count": 7,
   "metadata": {},
   "outputs": [
    {
     "name": "stdout",
     "output_type": "stream",
     "text": [
      "         S04 vs MAD\n",
      "S04 tem 57.83 % de chance de vitória.Sendo:\n",
      "15.92 % a de ser 3-0\n",
      "21.87 % a de ser 3-1\n",
      "20.04 % a de ser 3-2\n",
      "Enquanto MAD tem 42.17 %. Sendo:\n",
      "9.61 % a de ser 3-0\n",
      "15.63 % a de ser 3-1\n",
      "16.94 % a de ser 3-2\n"
     ]
    },
    {
     "data": {
      "text/plain": [
       "0.578269585635325"
      ]
     },
     "execution_count": 7,
     "metadata": {},
     "output_type": "execute_result"
    }
   ],
   "source": [
    "probabilidade('S04', 'MAD', 5)"
   ]
  },
  {
   "cell_type": "code",
   "execution_count": 6,
   "metadata": {},
   "outputs": [
    {
     "name": "stdout",
     "output_type": "stream",
     "text": [
      "         G2 vs FNC\n",
      "G2 tem 64.83 % de chance de vitória.Sendo:\n",
      "19.56 % a de ser 3-0\n",
      "24.62 % a de ser 3-1\n",
      "20.65 % a de ser 3-2\n",
      "Enquanto FNC tem 35.17 %. Sendo:\n",
      "7.38 % a de ser 3-0\n",
      "12.86 % a de ser 3-1\n",
      "14.93 % a de ser 3-2\n"
     ]
    },
    {
     "data": {
      "text/plain": [
       "0.6483168884716871"
      ]
     },
     "execution_count": 6,
     "metadata": {},
     "output_type": "execute_result"
    }
   ],
   "source": [
    "probabilidade('G2', 'FNC', 5) "
   ]
  },
  {
   "cell_type": "markdown",
   "metadata": {},
   "source": [
    "### LCS"
   ]
  },
  {
   "cell_type": "code",
   "execution_count": 182,
   "metadata": {},
   "outputs": [
    {
     "name": "stdout",
     "output_type": "stream",
     "text": [
      "Na semana 6 do campeonato LCS, modelo acertou 6 de 10 jogos, resultando em 60.00% de acerto.\n",
      "Na semana 7 do campeonato LCS, modelo acertou 8 de 10 jogos, resultando em 80.00% de acerto.\n",
      "Na semana 8 do campeonato LCS, modelo acertou 7 de 10 jogos, resultando em 70.00% de acerto.\n",
      "Na semana 9 do campeonato LCS, modelo acertou 9 de 11 jogos, resultando em 81.82% de acerto.\n",
      "No total, o modelo acertou 30 de 41 partidas, resultando em 73.17% de acerto.\n"
     ]
    }
   ],
   "source": [
    "at = 0\n",
    "et = 0\n",
    "reg = 'LCS'\n",
    "for i in range(max(matches_2020_2[reg].Week)-3, max(matches_2020_2[reg].Week)+1):\n",
    "    a,b = calcular_acertos_em_determinada_semana(reg, matches_2020_2, teams_2020_2, initials_2020, semana = i)\n",
    "    at += a\n",
    "    et += b\n",
    "print(\"No total, o modelo acertou {} de {} partidas, resultando em {:.2f}% de acerto.\".format(at, at+et, 100*at/(at+et)))"
   ]
  },
  {
   "cell_type": "code",
   "execution_count": 6,
   "metadata": {},
   "outputs": [
    {
     "data": {
      "text/plain": [
       "{'CLG': 0.056218538951951814,\n",
       " 'TSM': 0.46505049599617776,\n",
       " 'GG': 0.39720342951342874,\n",
       " 'EG': 0.24189830784500493,\n",
       " 'FLY': 0.7118112888674194,\n",
       " '100': 0.11762064928302743,\n",
       " 'DIG': 0.10081853444082829,\n",
       " 'IMT': 0.07396201738327023,\n",
       " 'TL': 2.2455135266090585,\n",
       " 'C9': 0.5899032111098337}"
      ]
     },
     "execution_count": 6,
     "metadata": {},
     "output_type": "execute_result"
    }
   ],
   "source": [
    "estimar_proficiencias('LCS', matches_2020_2, teams_2020_2, initials_2020)\n",
    "proficiencia['NA']"
   ]
  },
  {
   "cell_type": "code",
   "execution_count": 7,
   "metadata": {},
   "outputs": [
    {
     "name": "stdout",
     "output_type": "stream",
     "text": [
      "         C9 vs TSM\n",
      "C9 tem 60.99 % de chance de vitória.Sendo:\n",
      "17.48 % a de ser 3-0\n",
      "23.12 % a de ser 3-1\n",
      "20.39 % a de ser 3-2\n",
      "Enquanto TSM tem 39.01 %. Sendo:\n",
      "8.57 % a de ser 3-0\n",
      "14.37 % a de ser 3-1\n",
      "16.07 % a de ser 3-2\n"
     ]
    },
    {
     "data": {
      "text/plain": [
       "0.609920506354347"
      ]
     },
     "execution_count": 7,
     "metadata": {},
     "output_type": "execute_result"
    }
   ],
   "source": [
    "probabilidade('C9', 'TSM', 5)"
   ]
  },
  {
   "cell_type": "markdown",
   "metadata": {},
   "source": [
    "### LPL"
   ]
  },
  {
   "cell_type": "code",
   "execution_count": 150,
   "metadata": {},
   "outputs": [
    {
     "name": "stdout",
     "output_type": "stream",
     "text": [
      "         TES vs V5\n",
      "TES tem 85.78 % de chance de vitória.Sendo:\n",
      "58.17 % a de ser 2-0\n",
      "27.61 % a de ser 2-1\n",
      "Enquanto V5 tem 14.22 %. Sendo:\n",
      "5.63 % a de ser 2-0\n",
      "8.59 % a de ser 2-1\n",
      "         SN vs BLG\n",
      "SN tem 64.15 % de chance de vitória.Sendo:\n",
      "35.46 % a de ser 2-0\n",
      "28.69 % a de ser 2-1\n",
      "Enquanto BLG tem 35.85 %. Sendo:\n",
      "16.36 % a de ser 2-0\n",
      "19.49 % a de ser 2-1\n",
      "         WE vs LNG\n",
      "WE tem 93.74 % de chance de vitória.Sendo:\n",
      "71.85 % a de ser 2-0\n",
      "21.89 % a de ser 2-1\n",
      "Enquanto LNG tem 6.26 %. Sendo:\n",
      "2.32 % a de ser 2-0\n",
      "3.93 % a de ser 2-1\n",
      "         RW vs LGD\n",
      "RW tem 9.43 % de chance de vitória.Sendo:\n",
      "3.60 % a de ser 2-0\n",
      "5.83 % a de ser 2-1\n",
      "Enquanto LGD tem 90.57 %. Sendo:\n",
      "65.66 % a de ser 2-0\n",
      "24.91 % a de ser 2-1\n",
      "         ES vs OMG\n",
      "ES tem 39.01 % de chance de vitória.Sendo:\n",
      "18.16 % a de ser 2-0\n",
      "20.84 % a de ser 2-1\n",
      "Enquanto OMG tem 60.99 %. Sendo:\n",
      "32.93 % a de ser 2-0\n",
      "28.07 % a de ser 2-1\n",
      "         JDG vs VG\n",
      "JDG tem 87.20 % de chance de vitória.Sendo:\n",
      "60.23 % a de ser 2-0\n",
      "26.97 % a de ser 2-1\n",
      "Enquanto VG tem 12.80 %. Sendo:\n",
      "5.01 % a de ser 2-0\n",
      "7.78 % a de ser 2-1\n",
      "         IG vs LNG\n",
      "IG tem 89.34 % de chance de vitória.Sendo:\n",
      "63.57 % a de ser 2-0\n",
      "25.77 % a de ser 2-1\n",
      "Enquanto LNG tem 10.66 %. Sendo:\n",
      "4.11 % a de ser 2-0\n",
      "6.55 % a de ser 2-1\n",
      "         RNG vs SN\n",
      "RNG tem 52.86 % de chance de vitória.Sendo:\n",
      "26.94 % a de ser 2-0\n",
      "25.91 % a de ser 2-1\n",
      "Enquanto SN tem 47.14 %. Sendo:\n",
      "23.13 % a de ser 2-0\n",
      "24.01 % a de ser 2-1\n",
      "         RW vs FPX\n",
      "RW tem 9.14 % de chance de vitória.Sendo:\n",
      "3.48 % a de ser 2-0\n",
      "5.66 % a de ser 2-1\n",
      "Enquanto FPX tem 90.86 %. Sendo:\n",
      "66.17 % a de ser 2-0\n",
      "24.69 % a de ser 2-1\n",
      "         LGD vs EDG\n",
      "LGD tem 72.61 % de chance de vitória.Sendo:\n",
      "43.00 % a de ser 2-0\n",
      "29.61 % a de ser 2-1\n",
      "Enquanto EDG tem 27.39 %. Sendo:\n",
      "11.85 % a de ser 2-0\n",
      "15.54 % a de ser 2-1\n",
      "         BLG vs DMO\n",
      "BLG tem 76.61 % de chance de vitória.Sendo:\n",
      "47.06 % a de ser 2-0\n",
      "29.55 % a de ser 2-1\n",
      "Enquanto DMO tem 23.39 %. Sendo:\n",
      "9.86 % a de ser 2-0\n",
      "13.53 % a de ser 2-1\n",
      "         IG vs RNG\n",
      "IG tem 47.23 % de chance de vitória.Sendo:\n",
      "23.19 % a de ser 2-0\n",
      "24.04 % a de ser 2-1\n",
      "Enquanto RNG tem 52.77 %. Sendo:\n",
      "26.88 % a de ser 2-0\n",
      "25.89 % a de ser 2-1\n",
      "         TES vs VG\n",
      "TES tem 97.45 % de chance de vitória.Sendo:\n",
      "81.84 % a de ser 2-0\n",
      "15.60 % a de ser 2-1\n",
      "Enquanto VG tem 2.55 %. Sendo:\n",
      "0.91 % a de ser 2-0\n",
      "1.64 % a de ser 2-1\n",
      "         JDG vs FPX\n",
      "JDG tem 74.35 % de chance de vitória.Sendo:\n",
      "44.72 % a de ser 2-0\n",
      "29.63 % a de ser 2-1\n",
      "Enquanto FPX tem 25.65 %. Sendo:\n",
      "10.98 % a de ser 2-0\n",
      "14.68 % a de ser 2-1\n",
      "Na semana 7 do campeonato LPL, modelo acertou 11 de 14 jogos, resultando em 78.57% de acerto.\n",
      "         LGD vs WE\n",
      "LGD tem 42.49 % de chance de vitória.Sendo:\n",
      "20.23 % a de ser 2-0\n",
      "22.26 % a de ser 2-1\n",
      "Enquanto WE tem 57.51 %. Sendo:\n",
      "30.27 % a de ser 2-0\n",
      "27.23 % a de ser 2-1\n",
      "         V5 vs IG\n",
      "V5 tem 76.52 % de chance de vitória.Sendo:\n",
      "46.96 % a de ser 2-0\n",
      "29.56 % a de ser 2-1\n",
      "Enquanto IG tem 23.48 %. Sendo:\n",
      "9.91 % a de ser 2-0\n",
      "13.58 % a de ser 2-1\n",
      "         FPX vs OMG\n",
      "FPX tem 59.39 % de chance de vitória.Sendo:\n",
      "31.69 % a de ser 2-0\n",
      "27.70 % a de ser 2-1\n",
      "Enquanto OMG tem 40.61 %. Sendo:\n",
      "19.10 % a de ser 2-0\n",
      "21.51 % a de ser 2-1\n",
      "         VG vs EDG\n",
      "VG tem 63.55 % de chance de vitória.Sendo:\n",
      "34.97 % a de ser 2-0\n",
      "28.58 % a de ser 2-1\n",
      "Enquanto EDG tem 36.45 %. Sendo:\n",
      "16.70 % a de ser 2-0\n",
      "19.75 % a de ser 2-1\n",
      "         RW vs ES\n",
      "RW tem 50.20 % de chance de vitória.Sendo:\n",
      "25.13 % a de ser 2-0\n",
      "25.07 % a de ser 2-1\n",
      "Enquanto ES tem 49.80 %. Sendo:\n",
      "24.87 % a de ser 2-0\n",
      "24.93 % a de ser 2-1\n",
      "         WE vs BLG\n",
      "WE tem 65.90 % de chance de vitória.Sendo:\n",
      "36.93 % a de ser 2-0\n",
      "28.97 % a de ser 2-1\n",
      "Enquanto BLG tem 34.10 %. Sendo:\n",
      "15.39 % a de ser 2-0\n",
      "18.71 % a de ser 2-1\n",
      "         TES vs DMO\n",
      "TES tem 98.56 % de chance de vitória.Sendo:\n",
      "86.33 % a de ser 2-0\n",
      "12.23 % a de ser 2-1\n",
      "Enquanto DMO tem 1.44 %. Sendo:\n",
      "0.50 % a de ser 2-0\n",
      "0.93 % a de ser 2-1\n",
      "         LNG vs JDG\n",
      "LNG tem 2.77 % de chance de vitória.Sendo:\n",
      "0.99 % a de ser 2-0\n",
      "1.78 % a de ser 2-1\n",
      "Enquanto JDG tem 97.23 %. Sendo:\n",
      "81.11 % a de ser 2-0\n",
      "16.13 % a de ser 2-1\n",
      "         V5 vs SN\n",
      "V5 tem 75.49 % de chance de vitória.Sendo:\n",
      "45.88 % a de ser 2-0\n",
      "29.61 % a de ser 2-1\n",
      "Enquanto SN tem 24.51 %. Sendo:\n",
      "10.41 % a de ser 2-0\n",
      "14.10 % a de ser 2-1\n",
      "         RNG vs LGD\n",
      "RNG tem 44.68 % de chance de vitória.Sendo:\n",
      "21.57 % a de ser 2-0\n",
      "23.11 % a de ser 2-1\n",
      "Enquanto LGD tem 55.32 %. Sendo:\n",
      "28.68 % a de ser 2-0\n",
      "26.64 % a de ser 2-1\n",
      "         VG vs OMG\n",
      "VG tem 57.94 % de chance de vitória.Sendo:\n",
      "30.60 % a de ser 2-0\n",
      "27.34 % a de ser 2-1\n",
      "Enquanto OMG tem 42.06 %. Sendo:\n",
      "19.97 % a de ser 2-0\n",
      "22.09 % a de ser 2-1\n",
      "         EDG vs FPX\n",
      "EDG tem 35.07 % de chance de vitória.Sendo:\n",
      "15.93 % a de ser 2-0\n",
      "19.14 % a de ser 2-1\n",
      "Enquanto FPX tem 64.93 %. Sendo:\n",
      "36.11 % a de ser 2-0\n",
      "28.82 % a de ser 2-1\n",
      "         JDG vs BLG\n",
      "JDG tem 84.74 % de chance de vitória.Sendo:\n",
      "56.74 % a de ser 2-0\n",
      "28.00 % a de ser 2-1\n",
      "Enquanto BLG tem 15.26 %. Sendo:\n",
      "6.09 % a de ser 2-0\n",
      "9.17 % a de ser 2-1\n",
      "         IG vs TES\n",
      "IG tem 12.98 % de chance de vitória.Sendo:\n",
      "5.09 % a de ser 2-0\n",
      "7.89 % a de ser 2-1\n",
      "Enquanto TES tem 87.02 %. Sendo:\n",
      "59.95 % a de ser 2-0\n",
      "27.06 % a de ser 2-1\n",
      "Na semana 8 do campeonato LPL, modelo acertou 9 de 14 jogos, resultando em 64.29% de acerto.\n",
      "         OMG vs SN\n",
      "OMG tem 14.41 % de chance de vitória.Sendo:\n",
      "5.71 % a de ser 2-0\n",
      "8.70 % a de ser 2-1\n",
      "Enquanto SN tem 85.59 %. Sendo:\n",
      "57.91 % a de ser 2-0\n",
      "27.68 % a de ser 2-1\n",
      "         VG vs DMO\n",
      "VG tem 76.56 % de chance de vitória.Sendo:\n",
      "47.00 % a de ser 2-0\n",
      "29.56 % a de ser 2-1\n",
      "Enquanto DMO tem 23.44 %. Sendo:\n",
      "9.89 % a de ser 2-0\n",
      "13.55 % a de ser 2-1\n",
      "         BLG vs RW\n",
      "BLG tem 48.75 % de chance de vitória.Sendo:\n",
      "24.18 % a de ser 2-0\n",
      "24.58 % a de ser 2-1\n",
      "Enquanto RW tem 51.25 %. Sendo:\n",
      "25.84 % a de ser 2-0\n",
      "25.41 % a de ser 2-1\n",
      "         EDG vs LNG\n",
      "EDG tem 73.29 % de chance de vitória.Sendo:\n",
      "43.66 % a de ser 2-0\n",
      "29.62 % a de ser 2-1\n",
      "Enquanto LNG tem 26.71 %. Sendo:\n",
      "11.51 % a de ser 2-0\n",
      "15.21 % a de ser 2-1\n",
      "         JDG vs ES\n",
      "JDG tem 93.15 % de chance de vitória.Sendo:\n",
      "70.59 % a de ser 2-0\n",
      "22.57 % a de ser 2-1\n",
      "Enquanto ES tem 6.85 %. Sendo:\n",
      "2.56 % a de ser 2-0\n",
      "4.29 % a de ser 2-1\n",
      "         FPX vs LGD\n",
      "FPX tem 35.52 % de chance de vitória.Sendo:\n",
      "16.18 % a de ser 2-0\n",
      "19.34 % a de ser 2-1\n",
      "Enquanto LGD tem 64.48 %. Sendo:\n",
      "35.73 % a de ser 2-0\n",
      "28.75 % a de ser 2-1\n",
      "         TES vs SN\n",
      "TES tem 69.61 % de chance de vitória.Sendo:\n",
      "40.18 % a de ser 2-0\n",
      "29.42 % a de ser 2-1\n",
      "Enquanto SN tem 30.39 %. Sendo:\n",
      "13.40 % a de ser 2-0\n",
      "16.99 % a de ser 2-1\n",
      "         WE vs V5\n",
      "WE tem 35.11 % de chance de vitória.Sendo:\n",
      "15.95 % a de ser 2-0\n",
      "19.16 % a de ser 2-1\n",
      "Enquanto V5 tem 64.89 %. Sendo:\n",
      "36.08 % a de ser 2-0\n",
      "28.82 % a de ser 2-1\n",
      "         RNG vs DMO\n",
      "RNG tem 83.60 % de chance de vitória.Sendo:\n",
      "55.23 % a de ser 2-0\n",
      "28.37 % a de ser 2-1\n",
      "Enquanto DMO tem 16.40 %. Sendo:\n",
      "6.60 % a de ser 2-0\n",
      "9.80 % a de ser 2-1\n",
      "         LGD vs VG\n",
      "LGD tem 74.38 % de chance de vitória.Sendo:\n",
      "44.75 % a de ser 2-0\n",
      "29.63 % a de ser 2-1\n",
      "Enquanto VG tem 25.62 %. Sendo:\n",
      "10.96 % a de ser 2-0\n",
      "14.66 % a de ser 2-1\n",
      "         LNG vs RW\n",
      "LNG tem 22.93 % de chance de vitória.Sendo:\n",
      "9.64 % a de ser 2-0\n",
      "13.29 % a de ser 2-1\n",
      "Enquanto RW tem 77.07 %. Sendo:\n",
      "47.55 % a de ser 2-0\n",
      "29.52 % a de ser 2-1\n",
      "         EDG vs BLG\n",
      "EDG tem 46.33 % de chance de vitória.Sendo:\n",
      "22.61 % a de ser 2-0\n",
      "23.72 % a de ser 2-1\n",
      "Enquanto BLG tem 53.67 %. Sendo:\n",
      "27.51 % a de ser 2-0\n",
      "26.16 % a de ser 2-1\n",
      "         IG vs OMG\n",
      "IG tem 88.93 % de chance de vitória.Sendo:\n",
      "62.90 % a de ser 2-0\n",
      "26.03 % a de ser 2-1\n",
      "Enquanto OMG tem 11.07 %. Sendo:\n",
      "4.28 % a de ser 2-0\n",
      "6.79 % a de ser 2-1\n",
      "         V5 vs JDG\n",
      "V5 tem 35.48 % de chance de vitória.Sendo:\n",
      "16.16 % a de ser 2-0\n",
      "19.33 % a de ser 2-1\n",
      "Enquanto JDG tem 64.52 %. Sendo:\n",
      "35.76 % a de ser 2-0\n",
      "28.75 % a de ser 2-1\n",
      "         WE vs ES\n",
      "WE tem 78.58 % de chance de vitória.Sendo:\n",
      "49.20 % a de ser 2-0\n",
      "29.38 % a de ser 2-1\n",
      "Enquanto ES tem 21.42 %. Sendo:\n",
      "8.92 % a de ser 2-0\n",
      "12.51 % a de ser 2-1\n",
      "         RNG vs TES\n",
      "RNG tem 16.41 % de chance de vitória.Sendo:\n",
      "6.60 % a de ser 2-0\n",
      "9.81 % a de ser 2-1\n",
      "Enquanto TES tem 83.59 %. Sendo:\n",
      "55.22 % a de ser 2-0\n",
      "28.37 % a de ser 2-1\n",
      "Na semana 9 do campeonato LPL, modelo acertou 10 de 16 jogos, resultando em 62.50% de acerto.\n",
      "         FPX vs DMO\n",
      "FPX tem 93.43 % de chance de vitória.Sendo:\n",
      "71.18 % a de ser 2-0\n",
      "22.25 % a de ser 2-1\n",
      "Enquanto DMO tem 6.57 %. Sendo:\n",
      "2.44 % a de ser 2-0\n",
      "4.12 % a de ser 2-1\n",
      "         BLG vs LGD\n",
      "BLG tem 26.66 % de chance de vitória.Sendo:\n",
      "11.48 % a de ser 2-0\n",
      "15.18 % a de ser 2-1\n",
      "Enquanto LGD tem 73.34 %. Sendo:\n",
      "43.72 % a de ser 2-0\n",
      "29.62 % a de ser 2-1\n",
      "         EDG vs V5\n",
      "EDG tem 26.44 % de chance de vitória.Sendo:\n",
      "11.37 % a de ser 2-0\n",
      "15.07 % a de ser 2-1\n",
      "Enquanto V5 tem 73.56 %. Sendo:\n",
      "43.93 % a de ser 2-0\n",
      "29.63 % a de ser 2-1\n",
      "         OMG vs WE\n",
      "OMG tem 15.29 % de chance de vitória.Sendo:\n",
      "6.10 % a de ser 2-0\n",
      "9.19 % a de ser 2-1\n",
      "Enquanto WE tem 84.71 %. Sendo:\n",
      "56.70 % a de ser 2-0\n",
      "28.01 % a de ser 2-1\n",
      "         LNG vs LGD\n",
      "LNG tem 10.57 % de chance de vitória.Sendo:\n",
      "4.07 % a de ser 2-0\n",
      "6.50 % a de ser 2-1\n",
      "Enquanto LGD tem 89.43 %. Sendo:\n",
      "63.72 % a de ser 2-0\n",
      "25.71 % a de ser 2-1\n",
      "         ES vs TES\n",
      "ES tem 5.16 % de chance de vitória.Sendo:\n",
      "1.89 % a de ser 2-0\n",
      "3.26 % a de ser 2-1\n",
      "Enquanto TES tem 94.84 %. Sendo:\n",
      "74.38 % a de ser 2-0\n",
      "20.46 % a de ser 2-1\n",
      "         V5 vs RW\n",
      "V5 tem 90.25 % de chance de vitória.Sendo:\n",
      "65.10 % a de ser 2-0\n",
      "25.15 % a de ser 2-1\n",
      "Enquanto RW tem 9.75 %. Sendo:\n",
      "3.73 % a de ser 2-0\n",
      "6.02 % a de ser 2-1\n",
      "         BLG vs RNG\n",
      "BLG tem 31.50 % de chance de vitória.Sendo:\n",
      "13.99 % a de ser 2-0\n",
      "17.51 % a de ser 2-1\n",
      "Enquanto RNG tem 68.50 %. Sendo:\n",
      "39.18 % a de ser 2-0\n",
      "29.31 % a de ser 2-1\n",
      "         SN vs VG\n",
      "SN tem 74.66 % de chance de vitória.Sendo:\n",
      "45.03 % a de ser 2-0\n",
      "29.63 % a de ser 2-1\n",
      "Enquanto VG tem 25.34 %. Sendo:\n",
      "10.82 % a de ser 2-0\n",
      "14.52 % a de ser 2-1\n",
      "         JDG vs OMG\n",
      "JDG tem 93.41 % de chance de vitória.Sendo:\n",
      "71.12 % a de ser 2-0\n",
      "22.28 % a de ser 2-1\n",
      "Enquanto OMG tem 6.59 %. Sendo:\n",
      "2.45 % a de ser 2-0\n",
      "4.14 % a de ser 2-1\n",
      "         LNG vs DMO\n",
      "LNG tem 68.32 % de chance de vitória.Sendo:\n",
      "39.02 % a de ser 2-0\n",
      "29.29 % a de ser 2-1\n",
      "Enquanto DMO tem 31.68 %. Sendo:\n",
      "14.09 % a de ser 2-0\n",
      "17.60 % a de ser 2-1\n",
      "         EDG vs ES\n",
      "EDG tem 79.10 % de chance de vitória.Sendo:\n",
      "49.79 % a de ser 2-0\n",
      "29.31 % a de ser 2-1\n",
      "Enquanto ES tem 20.90 %. Sendo:\n",
      "8.67 % a de ser 2-0\n",
      "12.23 % a de ser 2-1\n",
      "         TES vs WE\n",
      "TES tem 70.68 % de chance de vitória.Sendo:\n",
      "41.17 % a de ser 2-0\n",
      "29.51 % a de ser 2-1\n",
      "Enquanto WE tem 29.32 %. Sendo:\n",
      "12.84 % a de ser 2-0\n",
      "16.48 % a de ser 2-1\n",
      "         RNG vs RW\n",
      "RNG tem 83.67 % de chance de vitória.Sendo:\n",
      "55.32 % a de ser 2-0\n",
      "28.35 % a de ser 2-1\n",
      "Enquanto RW tem 16.33 %. Sendo:\n",
      "6.57 % a de ser 2-0\n",
      "9.77 % a de ser 2-1\n",
      "         IG vs VG\n",
      "IG tem 87.28 % de chance de vitória.Sendo:\n",
      "60.35 % a de ser 2-0\n",
      "26.94 % a de ser 2-1\n",
      "Enquanto VG tem 12.72 %. Sendo:\n",
      "4.98 % a de ser 2-0\n",
      "7.74 % a de ser 2-1\n",
      "         FPX vs SN\n",
      "FPX tem 46.21 % de chance de vitória.Sendo:\n",
      "22.54 % a de ser 2-0\n",
      "23.68 % a de ser 2-1\n",
      "Enquanto SN tem 53.79 %. Sendo:\n",
      "27.59 % a de ser 2-0\n",
      "26.20 % a de ser 2-1\n",
      "Na semana 10 do campeonato LPL, modelo acertou 10 de 16 jogos, resultando em 62.50% de acerto.\n",
      "No total, o modelo acertou 40 de 60 partidas, resultando em 66.67% de acerto.\n"
     ]
    }
   ],
   "source": [
    "at = 0 \n",
    "et = 0\n",
    "reg = 'LPL'\n",
    "for i in range(max(matches_2020_2[reg].Week)-3, max(matches_2020_2[reg].Week)+1):\n",
    "    a,b = calcular_acertos_em_determinada_semana(reg, matches_2020_2, teams_2020_2, initials_2020, semana = i)\n",
    "    at += a\n",
    "    et += b\n",
    "print(\"No total, o modelo acertou {} de {} partidas, resultando em {:.2f}% de acerto.\".format(at, at+et, 100*at/(at+et)))"
   ]
  },
  {
   "cell_type": "code",
   "execution_count": 6,
   "metadata": {},
   "outputs": [
    {
     "data": {
      "text/plain": [
       "{'LGD': 0.28769404671931675,\n",
       " 'WE': 0.24048381213116204,\n",
       " 'TES': 0.7360170568620317,\n",
       " 'OMG': 0.1532470741974976,\n",
       " 'SN': 0.4768462553785974,\n",
       " 'IG': 0.4087197001137402,\n",
       " 'LNG': 0.17252619212414605,\n",
       " 'DMO': 0.0456191030061257,\n",
       " 'BLG': 0.20300946202139356,\n",
       " 'V5': 0.4089247470247552,\n",
       " 'ES': 0.09041162672518757,\n",
       " 'FPX': 0.2847388854227571,\n",
       " 'JDG': 0.5616336405637001,\n",
       " 'EDG': 0.3260015605307104,\n",
       " 'VG': 0.22300858138331744,\n",
       " 'RNG': 0.2910520104984198,\n",
       " 'RW': 0.09006626019830197}"
      ]
     },
     "execution_count": 6,
     "metadata": {},
     "output_type": "execute_result"
    }
   ],
   "source": [
    "estimar_proficiencias('LPL', matches_2020_2, teams_2020_2, initials_2020)\n",
    "proficiencia['CN']"
   ]
  },
  {
   "cell_type": "code",
   "execution_count": 10,
   "metadata": {},
   "outputs": [
    {
     "name": "stdout",
     "output_type": "stream",
     "text": [
      "         IG vs FPX\n",
      "IG tem 60.19 % de chance de vitória.Sendo:\n",
      "17.07 % a de ser 3-0\n",
      "22.81 % a de ser 3-1\n",
      "20.31 % a de ser 3-2\n",
      "Enquanto FPX tem 39.81 %. Sendo:\n",
      "8.83 % a de ser 3-0\n",
      "14.69 % a de ser 3-1\n",
      "16.30 % a de ser 3-2\n"
     ]
    },
    {
     "data": {
      "text/plain": [
       "0.6018890263989656"
      ]
     },
     "execution_count": 10,
     "metadata": {},
     "output_type": "execute_result"
    }
   ],
   "source": [
    "probabilidade('IG', 'FPX', 5) #OK"
   ]
  },
  {
   "cell_type": "code",
   "execution_count": 7,
   "metadata": {},
   "outputs": [
    {
     "name": "stdout",
     "output_type": "stream",
     "text": [
      "         IG vs LGD\n",
      "IG tem 65.97 % de chance de vitória.Sendo:\n",
      "20.22 % a de ser 3-0\n",
      "25.05 % a de ser 3-1\n",
      "20.70 % a de ser 3-2\n",
      "Enquanto LGD tem 34.03 %. Sendo:\n",
      "7.05 % a de ser 3-0\n",
      "12.41 % a de ser 3-1\n",
      "14.57 % a de ser 3-2\n"
     ]
    },
    {
     "data": {
      "text/plain": [
       "0.6596720615775422"
      ]
     },
     "execution_count": 7,
     "metadata": {},
     "output_type": "execute_result"
    }
   ],
   "source": [
    "probabilidade('IG', 'LGD', 5)"
   ]
  },
  {
   "cell_type": "markdown",
   "metadata": {},
   "source": [
    "### LCK"
   ]
  },
  {
   "cell_type": "code",
   "execution_count": 151,
   "metadata": {},
   "outputs": [
    {
     "name": "stdout",
     "output_type": "stream",
     "text": [
      "         AF vs HLE\n",
      "AF tem 96.85 % de chance de vitória.Sendo:\n",
      "79.87 % a de ser 2-0\n",
      "16.98 % a de ser 2-1\n",
      "Enquanto HLE tem 3.15 %. Sendo:\n",
      "1.13 % a de ser 2-0\n",
      "2.02 % a de ser 2-1\n",
      "         DWG vs DRX\n",
      "DWG tem 68.75 % de chance de vitória.Sendo:\n",
      "39.41 % a de ser 2-0\n",
      "29.34 % a de ser 2-1\n",
      "Enquanto DRX tem 31.25 %. Sendo:\n",
      "13.86 % a de ser 2-0\n",
      "17.40 % a de ser 2-1\n",
      "         T1 vs KT\n",
      "T1 tem 64.14 % de chance de vitória.Sendo:\n",
      "35.45 % a de ser 2-0\n",
      "28.69 % a de ser 2-1\n",
      "Enquanto KT tem 35.86 %. Sendo:\n",
      "16.37 % a de ser 2-0\n",
      "19.49 % a de ser 2-1\n",
      "         DYN vs SB\n",
      "DYN tem 48.49 % de chance de vitória.Sendo:\n",
      "24.00 % a de ser 2-0\n",
      "24.48 % a de ser 2-1\n",
      "Enquanto SB tem 51.51 %. Sendo:\n",
      "26.02 % a de ser 2-0\n",
      "25.49 % a de ser 2-1\n",
      "         GEN vs SP\n",
      "GEN tem 99.84 % de chance de vitória.Sendo:\n",
      "95.37 % a de ser 2-0\n",
      "4.47 % a de ser 2-1\n",
      "Enquanto SP tem 0.16 %. Sendo:\n",
      "0.05 % a de ser 2-0\n",
      "0.11 % a de ser 2-1\n",
      "         DRX vs AF\n",
      "DRX tem 88.12 % de chance de vitória.Sendo:\n",
      "61.63 % a de ser 2-0\n",
      "26.50 % a de ser 2-1\n",
      "Enquanto AF tem 11.88 %. Sendo:\n",
      "4.62 % a de ser 2-0\n",
      "7.25 % a de ser 2-1\n",
      "         DWG vs HLE\n",
      "DWG tem 99.89 % de chance de vitória.Sendo:\n",
      "96.25 % a de ser 2-0\n",
      "3.65 % a de ser 2-1\n",
      "Enquanto HLE tem 0.11 %. Sendo:\n",
      "0.04 % a de ser 2-0\n",
      "0.07 % a de ser 2-1\n",
      "         T1 vs SB\n",
      "T1 tem 77.90 % de chance de vitória.Sendo:\n",
      "48.45 % a de ser 2-0\n",
      "29.45 % a de ser 2-1\n",
      "Enquanto SB tem 22.10 %. Sendo:\n",
      "9.24 % a de ser 2-0\n",
      "12.86 % a de ser 2-1\n",
      "Na semana 7 do campeonato LCK, modelo acertou 8 de 8 jogos, resultando em 100.00% de acerto.\n",
      "         DWG vs GEN\n",
      "DWG tem 77.63 % de chance de vitória.Sendo:\n",
      "48.15 % a de ser 2-0\n",
      "29.48 % a de ser 2-1\n",
      "Enquanto GEN tem 22.37 %. Sendo:\n",
      "9.37 % a de ser 2-0\n",
      "13.00 % a de ser 2-1\n",
      "         T1 vs SP\n",
      "T1 tem 99.39 % de chance de vitória.Sendo:\n",
      "91.08 % a de ser 2-0\n",
      "8.32 % a de ser 2-1\n",
      "Enquanto SP tem 0.61 %. Sendo:\n",
      "0.21 % a de ser 2-0\n",
      "0.40 % a de ser 2-1\n",
      "         AF vs DYN\n",
      "AF tem 78.15 % de chance de vitória.Sendo:\n",
      "48.72 % a de ser 2-0\n",
      "29.43 % a de ser 2-1\n",
      "Enquanto DYN tem 21.85 %. Sendo:\n",
      "9.12 % a de ser 2-0\n",
      "12.73 % a de ser 2-1\n",
      "         KT vs HLE\n",
      "KT tem 94.93 % de chance de vitória.Sendo:\n",
      "74.58 % a de ser 2-0\n",
      "20.35 % a de ser 2-1\n",
      "Enquanto HLE tem 5.07 %. Sendo:\n",
      "1.86 % a de ser 2-0\n",
      "3.21 % a de ser 2-1\n",
      "         DRX vs SB\n",
      "DRX tem 96.45 % de chance de vitória.Sendo:\n",
      "78.65 % a de ser 2-0\n",
      "17.80 % a de ser 2-1\n",
      "Enquanto SB tem 3.55 %. Sendo:\n",
      "1.28 % a de ser 2-0\n",
      "2.27 % a de ser 2-1\n",
      "         DWG vs SP\n",
      "DWG tem 99.98 % de chance de vitória.Sendo:\n",
      "98.30 % a de ser 2-0\n",
      "1.68 % a de ser 2-1\n",
      "Enquanto SP tem 0.02 %. Sendo:\n",
      "0.01 % a de ser 2-0\n",
      "0.01 % a de ser 2-1\n",
      "         T1 vs DYN\n",
      "T1 tem 89.35 % de chance de vitória.Sendo:\n",
      "63.59 % a de ser 2-0\n",
      "25.76 % a de ser 2-1\n",
      "Enquanto DYN tem 10.65 %. Sendo:\n",
      "4.10 % a de ser 2-0\n",
      "6.54 % a de ser 2-1\n",
      "         KT vs GEN\n",
      "KT tem 5.32 % de chance de vitória.Sendo:\n",
      "1.96 % a de ser 2-0\n",
      "3.37 % a de ser 2-1\n",
      "Enquanto GEN tem 94.68 %. Sendo:\n",
      "73.97 % a de ser 2-0\n",
      "20.70 % a de ser 2-1\n",
      "Na semana 8 do campeonato LCK, modelo acertou 7 de 8 jogos, resultando em 87.50% de acerto.\n",
      "         SB vs GEN\n",
      "SB tem 3.53 % de chance de vitória.Sendo:\n",
      "1.27 % a de ser 2-0\n",
      "2.26 % a de ser 2-1\n",
      "Enquanto GEN tem 96.47 %. Sendo:\n",
      "78.71 % a de ser 2-0\n",
      "17.76 % a de ser 2-1\n",
      "         T1 vs AF\n",
      "T1 tem 73.69 % de chance de vitória.Sendo:\n",
      "44.06 % a de ser 2-0\n",
      "29.63 % a de ser 2-1\n",
      "Enquanto AF tem 26.31 %. Sendo:\n",
      "11.31 % a de ser 2-0\n",
      "15.01 % a de ser 2-1\n",
      "         KT vs SP\n",
      "KT tem 96.68 % de chance de vitória.Sendo:\n",
      "79.33 % a de ser 2-0\n",
      "17.35 % a de ser 2-1\n",
      "Enquanto SP tem 3.32 %. Sendo:\n",
      "1.20 % a de ser 2-0\n",
      "2.13 % a de ser 2-1\n",
      "         DRX vs HLE\n",
      "DRX tem 99.65 % de chance de vitória.Sendo:\n",
      "93.17 % a de ser 2-0\n",
      "6.48 % a de ser 2-1\n",
      "Enquanto HLE tem 0.35 %. Sendo:\n",
      "0.12 % a de ser 2-0\n",
      "0.23 % a de ser 2-1\n",
      "         DWG vs DYN\n",
      "DWG tem 99.44 % de chance de vitória.Sendo:\n",
      "91.46 % a de ser 2-0\n",
      "7.99 % a de ser 2-1\n",
      "Enquanto DYN tem 0.56 %. Sendo:\n",
      "0.19 % a de ser 2-0\n",
      "0.36 % a de ser 2-1\n",
      "         AF vs SB\n",
      "AF tem 75.55 % de chance de vitória.Sendo:\n",
      "45.94 % a de ser 2-0\n",
      "29.60 % a de ser 2-1\n",
      "Enquanto SB tem 24.45 %. Sendo:\n",
      "10.38 % a de ser 2-0\n",
      "14.07 % a de ser 2-1\n",
      "         GEN vs HLE\n",
      "GEN tem 99.60 % de chance de vitória.Sendo:\n",
      "92.75 % a de ser 2-0\n",
      "6.85 % a de ser 2-1\n",
      "Enquanto HLE tem 0.40 %. Sendo:\n",
      "0.14 % a de ser 2-0\n",
      "0.26 % a de ser 2-1\n",
      "         DRX vs SP\n",
      "DRX tem 99.87 % de chance de vitória.Sendo:\n",
      "95.79 % a de ser 2-0\n",
      "4.07 % a de ser 2-1\n",
      "Enquanto SP tem 0.13 %. Sendo:\n",
      "0.05 % a de ser 2-0\n",
      "0.09 % a de ser 2-1\n",
      "Na semana 9 do campeonato LCK, modelo acertou 7 de 8 jogos, resultando em 87.50% de acerto.\n",
      "         DWG vs T1\n",
      "DWG tem 87.95 % de chance de vitória.Sendo:\n",
      "61.36 % a de ser 2-0\n",
      "26.59 % a de ser 2-1\n",
      "Enquanto T1 tem 12.05 %. Sendo:\n",
      "4.70 % a de ser 2-0\n",
      "7.36 % a de ser 2-1\n",
      "         AF vs KT\n",
      "AF tem 57.70 % de chance de vitória.Sendo:\n",
      "30.41 % a de ser 2-0\n",
      "27.28 % a de ser 2-1\n",
      "Enquanto KT tem 42.30 %. Sendo:\n",
      "20.12 % a de ser 2-0\n",
      "22.19 % a de ser 2-1\n",
      "         SB vs HLE\n",
      "SB tem 88.58 % de chance de vitória.Sendo:\n",
      "62.35 % a de ser 2-0\n",
      "26.24 % a de ser 2-1\n",
      "Enquanto HLE tem 11.42 %. Sendo:\n",
      "4.43 % a de ser 2-0\n",
      "6.99 % a de ser 2-1\n",
      "         DYN vs SP\n",
      "DYN tem 87.19 % de chance de vitória.Sendo:\n",
      "60.21 % a de ser 2-0\n",
      "26.98 % a de ser 2-1\n",
      "Enquanto SP tem 12.81 %. Sendo:\n",
      "5.02 % a de ser 2-0\n",
      "7.79 % a de ser 2-1\n",
      "         GEN vs AF\n",
      "GEN tem 88.23 % de chance de vitória.Sendo:\n",
      "61.79 % a de ser 2-0\n",
      "26.44 % a de ser 2-1\n",
      "Enquanto AF tem 11.77 %. Sendo:\n",
      "4.58 % a de ser 2-0\n",
      "7.19 % a de ser 2-1\n",
      "         DWG vs KT\n",
      "DWG tem 98.16 % de chance de vitória.Sendo:\n",
      "84.53 % a de ser 2-0\n",
      "13.63 % a de ser 2-1\n",
      "Enquanto KT tem 1.84 %. Sendo:\n",
      "0.65 % a de ser 2-0\n",
      "1.19 % a de ser 2-1\n",
      "         DRX vs T1\n",
      "DRX tem 58.83 % de chance de vitória.Sendo:\n",
      "31.27 % a de ser 2-0\n",
      "27.57 % a de ser 2-1\n",
      "Enquanto T1 tem 41.17 %. Sendo:\n",
      "19.43 % a de ser 2-0\n",
      "21.73 % a de ser 2-1\n",
      "         DYN vs HLE\n",
      "DYN tem 82.92 % de chance de vitória.Sendo:\n",
      "54.36 % a de ser 2-0\n",
      "28.56 % a de ser 2-1\n",
      "Enquanto HLE tem 17.08 %. Sendo:\n",
      "6.90 % a de ser 2-0\n",
      "10.18 % a de ser 2-1\n",
      "Na semana 10 do campeonato LCK, modelo acertou 8 de 8 jogos, resultando em 100.00% de acerto.\n",
      "No total, o modelo acertou 30 de 32 partidas, resultando em 93.75% de acerto.\n"
     ]
    }
   ],
   "source": [
    "at = 0\n",
    "et = 0\n",
    "reg = 'LCK'\n",
    "for i in range(max(matches_2020_2[reg].Week)-3, max(matches_2020_2[reg].Week)+1):\n",
    "    a,b = calcular_acertos_em_determinada_semana(reg, matches_2020_2, teams_2020_2, initials_2020, semana = i)\n",
    "    at += a\n",
    "    et += b\n",
    "print(\"No total, o modelo acertou {} de {} partidas, resultando em {:.2f}% de acerto.\".format(at, at+et, 100*at/(at+et)))"
   ]
  },
  {
   "cell_type": "code",
   "execution_count": 16,
   "metadata": {},
   "outputs": [
    {
     "name": "stdout",
     "output_type": "stream",
     "text": [
      "         AF vs T1\n",
      "AF tem 16.62 % de chance de vitória.Sendo:\n",
      "6.69 % a de ser 2-0\n",
      "9.92 % a de ser 2-1\n",
      "Enquanto T1 tem 83.38 %. Sendo:\n",
      "54.95 % a de ser 2-0\n",
      "28.43 % a de ser 2-1\n"
     ]
    },
    {
     "data": {
      "text/plain": [
       "0.16615798735764714"
      ]
     },
     "execution_count": 16,
     "metadata": {},
     "output_type": "execute_result"
    }
   ],
   "source": [
    "probabilidade('AF', 'T1', 3) #Terribly wrong"
   ]
  },
  {
   "cell_type": "code",
   "execution_count": 13,
   "metadata": {},
   "outputs": [
    {
     "name": "stdout",
     "output_type": "stream",
     "text": [
      "         GEN vs AF\n",
      "GEN tem 89.35 % de chance de vitória.Sendo:\n",
      "41.71 % a de ser 3-0\n",
      "31.64 % a de ser 3-1\n",
      "16.00 % a de ser 3-2\n",
      "Enquanto AF tem 10.65 %. Sendo:\n",
      "1.62 % a de ser 3-0\n",
      "3.62 % a de ser 3-1\n",
      "5.41 % a de ser 3-2\n"
     ]
    },
    {
     "data": {
      "text/plain": [
       "0.8934676208466006"
      ]
     },
     "execution_count": 13,
     "metadata": {},
     "output_type": "execute_result"
    }
   ],
   "source": [
    "probabilidade('GEN', 'AF', 5) #OK"
   ]
  },
  {
   "cell_type": "code",
   "execution_count": 4,
   "metadata": {},
   "outputs": [
    {
     "data": {
      "text/plain": [
       "{'SB': 0.13313687607695715,\n",
       " 'KT': 0.1513451644134064,\n",
       " 'HLE': 0.03945091367743983,\n",
       " 'DWG': 2.408183808008101,\n",
       " 'GEN': 0.9178231875981164,\n",
       " 'SP': 0.023089429511365805,\n",
       " 'DYN': 0.08068137045239666,\n",
       " 'T1': 0.43592888340093866,\n",
       " 'AF': 0.21038862202876835,\n",
       " 'DRX': 0.5999717448325103}"
      ]
     },
     "execution_count": 4,
     "metadata": {},
     "output_type": "execute_result"
    }
   ],
   "source": [
    "estimar_proficiencias('LCK', matches_2020_2, teams_2020_2, initials_2020)\n",
    "proficiencia['KR']"
   ]
  },
  {
   "cell_type": "code",
   "execution_count": 5,
   "metadata": {},
   "outputs": [
    {
     "name": "stdout",
     "output_type": "stream",
     "text": [
      "         GEN vs DRX\n",
      "GEN tem 69.07 % de chance de vitória.Sendo:\n",
      "22.11 % a de ser 3-0\n",
      "26.22 % a de ser 3-1\n",
      "20.73 % a de ser 3-2\n",
      "Enquanto DRX tem 30.93 %. Sendo:\n",
      "6.18 % a de ser 3-0\n",
      "11.21 % a de ser 3-1\n",
      "13.55 % a de ser 3-2\n"
     ]
    },
    {
     "data": {
      "text/plain": [
       "0.6906635561112221"
      ]
     },
     "execution_count": 5,
     "metadata": {},
     "output_type": "execute_result"
    }
   ],
   "source": [
    "probabilidade('GEN', 'DRX', 5) #OK"
   ]
  }
 ],
 "metadata": {
  "kernelspec": {
   "display_name": "Python 3",
   "language": "python",
   "name": "python3"
  },
  "language_info": {
   "codemirror_mode": {
    "name": "ipython",
    "version": 3
   },
   "file_extension": ".py",
   "mimetype": "text/x-python",
   "name": "python",
   "nbconvert_exporter": "python",
   "pygments_lexer": "ipython3",
   "version": "3.8.3"
  }
 },
 "nbformat": 4,
 "nbformat_minor": 2
}
