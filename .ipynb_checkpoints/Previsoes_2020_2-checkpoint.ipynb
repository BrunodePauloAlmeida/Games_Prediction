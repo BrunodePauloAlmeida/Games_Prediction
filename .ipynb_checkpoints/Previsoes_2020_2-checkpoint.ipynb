{
 "cells": [
  {
   "cell_type": "code",
   "execution_count": 229,
   "metadata": {},
   "outputs": [],
   "source": [
    "%run likelihood.ipynb\n",
    "%run importing_matches.ipynb"
   ]
  },
  {
   "cell_type": "code",
   "execution_count": 230,
   "metadata": {},
   "outputs": [],
   "source": [
    "matches_2020_2 = {}\n",
    "teams_2020_2 = {}\n",
    "initials_2020 = {'CBL': 'BR', 'LCK': 'KR', 'LCL': 'CIS', 'LCS': 'NA',\n",
    "                 'LEC': 'EU', 'LJL': 'JPN', 'LLA': 'LA', 'LPL': 'CN',\n",
    "                 'OPL': 'OCENIA', 'PCS': 'TWHKMA', 'TCL': 'TRK', 'VCS': 'VN'}\n",
    "importing_all_matches('2020_2', matches_2020_2, teams_2020_2, all_matches=True)"
   ]
  },
  {
   "cell_type": "markdown",
   "metadata": {},
   "source": [
    "### CBLOL"
   ]
  },
  {
   "cell_type": "code",
   "execution_count": 217,
   "metadata": {},
   "outputs": [
    {
     "name": "stdout",
     "output_type": "stream",
     "text": [
      "Na semana 7 do campeonato CBL, modelo acertou 4 de 8 jogos, resultando em 50.00% de acerto.\n",
      "Na semana 8 do campeonato CBL, modelo acertou 6 de 8 jogos, resultando em 75.00% de acerto.\n",
      "Na semana 9 do campeonato CBL, modelo acertou 4 de 8 jogos, resultando em 50.00% de acerto.\n",
      "Na semana 10 do campeonato CBL, modelo acertou 9 de 12 jogos, resultando em 75.00% de acerto.\n",
      "No total, o modelo acertou 23 de 36 partidas, resultando em 63.89% de acerto.\n"
     ]
    }
   ],
   "source": [
    "at = 0\n",
    "et = 0\n",
    "reg = 'CBL'\n",
    "for i in range(max(matches_2020_2[reg].Week)-3, max(matches_2020_2[reg].Week)+1):\n",
    "    a,b = calcular_acertos_em_determinada_semana(reg, matches_2020_2, teams_2020_2, initials_2020, semana = i)\n",
    "    at += a\n",
    "    et += b\n",
    "print(\"No total, o modelo acertou {} de {} partidas, resultando em {:.2f}% de acerto.\".format(at, at+et, 100*at/(at+et)))"
   ]
  },
  {
   "cell_type": "code",
   "execution_count": 126,
   "metadata": {},
   "outputs": [
    {
     "data": {
      "text/plain": [
       "{'VK': 0.2636195214732674,\n",
       " 'ITZ': 0.793453390453299,\n",
       " 'PNG': 0.9949093502250562,\n",
       " 'PRG': 0.7748539025301527,\n",
       " 'FUR': 0.3693093767284678,\n",
       " 'KBM': 0.7024222420236449,\n",
       " 'SAN': 0.537908547720986,\n",
       " 'FLA': 0.5635236688451261}"
      ]
     },
     "execution_count": 126,
     "metadata": {},
     "output_type": "execute_result"
    }
   ],
   "source": [
    "estimar_proficiencias('CBL', matches_2020_2, teams_2020_2, initials_2020)\n",
    "proficiencia['BR']"
   ]
  },
  {
   "cell_type": "code",
   "execution_count": 127,
   "metadata": {},
   "outputs": [
    {
     "name": "stdout",
     "output_type": "stream",
     "text": [
      "         PNG vs ITZ\n",
      "PNG tem 60.47 % de chance de vitória.Sendo:\n",
      "17.22 % a de ser 3-0\n",
      "22.92 % a de ser 3-1\n",
      "20.34 % a de ser 3-2\n",
      "Enquanto ITZ tem 39.53 %. Sendo:\n",
      "8.73 % a de ser 3-0\n",
      "14.58 % a de ser 3-1\n",
      "16.22 % a de ser 3-2\n"
     ]
    }
   ],
   "source": [
    "#CBLOL\n",
    "probabilidade('PNG', 'ITZ', 5)"
   ]
  },
  {
   "cell_type": "markdown",
   "metadata": {},
   "source": [
    "### LEC"
   ]
  },
  {
   "cell_type": "code",
   "execution_count": 177,
   "metadata": {},
   "outputs": [
    {
     "name": "stdout",
     "output_type": "stream",
     "text": [
      "Na semana 5 do campeonato LEC, modelo acertou 7 de 10 jogos, resultando em 70.00% de acerto.\n",
      "Na semana 6 do campeonato LEC, modelo acertou 4 de 10 jogos, resultando em 40.00% de acerto.\n",
      "Na semana 7 do campeonato LEC, modelo acertou 4 de 10 jogos, resultando em 40.00% de acerto.\n",
      "Na semana 8 do campeonato LEC, modelo acertou 11 de 15 jogos, resultando em 73.33% de acerto.\n",
      "No total, o modelo acertou 26 de 45 partidas, resultando em 57.78% de acerto.\n"
     ]
    }
   ],
   "source": [
    "at = 0\n",
    "et = 0\n",
    "reg = 'LEC'\n",
    "for i in range(max(matches_2020_2[reg].Week)-3, max(matches_2020_2[reg].Week)+1):\n",
    "    a,b = calcular_acertos_em_determinada_semana(reg, matches_2020_2, teams_2020_2, initials_2020, semana = i)\n",
    "    at += a\n",
    "    et += b\n",
    "print(\"No total, o modelo acertou {} de {} partidas, resultando em {:.2f}% de acerto.\".format(at, at+et, 100*at/(at+et)))"
   ]
  },
  {
   "cell_type": "code",
   "execution_count": 142,
   "metadata": {},
   "outputs": [
    {
     "data": {
      "text/plain": [
       "{'FNC': 0.6863546100729218,\n",
       " 'SK': 0.3178925417587326,\n",
       " 'MAD': 0.603150197550086,\n",
       " 'S04': 0.7137699867836185,\n",
       " 'OG': 0.18468906342990765,\n",
       " 'G2': 0.9495899520383646,\n",
       " 'MSF': 0.2694684457063693,\n",
       " 'RGE': 0.612079549430512,\n",
       " 'VIT': 0.2736859762446293,\n",
       " 'XL': 0.38931969188601984}"
      ]
     },
     "execution_count": 142,
     "metadata": {},
     "output_type": "execute_result"
    }
   ],
   "source": [
    "estimar_proficiencias('LEC', matches_2020_2, teams_2020_2, initials_2020)\n",
    "proficiencia['EU']"
   ]
  },
  {
   "cell_type": "code",
   "execution_count": 143,
   "metadata": {},
   "outputs": [
    {
     "name": "stdout",
     "output_type": "stream",
     "text": [
      "         G2 vs FNC\n",
      "G2 tem 64.83 % de chance de vitória.Sendo:\n",
      "19.56 % a de ser 3-0\n",
      "24.62 % a de ser 3-1\n",
      "20.65 % a de ser 3-2\n",
      "Enquanto FNC tem 35.17 %. Sendo:\n",
      "7.38 % a de ser 3-0\n",
      "12.86 % a de ser 3-1\n",
      "14.93 % a de ser 3-2\n"
     ]
    }
   ],
   "source": [
    "probabilidade('G2', 'FNC', 5)"
   ]
  },
  {
   "cell_type": "code",
   "execution_count": 144,
   "metadata": {},
   "outputs": [
    {
     "name": "stdout",
     "output_type": "stream",
     "text": [
      "         MAD vs S04\n",
      "MAD tem 42.16 % de chance de vitória.Sendo:\n",
      "9.61 % a de ser 3-0\n",
      "15.62 % a de ser 3-1\n",
      "16.93 % a de ser 3-2\n",
      "Enquanto S04 tem 57.84 %. Sendo:\n",
      "15.92 % a de ser 3-0\n",
      "21.88 % a de ser 3-1\n",
      "20.04 % a de ser 3-2\n"
     ]
    }
   ],
   "source": [
    "probabilidade('MAD', 'S04', 5)"
   ]
  },
  {
   "cell_type": "markdown",
   "metadata": {},
   "source": [
    "### LCS"
   ]
  },
  {
   "cell_type": "code",
   "execution_count": 182,
   "metadata": {},
   "outputs": [
    {
     "name": "stdout",
     "output_type": "stream",
     "text": [
      "Na semana 6 do campeonato LCS, modelo acertou 6 de 10 jogos, resultando em 60.00% de acerto.\n",
      "Na semana 7 do campeonato LCS, modelo acertou 8 de 10 jogos, resultando em 80.00% de acerto.\n",
      "Na semana 8 do campeonato LCS, modelo acertou 7 de 10 jogos, resultando em 70.00% de acerto.\n",
      "Na semana 9 do campeonato LCS, modelo acertou 9 de 11 jogos, resultando em 81.82% de acerto.\n",
      "No total, o modelo acertou 30 de 41 partidas, resultando em 73.17% de acerto.\n"
     ]
    }
   ],
   "source": [
    "at = 0\n",
    "et = 0\n",
    "reg = 'LCS'\n",
    "for i in range(max(matches_2020_2[reg].Week)-3, max(matches_2020_2[reg].Week)+1):\n",
    "    a,b = calcular_acertos_em_determinada_semana(reg, matches_2020_2, teams_2020_2, initials_2020, semana = i)\n",
    "    at += a\n",
    "    et += b\n",
    "print(\"No total, o modelo acertou {} de {} partidas, resultando em {:.2f}% de acerto.\".format(at, at+et, 100*at/(at+et)))"
   ]
  },
  {
   "cell_type": "markdown",
   "metadata": {},
   "source": [
    "### LPL"
   ]
  },
  {
   "cell_type": "code",
   "execution_count": null,
   "metadata": {},
   "outputs": [],
   "source": [
    "at = 0 \n",
    "et = 0\n",
    "reg = 'LPL'\n",
    "for i in range(max(matches_2020_2[reg].Week)-3, max(matches_2020_2[reg].Week)+1):\n",
    "    a,b = calcular_acertos_em_determinada_semana(reg, matches_2020_2, teams_2020_2, initials_2020, semana = i)\n",
    "    at += a\n",
    "    et += b\n",
    "print(\"No total, o modelo acertou {} de {} partidas, resultando em {:.2f}% de acerto.\".format(at, at+et, 100*at/(at+et)))"
   ]
  },
  {
   "cell_type": "markdown",
   "metadata": {},
   "source": [
    "### LCK"
   ]
  },
  {
   "cell_type": "code",
   "execution_count": null,
   "metadata": {},
   "outputs": [],
   "source": [
    "at = 0\n",
    "et = 0\n",
    "reg = 'LCK'\n",
    "for i in range(max(matches_2020_2[reg].Week)-3, max(matches_2020_2[reg].Week)+1):\n",
    "    a,b = calcular_acertos_em_determinada_semana(reg, matches_2020_2, teams_2020_2, initials_2020, semana = i)\n",
    "    at += a\n",
    "    et += b\n",
    "print(\"No total, o modelo acertou {} de {} partidas, resultando em {:.2f}% de acerto.\".format(at, at+et, 100*at/(at+et)))"
   ]
  }
 ],
 "metadata": {
  "kernelspec": {
   "display_name": "Python 3",
   "language": "python",
   "name": "python3"
  },
  "language_info": {
   "codemirror_mode": {
    "name": "ipython",
    "version": 3
   },
   "file_extension": ".py",
   "mimetype": "text/x-python",
   "name": "python",
   "nbconvert_exporter": "python",
   "pygments_lexer": "ipython3",
   "version": "3.8.3"
  }
 },
 "nbformat": 4,
 "nbformat_minor": 2
}
