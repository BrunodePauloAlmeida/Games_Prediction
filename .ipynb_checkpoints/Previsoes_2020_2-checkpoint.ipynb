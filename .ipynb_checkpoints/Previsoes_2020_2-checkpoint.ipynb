{
 "cells": [
  {
   "cell_type": "code",
   "execution_count": 1,
   "metadata": {},
   "outputs": [],
   "source": [
    "%run likelihood.ipynb\n",
    "%run importing_matches.ipynb"
   ]
  },
  {
   "cell_type": "code",
   "execution_count": 2,
   "metadata": {},
   "outputs": [],
   "source": [
    "matches_2020_2 = {}\n",
    "teams_2020_2 = {}\n",
    "initials_2020 = {'CBL': 'BR', 'LCK': 'KR', 'LCL': 'CIS', 'LCS': 'NA',\n",
    "                 'LEC': 'EU', 'LJL': 'JPN', 'LLA': 'LA', 'LPL': 'CN',\n",
    "                 'OPL': 'OCENIA', 'PCS': 'TWHKMA', 'TCL': 'TRK', 'VCS': 'VN'}\n",
    "importing_all_matches('2020_2', matches_2020_2, teams_2020_2, all_matches=True)"
   ]
  },
  {
   "cell_type": "code",
   "execution_count": 3,
   "metadata": {},
   "outputs": [],
   "source": [
    "Times = update_teams(teams_2020_2, initials_2020)"
   ]
  },
  {
   "cell_type": "markdown",
   "metadata": {},
   "source": [
    "### CBLOL"
   ]
  },
  {
   "cell_type": "code",
   "execution_count": 217,
   "metadata": {},
   "outputs": [
    {
     "name": "stdout",
     "output_type": "stream",
     "text": [
      "Na semana 7 do campeonato CBL, modelo acertou 4 de 8 jogos, resultando em 50.00% de acerto.\n",
      "Na semana 8 do campeonato CBL, modelo acertou 6 de 8 jogos, resultando em 75.00% de acerto.\n",
      "Na semana 9 do campeonato CBL, modelo acertou 4 de 8 jogos, resultando em 50.00% de acerto.\n",
      "Na semana 10 do campeonato CBL, modelo acertou 9 de 12 jogos, resultando em 75.00% de acerto.\n",
      "No total, o modelo acertou 23 de 36 partidas, resultando em 63.89% de acerto.\n"
     ]
    }
   ],
   "source": [
    "at = 0\n",
    "et = 0\n",
    "reg = 'CBL'\n",
    "for i in range(max(matches_2020_2[reg].Week)-3, max(matches_2020_2[reg].Week)+1):\n",
    "    a,b = calcular_acertos_em_determinada_semana(reg, matches_2020_2, teams_2020_2, initials_2020, semana = i)\n",
    "    at += a\n",
    "    et += b\n",
    "print(\"No total, o modelo acertou {} de {} partidas, resultando em {:.2f}% de acerto.\".format(at, at+et, 100*at/(at+et)))"
   ]
  },
  {
   "cell_type": "code",
   "execution_count": 126,
   "metadata": {},
   "outputs": [
    {
     "data": {
      "text/plain": [
       "{'VK': 0.2636195214732674,\n",
       " 'ITZ': 0.793453390453299,\n",
       " 'PNG': 0.9949093502250562,\n",
       " 'PRG': 0.7748539025301527,\n",
       " 'FUR': 0.3693093767284678,\n",
       " 'KBM': 0.7024222420236449,\n",
       " 'SAN': 0.537908547720986,\n",
       " 'FLA': 0.5635236688451261}"
      ]
     },
     "execution_count": 126,
     "metadata": {},
     "output_type": "execute_result"
    }
   ],
   "source": [
    "estimar_proficiencias('CBL', matches_2020_2, teams_2020_2, initials_2020)\n",
    "proficiencia['BR']"
   ]
  },
  {
   "cell_type": "code",
   "execution_count": 127,
   "metadata": {},
   "outputs": [
    {
     "name": "stdout",
     "output_type": "stream",
     "text": [
      "         PNG vs ITZ\n",
      "PNG tem 60.47 % de chance de vitória.Sendo:\n",
      "17.22 % a de ser 3-0\n",
      "22.92 % a de ser 3-1\n",
      "20.34 % a de ser 3-2\n",
      "Enquanto ITZ tem 39.53 %. Sendo:\n",
      "8.73 % a de ser 3-0\n",
      "14.58 % a de ser 3-1\n",
      "16.22 % a de ser 3-2\n"
     ]
    }
   ],
   "source": [
    "#CBLOL\n",
    "probabilidade('PNG', 'ITZ', 5) #NO"
   ]
  },
  {
   "cell_type": "markdown",
   "metadata": {},
   "source": [
    "### LEC 1-3"
   ]
  },
  {
   "cell_type": "code",
   "execution_count": 177,
   "metadata": {},
   "outputs": [
    {
     "name": "stdout",
     "output_type": "stream",
     "text": [
      "Na semana 5 do campeonato LEC, modelo acertou 7 de 10 jogos, resultando em 70.00% de acerto.\n",
      "Na semana 6 do campeonato LEC, modelo acertou 4 de 10 jogos, resultando em 40.00% de acerto.\n",
      "Na semana 7 do campeonato LEC, modelo acertou 4 de 10 jogos, resultando em 40.00% de acerto.\n",
      "Na semana 8 do campeonato LEC, modelo acertou 11 de 15 jogos, resultando em 73.33% de acerto.\n",
      "No total, o modelo acertou 26 de 45 partidas, resultando em 57.78% de acerto.\n"
     ]
    }
   ],
   "source": [
    "at = 0\n",
    "et = 0\n",
    "reg = 'LEC'\n",
    "for i in range(max(matches_2020_2[reg].Week)-3, max(matches_2020_2[reg].Week)+1):\n",
    "    a,b = calcular_acertos_em_determinada_semana(reg, matches_2020_2, teams_2020_2, initials_2020, semana = i)\n",
    "    at += a\n",
    "    et += b\n",
    "print(\"No total, o modelo acertou {} de {} partidas, resultando em {:.2f}% de acerto.\".format(at, at+et, 100*at/(at+et)))"
   ]
  },
  {
   "cell_type": "code",
   "execution_count": 4,
   "metadata": {},
   "outputs": [
    {
     "data": {
      "text/plain": [
       "{'MSF': 0.2643816736323014,\n",
       " 'S04': 0.5420335552068887,\n",
       " 'SK': 0.30212404967934775,\n",
       " 'RGE': 0.7934889999289318,\n",
       " 'VIT': 0.26988495832525283,\n",
       " 'MAD': 0.5526146302959575,\n",
       " 'OG': 0.1823855047269943,\n",
       " 'FNC': 0.8311554241132596,\n",
       " 'G2': 0.8789541289634476,\n",
       " 'XL': 0.38297709002877955}"
      ]
     },
     "execution_count": 4,
     "metadata": {},
     "output_type": "execute_result"
    }
   ],
   "source": [
    "estimar_proficiencias('LEC', matches_2020_2, teams_2020_2, initials_2020)\n",
    "proficiencia['EU']"
   ]
  },
  {
   "cell_type": "code",
   "execution_count": 9,
   "metadata": {},
   "outputs": [
    {
     "name": "stdout",
     "output_type": "stream",
     "text": [
      "         G2 vs RGE\n",
      "G2 tem 47.39 % de chance de vitória.Sendo:\n",
      "11.49 % a de ser 3-0\n",
      "17.71 % a de ser 3-1\n",
      "18.20 % a de ser 3-2\n",
      "Enquanto RGE tem 52.61 %. Sendo:\n",
      "13.57 % a de ser 3-0\n",
      "19.79 % a de ser 3-1\n",
      "19.24 % a de ser 3-2\n"
     ]
    },
    {
     "data": {
      "text/plain": [
       "0.4739447538162611"
      ]
     },
     "execution_count": 9,
     "metadata": {},
     "output_type": "execute_result"
    }
   ],
   "source": [
    "probabilidade('G2', 'RGE', 5) #G2 ganhou, mas a probabilidade era quase igual"
   ]
  },
  {
   "cell_type": "code",
   "execution_count": 6,
   "metadata": {},
   "outputs": [
    {
     "name": "stdout",
     "output_type": "stream",
     "text": [
      "         G2 vs FNC\n",
      "G2 tem 52.62 % de chance de vitória.Sendo:\n",
      "13.58 % a de ser 3-0\n",
      "19.80 % a de ser 3-1\n",
      "19.24 % a de ser 3-2\n",
      "Enquanto FNC tem 47.38 %. Sendo:\n",
      "11.48 % a de ser 3-0\n",
      "17.70 % a de ser 3-1\n",
      "18.20 % a de ser 3-2\n"
     ]
    },
    {
     "data": {
      "text/plain": [
       "0.526190107106355"
      ]
     },
     "execution_count": 6,
     "metadata": {},
     "output_type": "execute_result"
    }
   ],
   "source": [
    "probabilidade('G2', 'FNC', 5)"
   ]
  },
  {
   "cell_type": "markdown",
   "metadata": {},
   "source": [
    "### LCS 0-3"
   ]
  },
  {
   "cell_type": "code",
   "execution_count": 182,
   "metadata": {},
   "outputs": [
    {
     "name": "stdout",
     "output_type": "stream",
     "text": [
      "Na semana 6 do campeonato LCS, modelo acertou 6 de 10 jogos, resultando em 60.00% de acerto.\n",
      "Na semana 7 do campeonato LCS, modelo acertou 8 de 10 jogos, resultando em 80.00% de acerto.\n",
      "Na semana 8 do campeonato LCS, modelo acertou 7 de 10 jogos, resultando em 70.00% de acerto.\n",
      "Na semana 9 do campeonato LCS, modelo acertou 9 de 11 jogos, resultando em 81.82% de acerto.\n",
      "No total, o modelo acertou 30 de 41 partidas, resultando em 73.17% de acerto.\n"
     ]
    }
   ],
   "source": [
    "at = 0\n",
    "et = 0\n",
    "reg = 'LCS'\n",
    "for i in range(max(matches_2020_2[reg].Week)-3, max(matches_2020_2[reg].Week)+1):\n",
    "    a,b = calcular_acertos_em_determinada_semana(reg, matches_2020_2, teams_2020_2, initials_2020, semana = i)\n",
    "    at += a\n",
    "    et += b\n",
    "print(\"No total, o modelo acertou {} de {} partidas, resultando em {:.2f}% de acerto.\".format(at, at+et, 100*at/(at+et)))"
   ]
  },
  {
   "cell_type": "code",
   "execution_count": 7,
   "metadata": {},
   "outputs": [
    {
     "data": {
      "text/plain": [
       "{'TSM': 0.8403022062445297,\n",
       " '100': 0.15041752823658974,\n",
       " 'EG': 0.30739689490925504,\n",
       " 'FLY': 1.0194665815326593,\n",
       " 'CLG': 0.07188734687118307,\n",
       " 'IMT': 0.09379086144566158,\n",
       " 'TL': 1.2232973277029293,\n",
       " 'DIG': 0.1337252648912219,\n",
       " 'C9': 0.6300008575343347,\n",
       " 'GG': 0.5297151455327969}"
      ]
     },
     "execution_count": 7,
     "metadata": {},
     "output_type": "execute_result"
    }
   ],
   "source": [
    "estimar_proficiencias('LCS', matches_2020_2, teams_2020_2, initials_2020)\n",
    "proficiencia['NA']"
   ]
  },
  {
   "cell_type": "code",
   "execution_count": 7,
   "metadata": {},
   "outputs": [
    {
     "name": "stdout",
     "output_type": "stream",
     "text": [
      "         TL vs TSM\n",
      "TL tem 84.00 % de chance de vitória.Sendo:\n",
      "34.64 % a de ser 3-0\n",
      "30.94 % a de ser 3-1\n",
      "18.42 % a de ser 3-2\n",
      "Enquanto TSM tem 16.00 %. Sendo:\n",
      "2.64 % a de ser 3-0\n",
      "5.56 % a de ser 3-1\n",
      "7.81 % a de ser 3-2\n"
     ]
    },
    {
     "data": {
      "text/plain": [
       "0.839976257052"
      ]
     },
     "execution_count": 7,
     "metadata": {},
     "output_type": "execute_result"
    }
   ],
   "source": [
    "probabilidade('TL', 'TSM', 5) #NO"
   ]
  },
  {
   "cell_type": "code",
   "execution_count": 8,
   "metadata": {},
   "outputs": [
    {
     "name": "stdout",
     "output_type": "stream",
     "text": [
      "         TSM vs FLY\n",
      "TSM tem 41.02 % de chance de vitória.Sendo:\n",
      "9.22 % a de ser 3-0\n",
      "15.17 % a de ser 3-1\n",
      "16.63 % a de ser 3-2\n",
      "Enquanto FLY tem 58.98 %. Sendo:\n",
      "16.47 % a de ser 3-0\n",
      "22.33 % a de ser 3-1\n",
      "20.18 % a de ser 3-2\n"
     ]
    },
    {
     "data": {
      "text/plain": [
       "0.4102413948000777"
      ]
     },
     "execution_count": 8,
     "metadata": {},
     "output_type": "execute_result"
    }
   ],
   "source": [
    "probabilidade('TSM', 'FLY', 5)"
   ]
  },
  {
   "cell_type": "markdown",
   "metadata": {},
   "source": [
    "### LPL 1-1"
   ]
  },
  {
   "cell_type": "code",
   "execution_count": 150,
   "metadata": {},
   "outputs": [
    {
     "name": "stdout",
     "output_type": "stream",
     "text": [
      "         TES vs V5\n",
      "TES tem 85.78 % de chance de vitória.Sendo:\n",
      "58.17 % a de ser 2-0\n",
      "27.61 % a de ser 2-1\n",
      "Enquanto V5 tem 14.22 %. Sendo:\n",
      "5.63 % a de ser 2-0\n",
      "8.59 % a de ser 2-1\n",
      "         SN vs BLG\n",
      "SN tem 64.15 % de chance de vitória.Sendo:\n",
      "35.46 % a de ser 2-0\n",
      "28.69 % a de ser 2-1\n",
      "Enquanto BLG tem 35.85 %. Sendo:\n",
      "16.36 % a de ser 2-0\n",
      "19.49 % a de ser 2-1\n",
      "         WE vs LNG\n",
      "WE tem 93.74 % de chance de vitória.Sendo:\n",
      "71.85 % a de ser 2-0\n",
      "21.89 % a de ser 2-1\n",
      "Enquanto LNG tem 6.26 %. Sendo:\n",
      "2.32 % a de ser 2-0\n",
      "3.93 % a de ser 2-1\n",
      "         RW vs LGD\n",
      "RW tem 9.43 % de chance de vitória.Sendo:\n",
      "3.60 % a de ser 2-0\n",
      "5.83 % a de ser 2-1\n",
      "Enquanto LGD tem 90.57 %. Sendo:\n",
      "65.66 % a de ser 2-0\n",
      "24.91 % a de ser 2-1\n",
      "         ES vs OMG\n",
      "ES tem 39.01 % de chance de vitória.Sendo:\n",
      "18.16 % a de ser 2-0\n",
      "20.84 % a de ser 2-1\n",
      "Enquanto OMG tem 60.99 %. Sendo:\n",
      "32.93 % a de ser 2-0\n",
      "28.07 % a de ser 2-1\n",
      "         JDG vs VG\n",
      "JDG tem 87.20 % de chance de vitória.Sendo:\n",
      "60.23 % a de ser 2-0\n",
      "26.97 % a de ser 2-1\n",
      "Enquanto VG tem 12.80 %. Sendo:\n",
      "5.01 % a de ser 2-0\n",
      "7.78 % a de ser 2-1\n",
      "         IG vs LNG\n",
      "IG tem 89.34 % de chance de vitória.Sendo:\n",
      "63.57 % a de ser 2-0\n",
      "25.77 % a de ser 2-1\n",
      "Enquanto LNG tem 10.66 %. Sendo:\n",
      "4.11 % a de ser 2-0\n",
      "6.55 % a de ser 2-1\n",
      "         RNG vs SN\n",
      "RNG tem 52.86 % de chance de vitória.Sendo:\n",
      "26.94 % a de ser 2-0\n",
      "25.91 % a de ser 2-1\n",
      "Enquanto SN tem 47.14 %. Sendo:\n",
      "23.13 % a de ser 2-0\n",
      "24.01 % a de ser 2-1\n",
      "         RW vs FPX\n",
      "RW tem 9.14 % de chance de vitória.Sendo:\n",
      "3.48 % a de ser 2-0\n",
      "5.66 % a de ser 2-1\n",
      "Enquanto FPX tem 90.86 %. Sendo:\n",
      "66.17 % a de ser 2-0\n",
      "24.69 % a de ser 2-1\n",
      "         LGD vs EDG\n",
      "LGD tem 72.61 % de chance de vitória.Sendo:\n",
      "43.00 % a de ser 2-0\n",
      "29.61 % a de ser 2-1\n",
      "Enquanto EDG tem 27.39 %. Sendo:\n",
      "11.85 % a de ser 2-0\n",
      "15.54 % a de ser 2-1\n",
      "         BLG vs DMO\n",
      "BLG tem 76.61 % de chance de vitória.Sendo:\n",
      "47.06 % a de ser 2-0\n",
      "29.55 % a de ser 2-1\n",
      "Enquanto DMO tem 23.39 %. Sendo:\n",
      "9.86 % a de ser 2-0\n",
      "13.53 % a de ser 2-1\n",
      "         IG vs RNG\n",
      "IG tem 47.23 % de chance de vitória.Sendo:\n",
      "23.19 % a de ser 2-0\n",
      "24.04 % a de ser 2-1\n",
      "Enquanto RNG tem 52.77 %. Sendo:\n",
      "26.88 % a de ser 2-0\n",
      "25.89 % a de ser 2-1\n",
      "         TES vs VG\n",
      "TES tem 97.45 % de chance de vitória.Sendo:\n",
      "81.84 % a de ser 2-0\n",
      "15.60 % a de ser 2-1\n",
      "Enquanto VG tem 2.55 %. Sendo:\n",
      "0.91 % a de ser 2-0\n",
      "1.64 % a de ser 2-1\n",
      "         JDG vs FPX\n",
      "JDG tem 74.35 % de chance de vitória.Sendo:\n",
      "44.72 % a de ser 2-0\n",
      "29.63 % a de ser 2-1\n",
      "Enquanto FPX tem 25.65 %. Sendo:\n",
      "10.98 % a de ser 2-0\n",
      "14.68 % a de ser 2-1\n",
      "Na semana 7 do campeonato LPL, modelo acertou 11 de 14 jogos, resultando em 78.57% de acerto.\n",
      "         LGD vs WE\n",
      "LGD tem 42.49 % de chance de vitória.Sendo:\n",
      "20.23 % a de ser 2-0\n",
      "22.26 % a de ser 2-1\n",
      "Enquanto WE tem 57.51 %. Sendo:\n",
      "30.27 % a de ser 2-0\n",
      "27.23 % a de ser 2-1\n",
      "         V5 vs IG\n",
      "V5 tem 76.52 % de chance de vitória.Sendo:\n",
      "46.96 % a de ser 2-0\n",
      "29.56 % a de ser 2-1\n",
      "Enquanto IG tem 23.48 %. Sendo:\n",
      "9.91 % a de ser 2-0\n",
      "13.58 % a de ser 2-1\n",
      "         FPX vs OMG\n",
      "FPX tem 59.39 % de chance de vitória.Sendo:\n",
      "31.69 % a de ser 2-0\n",
      "27.70 % a de ser 2-1\n",
      "Enquanto OMG tem 40.61 %. Sendo:\n",
      "19.10 % a de ser 2-0\n",
      "21.51 % a de ser 2-1\n",
      "         VG vs EDG\n",
      "VG tem 63.55 % de chance de vitória.Sendo:\n",
      "34.97 % a de ser 2-0\n",
      "28.58 % a de ser 2-1\n",
      "Enquanto EDG tem 36.45 %. Sendo:\n",
      "16.70 % a de ser 2-0\n",
      "19.75 % a de ser 2-1\n",
      "         RW vs ES\n",
      "RW tem 50.20 % de chance de vitória.Sendo:\n",
      "25.13 % a de ser 2-0\n",
      "25.07 % a de ser 2-1\n",
      "Enquanto ES tem 49.80 %. Sendo:\n",
      "24.87 % a de ser 2-0\n",
      "24.93 % a de ser 2-1\n",
      "         WE vs BLG\n",
      "WE tem 65.90 % de chance de vitória.Sendo:\n",
      "36.93 % a de ser 2-0\n",
      "28.97 % a de ser 2-1\n",
      "Enquanto BLG tem 34.10 %. Sendo:\n",
      "15.39 % a de ser 2-0\n",
      "18.71 % a de ser 2-1\n",
      "         TES vs DMO\n",
      "TES tem 98.56 % de chance de vitória.Sendo:\n",
      "86.33 % a de ser 2-0\n",
      "12.23 % a de ser 2-1\n",
      "Enquanto DMO tem 1.44 %. Sendo:\n",
      "0.50 % a de ser 2-0\n",
      "0.93 % a de ser 2-1\n",
      "         LNG vs JDG\n",
      "LNG tem 2.77 % de chance de vitória.Sendo:\n",
      "0.99 % a de ser 2-0\n",
      "1.78 % a de ser 2-1\n",
      "Enquanto JDG tem 97.23 %. Sendo:\n",
      "81.11 % a de ser 2-0\n",
      "16.13 % a de ser 2-1\n",
      "         V5 vs SN\n",
      "V5 tem 75.49 % de chance de vitória.Sendo:\n",
      "45.88 % a de ser 2-0\n",
      "29.61 % a de ser 2-1\n",
      "Enquanto SN tem 24.51 %. Sendo:\n",
      "10.41 % a de ser 2-0\n",
      "14.10 % a de ser 2-1\n",
      "         RNG vs LGD\n",
      "RNG tem 44.68 % de chance de vitória.Sendo:\n",
      "21.57 % a de ser 2-0\n",
      "23.11 % a de ser 2-1\n",
      "Enquanto LGD tem 55.32 %. Sendo:\n",
      "28.68 % a de ser 2-0\n",
      "26.64 % a de ser 2-1\n",
      "         VG vs OMG\n",
      "VG tem 57.94 % de chance de vitória.Sendo:\n",
      "30.60 % a de ser 2-0\n",
      "27.34 % a de ser 2-1\n",
      "Enquanto OMG tem 42.06 %. Sendo:\n",
      "19.97 % a de ser 2-0\n",
      "22.09 % a de ser 2-1\n",
      "         EDG vs FPX\n",
      "EDG tem 35.07 % de chance de vitória.Sendo:\n",
      "15.93 % a de ser 2-0\n",
      "19.14 % a de ser 2-1\n",
      "Enquanto FPX tem 64.93 %. Sendo:\n",
      "36.11 % a de ser 2-0\n",
      "28.82 % a de ser 2-1\n",
      "         JDG vs BLG\n",
      "JDG tem 84.74 % de chance de vitória.Sendo:\n",
      "56.74 % a de ser 2-0\n",
      "28.00 % a de ser 2-1\n",
      "Enquanto BLG tem 15.26 %. Sendo:\n",
      "6.09 % a de ser 2-0\n",
      "9.17 % a de ser 2-1\n",
      "         IG vs TES\n",
      "IG tem 12.98 % de chance de vitória.Sendo:\n",
      "5.09 % a de ser 2-0\n",
      "7.89 % a de ser 2-1\n",
      "Enquanto TES tem 87.02 %. Sendo:\n",
      "59.95 % a de ser 2-0\n",
      "27.06 % a de ser 2-1\n",
      "Na semana 8 do campeonato LPL, modelo acertou 9 de 14 jogos, resultando em 64.29% de acerto.\n",
      "         OMG vs SN\n",
      "OMG tem 14.41 % de chance de vitória.Sendo:\n",
      "5.71 % a de ser 2-0\n",
      "8.70 % a de ser 2-1\n",
      "Enquanto SN tem 85.59 %. Sendo:\n",
      "57.91 % a de ser 2-0\n",
      "27.68 % a de ser 2-1\n",
      "         VG vs DMO\n",
      "VG tem 76.56 % de chance de vitória.Sendo:\n",
      "47.00 % a de ser 2-0\n",
      "29.56 % a de ser 2-1\n",
      "Enquanto DMO tem 23.44 %. Sendo:\n",
      "9.89 % a de ser 2-0\n",
      "13.55 % a de ser 2-1\n",
      "         BLG vs RW\n",
      "BLG tem 48.75 % de chance de vitória.Sendo:\n",
      "24.18 % a de ser 2-0\n",
      "24.58 % a de ser 2-1\n",
      "Enquanto RW tem 51.25 %. Sendo:\n",
      "25.84 % a de ser 2-0\n",
      "25.41 % a de ser 2-1\n",
      "         EDG vs LNG\n",
      "EDG tem 73.29 % de chance de vitória.Sendo:\n",
      "43.66 % a de ser 2-0\n",
      "29.62 % a de ser 2-1\n",
      "Enquanto LNG tem 26.71 %. Sendo:\n",
      "11.51 % a de ser 2-0\n",
      "15.21 % a de ser 2-1\n",
      "         JDG vs ES\n",
      "JDG tem 93.15 % de chance de vitória.Sendo:\n",
      "70.59 % a de ser 2-0\n",
      "22.57 % a de ser 2-1\n",
      "Enquanto ES tem 6.85 %. Sendo:\n",
      "2.56 % a de ser 2-0\n",
      "4.29 % a de ser 2-1\n",
      "         FPX vs LGD\n",
      "FPX tem 35.52 % de chance de vitória.Sendo:\n",
      "16.18 % a de ser 2-0\n",
      "19.34 % a de ser 2-1\n",
      "Enquanto LGD tem 64.48 %. Sendo:\n",
      "35.73 % a de ser 2-0\n",
      "28.75 % a de ser 2-1\n",
      "         TES vs SN\n",
      "TES tem 69.61 % de chance de vitória.Sendo:\n",
      "40.18 % a de ser 2-0\n",
      "29.42 % a de ser 2-1\n",
      "Enquanto SN tem 30.39 %. Sendo:\n",
      "13.40 % a de ser 2-0\n",
      "16.99 % a de ser 2-1\n",
      "         WE vs V5\n",
      "WE tem 35.11 % de chance de vitória.Sendo:\n",
      "15.95 % a de ser 2-0\n",
      "19.16 % a de ser 2-1\n",
      "Enquanto V5 tem 64.89 %. Sendo:\n",
      "36.08 % a de ser 2-0\n",
      "28.82 % a de ser 2-1\n",
      "         RNG vs DMO\n",
      "RNG tem 83.60 % de chance de vitória.Sendo:\n",
      "55.23 % a de ser 2-0\n",
      "28.37 % a de ser 2-1\n",
      "Enquanto DMO tem 16.40 %. Sendo:\n",
      "6.60 % a de ser 2-0\n",
      "9.80 % a de ser 2-1\n",
      "         LGD vs VG\n",
      "LGD tem 74.38 % de chance de vitória.Sendo:\n",
      "44.75 % a de ser 2-0\n",
      "29.63 % a de ser 2-1\n",
      "Enquanto VG tem 25.62 %. Sendo:\n",
      "10.96 % a de ser 2-0\n",
      "14.66 % a de ser 2-1\n",
      "         LNG vs RW\n",
      "LNG tem 22.93 % de chance de vitória.Sendo:\n",
      "9.64 % a de ser 2-0\n",
      "13.29 % a de ser 2-1\n",
      "Enquanto RW tem 77.07 %. Sendo:\n",
      "47.55 % a de ser 2-0\n",
      "29.52 % a de ser 2-1\n",
      "         EDG vs BLG\n",
      "EDG tem 46.33 % de chance de vitória.Sendo:\n",
      "22.61 % a de ser 2-0\n",
      "23.72 % a de ser 2-1\n",
      "Enquanto BLG tem 53.67 %. Sendo:\n",
      "27.51 % a de ser 2-0\n",
      "26.16 % a de ser 2-1\n",
      "         IG vs OMG\n",
      "IG tem 88.93 % de chance de vitória.Sendo:\n",
      "62.90 % a de ser 2-0\n",
      "26.03 % a de ser 2-1\n",
      "Enquanto OMG tem 11.07 %. Sendo:\n",
      "4.28 % a de ser 2-0\n",
      "6.79 % a de ser 2-1\n",
      "         V5 vs JDG\n",
      "V5 tem 35.48 % de chance de vitória.Sendo:\n",
      "16.16 % a de ser 2-0\n",
      "19.33 % a de ser 2-1\n",
      "Enquanto JDG tem 64.52 %. Sendo:\n",
      "35.76 % a de ser 2-0\n",
      "28.75 % a de ser 2-1\n",
      "         WE vs ES\n",
      "WE tem 78.58 % de chance de vitória.Sendo:\n",
      "49.20 % a de ser 2-0\n",
      "29.38 % a de ser 2-1\n",
      "Enquanto ES tem 21.42 %. Sendo:\n",
      "8.92 % a de ser 2-0\n",
      "12.51 % a de ser 2-1\n",
      "         RNG vs TES\n",
      "RNG tem 16.41 % de chance de vitória.Sendo:\n",
      "6.60 % a de ser 2-0\n",
      "9.81 % a de ser 2-1\n",
      "Enquanto TES tem 83.59 %. Sendo:\n",
      "55.22 % a de ser 2-0\n",
      "28.37 % a de ser 2-1\n",
      "Na semana 9 do campeonato LPL, modelo acertou 10 de 16 jogos, resultando em 62.50% de acerto.\n",
      "         FPX vs DMO\n",
      "FPX tem 93.43 % de chance de vitória.Sendo:\n",
      "71.18 % a de ser 2-0\n",
      "22.25 % a de ser 2-1\n",
      "Enquanto DMO tem 6.57 %. Sendo:\n",
      "2.44 % a de ser 2-0\n",
      "4.12 % a de ser 2-1\n",
      "         BLG vs LGD\n",
      "BLG tem 26.66 % de chance de vitória.Sendo:\n",
      "11.48 % a de ser 2-0\n",
      "15.18 % a de ser 2-1\n",
      "Enquanto LGD tem 73.34 %. Sendo:\n",
      "43.72 % a de ser 2-0\n",
      "29.62 % a de ser 2-1\n",
      "         EDG vs V5\n",
      "EDG tem 26.44 % de chance de vitória.Sendo:\n",
      "11.37 % a de ser 2-0\n",
      "15.07 % a de ser 2-1\n",
      "Enquanto V5 tem 73.56 %. Sendo:\n",
      "43.93 % a de ser 2-0\n",
      "29.63 % a de ser 2-1\n",
      "         OMG vs WE\n",
      "OMG tem 15.29 % de chance de vitória.Sendo:\n",
      "6.10 % a de ser 2-0\n",
      "9.19 % a de ser 2-1\n",
      "Enquanto WE tem 84.71 %. Sendo:\n",
      "56.70 % a de ser 2-0\n",
      "28.01 % a de ser 2-1\n",
      "         LNG vs LGD\n",
      "LNG tem 10.57 % de chance de vitória.Sendo:\n",
      "4.07 % a de ser 2-0\n",
      "6.50 % a de ser 2-1\n",
      "Enquanto LGD tem 89.43 %. Sendo:\n",
      "63.72 % a de ser 2-0\n",
      "25.71 % a de ser 2-1\n",
      "         ES vs TES\n",
      "ES tem 5.16 % de chance de vitória.Sendo:\n",
      "1.89 % a de ser 2-0\n",
      "3.26 % a de ser 2-1\n",
      "Enquanto TES tem 94.84 %. Sendo:\n",
      "74.38 % a de ser 2-0\n",
      "20.46 % a de ser 2-1\n",
      "         V5 vs RW\n",
      "V5 tem 90.25 % de chance de vitória.Sendo:\n",
      "65.10 % a de ser 2-0\n",
      "25.15 % a de ser 2-1\n",
      "Enquanto RW tem 9.75 %. Sendo:\n",
      "3.73 % a de ser 2-0\n",
      "6.02 % a de ser 2-1\n",
      "         BLG vs RNG\n",
      "BLG tem 31.50 % de chance de vitória.Sendo:\n",
      "13.99 % a de ser 2-0\n",
      "17.51 % a de ser 2-1\n",
      "Enquanto RNG tem 68.50 %. Sendo:\n",
      "39.18 % a de ser 2-0\n",
      "29.31 % a de ser 2-1\n",
      "         SN vs VG\n",
      "SN tem 74.66 % de chance de vitória.Sendo:\n",
      "45.03 % a de ser 2-0\n",
      "29.63 % a de ser 2-1\n",
      "Enquanto VG tem 25.34 %. Sendo:\n",
      "10.82 % a de ser 2-0\n",
      "14.52 % a de ser 2-1\n",
      "         JDG vs OMG\n",
      "JDG tem 93.41 % de chance de vitória.Sendo:\n",
      "71.12 % a de ser 2-0\n",
      "22.28 % a de ser 2-1\n",
      "Enquanto OMG tem 6.59 %. Sendo:\n",
      "2.45 % a de ser 2-0\n",
      "4.14 % a de ser 2-1\n",
      "         LNG vs DMO\n",
      "LNG tem 68.32 % de chance de vitória.Sendo:\n",
      "39.02 % a de ser 2-0\n",
      "29.29 % a de ser 2-1\n",
      "Enquanto DMO tem 31.68 %. Sendo:\n",
      "14.09 % a de ser 2-0\n",
      "17.60 % a de ser 2-1\n",
      "         EDG vs ES\n",
      "EDG tem 79.10 % de chance de vitória.Sendo:\n",
      "49.79 % a de ser 2-0\n",
      "29.31 % a de ser 2-1\n",
      "Enquanto ES tem 20.90 %. Sendo:\n",
      "8.67 % a de ser 2-0\n",
      "12.23 % a de ser 2-1\n",
      "         TES vs WE\n",
      "TES tem 70.68 % de chance de vitória.Sendo:\n",
      "41.17 % a de ser 2-0\n",
      "29.51 % a de ser 2-1\n",
      "Enquanto WE tem 29.32 %. Sendo:\n",
      "12.84 % a de ser 2-0\n",
      "16.48 % a de ser 2-1\n",
      "         RNG vs RW\n",
      "RNG tem 83.67 % de chance de vitória.Sendo:\n",
      "55.32 % a de ser 2-0\n",
      "28.35 % a de ser 2-1\n",
      "Enquanto RW tem 16.33 %. Sendo:\n",
      "6.57 % a de ser 2-0\n",
      "9.77 % a de ser 2-1\n",
      "         IG vs VG\n",
      "IG tem 87.28 % de chance de vitória.Sendo:\n",
      "60.35 % a de ser 2-0\n",
      "26.94 % a de ser 2-1\n",
      "Enquanto VG tem 12.72 %. Sendo:\n",
      "4.98 % a de ser 2-0\n",
      "7.74 % a de ser 2-1\n",
      "         FPX vs SN\n",
      "FPX tem 46.21 % de chance de vitória.Sendo:\n",
      "22.54 % a de ser 2-0\n",
      "23.68 % a de ser 2-1\n",
      "Enquanto SN tem 53.79 %. Sendo:\n",
      "27.59 % a de ser 2-0\n",
      "26.20 % a de ser 2-1\n",
      "Na semana 10 do campeonato LPL, modelo acertou 10 de 16 jogos, resultando em 62.50% de acerto.\n",
      "No total, o modelo acertou 40 de 60 partidas, resultando em 66.67% de acerto.\n"
     ]
    }
   ],
   "source": [
    "at = 0 \n",
    "et = 0\n",
    "reg = 'LPL'\n",
    "for i in range(max(matches_2020_2[reg].Week)-3, max(matches_2020_2[reg].Week)+1):\n",
    "    a,b = calcular_acertos_em_determinada_semana(reg, matches_2020_2, teams_2020_2, initials_2020, semana = i)\n",
    "    at += a\n",
    "    et += b\n",
    "print(\"No total, o modelo acertou {} de {} partidas, resultando em {:.2f}% de acerto.\".format(at, at+et, 100*at/(at+et)))"
   ]
  },
  {
   "cell_type": "code",
   "execution_count": 4,
   "metadata": {},
   "outputs": [
    {
     "data": {
      "text/plain": [
       "{'ES': 0.09829737494859572,\n",
       " 'V5': 0.4306414324498444,\n",
       " 'RW': 0.09463719758317395,\n",
       " 'SN': 0.5105115101426853,\n",
       " 'EDG': 0.3173821017323846,\n",
       " 'WE': 0.2366638306373646,\n",
       " 'RNG': 0.2650092289669705,\n",
       " 'JDG': 0.5886927043198428,\n",
       " 'OMG': 0.14206346828276306,\n",
       " 'LGD': 0.31045807689634847,\n",
       " 'BLG': 0.23035278498384068,\n",
       " 'DMO': 0.043189512964350724,\n",
       " 'VG': 0.2337456364297056,\n",
       " 'LNG': 0.13707111280078169,\n",
       " 'TES': 0.7760666943305778,\n",
       " 'FPX': 0.2528314359765201,\n",
       " 'IG': 0.33238591145541213}"
      ]
     },
     "execution_count": 4,
     "metadata": {},
     "output_type": "execute_result"
    }
   ],
   "source": [
    "estimar_proficiencias('LPL', matches_2020_2, teams_2020_2, initials_2020)\n",
    "proficiencia['CN']"
   ]
  },
  {
   "cell_type": "code",
   "execution_count": 5,
   "metadata": {},
   "outputs": [
    {
     "name": "stdout",
     "output_type": "stream",
     "text": [
      "         IG vs LGD\n",
      "IG tem 53.20 % de chance de vitória.Sendo:\n",
      "13.82 % a de ser 3-0\n",
      "20.03 % a de ser 3-1\n",
      "19.34 % a de ser 3-2\n",
      "Enquanto LGD tem 46.80 %. Sendo:\n",
      "11.26 % a de ser 3-0\n",
      "17.47 % a de ser 3-1\n",
      "18.07 % a de ser 3-2\n"
     ]
    },
    {
     "data": {
      "text/plain": [
       "0.5319539494478334"
      ]
     },
     "execution_count": 5,
     "metadata": {},
     "output_type": "execute_result"
    }
   ],
   "source": [
    "probabilidade('IG', 'LGD', 5) #No ?"
   ]
  },
  {
   "cell_type": "markdown",
   "metadata": {},
   "source": [
    "### LCK 2-2"
   ]
  },
  {
   "cell_type": "code",
   "execution_count": 151,
   "metadata": {},
   "outputs": [
    {
     "name": "stdout",
     "output_type": "stream",
     "text": [
      "         AF vs HLE\n",
      "AF tem 96.85 % de chance de vitória.Sendo:\n",
      "79.87 % a de ser 2-0\n",
      "16.98 % a de ser 2-1\n",
      "Enquanto HLE tem 3.15 %. Sendo:\n",
      "1.13 % a de ser 2-0\n",
      "2.02 % a de ser 2-1\n",
      "         DWG vs DRX\n",
      "DWG tem 68.75 % de chance de vitória.Sendo:\n",
      "39.41 % a de ser 2-0\n",
      "29.34 % a de ser 2-1\n",
      "Enquanto DRX tem 31.25 %. Sendo:\n",
      "13.86 % a de ser 2-0\n",
      "17.40 % a de ser 2-1\n",
      "         T1 vs KT\n",
      "T1 tem 64.14 % de chance de vitória.Sendo:\n",
      "35.45 % a de ser 2-0\n",
      "28.69 % a de ser 2-1\n",
      "Enquanto KT tem 35.86 %. Sendo:\n",
      "16.37 % a de ser 2-0\n",
      "19.49 % a de ser 2-1\n",
      "         DYN vs SB\n",
      "DYN tem 48.49 % de chance de vitória.Sendo:\n",
      "24.00 % a de ser 2-0\n",
      "24.48 % a de ser 2-1\n",
      "Enquanto SB tem 51.51 %. Sendo:\n",
      "26.02 % a de ser 2-0\n",
      "25.49 % a de ser 2-1\n",
      "         GEN vs SP\n",
      "GEN tem 99.84 % de chance de vitória.Sendo:\n",
      "95.37 % a de ser 2-0\n",
      "4.47 % a de ser 2-1\n",
      "Enquanto SP tem 0.16 %. Sendo:\n",
      "0.05 % a de ser 2-0\n",
      "0.11 % a de ser 2-1\n",
      "         DRX vs AF\n",
      "DRX tem 88.12 % de chance de vitória.Sendo:\n",
      "61.63 % a de ser 2-0\n",
      "26.50 % a de ser 2-1\n",
      "Enquanto AF tem 11.88 %. Sendo:\n",
      "4.62 % a de ser 2-0\n",
      "7.25 % a de ser 2-1\n",
      "         DWG vs HLE\n",
      "DWG tem 99.89 % de chance de vitória.Sendo:\n",
      "96.25 % a de ser 2-0\n",
      "3.65 % a de ser 2-1\n",
      "Enquanto HLE tem 0.11 %. Sendo:\n",
      "0.04 % a de ser 2-0\n",
      "0.07 % a de ser 2-1\n",
      "         T1 vs SB\n",
      "T1 tem 77.90 % de chance de vitória.Sendo:\n",
      "48.45 % a de ser 2-0\n",
      "29.45 % a de ser 2-1\n",
      "Enquanto SB tem 22.10 %. Sendo:\n",
      "9.24 % a de ser 2-0\n",
      "12.86 % a de ser 2-1\n",
      "Na semana 7 do campeonato LCK, modelo acertou 8 de 8 jogos, resultando em 100.00% de acerto.\n",
      "         DWG vs GEN\n",
      "DWG tem 77.63 % de chance de vitória.Sendo:\n",
      "48.15 % a de ser 2-0\n",
      "29.48 % a de ser 2-1\n",
      "Enquanto GEN tem 22.37 %. Sendo:\n",
      "9.37 % a de ser 2-0\n",
      "13.00 % a de ser 2-1\n",
      "         T1 vs SP\n",
      "T1 tem 99.39 % de chance de vitória.Sendo:\n",
      "91.08 % a de ser 2-0\n",
      "8.32 % a de ser 2-1\n",
      "Enquanto SP tem 0.61 %. Sendo:\n",
      "0.21 % a de ser 2-0\n",
      "0.40 % a de ser 2-1\n",
      "         AF vs DYN\n",
      "AF tem 78.15 % de chance de vitória.Sendo:\n",
      "48.72 % a de ser 2-0\n",
      "29.43 % a de ser 2-1\n",
      "Enquanto DYN tem 21.85 %. Sendo:\n",
      "9.12 % a de ser 2-0\n",
      "12.73 % a de ser 2-1\n",
      "         KT vs HLE\n",
      "KT tem 94.93 % de chance de vitória.Sendo:\n",
      "74.58 % a de ser 2-0\n",
      "20.35 % a de ser 2-1\n",
      "Enquanto HLE tem 5.07 %. Sendo:\n",
      "1.86 % a de ser 2-0\n",
      "3.21 % a de ser 2-1\n",
      "         DRX vs SB\n",
      "DRX tem 96.45 % de chance de vitória.Sendo:\n",
      "78.65 % a de ser 2-0\n",
      "17.80 % a de ser 2-1\n",
      "Enquanto SB tem 3.55 %. Sendo:\n",
      "1.28 % a de ser 2-0\n",
      "2.27 % a de ser 2-1\n",
      "         DWG vs SP\n",
      "DWG tem 99.98 % de chance de vitória.Sendo:\n",
      "98.30 % a de ser 2-0\n",
      "1.68 % a de ser 2-1\n",
      "Enquanto SP tem 0.02 %. Sendo:\n",
      "0.01 % a de ser 2-0\n",
      "0.01 % a de ser 2-1\n",
      "         T1 vs DYN\n",
      "T1 tem 89.35 % de chance de vitória.Sendo:\n",
      "63.59 % a de ser 2-0\n",
      "25.76 % a de ser 2-1\n",
      "Enquanto DYN tem 10.65 %. Sendo:\n",
      "4.10 % a de ser 2-0\n",
      "6.54 % a de ser 2-1\n",
      "         KT vs GEN\n",
      "KT tem 5.32 % de chance de vitória.Sendo:\n",
      "1.96 % a de ser 2-0\n",
      "3.37 % a de ser 2-1\n",
      "Enquanto GEN tem 94.68 %. Sendo:\n",
      "73.97 % a de ser 2-0\n",
      "20.70 % a de ser 2-1\n",
      "Na semana 8 do campeonato LCK, modelo acertou 7 de 8 jogos, resultando em 87.50% de acerto.\n",
      "         SB vs GEN\n",
      "SB tem 3.53 % de chance de vitória.Sendo:\n",
      "1.27 % a de ser 2-0\n",
      "2.26 % a de ser 2-1\n",
      "Enquanto GEN tem 96.47 %. Sendo:\n",
      "78.71 % a de ser 2-0\n",
      "17.76 % a de ser 2-1\n",
      "         T1 vs AF\n",
      "T1 tem 73.69 % de chance de vitória.Sendo:\n",
      "44.06 % a de ser 2-0\n",
      "29.63 % a de ser 2-1\n",
      "Enquanto AF tem 26.31 %. Sendo:\n",
      "11.31 % a de ser 2-0\n",
      "15.01 % a de ser 2-1\n",
      "         KT vs SP\n",
      "KT tem 96.68 % de chance de vitória.Sendo:\n",
      "79.33 % a de ser 2-0\n",
      "17.35 % a de ser 2-1\n",
      "Enquanto SP tem 3.32 %. Sendo:\n",
      "1.20 % a de ser 2-0\n",
      "2.13 % a de ser 2-1\n",
      "         DRX vs HLE\n",
      "DRX tem 99.65 % de chance de vitória.Sendo:\n",
      "93.17 % a de ser 2-0\n",
      "6.48 % a de ser 2-1\n",
      "Enquanto HLE tem 0.35 %. Sendo:\n",
      "0.12 % a de ser 2-0\n",
      "0.23 % a de ser 2-1\n",
      "         DWG vs DYN\n",
      "DWG tem 99.44 % de chance de vitória.Sendo:\n",
      "91.46 % a de ser 2-0\n",
      "7.99 % a de ser 2-1\n",
      "Enquanto DYN tem 0.56 %. Sendo:\n",
      "0.19 % a de ser 2-0\n",
      "0.36 % a de ser 2-1\n",
      "         AF vs SB\n",
      "AF tem 75.55 % de chance de vitória.Sendo:\n",
      "45.94 % a de ser 2-0\n",
      "29.60 % a de ser 2-1\n",
      "Enquanto SB tem 24.45 %. Sendo:\n",
      "10.38 % a de ser 2-0\n",
      "14.07 % a de ser 2-1\n",
      "         GEN vs HLE\n",
      "GEN tem 99.60 % de chance de vitória.Sendo:\n",
      "92.75 % a de ser 2-0\n",
      "6.85 % a de ser 2-1\n",
      "Enquanto HLE tem 0.40 %. Sendo:\n",
      "0.14 % a de ser 2-0\n",
      "0.26 % a de ser 2-1\n",
      "         DRX vs SP\n",
      "DRX tem 99.87 % de chance de vitória.Sendo:\n",
      "95.79 % a de ser 2-0\n",
      "4.07 % a de ser 2-1\n",
      "Enquanto SP tem 0.13 %. Sendo:\n",
      "0.05 % a de ser 2-0\n",
      "0.09 % a de ser 2-1\n",
      "Na semana 9 do campeonato LCK, modelo acertou 7 de 8 jogos, resultando em 87.50% de acerto.\n",
      "         DWG vs T1\n",
      "DWG tem 87.95 % de chance de vitória.Sendo:\n",
      "61.36 % a de ser 2-0\n",
      "26.59 % a de ser 2-1\n",
      "Enquanto T1 tem 12.05 %. Sendo:\n",
      "4.70 % a de ser 2-0\n",
      "7.36 % a de ser 2-1\n",
      "         AF vs KT\n",
      "AF tem 57.70 % de chance de vitória.Sendo:\n",
      "30.41 % a de ser 2-0\n",
      "27.28 % a de ser 2-1\n",
      "Enquanto KT tem 42.30 %. Sendo:\n",
      "20.12 % a de ser 2-0\n",
      "22.19 % a de ser 2-1\n",
      "         SB vs HLE\n",
      "SB tem 88.58 % de chance de vitória.Sendo:\n",
      "62.35 % a de ser 2-0\n",
      "26.24 % a de ser 2-1\n",
      "Enquanto HLE tem 11.42 %. Sendo:\n",
      "4.43 % a de ser 2-0\n",
      "6.99 % a de ser 2-1\n",
      "         DYN vs SP\n",
      "DYN tem 87.19 % de chance de vitória.Sendo:\n",
      "60.21 % a de ser 2-0\n",
      "26.98 % a de ser 2-1\n",
      "Enquanto SP tem 12.81 %. Sendo:\n",
      "5.02 % a de ser 2-0\n",
      "7.79 % a de ser 2-1\n",
      "         GEN vs AF\n",
      "GEN tem 88.23 % de chance de vitória.Sendo:\n",
      "61.79 % a de ser 2-0\n",
      "26.44 % a de ser 2-1\n",
      "Enquanto AF tem 11.77 %. Sendo:\n",
      "4.58 % a de ser 2-0\n",
      "7.19 % a de ser 2-1\n",
      "         DWG vs KT\n",
      "DWG tem 98.16 % de chance de vitória.Sendo:\n",
      "84.53 % a de ser 2-0\n",
      "13.63 % a de ser 2-1\n",
      "Enquanto KT tem 1.84 %. Sendo:\n",
      "0.65 % a de ser 2-0\n",
      "1.19 % a de ser 2-1\n",
      "         DRX vs T1\n",
      "DRX tem 58.83 % de chance de vitória.Sendo:\n",
      "31.27 % a de ser 2-0\n",
      "27.57 % a de ser 2-1\n",
      "Enquanto T1 tem 41.17 %. Sendo:\n",
      "19.43 % a de ser 2-0\n",
      "21.73 % a de ser 2-1\n",
      "         DYN vs HLE\n",
      "DYN tem 82.92 % de chance de vitória.Sendo:\n",
      "54.36 % a de ser 2-0\n",
      "28.56 % a de ser 2-1\n",
      "Enquanto HLE tem 17.08 %. Sendo:\n",
      "6.90 % a de ser 2-0\n",
      "10.18 % a de ser 2-1\n",
      "Na semana 10 do campeonato LCK, modelo acertou 8 de 8 jogos, resultando em 100.00% de acerto.\n",
      "No total, o modelo acertou 30 de 32 partidas, resultando em 93.75% de acerto.\n"
     ]
    }
   ],
   "source": [
    "at = 0\n",
    "et = 0\n",
    "reg = 'LCK'\n",
    "for i in range(max(matches_2020_2[reg].Week)-3, max(matches_2020_2[reg].Week)+1):\n",
    "    a,b = calcular_acertos_em_determinada_semana(reg, matches_2020_2, teams_2020_2, initials_2020, semana = i)\n",
    "    at += a\n",
    "    et += b\n",
    "print(\"No total, o modelo acertou {} de {} partidas, resultando em {:.2f}% de acerto.\".format(at, at+et, 100*at/(at+et)))"
   ]
  },
  {
   "cell_type": "code",
   "execution_count": 9,
   "metadata": {},
   "outputs": [
    {
     "data": {
      "text/plain": [
       "{'T1': 0.3958168651076814,\n",
       " 'DRX': 0.5750983681282066,\n",
       " 'SP': 0.020730355526228345,\n",
       " 'DYN': 0.07240573420205461,\n",
       " 'HLE': 0.03538411873750461,\n",
       " 'AF': 0.1865912522430374,\n",
       " 'GEN': 0.7113056489561158,\n",
       " 'SB': 0.11898952150048898,\n",
       " 'DWG': 2.747889454471992,\n",
       " 'KT': 0.1357886960278523}"
      ]
     },
     "execution_count": 9,
     "metadata": {},
     "output_type": "execute_result"
    }
   ],
   "source": [
    "estimar_proficiencias('LCK', matches_2020_2, teams_2020_2, initials_2020)\n",
    "proficiencia['KR']"
   ]
  },
  {
   "cell_type": "code",
   "execution_count": 5,
   "metadata": {},
   "outputs": [
    {
     "name": "stdout",
     "output_type": "stream",
     "text": [
      "         DRX vs DWG\n",
      "DRX tem 7.96 % de chance de vitória.Sendo:\n",
      "1.15 % a de ser 3-0\n",
      "2.67 % a de ser 3-1\n",
      "4.14 % a de ser 3-2\n",
      "Enquanto DWG tem 92.04 %. Sendo:\n",
      "46.42 % a de ser 3-0\n",
      "31.43 % a de ser 3-1\n",
      "14.19 % a de ser 3-2\n"
     ]
    },
    {
     "data": {
      "text/plain": [
       "0.07959957918170515"
      ]
     },
     "execution_count": 5,
     "metadata": {},
     "output_type": "execute_result"
    }
   ],
   "source": [
    "probabilidade('DRX', 'DWG', 5) #OK"
   ]
  },
  {
   "cell_type": "code",
   "execution_count": 10,
   "metadata": {},
   "outputs": [
    {
     "name": "stdout",
     "output_type": "stream",
     "text": [
      "         KT vs AF\n",
      "KT tem 35.47 % de chance de vitória.Sendo:\n",
      "7.47 % a de ser 3-0\n",
      "12.98 % a de ser 3-1\n",
      "15.02 % a de ser 3-2\n",
      "Enquanto AF tem 64.53 %. Sendo:\n",
      "19.39 % a de ser 3-0\n",
      "24.50 % a de ser 3-1\n",
      "20.64 % a de ser 3-2\n"
     ]
    },
    {
     "data": {
      "text/plain": [
       "0.35469079922392144"
      ]
     },
     "execution_count": 10,
     "metadata": {},
     "output_type": "execute_result"
    }
   ],
   "source": [
    "probabilidade('KT', 'AF', 5)"
   ]
  }
 ],
 "metadata": {
  "kernelspec": {
   "display_name": "Python 3",
   "language": "python",
   "name": "python3"
  },
  "language_info": {
   "codemirror_mode": {
    "name": "ipython",
    "version": 3
   },
   "file_extension": ".py",
   "mimetype": "text/x-python",
   "name": "python",
   "nbconvert_exporter": "python",
   "pygments_lexer": "ipython3",
   "version": "3.8.3"
  }
 },
 "nbformat": 4,
 "nbformat_minor": 2
}
