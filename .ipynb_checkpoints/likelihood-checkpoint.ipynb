{
 "cells": [
  {
   "cell_type": "code",
   "execution_count": 10,
   "metadata": {},
   "outputs": [],
   "source": [
    "import pandas as pd\n",
    "import numpy as np\n",
    "import random as rd\n",
    "from math import ceil,floor,factorial\n",
    "from scipy.optimize import minimize"
   ]
  },
  {
   "cell_type": "code",
   "execution_count": 11,
   "metadata": {},
   "outputs": [],
   "source": [
    "#Cria um dataframe com todos os times que participaram de algum campeonato mundial ou campeonatos regionais de 2018 a 2020\n",
    "Times = pd.read_excel('TIMES.xlsx')\n",
    "Times.set_index('Número', inplace = True)\n",
    "Times.fillna('NA', inplace = True)\n",
    "Times['Porcentagem de Vitorias'] = pd.Series(np.random.randn(len(list(Times.Sigla))), index=Times.index)\n",
    "\n",
    "#Inicializando um dicionario que ira contar as proficiencias de todos os times\n",
    "proficiencia = {}"
   ]
  },
  {
   "cell_type": "code",
   "execution_count": 12,
   "metadata": {},
   "outputs": [],
   "source": [
    "def liga_usada(liga,times,sigla):\n",
    "    #Prepara os parametros para a computacao da verossimilhanca\n",
    "    global x0,b,bnds\n",
    "    x0 = list(np.random.uniform(0.5,2.5,len(times)))\n",
    "    b = (0.001,5.0)\n",
    "    bnds = tuple([b]*len(times))\n",
    "    return (liga,times,sigla)"
   ]
  },
  {
   "cell_type": "code",
   "execution_count": 13,
   "metadata": {},
   "outputs": [],
   "source": [
    "def vero(x, liga, times, sigla):\n",
    "    #Computa a verossimilhanca e calcula os estimadores de maxima verossimilhanca para as proficiencias dos times\n",
    "    y = 0\n",
    "    proficiencia[sigla] = {}\n",
    "    for time in times:\n",
    "        proficiencia[sigla][time] = x[y]\n",
    "        y+=1\n",
    "    multiplicatorio = 1\n",
    "    #Defino a constante de esquecimento k, obtida experimentalmente\n",
    "    k = 0.075\n",
    "    for game in range (0,liga.shape[0]):\n",
    "        w = liga.iloc[game].Week\n",
    "        pv = proficiencia[sigla][liga.iloc[game].Winner]\n",
    "        pl = proficiencia[sigla][liga.iloc[game].Loser]\n",
    "        \n",
    "        #Diferenciando play-offs de fase regular\n",
    "        if w>0:\n",
    "            cte = 1 - (max(list(liga.Week)) - w)*k\n",
    "        else:\n",
    "            cte = 1+k\n",
    "        multiplicatorio *= (pv/(pv+pl))**cte\n",
    "    \n",
    "    return -np.log(multiplicatorio)\n",
    "\n",
    "\n",
    "def restricao1(x):\n",
    "    return x[0]-1        \n",
    "\n",
    "def restricao2(x):\n",
    "    return sum(x)-5\n",
    "\n",
    "def restricao3(x):\n",
    "    return sum(x)-50\n",
    "\n",
    "con1 = {'type':'eq','fun':restricao1}\n",
    "con2 = {'type':'eq','fun':restricao2}\n",
    "con3 = {'type':'eq','fun':restricao3}\n",
    "cons = [con2]"
   ]
  },
  {
   "cell_type": "code",
   "execution_count": 14,
   "metadata": {},
   "outputs": [],
   "source": [
    "def probabilidade(A,B,n,provisorio = False):\n",
    "    #Calcula as probabilidades do confronto entre A e B\n",
    "    A_list = []\n",
    "    B_list = []\n",
    "    i,k = 0,floor(n/2)\n",
    "    if provisorio:\n",
    "        x = salvar[A]/(salvar[A]+salvar[B])\n",
    "    else:\n",
    "        siglaA = list(Times[Times.Sigla==A]['Região'])[0]\n",
    "        siglaB = list(Times[Times.Sigla==B]['Região'])[0]\n",
    "        x = proficiencia[siglaA][A]/(proficiencia[siglaA][A]+proficiencia[siglaB][B])\n",
    "    print(\"         {} vs {}\".format(A,B))\n",
    "    while (ceil(n/2)+i) <= n:\n",
    "        if i == 0:\n",
    "            A_list.append(x**(ceil(n/2))*(1-x)**(i))\n",
    "            B_list.append(x**(i)*(1-x)**(ceil(n/2)))\n",
    "        else:\n",
    "            p = factorial(k)/(factorial(i)*factorial(k-i)) \n",
    "            A_list.append(p*x**(ceil(n/2))*(1-x)**(i))\n",
    "            B_list.append(p*x**(i)*(1-x)**(ceil(n/2)))\n",
    "        i+=1\n",
    "        k+=1\n",
    "    if n==1:\n",
    "        print('{} tem {:.2f} % de chance de vitória'.format(A,100*sum(A_list)))\n",
    "        print('Enquanto {} tem {:.2f} %.'.format(B,100*sum(B_list)))\n",
    "    else:    \n",
    "        print('{} tem {:.2f} % de chance de vitória.Sendo:'.format(A,100*sum(A_list)))\n",
    "        for b in range(0,ceil(n/2)):\n",
    "            print('{:.2f} % a de ser {}-{}'.format(100*A_list[b],ceil(n/2),b))\n",
    "        print('Enquanto {} tem {:.2f} %. Sendo:'.format(B,100*sum(B_list)))\n",
    "        for b in range(0,ceil(n/2)):\n",
    "            print('{:.2f} % a de ser {}-{}'.format(100*B_list[b],ceil(n/2),b))"
   ]
  },
  {
   "cell_type": "code",
   "execution_count": 15,
   "metadata": {},
   "outputs": [],
   "source": [
    "def estimar_proficiencias(regiao, championship_dic, teams_dict, initials_dict):\n",
    "    #Estima as proficiencias dos times da regiao inserida\n",
    "    liga,times,sigla = liga_usada(championship_dic[regiao], teams_dict[regiao], initials_dict[regiao])\n",
    "    sol = minimize(vero, x0, args=(liga, times, sigla), method='SLSQP', constraints=cons , bounds=bnds)"
   ]
  }
 ],
 "metadata": {
  "kernelspec": {
   "display_name": "Python 3",
   "language": "python",
   "name": "python3"
  },
  "language_info": {
   "codemirror_mode": {
    "name": "ipython",
    "version": 3
   },
   "file_extension": ".py",
   "mimetype": "text/x-python",
   "name": "python",
   "nbconvert_exporter": "python",
   "pygments_lexer": "ipython3",
   "version": "3.5.2"
  }
 },
 "nbformat": 4,
 "nbformat_minor": 2
}
