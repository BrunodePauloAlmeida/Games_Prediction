{
 "cells": [
  {
   "cell_type": "code",
   "execution_count": 2,
   "metadata": {},
   "outputs": [],
   "source": [
    "import pandas as pd\n",
    "import numpy as np\n",
    "import random as rd\n",
    "from math import ceil,floor,factorial\n",
    "from scipy.optimize import minimize"
   ]
  },
  {
   "cell_type": "code",
   "execution_count": 4,
   "metadata": {},
   "outputs": [],
   "source": [
    "#Cria um dataframe com todos os times que participaram de algum campeonato mundial ou campeonatos regionais de 2018 a 2020\n",
    "Times = pd.read_excel('TIMES.xlsx')\n",
    "Times.set_index('Número', inplace = True)\n",
    "Times.fillna('NA', inplace = True)\n",
    "Times['Porcentagem de Vitorias'] = pd.Series(np.random.randn(len(list(Times.Sigla))), index=Times.index)\n",
    "\n",
    "#Inicializando um dicionario global que ira conter as proficiencias de todos os times\n",
    "proficiencia = {}\n",
    "\n",
    "#Inicializando um conjunto global que contem os campeonatos que tem sua fase de grupos em formato MD3\n",
    "md3_cships = ('LPL', 'LCK', 'VCS')"
   ]
  },
  {
   "cell_type": "code",
   "execution_count": 3,
   "metadata": {},
   "outputs": [],
   "source": [
    "def liga_usada(liga,times,sigla):\n",
    "    #Prepara os parametros para a computacao da verossimilhanca\n",
    "    global x0,BOUND,bnds\n",
    "    x0 = list(np.random.uniform(0,1\n",
    "                                ,len(times)))\n",
    "    BOUND = (0.001,5.0)\n",
    "    bnds = tuple([BOUND]*len(times))\n",
    "    return (liga,times,sigla)"
   ]
  },
  {
   "cell_type": "code",
   "execution_count": 4,
   "metadata": {},
   "outputs": [],
   "source": [
    "def vero(x, liga, times, sigla, gtbc = 0):\n",
    "    #Computa a verossimilhanca e calcula os estimadores de maxima verossimilhanca para as proficiencias dos times\n",
    "    y = 0\n",
    "    proficiencia[sigla] = {}\n",
    "    for time in times:\n",
    "        proficiencia[sigla][time] = x[y]\n",
    "        y+=1\n",
    "    multiplicatorio = 1\n",
    "    #Defino a constante de esquecimento k, obtida experimentalmente\n",
    "    k = 0.075\n",
    "    #Defino quantos jogos serao considerados no calculo da verossimilhanca\n",
    "    games = gtbc if gtbc else liga.shape[0]\n",
    "    for game in range (0,games):\n",
    "        w = liga.iloc[game].Week\n",
    "        pv = proficiencia[sigla][liga.iloc[game].Winner]\n",
    "        pl = proficiencia[sigla][liga.iloc[game].Loser]\n",
    "        \n",
    "        #Diferenciando play-offs de fase regular\n",
    "        if w>0:\n",
    "            cte = 1 - (max(list(liga.Week)) - w)*k\n",
    "        else:\n",
    "            cte = 1+k\n",
    "        multiplicatorio *= (pv/(pv+pl))**cte\n",
    "    \n",
    "    return -np.log(multiplicatorio)\n",
    "\n",
    "\n",
    "def restricao1(x):\n",
    "    return x[0]-1        \n",
    "\n",
    "def restricao2(x):\n",
    "    return sum(x)-5\n",
    "\n",
    "def restricao3(x):\n",
    "    return sum(x)-50\n",
    "\n",
    "con1 = {'type':'eq','fun':restricao1}\n",
    "con2 = {'type':'eq','fun':restricao2}\n",
    "con3 = {'type':'eq','fun':restricao3}\n",
    "cons = [con2]"
   ]
  },
  {
   "cell_type": "code",
   "execution_count": 5,
   "metadata": {},
   "outputs": [],
   "source": [
    "def probabilidade(A,B,n,provisorio = False):\n",
    "    #Calcula as probabilidades do confronto entre A e B\n",
    "    A_list = []\n",
    "    B_list = []\n",
    "    i,k = 0,floor(n/2)\n",
    "    if provisorio:\n",
    "        x = salvar[A]/(salvar[A]+salvar[B])\n",
    "    else:\n",
    "        siglaA = list(Times[Times.Sigla==A]['Região'])[0]\n",
    "        siglaB = list(Times[Times.Sigla==B]['Região'])[0]\n",
    "        x = proficiencia[siglaA][A]/(proficiencia[siglaA][A]+proficiencia[siglaB][B])\n",
    "    print(\"         {} vs {}\".format(A,B))\n",
    "    while (ceil(n/2)+i) <= n:\n",
    "        if i == 0:\n",
    "            A_list.append(x**(ceil(n/2))*(1-x)**(i))\n",
    "            B_list.append(x**(i)*(1-x)**(ceil(n/2)))\n",
    "        else:\n",
    "            p = factorial(k)/(factorial(i)*factorial(k-i)) \n",
    "            A_list.append(p*x**(ceil(n/2))*(1-x)**(i))\n",
    "            B_list.append(p*x**(i)*(1-x)**(ceil(n/2)))\n",
    "        i+=1\n",
    "        k+=1\n",
    "    if n==1:\n",
    "        print('{} tem {:.2f} % de chance de vitória'.format(A,100*sum(A_list)))\n",
    "        print('Enquanto {} tem {:.2f} %.'.format(B,100*sum(B_list)))\n",
    "    else:    \n",
    "        print('{} tem {:.2f} % de chance de vitória.Sendo:'.format(A,100*sum(A_list)))\n",
    "        for b in range(0,ceil(n/2)):\n",
    "            print('{:.2f} % a de ser {}-{}'.format(100*A_list[b],ceil(n/2),b))\n",
    "        print('Enquanto {} tem {:.2f} %. Sendo:'.format(B,100*sum(B_list)))\n",
    "        for b in range(0,ceil(n/2)):\n",
    "            print('{:.2f} % a de ser {}-{}'.format(100*B_list[b],ceil(n/2),b))\n",
    "    return sum(A_list)"
   ]
  },
  {
   "cell_type": "code",
   "execution_count": 6,
   "metadata": {},
   "outputs": [],
   "source": [
    "def estimar_proficiencias(regiao, championship_dic, teams_dict, initials_dict, gtbc = 0):\n",
    "    #Estima as proficiencias dos times da regiao inserida\n",
    "    liga,times,sigla = liga_usada(championship_dic[regiao], teams_dict[regiao], initials_dict[regiao])\n",
    "    sol = minimize(vero, x0, args=(liga, times, sigla, gtbc), method='SLSQP', constraints=cons , bounds=bnds)"
   ]
  },
  {
   "cell_type": "code",
   "execution_count": null,
   "metadata": {},
   "outputs": [],
   "source": [
    "def calcular_acertos_em_determinada_semana(regiao, championship_dic, teams_dict, initials_dict, semana = 0, play_off_games_to_be_ignored = 0):\n",
    "        if semana:\n",
    "            games_to_be_considered = championship_dic[regiao][(championship_dic[regiao].Week >= 1) & (championship_dic[regiao].Week < semana)].shape[0]\n",
    "            jogos_da_semana = championship_dic[regiao][championship_dic[regiao].Week == semana]\n",
    "        else:\n",
    "            games_to_be_considered = championship_dic[regiao].shape[0] - play_off_games_to_be_ignored\n",
    "            jogos_da_semana = championship_dic[regiao].tail(play_off_games_to_be_ignored)\n",
    "        \n",
    "        estimar_proficiencias(regiao, championship_dic, teams_dict, initials_dict, gtbc = games_to_be_considered)\n",
    "        acertos = 0\n",
    "        erros = 0\n",
    "        \n",
    "        if semana:\n",
    "            for game in range (0, jogos_da_semana.shape[0]):\n",
    "                w,l = jogos_da_semana.iloc[game].Winner, jogos_da_semana.iloc[game].Loser\n",
    "                pv, pl = proficiencia[initials_dict[regiao]][w], proficiencia[initials_dict[regiao]][l]     \n",
    "                guess = probabilidade(w, l, 3) if regiao in md3_cships else pv/(pv+pl)                \n",
    "                \n",
    "                if guess > 0.45:\n",
    "                    acertos += 1\n",
    "                else:\n",
    "                    erros += 1\n",
    "\n",
    "            print(\"Na semana {} do campeonato {}, modelo acertou {} de {} jogos, resultando em {:.2f}% de acerto.\".format(semana, regiao, acertos, acertos+erros, 100*acertos/(acertos+erros)))\n",
    "            return acertos, erros\n",
    "        else: \n",
    "            print(\"Favor calcular manualmente o resultado.\")"
   ]
  }
 ],
 "metadata": {
  "kernelspec": {
   "display_name": "Python 3",
   "language": "python",
   "name": "python3"
  },
  "language_info": {
   "codemirror_mode": {
    "name": "ipython",
    "version": 3
   },
   "file_extension": ".py",
   "mimetype": "text/x-python",
   "name": "python",
   "nbconvert_exporter": "python",
   "pygments_lexer": "ipython3",
   "version": "3.8.3"
  }
 },
 "nbformat": 4,
 "nbformat_minor": 2
}
