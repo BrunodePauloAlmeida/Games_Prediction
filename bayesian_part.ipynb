{
 "cells": [
  {
   "cell_type": "code",
   "execution_count": 1,
   "metadata": {},
   "outputs": [],
   "source": [
    "import pymc3 as pm\n",
    "import numpy as np\n",
    "from matplotlib import pyplot as plt\n",
    "from math import ceil,floor,factorial\n",
    "import theano.tensor as T"
   ]
  },
  {
   "cell_type": "code",
   "execution_count": 13,
   "metadata": {},
   "outputs": [],
   "source": [
    "RANDOM_SEED = 204567825"
   ]
  },
  {
   "cell_type": "code",
   "execution_count": 4,
   "metadata": {},
   "outputs": [],
   "source": [
    "prof_dict = {'TL': 36.951253296146085,\n",
    " 'TSM': 28.316203339690006,\n",
    " 'FLY': 27.745365861499447,\n",
    " 'UOL': 21.57098033356331,\n",
    " 'LGC': 6.384078310654244,\n",
    " 'MAD': 32.06214574964036,\n",
    " 'G2': 58.16913843983943,\n",
    " 'FNC': 38.548615662599396,\n",
    " 'RGE': 45.31569035190531,\n",
    " 'R7': 4.567728748690657,\n",
    " 'PSG': 7.509312963579994,\n",
    " 'MCX': 10.588568706001675,\n",
    " 'SUP': 5.2917618374022934,\n",
    " 'LGD': 34.84462173090505,\n",
    " 'TES': 80.87920997408744,\n",
    " 'JDG': 71.65703301678809,\n",
    " 'SN': 55.23468103857279,\n",
    " 'DWG': 252.10895460230134,\n",
    " 'DRX': 52.408700571350145,\n",
    " 'GEN': 74.89690730403262,\n",
    " 'ITZ': 3.0147942252578104,\n",
    " 'V3': 3.1333484363821826}"
   ]
  },
  {
   "cell_type": "code",
   "execution_count": 5,
   "metadata": {},
   "outputs": [],
   "source": [
    "%run importing_matches.ipynb\n",
    "matches_worlds1 = {}\n",
    "teams_worlds1 = {}\n",
    "importing_all_matches('Worlds', matches_worlds1, teams_worlds1)"
   ]
  },
  {
   "cell_type": "code",
   "execution_count": 14,
   "metadata": {},
   "outputs": [],
   "source": [
    "def verovero(TL,TSM,FLY,UOL,LGC,MAD,G2,FNC,RGE,R7,PSG,MCX,SUP,LGD,TES,JDG,SN,DWG,DRX,GEN,ITZ,V3):\n",
    "    multiplicatorio = 1\n",
    "    liga = matches_worlds1[2020]\n",
    "    games = liga.shape[0]\n",
    "    ignorar = 0\n",
    "    #considerar = 32\n",
    "    #ignorar = matches_worlds1[2020].shape[0] - considerar\n",
    "    for game in range (0,games-ignorar):\n",
    "        pv = locals()[liga.iloc[game].Winner]\n",
    "        pl = locals()[liga.iloc[game].Loser]\n",
    "        \n",
    "        multiplicatorio *= (pv/(pv+pl))\n",
    "    \n",
    "    return T.log(multiplicatorio)"
   ]
  },
  {
   "cell_type": "code",
   "execution_count": 15,
   "metadata": {},
   "outputs": [],
   "source": [
    "with pm.Model() as model:\n",
    "    #Criando as distribuicoes\n",
    "    for sigla, prof in prof_dict.items():\n",
    "        globals()[sigla] = pm.TruncatedNormal(sigla, mu=prof, sd=10, lower=1/(2**20))\n",
    "        \n",
    "        \n",
    "    likelihood=pm.DensityDist('Likelihood', verovero, observed=dict(TL=TL,\n",
    "                                                                TSM=TSM,\n",
    "                                                                FLY=FLY,\n",
    "                                                                UOL=UOL,\n",
    "                                                                LGC=LGC,\n",
    "                                                                MAD=MAD,\n",
    "                                                                G2=G2,\n",
    "                                                               FNC=FNC,\n",
    "                                                               RGE=RGE,\n",
    "                                                               R7=R7,\n",
    "                                                               PSG=PSG,\n",
    "                                                               MCX=MCX,\n",
    "                                                               SUP=SUP,\n",
    "                                                               LGD=LGD,\n",
    "                                                               TES=TES,\n",
    "                                                               JDG=JDG,\n",
    "                                                               SN=SN,\n",
    "                                                               DWG=DWG,\n",
    "                                                               DRX=DRX,\n",
    "                                                               GEN=GEN,\n",
    "                                                               ITZ=ITZ,\n",
    "                                                               V3=V3))"
   ]
  },
  {
   "cell_type": "code",
   "execution_count": 16,
   "metadata": {},
   "outputs": [
    {
     "name": "stderr",
     "output_type": "stream",
     "text": [
      "Average Loss = 456.36: 100%|███████████████████████████████████████████████████| 10000/10000 [00:03<00:00, 2615.30it/s]\n",
      "Finished [100%]: Average Loss = 456.51\n"
     ]
    }
   ],
   "source": [
    "with model:\n",
    "    deus_queira_que_funcione = pm.fit(random_seed=RANDOM_SEED).sample(10000)"
   ]
  },
  {
   "cell_type": "code",
   "execution_count": 17,
   "metadata": {},
   "outputs": [],
   "source": [
    "def baye_prob(A,B,n):\n",
    "    #Calcula as probabilidades do confronto entre A e B\n",
    "    A_list = []\n",
    "    B_list = []\n",
    "    i,k = 0,floor(n/2)\n",
    "    \n",
    "    k1 = deus_queira_que_funcione.get_values(A).mean()\n",
    "    k2 = deus_queira_que_funcione.get_values(B).mean()\n",
    "    x = k1/(k1+k2)\n",
    "    print(\"         {} vs {}\".format(A,B))\n",
    "    while (ceil(n/2)+i) <= n:\n",
    "        if i == 0:\n",
    "            A_list.append(x**(ceil(n/2))*(1-x)**(i))\n",
    "            B_list.append(x**(i)*(1-x)**(ceil(n/2)))\n",
    "        else:\n",
    "            p = factorial(k)/(factorial(i)*factorial(k-i)) \n",
    "            A_list.append(p*x**(ceil(n/2))*(1-x)**(i))\n",
    "            B_list.append(p*x**(i)*(1-x)**(ceil(n/2)))\n",
    "        i+=1\n",
    "        k+=1\n",
    "    if n==1:\n",
    "        print('{} tem {:.2f} % de chance de vitória'.format(A,100*sum(A_list)))\n",
    "        print('Enquanto {} tem {:.2f} %.'.format(B,100*sum(B_list)))\n",
    "    else:    \n",
    "        print('{} tem {:.2f} % de chance de vitória.Sendo:'.format(A,100*sum(A_list)))\n",
    "        for b in range(0,ceil(n/2)):\n",
    "            print('{:.2f} % a de ser {}-{}'.format(100*A_list[b],ceil(n/2),b))\n",
    "        print('Enquanto {} tem {:.2f} %. Sendo:'.format(B,100*sum(B_list)))\n",
    "        for b in range(0,ceil(n/2)):\n",
    "            print('{:.2f} % a de ser {}-{}'.format(100*B_list[b],ceil(n/2),b))\n",
    "    return sum(A_list)"
   ]
  },
  {
   "cell_type": "code",
   "execution_count": 18,
   "metadata": {},
   "outputs": [
    {
     "data": {
      "text/html": [
       "<div>\n",
       "<style scoped>\n",
       "    .dataframe tbody tr th:only-of-type {\n",
       "        vertical-align: middle;\n",
       "    }\n",
       "\n",
       "    .dataframe tbody tr th {\n",
       "        vertical-align: top;\n",
       "    }\n",
       "\n",
       "    .dataframe thead th {\n",
       "        text-align: right;\n",
       "    }\n",
       "</style>\n",
       "<table border=\"1\" class=\"dataframe\">\n",
       "  <thead>\n",
       "    <tr style=\"text-align: right;\">\n",
       "      <th></th>\n",
       "      <th>Sigla</th>\n",
       "      <th>Proficiencia</th>\n",
       "    </tr>\n",
       "  </thead>\n",
       "  <tbody>\n",
       "    <tr>\n",
       "      <th>17</th>\n",
       "      <td>DWG</td>\n",
       "      <td>34.137</td>\n",
       "    </tr>\n",
       "    <tr>\n",
       "      <th>14</th>\n",
       "      <td>TES</td>\n",
       "      <td>28.130</td>\n",
       "    </tr>\n",
       "    <tr>\n",
       "      <th>19</th>\n",
       "      <td>GEN</td>\n",
       "      <td>26.947</td>\n",
       "    </tr>\n",
       "    <tr>\n",
       "      <th>15</th>\n",
       "      <td>JDG</td>\n",
       "      <td>26.207</td>\n",
       "    </tr>\n",
       "    <tr>\n",
       "      <th>16</th>\n",
       "      <td>SN</td>\n",
       "      <td>25.701</td>\n",
       "    </tr>\n",
       "    <tr>\n",
       "      <th>6</th>\n",
       "      <td>G2</td>\n",
       "      <td>23.664</td>\n",
       "    </tr>\n",
       "    <tr>\n",
       "      <th>18</th>\n",
       "      <td>DRX</td>\n",
       "      <td>21.260</td>\n",
       "    </tr>\n",
       "    <tr>\n",
       "      <th>7</th>\n",
       "      <td>FNC</td>\n",
       "      <td>18.321</td>\n",
       "    </tr>\n",
       "    <tr>\n",
       "      <th>0</th>\n",
       "      <td>TL</td>\n",
       "      <td>18.307</td>\n",
       "    </tr>\n",
       "    <tr>\n",
       "      <th>13</th>\n",
       "      <td>LGD</td>\n",
       "      <td>15.123</td>\n",
       "    </tr>\n",
       "    <tr>\n",
       "      <th>2</th>\n",
       "      <td>FLY</td>\n",
       "      <td>14.731</td>\n",
       "    </tr>\n",
       "    <tr>\n",
       "      <th>8</th>\n",
       "      <td>RGE</td>\n",
       "      <td>13.741</td>\n",
       "    </tr>\n",
       "    <tr>\n",
       "      <th>10</th>\n",
       "      <td>PSG</td>\n",
       "      <td>8.237</td>\n",
       "    </tr>\n",
       "    <tr>\n",
       "      <th>3</th>\n",
       "      <td>UOL</td>\n",
       "      <td>5.790</td>\n",
       "    </tr>\n",
       "    <tr>\n",
       "      <th>11</th>\n",
       "      <td>MCX</td>\n",
       "      <td>4.951</td>\n",
       "    </tr>\n",
       "    <tr>\n",
       "      <th>4</th>\n",
       "      <td>LGC</td>\n",
       "      <td>4.807</td>\n",
       "    </tr>\n",
       "    <tr>\n",
       "      <th>1</th>\n",
       "      <td>TSM</td>\n",
       "      <td>3.924</td>\n",
       "    </tr>\n",
       "    <tr>\n",
       "      <th>5</th>\n",
       "      <td>MAD</td>\n",
       "      <td>3.866</td>\n",
       "    </tr>\n",
       "    <tr>\n",
       "      <th>9</th>\n",
       "      <td>R7</td>\n",
       "      <td>3.837</td>\n",
       "    </tr>\n",
       "    <tr>\n",
       "      <th>21</th>\n",
       "      <td>V3</td>\n",
       "      <td>3.269</td>\n",
       "    </tr>\n",
       "    <tr>\n",
       "      <th>12</th>\n",
       "      <td>SUP</td>\n",
       "      <td>2.872</td>\n",
       "    </tr>\n",
       "    <tr>\n",
       "      <th>20</th>\n",
       "      <td>ITZ</td>\n",
       "      <td>2.390</td>\n",
       "    </tr>\n",
       "  </tbody>\n",
       "</table>\n",
       "</div>"
      ],
      "text/plain": [
       "   Sigla  Proficiencia\n",
       "17   DWG        34.137\n",
       "14   TES        28.130\n",
       "19   GEN        26.947\n",
       "15   JDG        26.207\n",
       "16    SN        25.701\n",
       "6     G2        23.664\n",
       "18   DRX        21.260\n",
       "7    FNC        18.321\n",
       "0     TL        18.307\n",
       "13   LGD        15.123\n",
       "2    FLY        14.731\n",
       "8    RGE        13.741\n",
       "10   PSG         8.237\n",
       "3    UOL         5.790\n",
       "11   MCX         4.951\n",
       "4    LGC         4.807\n",
       "1    TSM         3.924\n",
       "5    MAD         3.866\n",
       "9     R7         3.837\n",
       "21    V3         3.269\n",
       "12   SUP         2.872\n",
       "20   ITZ         2.390"
      ]
     },
     "execution_count": 18,
     "metadata": {},
     "output_type": "execute_result"
    }
   ],
   "source": [
    "sss = []\n",
    "ppp = []\n",
    "for A in prof_dict.keys():\n",
    "    k1 = deus_queira_que_funcione.get_values(A).mean()\n",
    "    sss.append(A)\n",
    "    ppp.append(k1)\n",
    "data = {'Sigla': sss, 'Proficiencia': ppp}\n",
    "df = pd.DataFrame(data, columns = ['Sigla','Proficiencia'])\n",
    "df.sort_values(by =['Proficiencia'], ascending = False).round(3)"
   ]
  },
  {
   "cell_type": "markdown",
   "metadata": {},
   "source": [
    "### Play-In: \n",
    "#### 4-1, 4-2, 2-2, 1-3, 3-1, 1-1, 2-0\n",
    "#### Total: 18/28 >>>  64.28%"
   ]
  },
  {
   "cell_type": "markdown",
   "metadata": {},
   "source": [
    "### Fase de Grupos: \n",
    "#### 6-0, 4-2, 6-0, 4-2, 5-2, 3-3, 6-0, 5-1 \n",
    "#### Total: 39/49 >>> 79.59%"
   ]
  },
  {
   "cell_type": "markdown",
   "metadata": {},
   "source": [
    "### Quartas de Final:\n",
    "#### Total: 2/4 >>> 50%"
   ]
  },
  {
   "cell_type": "markdown",
   "metadata": {},
   "source": [
    "### SemiFinal:\n",
    "#### Total: 1/2 >>> 50%"
   ]
  },
  {
   "cell_type": "markdown",
   "metadata": {},
   "source": [
    "### Grande Final:\n",
    "#### Total: 1/1 >>> 100%"
   ]
  },
  {
   "cell_type": "markdown",
   "metadata": {},
   "source": [
    "#### --------------------------------------------------------------------------------------------------------\n",
    "### Play-In's + Fase de Grupos: 57/77 >>> 74.02%\n",
    "#### --------------------------------------------------------------------------------------------------------\n",
    "### Play-Off's: 4/7 >>> 57.14%\n",
    "#### --------------------------------------------------------------------------------------------------------\n",
    "### Total Mundial 2020: 61/84 >>> 72.62%"
   ]
  }
 ],
 "metadata": {
  "kernelspec": {
   "display_name": "Python 3",
   "language": "python",
   "name": "python3"
  },
  "language_info": {
   "codemirror_mode": {
    "name": "ipython",
    "version": 3
   },
   "file_extension": ".py",
   "mimetype": "text/x-python",
   "name": "python",
   "nbconvert_exporter": "python",
   "pygments_lexer": "ipython3",
   "version": "3.8.3"
  }
 },
 "nbformat": 4,
 "nbformat_minor": 4
}
